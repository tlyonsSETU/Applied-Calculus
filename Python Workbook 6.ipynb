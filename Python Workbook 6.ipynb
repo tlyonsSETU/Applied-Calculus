{
  "nbformat": 4,
  "nbformat_minor": 0,
  "metadata": {
    "anaconda-cloud": {},
    "kernelspec": {
      "display_name": "Python 3",
      "language": "python",
      "name": "python3"
    },
    "language_info": {
      "codemirror_mode": {
        "name": "ipython",
        "version": 3
      },
      "file_extension": ".py",
      "mimetype": "text/x-python",
      "name": "python",
      "nbconvert_exporter": "python",
      "pygments_lexer": "ipython3",
      "version": "3.8.3"
    },
    "colab": {
      "provenance": [],
      "include_colab_link": true
    }
  },
  "cells": [
    {
      "cell_type": "markdown",
      "metadata": {
        "id": "view-in-github",
        "colab_type": "text"
      },
      "source": [
        "<a href=\"https://colab.research.google.com/github/tlyonsSETU/Applied-Calculus/blob/main/Python%20Workbook%206.ipynb\" target=\"_parent\"><img src=\"https://colab.research.google.com/assets/colab-badge.svg\" alt=\"Open In Colab\"/></a>"
      ]
    },
    {
      "cell_type": "markdown",
      "metadata": {
        "id": "oist7AXwFHF1"
      },
      "source": [
        "### Name:\n",
        "### Student Number:"
      ]
    },
    {
      "cell_type": "code",
      "source": [
        "import matplotlib.pyplot as plt\n",
        "import numpy as np "
      ],
      "metadata": {
        "id": "oIirDxog_4H4"
      },
      "execution_count": null,
      "outputs": []
    },
    {
      "cell_type": "code",
      "source": [
        "import matplotlib.style as style # Change the plot style used for graphs\n",
        "style.use('seaborn')"
      ],
      "metadata": {
        "id": "IqVO1pR-_3pI"
      },
      "execution_count": null,
      "outputs": []
    },
    {
      "cell_type": "code",
      "source": [
        "from ipywidgets import interact, interactive, fixed, interact_manual\n",
        "import ipywidgets as widgets"
      ],
      "metadata": {
        "id": "lee4Cofi_986"
      },
      "execution_count": null,
      "outputs": []
    },
    {
      "cell_type": "code",
      "source": [
        "import sympy as sym"
      ],
      "metadata": {
        "id": "sdFgkSL8_vrZ"
      },
      "execution_count": null,
      "outputs": []
    },
    {
      "cell_type": "markdown",
      "metadata": {
        "id": "SwLMy6hCFHF-"
      },
      "source": [
        "# Python Workbook 6 - Applications of Differentitation\n",
        "\n",
        "\n",
        "In this practical we will cover the following topics:\n",
        "  \n",
        "  1. Turning points of a function.\n",
        "\n",
        "  2. Classification of Turning Points.\n",
        "\n",
        "\n",
        " \n"
      ]
    },
    {
      "cell_type": "markdown",
      "source": [
        "---\n",
        "---\n",
        "\n",
        "# Section 1 - Turning points of a function\n",
        "\n",
        " * A __smooth__ function $f(x)$ has a __turning point__  at a specific value $x=x_0$ if the following holds:   \n",
        "$$\n",
        "\\frac{df}{dx}(x_0)=0.\n",
        "$$\n",
        "\n",
        "\n",
        "\n",
        "\n",
        "* We can implement this symbolically in Python using the __diff()__ and __solve()__ functions from the __SymPy__ library.\n"
      ],
      "metadata": {
        "id": "PCLPIQEz_m9q"
      }
    },
    {
      "cell_type": "markdown",
      "metadata": {
        "id": "DsY9Sx1LFHGA"
      },
      "source": [
        "## Example 1: \n",
        "\n",
        "Given the function\n",
        "$$\n",
        "f(x) = 3 x^{3} + 26 x^{2} - 61 x - 468\n",
        "$$\n",
        "answer the following:\n",
        "\n",
        "1. Define a symbol $x$ and the function $f$ using symbolic variables.\n",
        "\n",
        "\n",
        "2. __Lambdify__ this function and plot it over the interval $x \\in [-9 , 4]$.\n",
        "\n",
        "\n",
        "3. From this plot, estimate how many tunring points the function will have.\n",
        "\n",
        "\n",
        "4. Use the __solve()__ function to determine where $\\frac{df}{dx} = 0$.\n",
        "\n",
        "\n",
        "5. Use the __subs()__ function to determine the correpsonding $y$-values of the turining points."
      ]
    },
    {
      "cell_type": "markdown",
      "metadata": {
        "id": "8G4PXJxgFHGB"
      },
      "source": [
        "### Part 1:\n",
        "\n",
        "* First we must create a symbolic variable for $x$, and then define the function $f(x)$."
      ]
    },
    {
      "cell_type": "code",
      "metadata": {
        "colab": {
          "base_uri": "https://localhost:8080/",
          "height": 38
        },
        "id": "AZwRPW7rFHGC",
        "outputId": "c989589e-90c8-4698-e222-0de23202674b"
      },
      "source": [
        "x = sym.symbols('x')\n",
        "\n",
        "f=3*x**3+26*x**2-61*x-468\n",
        "\n",
        "f"
      ],
      "execution_count": null,
      "outputs": [
        {
          "output_type": "execute_result",
          "data": {
            "text/plain": [
              "3*x**3 + 26*x**2 - 61*x - 468"
            ],
            "text/latex": "$\\displaystyle 3 x^{3} + 26 x^{2} - 61 x - 468$"
          },
          "metadata": {},
          "execution_count": 9
        }
      ]
    },
    {
      "cell_type": "markdown",
      "metadata": {
        "id": "i-8AVIBfFHGF"
      },
      "source": [
        "### Part 2:\n",
        "\n",
        "* To plot this function, we __lambdify__ it first:"
      ]
    },
    {
      "cell_type": "code",
      "source": [
        "F=sym.lambdify(x,f,'numpy')"
      ],
      "metadata": {
        "id": "cIg7KwsiBtoY"
      },
      "execution_count": null,
      "outputs": []
    },
    {
      "cell_type": "markdown",
      "source": [
        "* Now we can plot the lambidfied function __F__."
      ],
      "metadata": {
        "id": "PKISFXZfC0sl"
      }
    },
    {
      "cell_type": "code",
      "metadata": {
        "colab": {
          "base_uri": "https://localhost:8080/",
          "height": 379
        },
        "id": "ZfZnjXbfFHGF",
        "outputId": "2c49f232-b8e9-4dba-9cf1-57b433ad60c0"
      },
      "source": [
        "X=np.linspace(-9,4,501)\n",
        "plt.plot(X,F(X))\n",
        "\n",
        "plt.axhline(y=0,lw=0.75,c='black')\n",
        "plt.axvline(x=0,lw=0.75,c='black')\n",
        "\n",
        "plt.xlabel('x')\n",
        "plt.ylabel('y')"
      ],
      "execution_count": null,
      "outputs": [
        {
          "output_type": "execute_result",
          "data": {
            "text/plain": [
              "Text(0, 0.5, 'y')"
            ]
          },
          "metadata": {},
          "execution_count": 16
        },
        {
          "output_type": "display_data",
          "data": {
            "text/plain": [
              "<Figure size 576x396 with 1 Axes>"
            ],
            "image/png": "[encoded data removed]"
          },
          "metadata": {}
        }
      ]
    },
    {
      "cell_type": "markdown",
      "metadata": {
        "id": "Ba4vfZ8MFHGG"
      },
      "source": [
        "### Part 3:\n",
        "From the graph it appear the function has __2 turning points.__"
      ]
    },
    {
      "cell_type": "markdown",
      "metadata": {
        "id": "cUvJam7wFHGH"
      },
      "source": [
        "### Part 4:\n",
        "\n",
        "* To find the values of $x$ which are turning points, we must find all values of $t$ such that\n",
        "$$\n",
        "\\frac{df}{dx}=0.\n",
        "$$\n",
        "\n",
        "* First we find the derivative of $f(x)$ using __diff()__"
      ]
    },
    {
      "cell_type": "code",
      "metadata": {
        "colab": {
          "base_uri": "https://localhost:8080/",
          "height": 38
        },
        "id": "V7fgT0lsFHGH",
        "outputId": "b423828d-4b0e-40bc-9953-58d1e2702f94"
      },
      "source": [
        "df=sym.diff(f,x)\n",
        "df"
      ],
      "execution_count": null,
      "outputs": [
        {
          "output_type": "execute_result",
          "data": {
            "text/plain": [
              "9*x**2 + 52*x - 61"
            ],
            "text/latex": "$\\displaystyle 9 x^{2} + 52 x - 61$"
          },
          "metadata": {},
          "execution_count": 20
        }
      ]
    },
    {
      "cell_type": "markdown",
      "metadata": {
        "id": "gU61UDpTFHGJ"
      },
      "source": [
        "* Now we use __solve()__ to find all values of $x$ such that $\\frac{df}{dx}=0$."
      ]
    },
    {
      "cell_type": "code",
      "metadata": {
        "colab": {
          "base_uri": "https://localhost:8080/"
        },
        "id": "IABG0JCIFHGJ",
        "outputId": "17caf6eb-994a-4a80-80e2-8b55bb0e4098"
      },
      "source": [
        "TPf=sym.solve(df,x)\n",
        "TPf"
      ],
      "execution_count": null,
      "outputs": [
        {
          "output_type": "execute_result",
          "data": {
            "text/plain": [
              "[-61/9, 1]"
            ]
          },
          "metadata": {},
          "execution_count": 22
        }
      ]
    },
    {
      "cell_type": "markdown",
      "metadata": {
        "id": "rucj2EISFHGK"
      },
      "source": [
        "* We see there are two $x$-values where the derivative $\\frac{df}{dx} = 0$. We call these values __TPf__ for __Turning Points of f__."
      ]
    },
    {
      "cell_type": "markdown",
      "metadata": {
        "id": "AYVOFMUlFHGK"
      },
      "source": [
        "### Part 5:\n",
        "\n",
        "* We note that __TPf__ is an __array__ of values. \n",
        "\n",
        "* We can select a specific value from this array using the index identifiers __TPf[0]__ and __TPf[1]__.\n",
        "\n",
        "* ___Note:___ The index starts at __zero!!__"
      ]
    },
    {
      "cell_type": "code",
      "metadata": {
        "colab": {
          "base_uri": "https://localhost:8080/",
          "height": 51
        },
        "id": "uvmiDO5HFHGL",
        "outputId": "829bcca4-8a76-4b24-ea15-62f05b39b6b4"
      },
      "source": [
        "x0=TPf[0]\n",
        "x0"
      ],
      "execution_count": null,
      "outputs": [
        {
          "output_type": "execute_result",
          "data": {
            "text/plain": [
              "-61/9"
            ],
            "text/latex": "$\\displaystyle - \\frac{61}{9}$"
          },
          "metadata": {},
          "execution_count": 34
        }
      ]
    },
    {
      "cell_type": "code",
      "metadata": {
        "colab": {
          "base_uri": "https://localhost:8080/",
          "height": 37
        },
        "id": "wVQYSm26FHGL",
        "outputId": "be9fb2bf-bfbf-42af-bb69-87127c5990b1"
      },
      "source": [
        "x1=TPf[1]\n",
        "x1"
      ],
      "execution_count": null,
      "outputs": [
        {
          "output_type": "execute_result",
          "data": {
            "text/plain": [
              "1"
            ],
            "text/latex": "$\\displaystyle 1$"
          },
          "metadata": {},
          "execution_count": 35
        }
      ]
    },
    {
      "cell_type": "markdown",
      "metadata": {
        "id": "X5nMEfDzFHGM"
      },
      "source": [
        "* The $y$-coordinates corresponding to these stationary values are easily found using __subs().__\n",
        "\n",
        "* The first turing point has $(x,y)$-cordinates:"
      ]
    },
    {
      "cell_type": "code",
      "metadata": {
        "colab": {
          "base_uri": "https://localhost:8080/"
        },
        "id": "J7V-UflJFHGM",
        "outputId": "ac3e3a3a-c459-4472-8a49-042cc9353265"
      },
      "source": [
        "x0 , f.subs(x,x0)"
      ],
      "execution_count": null,
      "outputs": [
        {
          "output_type": "execute_result",
          "data": {
            "text/plain": [
              "(-61/9, 50000/243)"
            ]
          },
          "metadata": {},
          "execution_count": 42
        }
      ]
    },
    {
      "cell_type": "markdown",
      "metadata": {
        "id": "jfJ2WdONFvlR"
      },
      "source": [
        "* These numbers can also be written in decimal form using the function __sym.N()__"
      ]
    },
    {
      "cell_type": "code",
      "metadata": {
        "colab": {
          "base_uri": "https://localhost:8080/"
        },
        "id": "2WiiXEcDF4Qi",
        "outputId": "062e0c41-bf0c-4882-e341-27bf1ee8d74c"
      },
      "source": [
        "sym.N(x0) , sym.N(f.subs(x , x0))"
      ],
      "execution_count": null,
      "outputs": [
        {
          "output_type": "execute_result",
          "data": {
            "text/plain": [
              "(-6.77777777777778, 205.761316872428)"
            ]
          },
          "metadata": {},
          "execution_count": 43
        }
      ]
    },
    {
      "cell_type": "markdown",
      "metadata": {
        "id": "dA7vppsSFHGN"
      },
      "source": [
        "* The second turing point has $(x,y)$-coordinates given by"
      ]
    },
    {
      "cell_type": "code",
      "metadata": {
        "id": "Efhe43jhFHGN",
        "outputId": "f5080c52-e085-415f-9771-8e63adbbead0",
        "colab": {
          "base_uri": "https://localhost:8080/"
        }
      },
      "source": [
        "sym.N(x1) , sym.N(f.subs(x , x1))"
      ],
      "execution_count": null,
      "outputs": [
        {
          "output_type": "execute_result",
          "data": {
            "text/plain": [
              "(1.00000000000000, -500.000000000000)"
            ]
          },
          "metadata": {},
          "execution_count": 44
        }
      ]
    },
    {
      "cell_type": "markdown",
      "metadata": {
        "id": "IUI03ICBFHGN"
      },
      "source": [
        "### The tangents at the turning points.\n",
        "\n",
        "* The tangent at the turning point $\\left(-\\frac{61}{9},\\frac{50000}{243}\\right)$ is simply the __horizontal line__ at height $\\frac{50000}{243}$.\n",
        "\n",
        "\n",
        "\n",
        "* In other words, the equation of the tangent is:\n",
        "\n",
        "$$y=\\frac{50000}{243}.$$\n",
        "\n",
        "\n",
        "* Similary, the equation of the tangent at the turning point $(1,-500)$ is simply the __horizontal line:__\n",
        "\n",
        "$$y=-500.$$\n",
        "\n",
        "\n",
        "* We can easily plot these on the original graph as follows:"
      ]
    },
    {
      "cell_type": "code",
      "metadata": {
        "colab": {
          "base_uri": "https://localhost:8080/",
          "height": 379
        },
        "id": "JsDdmFKMFHGO",
        "outputId": "8a2ea55c-13cc-42fb-af37-ac47a2f7ee8d"
      },
      "source": [
        "X=np.linspace(-9,4,501)\n",
        "plt.plot(X,F(X))\n",
        "\n",
        "plt.axhline(y=0,lw=0.75,c='black')\n",
        "plt.axvline(x=0,lw=0.75,c='black')\n",
        "\n",
        "plt.axhline(y=F(x0), lw=1.5, color='k')# Horiztontal Tangent 1\n",
        "plt.axhline(y=F(x1), lw=1.5, color='k')# Horiztontal Tangent 2\n",
        "\n",
        "plt.xlabel('x')\n",
        "plt.ylabel('y')\n"
      ],
      "execution_count": null,
      "outputs": [
        {
          "output_type": "execute_result",
          "data": {
            "text/plain": [
              "Text(0, 0.5, 'y')"
            ]
          },
          "metadata": {},
          "execution_count": 45
        },
        {
          "output_type": "display_data",
          "data": {
            "text/plain": [
              "<Figure size 576x396 with 1 Axes>"
            ],
            "image/png": "[encoded data removed]"
          },
          "metadata": {}
        }
      ]
    },
    {
      "cell_type": "code",
      "metadata": {
        "id": "E-CHKacQFHGO"
      },
      "source": [],
      "execution_count": null,
      "outputs": []
    },
    {
      "cell_type": "code",
      "metadata": {
        "id": "Ts_sL8iVFHGO"
      },
      "source": [],
      "execution_count": null,
      "outputs": []
    },
    {
      "cell_type": "markdown",
      "metadata": {
        "id": "YXaAjmaUFHGP"
      },
      "source": [
        "## Exercise 1: \n",
        "\n",
        "Given the function\n",
        "$$\n",
        "g(t)=8t^{3}-66t^{2}-81t+243\n",
        "$$\n",
        "answer the following:\n",
        "\n",
        "1. Define a symbol $t$ and the function $g$ using symbolic variables.\n",
        "\n",
        "\n",
        "2. __Lambdify__ this function and plot it over the interval $t \\in [-4 , 10]$.\n",
        "\n",
        "\n",
        "3. From this plot, estimate how many tunring points the function will have.\n",
        "\n",
        "\n",
        "4. Use the __solve()__ function to determine where $\\frac{dg}{dt} = 0$.\n",
        "\n",
        "\n",
        "5. Use the __subs()__ function to determine the correpsonding $y$-values of the turining points."
      ]
    },
    {
      "cell_type": "code",
      "metadata": {
        "id": "3rmyvx30FHGP"
      },
      "source": [],
      "execution_count": null,
      "outputs": []
    },
    {
      "cell_type": "code",
      "metadata": {
        "id": "rVbVl-mqFHGQ"
      },
      "source": [],
      "execution_count": null,
      "outputs": []
    },
    {
      "cell_type": "code",
      "metadata": {
        "id": "cbO3DQTtFHGQ"
      },
      "source": [],
      "execution_count": null,
      "outputs": []
    },
    {
      "cell_type": "code",
      "metadata": {
        "id": "z9YeJmQVFHGQ"
      },
      "source": [],
      "execution_count": null,
      "outputs": []
    },
    {
      "cell_type": "code",
      "source": [],
      "metadata": {
        "id": "Pb-bUQwQMiQ7"
      },
      "execution_count": null,
      "outputs": []
    },
    {
      "cell_type": "markdown",
      "source": [
        "---\n",
        "---"
      ],
      "metadata": {
        "id": "d9Yf8n92PBz1"
      }
    },
    {
      "cell_type": "markdown",
      "metadata": {
        "id": "gy7HoOOBFHGQ"
      },
      "source": [
        "## Classifying stationary points\n",
        "\n",
        "* Given a function $f(t)$, with turning point $(t_0,f(t_0))$, then the turninig point is classified as follows:\n",
        "\n",
        "    1. $(t_0,f(t_0))$ is a __max (maximum)__ if\n",
        "    $$\n",
        "        \\frac{d^2f}{dt^2}(t_0)<0\n",
        "    $$\n",
        "    \n",
        "    2. $(t_0,f(t_0))$ is a __min (minimum)__ if\n",
        "    $$\n",
        "        \\frac{d^2f}{dt^2}(t_0)>0\n",
        "    $$\n",
        "    \n",
        "    3. $(t_0,f(t_0))$ is a __point of inflection__ if\n",
        "    $$\n",
        "        \\frac{d^2f}{dt^2}(t_0)=0.\n",
        "    $$\n",
        "  \n",
        "---"
      ]
    },
    {
      "cell_type": "markdown",
      "metadata": {
        "id": "Cr8vIhtaFHGR"
      },
      "source": [
        "## Example 2 - Oil refinery profit\n",
        "\n",
        "The daily profit of an oil refinery is given by the function\n",
        "$$\n",
        "    p(b) = 8b − 0.02b^2,\n",
        "$$\n",
        "\n",
        "where $b$ is the number of barrels (bbl.) of oil refined. \n",
        "\n",
        "1. Plot the profit, and interpret the graph.\n",
        "\n",
        "2. Use __diff()__ and __solve__ to find all possible turning points of $p(b)$.\n",
        "\n",
        "3. Classify these turing points as __max__ or __min__ points.\n",
        "\n",
        "4. Hence find the __maximum daily profit__ of the oil refinery."
      ]
    },
    {
      "cell_type": "markdown",
      "metadata": {
        "id": "tXZ7QVUYFHGR"
      },
      "source": [
        "### Part 1:\n",
        "\n",
        "* We create a symbol for $b$, and then define the function $p(b)$."
      ]
    },
    {
      "cell_type": "code",
      "metadata": {
        "id": "KL-5P_DQFHGR",
        "outputId": "26e56303-29b5-4501-b636-b2b2c0364bfd",
        "colab": {
          "base_uri": "https://localhost:8080/",
          "height": 38
        }
      },
      "source": [
        "b=sym.Symbol('b')\n",
        "p = 8*b - 0.02*b**2\n",
        "p"
      ],
      "execution_count": null,
      "outputs": [
        {
          "output_type": "execute_result",
          "data": {
            "text/plain": [
              "-0.02*b**2 + 8*b"
            ],
            "text/latex": "$\\displaystyle - 0.02 b^{2} + 8 b$"
          },
          "metadata": {},
          "execution_count": 47
        }
      ]
    },
    {
      "cell_type": "markdown",
      "source": [
        "* We __lambdify__ this function so it is compatible with __numpy__"
      ],
      "metadata": {
        "id": "fwhLpE-6NVI8"
      }
    },
    {
      "cell_type": "code",
      "source": [
        "P = sym.lambdify(b,p,'numpy')"
      ],
      "metadata": {
        "id": "LD1TnKHNNUeu"
      },
      "execution_count": null,
      "outputs": []
    },
    {
      "cell_type": "markdown",
      "metadata": {
        "id": "XU1or7MUFHGS"
      },
      "source": [
        "\n",
        "\n",
        "* We can now plot the profit as a function of $b$.\n",
        "\n",
        "\n",
        "* Since $b$ is the number of barrels refined, it does not make much sense to let $b$ be negative, so we plot the function over the interval $0< b< 500$."
      ]
    },
    {
      "cell_type": "code",
      "metadata": {
        "id": "eZ7boItCFHGS",
        "outputId": "549cd9c0-f0bf-4824-a175-3b68e0a7d1bf",
        "colab": {
          "base_uri": "https://localhost:8080/",
          "height": 379
        }
      },
      "source": [
        "B=np.linspace(0,500,1001)\n",
        "plt.plot(B,P(B))\n",
        "\n",
        "plt.axhline(y=0,lw=0.75,c='black')\n",
        "plt.axvline(x=0,lw=0.75,c='black')\n",
        "\n",
        "plt.xlabel('Barrels per day')\n",
        "plt.ylabel('Profit')\n"
      ],
      "execution_count": null,
      "outputs": [
        {
          "output_type": "execute_result",
          "data": {
            "text/plain": [
              "Text(0, 0.5, 'Profit')"
            ]
          },
          "metadata": {},
          "execution_count": 49
        },
        {
          "output_type": "display_data",
          "data": {
            "text/plain": [
              "<Figure size 576x396 with 1 Axes>"
            ],
            "image/png": "[encoded data removed]"
          },
          "metadata": {}
        }
      ]
    },
    {
      "cell_type": "markdown",
      "metadata": {
        "id": "k3PB_7BrFHGT"
      },
      "source": [
        "* From the graph we see that the __maximim daily profit__ is achieved at about $200$ bbl. per day. \n",
        "\n",
        "\n",
        "* If the refinery refines more than 400 bbl. per day the refinery starts to loose money (i.e. profits become negative)."
      ]
    },
    {
      "cell_type": "markdown",
      "metadata": {
        "id": "3amLdJ-bFHGT"
      },
      "source": [
        "### Part 2:\n",
        "\n",
        "* Differentiating using __diff()__, we have"
      ]
    },
    {
      "cell_type": "code",
      "metadata": {
        "id": "WUcMnh6MFHGT",
        "outputId": "8e6a4d13-180a-40f2-81d2-423f96d61a25",
        "colab": {
          "base_uri": "https://localhost:8080/",
          "height": 38
        }
      },
      "source": [
        "dp=sym.diff(p,b)\n",
        "dp"
      ],
      "execution_count": null,
      "outputs": [
        {
          "output_type": "execute_result",
          "data": {
            "text/plain": [
              "8 - 0.04*b"
            ],
            "text/latex": "$\\displaystyle 8 - 0.04 b$"
          },
          "metadata": {},
          "execution_count": 50
        }
      ]
    },
    {
      "cell_type": "markdown",
      "metadata": {
        "id": "sZQRs_7cFHGU"
      },
      "source": [
        "* Solving for $\\frac{dp}{db}=0$ we have"
      ]
    },
    {
      "cell_type": "code",
      "metadata": {
        "id": "b3dI6uoMFHGU",
        "outputId": "2236e042-6967-435d-c57d-925b74fc3292",
        "colab": {
          "base_uri": "https://localhost:8080/"
        }
      },
      "source": [
        "TPp=sym.solve(dp,b)\n",
        "TPp"
      ],
      "execution_count": null,
      "outputs": [
        {
          "output_type": "execute_result",
          "data": {
            "text/plain": [
              "[200.000000000000]"
            ]
          },
          "metadata": {},
          "execution_count": 52
        }
      ]
    },
    {
      "cell_type": "markdown",
      "metadata": {
        "id": "tIncKsdZFHGU"
      },
      "source": [
        "* There is only one turning point at $b=200$.\n",
        "\n",
        "* We extract this from the array as follows:"
      ]
    },
    {
      "cell_type": "code",
      "source": [
        "b0 = TPp[0]\n",
        "b0"
      ],
      "metadata": {
        "colab": {
          "base_uri": "https://localhost:8080/",
          "height": 37
        },
        "id": "72iRRW3nOI3q",
        "outputId": "86e35e90-66fe-434e-b978-77cd1fdbbecc"
      },
      "execution_count": null,
      "outputs": [
        {
          "output_type": "execute_result",
          "data": {
            "text/plain": [
              "200.000000000000"
            ],
            "text/latex": "$\\displaystyle 200.0$"
          },
          "metadata": {},
          "execution_count": 54
        }
      ]
    },
    {
      "cell_type": "markdown",
      "metadata": {
        "id": "gXk57PNwFHGU"
      },
      "source": [
        "### Part 3\n",
        "\n",
        "* We find the __second derivative__ by differentiating twice:"
      ]
    },
    {
      "cell_type": "code",
      "metadata": {
        "id": "tA1JWYFBFHGV",
        "outputId": "fe2a463f-0e61-4b27-a5d7-399b9f6851dd",
        "colab": {
          "base_uri": "https://localhost:8080/",
          "height": 37
        }
      },
      "source": [
        "d2p=sym.diff(p,(b,2))\n",
        "d2p"
      ],
      "execution_count": null,
      "outputs": [
        {
          "output_type": "execute_result",
          "data": {
            "text/plain": [
              "-0.0400000000000000"
            ],
            "text/latex": "$\\displaystyle -0.04$"
          },
          "metadata": {},
          "execution_count": 57
        }
      ]
    },
    {
      "cell_type": "markdown",
      "metadata": {
        "id": "9n4F9_dPFHGW"
      },
      "source": [
        "* We evaluate the second derivative __ddp__ at the stationary points __b0__, to see whether it is a max or a min"
      ]
    },
    {
      "cell_type": "code",
      "metadata": {
        "id": "65La051xFHGW",
        "outputId": "539f2f09-8726-41a6-9069-3004a9224ce2",
        "colab": {
          "base_uri": "https://localhost:8080/",
          "height": 37
        }
      },
      "source": [
        "d2p.subs(b,b0)"
      ],
      "execution_count": null,
      "outputs": [
        {
          "output_type": "execute_result",
          "data": {
            "text/plain": [
              "-0.0400000000000000"
            ],
            "text/latex": "$\\displaystyle -0.04$"
          },
          "metadata": {},
          "execution_count": 58
        }
      ]
    },
    {
      "cell_type": "markdown",
      "metadata": {
        "id": "hUtur6LuFHGW"
      },
      "source": [
        "* Mathematically, this means\n",
        "\n",
        "\n",
        "$$\n",
        "\\frac{d^2p}{db^2}(200.00)=-0.04<0.\n",
        "$$\n",
        "\n",
        "\n",
        "* Hence the turning point __b0=200.00__ is a __maximum__."
      ]
    },
    {
      "cell_type": "markdown",
      "metadata": {
        "id": "hSvTmNmMFHGW"
      },
      "source": [
        "### Part 4\n",
        "\n",
        "* The __maximum profits__ are found by substiuting this turing point into the __original function__:"
      ]
    },
    {
      "cell_type": "code",
      "metadata": {
        "id": "yTp5f6AjFHGX",
        "outputId": "916ba923-1cf0-419c-b20f-ef5fd9866f6f",
        "colab": {
          "base_uri": "https://localhost:8080/",
          "height": 37
        }
      },
      "source": [
        "p_max=p.subs(b,b0)\n",
        "p_max"
      ],
      "execution_count": null,
      "outputs": [
        {
          "output_type": "execute_result",
          "data": {
            "text/plain": [
              "800.000000000000"
            ],
            "text/latex": "$\\displaystyle 800.0$"
          },
          "metadata": {},
          "execution_count": 59
        }
      ]
    },
    {
      "cell_type": "markdown",
      "source": [
        "---"
      ],
      "metadata": {
        "id": "5BgglJG8PEfn"
      }
    },
    {
      "cell_type": "markdown",
      "metadata": {
        "id": "2S3k7sclFHGX"
      },
      "source": [
        "## Exercise 2\n",
        "\n",
        "Consider the function \n",
        "$$\n",
        "    f(x) = x(4-x)\n",
        "$$\n",
        "\n",
        "1. Plot the function $f(x)$ for $x\\in[-1,5]$ and from the graph estimate how many turning points the function will have.\n",
        "\n",
        "2. Use __diff()__ and __solve__ to find all possible turning points of $f(x)$.\n",
        "\n",
        "3. Classify these turing points as __max__ or __min__ points.\n",
        "\n",
        "4. Hence find the __maximum__ and __minimum__ values of the function."
      ]
    },
    {
      "cell_type": "code",
      "metadata": {
        "id": "uIT3YvpNFHGY"
      },
      "source": [],
      "execution_count": null,
      "outputs": []
    },
    {
      "cell_type": "code",
      "metadata": {
        "id": "1-kRS1NtFHGY"
      },
      "source": [],
      "execution_count": null,
      "outputs": []
    },
    {
      "cell_type": "code",
      "metadata": {
        "id": "oOVm73RHFHGY"
      },
      "source": [],
      "execution_count": null,
      "outputs": []
    },
    {
      "cell_type": "code",
      "metadata": {
        "id": "5tgPOc6KFHGY"
      },
      "source": [],
      "execution_count": null,
      "outputs": []
    },
    {
      "cell_type": "markdown",
      "metadata": {
        "id": "fxvaV-YHFHGZ"
      },
      "source": [
        "## Exercise 3\n",
        "\n",
        "Consider the function \n",
        "$$\n",
        "    g(t) = t^2(8-t^2)\n",
        "$$\n",
        "\n",
        "1. Plot the function $g(t)$ for $t\\in[-3,3]$ and from the graph estimate how many turning points the funciton will have.\n",
        "\n",
        "2. Use __diff()__ and __solve__ to find all possible turning points of $g(t)$.\n",
        "\n",
        "3. Classify these turing points a __max__ or __min__ points.\n",
        "\n",
        "4. Hence find the __maximum__ and __minimum__ values of the function."
      ]
    },
    {
      "cell_type": "code",
      "metadata": {
        "id": "0wn3e5nJFHGZ"
      },
      "source": [],
      "execution_count": null,
      "outputs": []
    },
    {
      "cell_type": "code",
      "metadata": {
        "id": "C-R4IaThFHGZ"
      },
      "source": [],
      "execution_count": null,
      "outputs": []
    },
    {
      "cell_type": "code",
      "metadata": {
        "id": "j_t3ODOyFHGa"
      },
      "source": [],
      "execution_count": null,
      "outputs": []
    },
    {
      "cell_type": "code",
      "metadata": {
        "id": "6QMXkQCQFHGa"
      },
      "source": [],
      "execution_count": null,
      "outputs": []
    },
    {
      "cell_type": "markdown",
      "metadata": {
        "id": "sxFohS8bFHGa"
      },
      "source": [
        "## Exercise 4\n",
        "\n",
        "The acceleration of a machine is given by\n",
        "$$\n",
        "    a(r) = \\frac{10r+1}{5r^2+3150}\n",
        "$$\n",
        "\n",
        "where $r$ is the gear ratio. \n",
        "\n",
        "1. Plot the function $a(r)$ for $r\\in[-30,30]$ and estimate the number of turning points.\n",
        "\n",
        "2. Use __diff()__ and __solve__ to find all possible turning points of $a(r)$.\n",
        "\n",
        "3. Classify these turing points as __max__ or __min__ points.\n",
        "\n",
        "4. Hence find the __maximum__ and __minimum__ accelerations of the machine."
      ]
    },
    {
      "cell_type": "code",
      "metadata": {
        "id": "rTWpMemFFHGb"
      },
      "source": [],
      "execution_count": null,
      "outputs": []
    },
    {
      "cell_type": "code",
      "metadata": {
        "id": "z4eWefmpFHGb"
      },
      "source": [],
      "execution_count": null,
      "outputs": []
    },
    {
      "cell_type": "code",
      "metadata": {
        "id": "gfbwbkwcFHGb"
      },
      "source": [],
      "execution_count": null,
      "outputs": []
    },
    {
      "cell_type": "code",
      "metadata": {
        "id": "t41J8Kd2FHGb"
      },
      "source": [],
      "execution_count": null,
      "outputs": []
    },
    {
      "cell_type": "markdown",
      "metadata": {
        "id": "YY55At8qFHGc"
      },
      "source": [
        "## Exercise 5\n",
        "The displacement (position) of a moving object at time $t$ is given by\n",
        "$$\n",
        "    D(t) = (1-t^2)e^{-t}\n",
        "$$\n",
        "\n",
        "\n",
        "1. Plot the function $D(t)$ for $t\\in[-1.5,1.5]$ and estimate the number of turning points.\n",
        "\n",
        "2. Use __diff()__ and __solve__ to find all possible turning points of $D(t)$.\n",
        "\n",
        "3. Classify these turing points as __max__ or __min__ points.\n",
        "\n",
        "4. Hence find the __maximum__ and __minimum__ displacement of the particle.\n",
        "\n",
        "\n",
        "__NOTE:__ We may write the function $e^{-t}$ in python as __sym.exp(-t)__"
      ]
    },
    {
      "cell_type": "code",
      "metadata": {
        "id": "eiHhyEP-FHGc"
      },
      "source": [],
      "execution_count": null,
      "outputs": []
    },
    {
      "cell_type": "code",
      "metadata": {
        "id": "lCiygmUmFHGc"
      },
      "source": [],
      "execution_count": null,
      "outputs": []
    },
    {
      "cell_type": "code",
      "metadata": {
        "id": "JEhlrRyBFHGc"
      },
      "source": [],
      "execution_count": null,
      "outputs": []
    },
    {
      "cell_type": "code",
      "metadata": {
        "id": "Iqk2OvXPFHGc"
      },
      "source": [],
      "execution_count": null,
      "outputs": []
    }
  ]
}