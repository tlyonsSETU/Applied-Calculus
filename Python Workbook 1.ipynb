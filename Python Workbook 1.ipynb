{
  "cells": [
    {
      "cell_type": "markdown",
      "metadata": {
        "id": "view-in-github",
        "colab_type": "text"
      },
      "source": [
        "<a href=\"https://colab.research.google.com/github/tlyonsSETU/Applied-Calculus/blob/main/Python%20Workbook%201.ipynb\" target=\"_parent\"><img src=\"https://colab.research.google.com/assets/colab-badge.svg\" alt=\"Open In Colab\"/></a>"
      ]
    },
    {
      "cell_type": "markdown",
      "metadata": {
        "id": "W_maipvHaGhh"
      },
      "source": [
        "### Name: \n",
        "\n",
        "\n",
        "### Student Number: "
      ]
    },
    {
      "cell_type": "markdown",
      "metadata": {
        "id": "2IPGFaeWaGhk"
      },
      "source": [
        "# Python Workbook 1 - Polynomial Functions\n",
        "\n",
        "In this workbook we will cover the following topics:\n",
        "\n",
        "1. __Defining__ custom polynomial functions in Python.\n",
        "\n",
        "\n",
        "2. __Evaluating__ functions along intervals.\n",
        "\n",
        "\n",
        "3. __Plotting__ functions along intervals.\n",
        "\n",
        "\n",
        "4. __Roots__ of polynomials."
      ]
    },
    {
      "cell_type": "markdown",
      "metadata": {
        "id": "ZMt3DDTnaGhl"
      },
      "source": [
        "## A. The Notebook Environment\n",
        "\n",
        "* For these practicals we will use the __Colab__ environment to write and run all our Python scripts. \n",
        "\n",
        "\n",
        "* The _cells_ in these __.ipynb__ notebooks will always be either \n",
        "\n",
        "    * __Markdown__ (how this cell is written)\n",
        "    \n",
        "    * __Code__ (see the cell below)"
      ]
    },
    {
      "cell_type": "code",
      "execution_count": null,
      "metadata": {
        "id": "cSV2tn8oaGhm"
      },
      "outputs": [],
      "source": [
        "# A Python code cell"
      ]
    },
    {
      "cell_type": "markdown",
      "metadata": {
        "id": "oyGJRY57aGho"
      },
      "source": [
        "* Changing a cell from __Markdown__ to __Code__ or vice-versa can be done through the drop down menu appearing in the tool bar at the top of the Jupyter notebook.\n",
        "\n",
        "\n",
        "* To run a cell of either type, press the keys __Shift+Enter__ together.\n",
        "\n",
        "\n",
        "* To create a __comment__ in a code cell, place a \\# before the text you wish to comment.\n",
        "\n",
        "\n",
        "* To edit a markdown cell, __double-click__ the cell you wish to edit until the source for that cell appears. To return the cell to standard output press __Shift+Enter__.\n",
        "\n",
        "\n",
        "* To create an additional cell in the workbook, go to the __Insert__ tab at the top of the workbook or press the __+__ button.\n",
        "\n",
        "\n",
        "* To remove a cell press the scissors icon in the menu bar."
      ]
    },
    {
      "cell_type": "markdown",
      "metadata": {
        "id": "7KVv8idVaGhq"
      },
      "source": [
        "## B. Importing Libraries\n",
        "\n",
        "* In most of the Colab notebooks we will work on, the following __function libraries__ will be used throughout:\n",
        "\n",
        "    * __matplotlib.pylot__ - Used for plotting.\n",
        "\n",
        "    * __numpy__ - Numerical Python for numerical computations and plotting.\n",
        "\n",
        "\n",
        "* We import these libraries using the command __import__ as in the following code cell. \n",
        "\n",
        "\n",
        "* Hilglight the code cell below, then press __Shift+Enter__ to run these import commands:"
      ]
    },
    {
      "cell_type": "code",
      "execution_count": null,
      "metadata": {
        "id": "jL5mCC_FaGhq"
      },
      "outputs": [],
      "source": [
        "import matplotlib.pyplot as plt \n",
        "import numpy as np"
      ]
    },
    {
      "cell_type": "markdown",
      "metadata": {
        "id": "FzKqozrRaGhr"
      },
      "source": [
        "* When we import these libraries we include the additinal command __as__ to apply a shortened name of our choice to each library.\n",
        "\n",
        "\n",
        "* We do this to avoid having to re-write the full library name each time we want to call a Python function from that library.\n"
      ]
    },
    {
      "cell_type": "markdown",
      "metadata": {
        "id": "2g_oknnn4fhU"
      },
      "source": [
        "# Section 1 - Defining Custom Functions\n",
        "---\n",
        "\n",
        "* The __numpy__ library contains many standard functions we are familiar with from maths.\n",
        "\n",
        "* However, often we want to __define__ custom functions which are not available in any standrd library.\n",
        "\n",
        "* This ie easily done using the key-word __def()__, which is short for __definition__"
      ]
    },
    {
      "cell_type": "markdown",
      "metadata": {
        "id": "RCjv4UdKaGhu"
      },
      "source": [
        "# Section 1.1 - Polynomials\n",
        "\n",
        "* A __polynomial__ is a function of the form\n",
        "$$\n",
        "p(x) = a_{n}x^n + a_{n-1}x^{n-1} + a_{n-2}x^{n-2}+\\ldots+a_{1}x +a_{0}. \n",
        "$$\n",
        "\n",
        "\n",
        "* The __variable__ __x__ is the __input__ and can usually be any number we choose.\n",
        "\n",
        "\n",
        "* The __contstants__ $a_{n}$, $a_{n-1}$, $a_{n-2}$,...,$a_{1}$, $a_{1}$, $a_{0}$, are called the __coefficients__ of the polynomial.\n",
        "\n",
        "\n",
        "* The number $n$ is the highest power of $x$ appearing in the polynomial and is called the __order__ of the polynomial."
      ]
    },
    {
      "cell_type": "markdown",
      "metadata": {
        "id": "yUS_QjiW4fhW"
      },
      "source": [
        "## _Example 1_ - A __Quadratic__ Polynomial\n",
        "\n",
        "* The polynomial given by\n",
        "$$\n",
        " p(x) = x^2-4x-5\\tag{Eq. 1}\n",
        "$$\n",
        "is called a __quadratic__ polynomial. \n",
        "\n",
        "\n",
        "* A polynomial is quadratic if its __order__ is $n=2$.\n",
        "\n",
        "\n",
        "* The __coefficients__ of this polynomial are\n",
        "$$\n",
        "a_{2}=1\\quad a_{1}=-4\\quad a_{0}=-5.\n",
        "$$"
      ]
    },
    {
      "cell_type": "markdown",
      "metadata": {
        "id": "g1-yA1rT4fhX"
      },
      "source": [
        "### Python SYNTAX\n",
        "\n",
        "* To define this polynomial in Python, we must use the following __syntax:__\n",
        "    * __Powers__ are  written using   __**__ for  example $4^{5}$ is written as __4**5__ in Python\n",
        "    \n",
        "    * __Multiplication__ is written using __*__ for example $4x$ is written as __4*x__ \n",
        "\n",
        "\n",
        "* The quadatic polynomial $p(x)$ in equation $\\text{(Eq. 1)}$ is __defined__ in Python as follows:"
      ]
    },
    {
      "cell_type": "code",
      "execution_count": null,
      "metadata": {
        "id": "GU90AKrXaGhw"
      },
      "outputs": [],
      "source": [
        "def p(x):\n",
        "    return x**2-4*x-5"
      ]
    },
    {
      "cell_type": "markdown",
      "metadata": {
        "id": "5ZJV9hAV4fhY"
      },
      "source": [
        "* The __variable x__ is a place-holder to represent the __input__ of the function.\n",
        "\n",
        "\n",
        "* We can change this to any symbol we like, for example, the following defines the exact same function:"
      ]
    },
    {
      "cell_type": "code",
      "execution_count": null,
      "metadata": {
        "id": "JG-zaJqm4fhY"
      },
      "outputs": [],
      "source": [
        "def p(w):\n",
        "    return w**2-4*w-5"
      ]
    },
    {
      "cell_type": "markdown",
      "metadata": {
        "id": "cbnT8lHjaGhx"
      },
      "source": [
        "* We can now use this function to evaluate its numerical value at various input values of __x__. \n",
        "\n",
        "\n",
        "* For example, the __output__ values\n",
        "$$\n",
        " p(0), p(2), p(-9), p(-4), p(200), p(1000)  \n",
        "$$\n",
        "are given by"
      ]
    },
    {
      "cell_type": "code",
      "execution_count": null,
      "metadata": {
        "id": "aW2DAutkaGhy",
        "outputId": "f77191cb-b37b-45c6-feb5-c8cf83d8c94e"
      },
      "outputs": [
        {
          "data": {
            "text/plain": [
              "(-5, -9, 112, 27, 39195, 995995)"
            ]
          },
          "execution_count": 168,
          "metadata": {},
          "output_type": "execute_result"
        }
      ],
      "source": [
        "p(0), p(2), p(-9), p(-4), p(200), p(1000)"
      ]
    },
    {
      "cell_type": "markdown",
      "metadata": {
        "id": "1XAR-ON_aGh0"
      },
      "source": [
        "## Exercise 1: A __Cubic__ Polynomial\n",
        "\n",
        "* A polynomial is called __cubic__ if its __order__ is __$n=3$__\n",
        "\n",
        "\n",
        "\n",
        "* Create a Python function for the __cubic__ polynomial \n",
        "$$\n",
        " q(x) = x^3-4x^2+5x-25\\tag{Eq. 2}\n",
        "$$\n",
        "\n",
        "\n",
        "\n",
        "\n",
        "\n",
        "* Use this Python defintion to evaluate the __outputs:__\n",
        "$$\n",
        "    q(-20), q(-15),  q(256), q(512), q(22512)\n",
        "$$"
      ]
    },
    {
      "cell_type": "code",
      "execution_count": null,
      "metadata": {
        "id": "KIUakv874fha"
      },
      "outputs": [],
      "source": []
    },
    {
      "cell_type": "code",
      "execution_count": null,
      "metadata": {
        "id": "1w82M-Kp4fha"
      },
      "outputs": [],
      "source": []
    },
    {
      "cell_type": "code",
      "execution_count": null,
      "metadata": {
        "id": "LxYvl9n24fha"
      },
      "outputs": [],
      "source": []
    },
    {
      "cell_type": "code",
      "execution_count": null,
      "metadata": {
        "id": "6ad53wMP4fha"
      },
      "outputs": [],
      "source": []
    },
    {
      "cell_type": "markdown",
      "metadata": {
        "id": "HZDFO9vCaGh4"
      },
      "source": [
        "# Section 2 -  Function on Intervals\n",
        "---\n",
        "\n",
        "* Plot intervals are created very efficiently using the command __np.linspace(a,b,N)__\n",
        "\n",
        "    * __a__ is the start point of the interval.\n",
        "    \n",
        "    * __b__ is the end point of the interval.\n",
        "    \n",
        "    * __N__ is the number of points the interval should contain overall.\n",
        "\n",
        "\n",
        "* As an example, we  create the plot interval __X = [ -2 , 6 ]__, meaning the input values __X__ start at $-4$ and end at $6$. \n",
        "\n",
        "\n",
        "* We create this interval with __N = 101__ point using the following: "
      ]
    },
    {
      "cell_type": "code",
      "execution_count": null,
      "metadata": {
        "id": "IBHhUq8baGh5"
      },
      "outputs": [],
      "source": [
        "X=np.linspace(-2,6,101)"
      ]
    },
    {
      "cell_type": "markdown",
      "metadata": {
        "id": "aF61Ap_1aGh6"
      },
      "source": [
        "* In python terminology this list of numbers for __X__ is called an __array__ or sometimes a __vector.__ \n",
        "\n",
        "\n",
        "* The full list of numbers can be displayed by simply calling __X__ in a Python cell:"
      ]
    },
    {
      "cell_type": "code",
      "execution_count": null,
      "metadata": {
        "id": "pXt5WSM8aGh7",
        "outputId": "16b2ff67-a385-4a67-9f97-7248cd067ac8"
      },
      "outputs": [
        {
          "data": {
            "text/plain": [
              "array([-2.  , -1.92, -1.84, -1.76, -1.68, -1.6 , -1.52, -1.44, -1.36,\n",
              "       -1.28, -1.2 , -1.12, -1.04, -0.96, -0.88, -0.8 , -0.72, -0.64,\n",
              "       -0.56, -0.48, -0.4 , -0.32, -0.24, -0.16, -0.08,  0.  ,  0.08,\n",
              "        0.16,  0.24,  0.32,  0.4 ,  0.48,  0.56,  0.64,  0.72,  0.8 ,\n",
              "        0.88,  0.96,  1.04,  1.12,  1.2 ,  1.28,  1.36,  1.44,  1.52,\n",
              "        1.6 ,  1.68,  1.76,  1.84,  1.92,  2.  ,  2.08,  2.16,  2.24,\n",
              "        2.32,  2.4 ,  2.48,  2.56,  2.64,  2.72,  2.8 ,  2.88,  2.96,\n",
              "        3.04,  3.12,  3.2 ,  3.28,  3.36,  3.44,  3.52,  3.6 ,  3.68,\n",
              "        3.76,  3.84,  3.92,  4.  ,  4.08,  4.16,  4.24,  4.32,  4.4 ,\n",
              "        4.48,  4.56,  4.64,  4.72,  4.8 ,  4.88,  4.96,  5.04,  5.12,\n",
              "        5.2 ,  5.28,  5.36,  5.44,  5.52,  5.6 ,  5.68,  5.76,  5.84,\n",
              "        5.92,  6.  ])"
            ]
          },
          "execution_count": 171,
          "metadata": {},
          "output_type": "execute_result"
        }
      ],
      "source": [
        "X"
      ]
    },
    {
      "cell_type": "markdown",
      "metadata": {
        "id": "PTjosGi64fhd"
      },
      "source": [
        "## _Example 2_ - Evaluate __p(x)__ on __X__:\n",
        "\n",
        "* Now that we have defined the function __p(x)__ and the interval __X__, we can used each value in __X__ as an __input__ to find 101 corresponding outputs __p(X)__:"
      ]
    },
    {
      "cell_type": "code",
      "execution_count": null,
      "metadata": {
        "id": "3p644JtB4fhd",
        "outputId": "ccf5fbd7-fb1b-4147-e8c7-b6926db16c36"
      },
      "outputs": [
        {
          "data": {
            "text/plain": [
              "array([ 7.    ,  6.3664,  5.7456,  5.1376,  4.5424,  3.96  ,  3.3904,\n",
              "        2.8336,  2.2896,  1.7584,  1.24  ,  0.7344,  0.2416, -0.2384,\n",
              "       -0.7056, -1.16  , -1.6016, -2.0304, -2.4464, -2.8496, -3.24  ,\n",
              "       -3.6176, -3.9824, -4.3344, -4.6736, -5.    , -5.3136, -5.6144,\n",
              "       -5.9024, -6.1776, -6.44  , -6.6896, -6.9264, -7.1504, -7.3616,\n",
              "       -7.56  , -7.7456, -7.9184, -8.0784, -8.2256, -8.36  , -8.4816,\n",
              "       -8.5904, -8.6864, -8.7696, -8.84  , -8.8976, -8.9424, -8.9744,\n",
              "       -8.9936, -9.    , -8.9936, -8.9744, -8.9424, -8.8976, -8.84  ,\n",
              "       -8.7696, -8.6864, -8.5904, -8.4816, -8.36  , -8.2256, -8.0784,\n",
              "       -7.9184, -7.7456, -7.56  , -7.3616, -7.1504, -6.9264, -6.6896,\n",
              "       -6.44  , -6.1776, -5.9024, -5.6144, -5.3136, -5.    , -4.6736,\n",
              "       -4.3344, -3.9824, -3.6176, -3.24  , -2.8496, -2.4464, -2.0304,\n",
              "       -1.6016, -1.16  , -0.7056, -0.2384,  0.2416,  0.7344,  1.24  ,\n",
              "        1.7584,  2.2896,  2.8336,  3.3904,  3.96  ,  4.5424,  5.1376,\n",
              "        5.7456,  6.3664,  7.    ])"
            ]
          },
          "execution_count": 172,
          "metadata": {},
          "output_type": "execute_result"
        }
      ],
      "source": [
        "p(X)"
      ]
    },
    {
      "cell_type": "markdown",
      "metadata": {
        "id": "5xJw5ctp4fhe"
      },
      "source": [
        "## Exercise 2\n",
        "\n",
        "* Use __np.linspace()__ to create the interval __T = [ -1 , 3 ]__ with __N = 251__ points, and display this list of values\n",
        "\n",
        "\n",
        "* Now evaluate the cubic polynomial __q(x)__ you defined in __Exercise 1.1__ on this interval."
      ]
    },
    {
      "cell_type": "code",
      "execution_count": null,
      "metadata": {
        "id": "st8IAR9B4fhe"
      },
      "outputs": [],
      "source": []
    },
    {
      "cell_type": "code",
      "execution_count": null,
      "metadata": {
        "id": "7MLd-0Qg4fhe"
      },
      "outputs": [],
      "source": []
    },
    {
      "cell_type": "code",
      "execution_count": null,
      "metadata": {
        "id": "rWG0iwQD4fhe"
      },
      "outputs": [],
      "source": []
    },
    {
      "cell_type": "code",
      "execution_count": null,
      "metadata": {
        "id": "_U264vRz4fhf"
      },
      "outputs": [],
      "source": []
    },
    {
      "cell_type": "markdown",
      "metadata": {
        "id": "OmMbaKRYaGh8"
      },
      "source": [
        "# Section 3 -  Plotting a Function\n",
        "\n",
        "---\n",
        "\n",
        "\n",
        "* Now that we can define basic polynomial functions, we would like to use Python to __plot__ the graphs of these functions.\n",
        "\n",
        "\n",
        "* This means we choose a list of input values __$x$__ and evaluate the function at each input value.\n",
        "\n",
        "\n",
        "* This list of __$x$-inputs__ is called the __plot-interval__."
      ]
    },
    {
      "cell_type": "markdown",
      "metadata": {
        "id": "ZnogIpBWaGh9"
      },
      "source": [
        "## _Example 3_ - Plotting a quadratic polynomial\n",
        "\n",
        "* We will now use the function __plt.plot()__ from the __matplotlib.pyyplot__ library to plot the polynomial __p(x)__ from equation $\\text{(Eq. 1)}$ along the interval __X__.\n",
        "\n",
        "\n",
        "* The plot of __p(x)__ is shown in the cell below:"
      ]
    },
    {
      "cell_type": "code",
      "execution_count": null,
      "metadata": {
        "id": "WNV8pee1aGh9",
        "outputId": "89e4538e-b60e-4ebf-d984-8aa8c63eea78"
      },
      "outputs": [
        {
          "data": {
            "image/png": "[encoded data removed]",
            "text/plain": [
              "<Figure size 432x288 with 1 Axes>"
            ]
          },
          "metadata": {
            "needs_background": "light"
          },
          "output_type": "display_data"
        }
      ],
      "source": [
        "plt.plot(X,p(X))\n",
        "plt.show()"
      ]
    },
    {
      "cell_type": "code",
      "execution_count": null,
      "metadata": {
        "id": "uCUCW_k44fhg"
      },
      "outputs": [],
      "source": []
    },
    {
      "cell_type": "markdown",
      "metadata": {
        "id": "gUzZ35KCaGh9"
      },
      "source": [
        "## Extra plot details\n",
        "\n",
        "\n",
        "### Plotting the $x$ & $y$ axes\n",
        "\n",
        "* Notice that __plt.plot()__ places the $x$ and $y$ axes at the edges of the plot, whereas we usually put them at the centre of the plot.\n",
        "\n",
        "\n",
        "* We can add in vertical and horizontal lines to represent these axes using the commands:\n",
        "    \n",
        "    * __plt.axvline(x=0)__ - plot a vertical line at $x=0$ - the $y$-axis.\n",
        "    \n",
        "    * __plt.axhline(y=0)__ - plot a horizontal line at $y=0$ - the $x$-axis.\n",
        "\n",
        "\n",
        "### Changing the graph color & width\n",
        "\n",
        "* We can also change the color and width of the graph using the following __arguments__ inside __plt.plot()__:\n",
        "   \n",
        "   *  __c = 'navy'__\n",
        "   \n",
        "   * __lw = 2__ \n",
        "  \n",
        "  \n",
        "* __c__ is short for __color__; __lw__ is short for __linewidth__ \n",
        "\n",
        "\n",
        "* A list of Python colors can be found at \n",
        "\n",
        "    __https://matplotlib.org/examples/color/named_colors.html__\n",
        "    \n",
        "    \n",
        "### Adding axis labels:\n",
        "\n",
        "* We can add lables to the $x$ & $y$ axes using the following commands:\n",
        "    \n",
        "    * __plt.xlabel('x-axis')__\n",
        "    \n",
        "    * __plt.ylabel('y-axis')__\n",
        "    \n",
        "    \n",
        "* The text inside the inverted commas __' '__ is called a __string__ and can be changed to whatever you want to call each axis. "
      ]
    },
    {
      "cell_type": "code",
      "execution_count": null,
      "metadata": {
        "id": "ahZshca6aGh-",
        "outputId": "36c9b1e1-d6d0-4ae5-8da5-6f188c95d655"
      },
      "outputs": [
        {
          "data": {
            "image/png": "[encoded data removed]",
            "text/plain": [
              "<Figure size 432x288 with 1 Axes>"
            ]
          },
          "metadata": {
            "needs_background": "light"
          },
          "output_type": "display_data"
        }
      ],
      "source": [
        "plt.plot(X,p(X),c='navy', lw=2) # Plot the graph (X,P(X)) colored navy with linewidth 2\n",
        "\n",
        "plt.axhline(y=0,c='black',lw=0.75) # Plot the x-axis y=0\n",
        "plt.axvline(x=0,c='black',lw=0.75) # Plot the y-axis x=0\n",
        "\n",
        "plt.xlabel('x-axis') # Label the horizontal axis\n",
        "plt.ylabel('y-axis') # Label the vertical axis\n",
        "\n",
        "plt.show()"
      ]
    },
    {
      "cell_type": "markdown",
      "metadata": {
        "id": "aj6FmG3UaGh_"
      },
      "source": [
        "## _Exercise_ 3 - Plotting the cubic polynomial q(x)\n",
        "\n",
        "   a) Plot the graph of the cubic polynomial given in equation (Eq. 2), over the inteval __T__ defined in __Exercise 2__\n",
        "\n",
        "   b) Include horizontal and vertical lines to represent the $x$-axis (i.e. $y=0$) and the $y$-axis (i.e. $x=0$).\n",
        "\n",
        "   c) Set the colur of the graph as __dodgerblue__ and the linewidth as __1.45__"
      ]
    },
    {
      "cell_type": "code",
      "execution_count": null,
      "metadata": {
        "id": "4D8Yquvn4fhi"
      },
      "outputs": [],
      "source": []
    },
    {
      "cell_type": "code",
      "execution_count": null,
      "metadata": {
        "id": "7x-vyTay4fhi"
      },
      "outputs": [],
      "source": []
    },
    {
      "cell_type": "code",
      "execution_count": null,
      "metadata": {
        "id": "xDU-zKNe4fhi"
      },
      "outputs": [],
      "source": []
    },
    {
      "cell_type": "code",
      "execution_count": null,
      "metadata": {
        "id": "vT2D83KZ4fhj"
      },
      "outputs": [],
      "source": []
    },
    {
      "cell_type": "code",
      "execution_count": null,
      "metadata": {
        "id": "dbZXW66-4fhj"
      },
      "outputs": [],
      "source": []
    },
    {
      "cell_type": "markdown",
      "metadata": {
        "collapsed": true,
        "id": "fganjidNaGiE"
      },
      "source": [
        "# Section 4: Roots of Polynomials\n",
        "\n",
        "---\n",
        "\n",
        "* The roots of a polynomial are the values of $x$ where the output becomes __zero__\n",
        "\n",
        "\n",
        "* For example, the polynomial in $\\text{(Eq. 1)}$\n",
        "$$\n",
        "p(x) = x^2 - 4x - 5\n",
        "$$\n",
        "has __roots__ at\n",
        "$$\n",
        "x=-1, \\quad x = 5.\n",
        "$$\n",
        "\n",
        "\n",
        "\n",
        "* We see that if we use the __roots as inputs__, then the __outputs are zero__ in each case:\n",
        "\n",
        "\\begin{align}\n",
        "p(-1) &= (-1)^2 - 4(-1) - 4 = 1 + 5 - 5 = 0 \\\\\n",
        "p(5)  &= (5)^2 -4(5) - 5 = 25 - 20 - 5 = 0.\n",
        "\\end{align}\n",
        "\n",
        "\n",
        "\n",
        "* In fact, these are the only values of $x$ that will make the output zero, which can be seen from the graph __(X , p(X)):__"
      ]
    },
    {
      "cell_type": "code",
      "execution_count": null,
      "metadata": {
        "id": "G-fxPj4U4fhj",
        "outputId": "0accc519-0646-4491-800a-7fcdb07ddfb9"
      },
      "outputs": [
        {
          "data": {
            "image/png": "[encoded data removed]",
            "text/plain": [
              "<Figure size 432x288 with 1 Axes>"
            ]
          },
          "metadata": {
            "needs_background": "light"
          },
          "output_type": "display_data"
        }
      ],
      "source": [
        "plt.plot(X,p(X),c='navy', lw=2) # Plot the graph (X,P(X)) colored navy with linewidth 2\n",
        "\n",
        "plt.plot(-1,p(-1),'s',c='red') # Plot the root at x=-1 using a red square  \n",
        "plt.plot(5,p(5),'s',c='red') # Plot the root at x=-5 using a red square\n",
        "\n",
        "plt.axhline(y=0,c='black',lw=0.75) # Plot the x-axis y=0\n",
        "plt.axvline(x=0,c='black',lw=0.75) # Plot the y-axis x=0\n",
        "\n",
        "plt.xlabel('x-axis') # Label the horizontal axis\n",
        "plt.ylabel('y-axis') # Label the vertical axis\n",
        "\n",
        "plt.show()"
      ]
    },
    {
      "cell_type": "markdown",
      "metadata": {
        "id": "NVGQrhGq4fhk"
      },
      "source": [
        "* As you can see from the graph, the y-value of the graph is zero (i.e. on the horizontal axis __y = 0__) when the inputs are __x = -1__ or __x = 5__\n",
        "\n",
        "\n",
        "* It is clear that for any other input __x__, the graph is either above the $y$-axis __(i.e. p(x) > 0)__ or below the $y$-axis __(i.e. p(x) < 0)__"
      ]
    },
    {
      "cell_type": "markdown",
      "metadata": {
        "id": "ZyYZ42n04fhl"
      },
      "source": [
        "## The quadratic formula\n",
        "\n",
        "* The roots of the quadratic polynomial \n",
        "$$\n",
        "ax^2 + bx + c\n",
        "$$\n",
        "are found using the __quadratic formula__\n",
        "$$\n",
        "x=\\frac{-b \\pm \\sqrt{b^2-4ac}}{2a}.\n",
        "$$\n",
        "\n",
        "\n",
        "* For the polynomial $p(x)=x^2-4x-5$ we have \n",
        "$$\n",
        "a=1\\quad b=-4\\quad c=-5.\n",
        "$$\n",
        "\n",
        "\n",
        "* The quadratic formula tells us the roots are\n",
        "\\begin{align}\n",
        "x&=\\frac{-(-4)-\\sqrt{(-4)^2-4(1)(-5)}}{2(1)} = \\frac{4-\\sqrt{36}}{2} = \\frac{-2}{2}=-1\\\\\n",
        "x&=\\frac{-(-4)+\\sqrt{(-4)^2-4(1)(-5)}}{2(1)} = \\frac{4+\\sqrt{36}}{2} = \\frac{10}{2}=5.\n",
        "\\end{align}"
      ]
    },
    {
      "cell_type": "markdown",
      "metadata": {
        "id": "QXSmbCGF4fhl"
      },
      "source": [
        "## Factorising a polynomial \n",
        "\n",
        "* This now means we can also write the polynomial\n",
        "$$\n",
        "p(x) = x^2-4x-5\n",
        "$$\n",
        "in terms of its roots as\n",
        "$$\n",
        "p(x) = (x-(-1))(x-5)) = (x+1)(x-5).\n",
        "$$\n",
        "\n",
        "\n",
        "* This is called the __FACTORISATION__ of the polynomial $p(x)$.\n",
        "\n",
        "\n",
        "* If we expand the brackets we find\n",
        "$$\n",
        "(x+1)(x-5) = x^2+x-5x-5=x^2-4x-5\n",
        "$$\n",
        "which is exactly $p(x)$.\n",
        "\n",
        "\n",
        "\n",
        "* Now it is very easy to see why the polynomial vanishes at $x=-1$ and $x=5$, because\n",
        "\\begin{align}\n",
        "p(-1) &= (-1+1)(-1-5)=(0)(-6)=0 \\\\\n",
        "p(5)  & = (5+1)(5-5) = (6)(0)=0.\n",
        "\\end{align}"
      ]
    },
    {
      "cell_type": "markdown",
      "metadata": {
        "id": "7Wtf6PeE4fhm"
      },
      "source": [
        "## Section 4.1: Finding roots numerically\n",
        "\n",
        "* It is __always possible__ to __factorise__ a polynomial in terms of its roots, it is just that finding the roots becomes more and more difficult as the order $n$ __increases__\n",
        "\n",
        "\n",
        "* However, in python there are functions which find these roots __numerically__, for example __np.roots()__ will find the roots of a polynomial of __any order n__.\n",
        "\n",
        "\n",
        "* The __inputs__ for this function are the __coefficients__ of the polynomial\n",
        "$$\n",
        "a_{n}, a_{n-1},\\ldots,a_{0}.\n",
        "$$\n",
        "\n",
        "* For example using the coefficients of $p(x)$ in $\\text{(Eq. 1)}$ we find"
      ]
    },
    {
      "cell_type": "code",
      "execution_count": null,
      "metadata": {
        "id": "BEDmcMje4fhm",
        "outputId": "6bd52a5b-0a7b-4ccc-f276-c3a3ff1e3e54"
      },
      "outputs": [
        {
          "data": {
            "text/plain": [
              "array([ 5., -1.])"
            ]
          },
          "execution_count": 175,
          "metadata": {},
          "output_type": "execute_result"
        }
      ],
      "source": [
        "np.roots([1,-4,-5])"
      ]
    },
    {
      "cell_type": "markdown",
      "metadata": {
        "id": "xLdvZ-fp4fhm"
      },
      "source": [
        "## _Example_ 4\n",
        "\n",
        "* Given the $\\mathbf{5^{th}-order}$ polynomial\n",
        "$$\n",
        "R(x)=x^5-7x^4+17x^3-21x^2-6x+40\n",
        "$$\n",
        "answer the following:"
      ]
    },
    {
      "cell_type": "markdown",
      "metadata": {
        "id": "puqk8PtJ4fhm"
      },
      "source": [
        "1. Define a function __R(x)__ to represent this polynomial."
      ]
    },
    {
      "cell_type": "code",
      "execution_count": null,
      "metadata": {
        "id": "MR0Unf8J4fhn"
      },
      "outputs": [],
      "source": [
        "def R(x):\n",
        "    return x**5 - 7*x**4 + 17*x**3 - 21*x**2 - 6*x + 40"
      ]
    },
    {
      "cell_type": "markdown",
      "metadata": {
        "id": "NUMND69I4fhn"
      },
      "source": [
        "2. Plot this function along the interval __X = [ -1.5 , 4.5 ]__ with __N = 201__ points. Include the $x$ and $y$ axes in this plot."
      ]
    },
    {
      "cell_type": "code",
      "execution_count": null,
      "metadata": {
        "id": "meP0SV_w4fhn"
      },
      "outputs": [],
      "source": [
        "X=np.linspace(-1.5,4.5,201)"
      ]
    },
    {
      "cell_type": "code",
      "execution_count": null,
      "metadata": {
        "id": "gi5xsNW74fho",
        "outputId": "3ef0bb71-fb3a-4690-88cd-7c05b7df2e8c"
      },
      "outputs": [
        {
          "data": {
            "image/png": "[encoded data removed]",
            "text/plain": [
              "<Figure size 432x288 with 1 Axes>"
            ]
          },
          "metadata": {
            "needs_background": "light"
          },
          "output_type": "display_data"
        }
      ],
      "source": [
        "plt.plot(X,R(X),c='darkgreen', lw=1.5) # Plot the graph (X,R(X)) colored darkgreen with linewidth 1.5\n",
        "\n",
        "plt.axhline(y=0,c='black',lw=0.75) # Plot the x-axis y=0\n",
        "plt.axvline(x=0,c='black',lw=0.75) # Plot the y-axis x=0\n",
        "\n",
        "plt.xlabel('x-axis') # Label the horizontal axis\n",
        "plt.ylabel('y-axis') # Label the vertical axis\n",
        "\n",
        "plt.show()"
      ]
    },
    {
      "cell_type": "markdown",
      "metadata": {
        "id": "6pJDVXWd4fho"
      },
      "source": [
        "3. Count how may times the graph of __R(x)__ crosses the $x$-axis, this tells us how many __REAL ROOTS__ this polynomial has."
      ]
    },
    {
      "cell_type": "markdown",
      "metadata": {
        "id": "KCPd1g984fho"
      },
      "source": [
        "* From the figure, it appears the graph crosses the $x$-axis (horizontal axis) __3 TIMES__.\n",
        "\n",
        "\n",
        "\n",
        "* This means there are __THREE x-values__ where $R(x) = 0$, i.e. $R$ has three real roots "
      ]
    },
    {
      "cell_type": "markdown",
      "metadata": {
        "id": "Wralzytk4fhp"
      },
      "source": [
        "4. Use the function __np.roots()__ to find the roots of this polynomial. How many of these roots are real valued?"
      ]
    },
    {
      "cell_type": "markdown",
      "metadata": {
        "id": "UVnqSkIx4fhp"
      },
      "source": [
        "* The __coefficients__ of the polynomial are"
      ]
    },
    {
      "cell_type": "code",
      "execution_count": null,
      "metadata": {
        "id": "pI9-g_Na4fhp"
      },
      "outputs": [],
      "source": [
        "a5=1\n",
        "a4=-7\n",
        "a3=17\n",
        "a2=-21\n",
        "a1=-6\n",
        "a0=40"
      ]
    },
    {
      "cell_type": "markdown",
      "metadata": {
        "id": "Too2DxWG4fhp"
      },
      "source": [
        "* The __roots__ of the polynomial are"
      ]
    },
    {
      "cell_type": "code",
      "execution_count": null,
      "metadata": {
        "id": "zLJDdn9i4fhp",
        "outputId": "57aa0282-4d9c-4526-dea2-131a41ebaf56"
      },
      "outputs": [
        {
          "data": {
            "text/plain": [
              "array([ 4.+0.j,  1.+2.j,  1.-2.j,  2.+0.j, -1.+0.j])"
            ]
          },
          "execution_count": 145,
          "metadata": {},
          "output_type": "execute_result"
        }
      ],
      "source": [
        "np.roots([a5,a4,a3,a2,a1,a0])"
      ]
    },
    {
      "cell_type": "markdown",
      "metadata": {
        "id": "etBmfKgi4fhq"
      },
      "source": [
        "* As we can see there are __5 roots__, but two of these are complex since __$j=\\sqrt{-1}$__ is the imaginary unit (also called $i$), so only __THREE__ are real valued.\n",
        "\n",
        "\n",
        "* We can extract the roots individually using the following trick:"
      ]
    },
    {
      "cell_type": "code",
      "execution_count": null,
      "metadata": {
        "id": "wfPPvfMb4fhq"
      },
      "outputs": [],
      "source": [
        "x1,x2,x3,x4,x5=np.round(np.roots([a5,a4,a3,a2,a1,a0]),2)"
      ]
    },
    {
      "cell_type": "markdown",
      "metadata": {
        "id": "YJpiH-v-4fhq"
      },
      "source": [
        "* We introduced __5 new__ numbers __x1, x2, x3, x4, x5__ and set them equal to the roots of the polynomial:\n",
        "\n",
        "\n",
        "* We also __wrap__ the __np.roots()__ function with the command __np.round( ,2),__ which rounds-off all numbers to __2 decimal places__."
      ]
    },
    {
      "cell_type": "code",
      "execution_count": null,
      "metadata": {
        "id": "1R916v0F4fhr",
        "outputId": "e7bd2aaa-8d04-4445-8a09-0863bd4ee2c6"
      },
      "outputs": [
        {
          "data": {
            "text/plain": [
              "(4+0j)"
            ]
          },
          "execution_count": 154,
          "metadata": {},
          "output_type": "execute_result"
        }
      ],
      "source": [
        "x1"
      ]
    },
    {
      "cell_type": "code",
      "execution_count": null,
      "metadata": {
        "id": "d2zlJVTK4fhr",
        "outputId": "3e276695-3915-46c0-cf24-557d50431b45"
      },
      "outputs": [
        {
          "data": {
            "text/plain": [
              "(1+2j)"
            ]
          },
          "execution_count": 155,
          "metadata": {},
          "output_type": "execute_result"
        }
      ],
      "source": [
        "x2"
      ]
    },
    {
      "cell_type": "code",
      "execution_count": null,
      "metadata": {
        "id": "V3-tLvq94fhr",
        "outputId": "53952056-e24e-4cb0-bcc9-999e054db29c"
      },
      "outputs": [
        {
          "data": {
            "text/plain": [
              "(1-2j)"
            ]
          },
          "execution_count": 156,
          "metadata": {},
          "output_type": "execute_result"
        }
      ],
      "source": [
        "x3"
      ]
    },
    {
      "cell_type": "code",
      "execution_count": null,
      "metadata": {
        "id": "WF68bxw_4fhr",
        "outputId": "dac10d68-aefc-4066-b0e6-d1133f85457d"
      },
      "outputs": [
        {
          "data": {
            "text/plain": [
              "(2+0j)"
            ]
          },
          "execution_count": 157,
          "metadata": {},
          "output_type": "execute_result"
        }
      ],
      "source": [
        "x4"
      ]
    },
    {
      "cell_type": "code",
      "execution_count": null,
      "metadata": {
        "id": "Y4JKwlOv4fhs",
        "outputId": "3c2eba86-2607-48bb-a05d-99d83b32dd79"
      },
      "outputs": [
        {
          "data": {
            "text/plain": [
              "(-1+0j)"
            ]
          },
          "execution_count": 158,
          "metadata": {},
          "output_type": "execute_result"
        }
      ],
      "source": [
        "x5"
      ]
    },
    {
      "cell_type": "markdown",
      "metadata": {
        "id": "xYNNkuVV4fhs"
      },
      "source": [
        "* Clearly __x1 = 4, x4 = 2, x5 = -1__ are the __real roots__ of $R(x)$. \n",
        "\n",
        "\n",
        "* Looking at the graph of __R(x)__, these are the __x-values__ where the graph of __R(x)__ crosses the $x$-axis, as expected.\n",
        "\n",
        "\n",
        "\n",
        "* Another way of saying this is __R(4) = 0, R(2) = 0, R(-1) = 0__, so if we use __root as inputs__ the __outputs are zero__ \n"
      ]
    },
    {
      "cell_type": "code",
      "execution_count": null,
      "metadata": {
        "id": "bAkImxw_4fht",
        "outputId": "db061ff0-3f41-4de9-d9aa-d6732a1b589c"
      },
      "outputs": [
        {
          "data": {
            "text/plain": [
              "(0, 0, 0)"
            ]
          },
          "execution_count": 185,
          "metadata": {},
          "output_type": "execute_result"
        }
      ],
      "source": [
        "R(4), R(2), R(-1)"
      ]
    },
    {
      "cell_type": "markdown",
      "metadata": {
        "id": "GhGqvInw4fht"
      },
      "source": [
        "* We also find the __complex roots__ have __output zero__ "
      ]
    },
    {
      "cell_type": "code",
      "execution_count": null,
      "metadata": {
        "id": "d6iG-hZd4fht",
        "outputId": "d55111a8-17b0-46a7-f9b2-40f57de0a99e"
      },
      "outputs": [
        {
          "data": {
            "text/plain": [
              "(0j, 0j)"
            ]
          },
          "execution_count": 186,
          "metadata": {},
          "output_type": "execute_result"
        }
      ],
      "source": [
        "R(1+2j), R(1-2j)"
      ]
    },
    {
      "cell_type": "markdown",
      "metadata": {
        "id": "80eyBO7p4fhv"
      },
      "source": [
        "---\n",
        "# IMPORTANT\n",
        "\n",
        "* The polynomial $R(x)$ is of __order n = 5.__\n",
        "\n",
        "\n",
        "\n",
        "* The __number of roots__ of $R(x)$ is also $5$, however not all roots are equal.\n",
        "\n",
        "\n",
        "\n",
        "* __In general__, a polynomial of __order n__ will have __n roots__, however some roots may be complex while other roots may be repeated.\n",
        "---"
      ]
    },
    {
      "cell_type": "markdown",
      "metadata": {
        "id": "fXk2oPYR4fhv"
      },
      "source": [
        "## Exercise 4\n",
        "\n",
        "* Given the $\\mathbf{6^{th}-order}$ polynomial\n",
        "$$\n",
        "K(x) = x^6  - 4x^5 - 2x^4 + 20x^3 - 11x^2 - 16x + 12\n",
        "$$\n",
        "answer the following:"
      ]
    },
    {
      "cell_type": "markdown",
      "metadata": {
        "id": "SV2E_ZwN4fhw"
      },
      "source": [
        "1. Define a function __K(x)__ to represent this polynomial"
      ]
    },
    {
      "cell_type": "code",
      "execution_count": null,
      "metadata": {
        "id": "Mj9U7w1r4fhw"
      },
      "outputs": [],
      "source": []
    },
    {
      "cell_type": "code",
      "execution_count": null,
      "metadata": {
        "id": "XXli1g0t4fhw"
      },
      "outputs": [],
      "source": []
    },
    {
      "cell_type": "markdown",
      "metadata": {
        "id": "wCRFYG_b4fhw"
      },
      "source": [
        "2. Plot the graph of __K(x)__ over the interval __X = [ -2.1 , 3.1 ]__ with __N = 201__ points and include the $x$ and $y$ axes on this graph."
      ]
    },
    {
      "cell_type": "code",
      "execution_count": null,
      "metadata": {
        "id": "akmYHNpl4fhw"
      },
      "outputs": [],
      "source": []
    },
    {
      "cell_type": "code",
      "execution_count": null,
      "metadata": {
        "id": "47ei-yQQ4fhw"
      },
      "outputs": [],
      "source": []
    },
    {
      "cell_type": "code",
      "execution_count": null,
      "metadata": {
        "id": "egOIPYOt4fhw"
      },
      "outputs": [],
      "source": []
    },
    {
      "cell_type": "markdown",
      "metadata": {
        "id": "mD9TF8L24fhw"
      },
      "source": [
        "3. How namy times does the graph cross the $x$-axis? How many __REAL ROOTS__ do you expect the graph to have?"
      ]
    },
    {
      "cell_type": "code",
      "execution_count": null,
      "metadata": {
        "id": "nnny1MOy4fhw"
      },
      "outputs": [],
      "source": []
    },
    {
      "cell_type": "code",
      "execution_count": null,
      "metadata": {
        "id": "Dccvn69d4fhw"
      },
      "outputs": [],
      "source": []
    },
    {
      "cell_type": "markdown",
      "metadata": {
        "id": "7a1OM61Q4fhx"
      },
      "source": [
        "4. Use the function __np.roots()__ to calculate the roots of __K(x)__ and use __np.round()__ to round the roots to 2 d.p."
      ]
    },
    {
      "cell_type": "code",
      "execution_count": null,
      "metadata": {
        "id": "0DCST9VK4fhy"
      },
      "outputs": [],
      "source": []
    },
    {
      "cell_type": "code",
      "execution_count": null,
      "metadata": {
        "id": "8rRcdZGv4fhy"
      },
      "outputs": [],
      "source": []
    },
    {
      "cell_type": "markdown",
      "metadata": {
        "id": "yZcUNsPi4fhz"
      },
      "source": [
        "5. How many of these are __real valued__? Check that __K(x) = 0__ for each of the roots found in __part 4.__"
      ]
    },
    {
      "cell_type": "code",
      "execution_count": null,
      "metadata": {
        "id": "6djDusYP4fhz"
      },
      "outputs": [],
      "source": []
    },
    {
      "cell_type": "code",
      "execution_count": null,
      "metadata": {
        "id": "hzdNsepW4fhz"
      },
      "outputs": [],
      "source": []
    },
    {
      "cell_type": "markdown",
      "metadata": {
        "id": "IK8ssg-v4fhz"
      },
      "source": [
        "## Comment:\n",
        "\n",
        "* In __Exercise 4 - Part 5__ you should find __6 real roots__.\n",
        "\n",
        "\n",
        "* However, the roots $1-0j=1+0j=1$ are the same root.\n",
        "\n",
        "\n",
        "* The root $x=1$ is called a __double root__ in this case, since it appears as a root twice.\n",
        "\n",
        "\n",
        "* It corresponds to the point where the graph __touches__ the $x$-axis."
      ]
    },
    {
      "cell_type": "code",
      "execution_count": null,
      "metadata": {
        "id": "9mJ-X3KM4fh0"
      },
      "outputs": [],
      "source": []
    }
  ],
  "metadata": {
    "colab": {
      "name": "Applied Calculus 2021 - Python Workbook 1.ipynb",
      "provenance": [],
      "include_colab_link": true
    },
    "kernelspec": {
      "display_name": "Python 3 (ipykernel)",
      "language": "python",
      "name": "python3"
    },
    "language_info": {
      "codemirror_mode": {
        "name": "ipython",
        "version": 3
      },
      "file_extension": ".py",
      "mimetype": "text/x-python",
      "name": "python",
      "nbconvert_exporter": "python",
      "pygments_lexer": "ipython3",
      "version": "3.9.12"
    }
  },
  "nbformat": 4,
  "nbformat_minor": 0
}