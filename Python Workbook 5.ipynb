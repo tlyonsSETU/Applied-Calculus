{
  "cells": [
    {
      "cell_type": "markdown",
      "metadata": {
        "id": "view-in-github",
        "colab_type": "text"
      },
      "source": [
        "<a href=\"https://colab.research.google.com/github/tlyonsSETU/Applied-Calculus/blob/main/Python%20Workbook%205.ipynb\" target=\"_parent\"><img src=\"https://colab.research.google.com/assets/colab-badge.svg\" alt=\"Open In Colab\"/></a>"
      ]
    },
    {
      "cell_type": "markdown",
      "metadata": {
        "id": "Sv91QygY_MOK"
      },
      "source": [
        "### Name:\n",
        "### Student Number:"
      ]
    },
    {
      "cell_type": "code",
      "source": [
        "import matplotlib.pyplot as plt\n",
        "import numpy as np "
      ],
      "metadata": {
        "id": "_Z20BVBcMTHJ"
      },
      "execution_count": 1,
      "outputs": []
    },
    {
      "cell_type": "code",
      "source": [
        "import matplotlib.style as style # Change the plot style used for graphs\n",
        "style.use('seaborn')"
      ],
      "metadata": {
        "id": "2ZGPQsrGMV6J"
      },
      "execution_count": 2,
      "outputs": []
    },
    {
      "cell_type": "code",
      "source": [
        "# The following libraries are for creating interactive plots\n",
        "from ipywidgets import interact, interactive, fixed, interact_manual\n",
        "import ipywidgets as widgets"
      ],
      "metadata": {
        "id": "1kLQt_D1MVsJ"
      },
      "execution_count": 3,
      "outputs": []
    },
    {
      "cell_type": "code",
      "source": [
        "import sympy as sym"
      ],
      "metadata": {
        "id": "yPBr8kQwMbpb"
      },
      "execution_count": 4,
      "outputs": []
    },
    {
      "cell_type": "markdown",
      "metadata": {
        "id": "hyWijEES_MOT"
      },
      "source": [
        "# Python Workbook 5 - Limits & Differentiation\n",
        "\n",
        "* In this workbook we will cover the following topics:\n",
        "  1. Limits of functions\n",
        "\n",
        "  2. Piecewise functions and their derivatives\n",
        "\n",
        "  3. Continuity and smoothness of functions\n",
        "\n",
        "---\n",
        "---"
      ]
    },
    {
      "cell_type": "markdown",
      "metadata": {
        "id": "fZ3YyeEA_MOW"
      },
      "source": [
        "# Defining a sequence\n",
        "\n",
        "* A sequence of numbers is just a list of numbers that follow a particular pattern\n",
        "\n",
        "* As an example, the numbers\n",
        "$$\n",
        "1, 5, 25, 125, 625,...\n",
        "$$\n",
        "can all be written as powers of $5$ according to\n",
        "$$\n",
        "5^0, 5^1, 5^2, 5^3, 5^4,...\n",
        "$$\n",
        "\n",
        "* We usually write this as the sequence \n",
        "$$\n",
        "S = \\{5^n\\}_{n\\in \\mathbb{N}},\n",
        "$$\n",
        "where the terms mean:\n",
        "  * $S$ is our sequence of numbers\n",
        "  \n",
        "  * $5^{n}$ tells us how to calculate the $n^{\\mathrm{th}}$ element of this sequence\n",
        "  \n",
        "  * $n\\in\\mathbb{N}$ means the __index__ $n$ is in the __Natural Numbers__ $\\mathbb{N} = 0, 1, 2,3,4,...$ \n",
        "\n",
        "\n",
        "\n",
        "\n",
        "## Sequences of small numbers\n",
        "\n",
        "* In most of the following, we will want to caculate functions along sequences of small numbers, or numbers getting very close to a specific value.\n",
        "\n",
        "* For this reason, we are going to define a function that will automatically generate a finite sequence of __decreasing__ values as follows: \n"
      ]
    },
    {
      "cell_type": "code",
      "execution_count": 5,
      "metadata": {
        "id": "a50sENZI_MOY"
      },
      "outputs": [],
      "source": [
        "def S(N):\n",
        "  return 1/10**(np.linspace(0,N,N+1))"
      ]
    },
    {
      "cell_type": "markdown",
      "source": [
        "* This creates a list of numbers of the form\n",
        "$$\n",
        "S=\\left\\{\\frac{1}{10^0},\\frac{1}{10^1},\\frac{1}{10^2},\\frac{1}{10^3},\\ldots,\\frac{1}{10^N}\\right\\} = \\{1,0.1,0.01,0.001,...,\\underbrace{0.0...0}_{N-\\text{times}}1\\}\n",
        "$$\n",
        "\n",
        "* As you can see, this is a list of numbers that is getting smaller as $N$ gets bigger.\n",
        "\n",
        "* We say that \n",
        "$$\n",
        "\\lim_{N\\to \\infty}\\frac{1}{10^{N}} = 0,\n",
        "$$\n",
        "i.e. as $N$ grows bigger, the number $\\frac{1}{10^N}$ becomes smaller.\n",
        "\n",
        "\n",
        "* We will check this with a few examples below:"
      ],
      "metadata": {
        "id": "5-I3cFlWPKep"
      }
    },
    {
      "cell_type": "code",
      "source": [
        "S(1)"
      ],
      "metadata": {
        "colab": {
          "base_uri": "https://localhost:8080/"
        },
        "id": "tqbPHBksQWoH",
        "outputId": "72f14f35-144c-4ef4-86c7-d5110fd15865"
      },
      "execution_count": 6,
      "outputs": [
        {
          "output_type": "execute_result",
          "data": {
            "text/plain": [
              "array([1. , 0.1])"
            ]
          },
          "metadata": {},
          "execution_count": 6
        }
      ]
    },
    {
      "cell_type": "code",
      "source": [
        "S(3)"
      ],
      "metadata": {
        "colab": {
          "base_uri": "https://localhost:8080/"
        },
        "id": "Y4xNEYxYQXg4",
        "outputId": "ce0a0998-12dd-4b96-9a90-637bf46e449f"
      },
      "execution_count": 7,
      "outputs": [
        {
          "output_type": "execute_result",
          "data": {
            "text/plain": [
              "array([1.   , 0.1  , 0.01 , 0.001])"
            ]
          },
          "metadata": {},
          "execution_count": 7
        }
      ]
    },
    {
      "cell_type": "code",
      "source": [
        "S(5)"
      ],
      "metadata": {
        "colab": {
          "base_uri": "https://localhost:8080/"
        },
        "id": "Qmlx6sAwQXRU",
        "outputId": "b9cfabdf-72d6-46ba-e572-0b9bd5bab643"
      },
      "execution_count": 8,
      "outputs": [
        {
          "output_type": "execute_result",
          "data": {
            "text/plain": [
              "array([1.e+00, 1.e-01, 1.e-02, 1.e-03, 1.e-04, 1.e-05])"
            ]
          },
          "metadata": {},
          "execution_count": 8
        }
      ]
    },
    {
      "cell_type": "code",
      "source": [
        "S(25)"
      ],
      "metadata": {
        "colab": {
          "base_uri": "https://localhost:8080/"
        },
        "id": "9sUDJcguQjs7",
        "outputId": "a4946f47-f5a0-4819-a823-9f4f94d81dca"
      },
      "execution_count": 9,
      "outputs": [
        {
          "output_type": "execute_result",
          "data": {
            "text/plain": [
              "array([1.e+00, 1.e-01, 1.e-02, 1.e-03, 1.e-04, 1.e-05, 1.e-06, 1.e-07,\n",
              "       1.e-08, 1.e-09, 1.e-10, 1.e-11, 1.e-12, 1.e-13, 1.e-14, 1.e-15,\n",
              "       1.e-16, 1.e-17, 1.e-18, 1.e-19, 1.e-20, 1.e-21, 1.e-22, 1.e-23,\n",
              "       1.e-24, 1.e-25])"
            ]
          },
          "metadata": {},
          "execution_count": 9
        }
      ]
    },
    {
      "cell_type": "markdown",
      "source": [
        "---\n",
        "---\n",
        "\n",
        "# __Section 1.1__ Limits of functions\n",
        "\n",
        "\n",
        "## __Example 1__ \n",
        "* When we write a limit like\n",
        "$$\n",
        "\\lim_{x\\to 5} (x^2-4)\n",
        "$$\n",
        "what we mean is calculate the output of the function $x^2-4$ as the input $x$ gets closer and closer to 5.\n",
        "\n",
        "\n",
        "* We can easily calculate this limit now using our sequnce function above:\n",
        "\n",
        "1. First we define a corresponding python function:"
      ],
      "metadata": {
        "id": "7CUieC6fQyMV"
      }
    },
    {
      "cell_type": "code",
      "source": [
        "def f(x):\n",
        "  return x**2-4"
      ],
      "metadata": {
        "id": "sHYsj_prRWIf"
      },
      "execution_count": 10,
      "outputs": []
    },
    {
      "cell_type": "markdown",
      "source": [
        "2. Now we create a squence of numbers that approaces $x=5$ from below and from above as follows "
      ],
      "metadata": {
        "id": "qkAOLnVBRcI7"
      }
    },
    {
      "cell_type": "code",
      "source": [
        "L5=5-S(8)\n",
        "L5"
      ],
      "metadata": {
        "colab": {
          "base_uri": "https://localhost:8080/"
        },
        "id": "SbVqOrDVRnMH",
        "outputId": "04ff4960-ae1d-4350-b1bb-d58d3ea62558"
      },
      "execution_count": 11,
      "outputs": [
        {
          "output_type": "execute_result",
          "data": {
            "text/plain": [
              "array([4.        , 4.9       , 4.99      , 4.999     , 4.9999    ,\n",
              "       4.99999   , 4.999999  , 4.9999999 , 4.99999999])"
            ]
          },
          "metadata": {},
          "execution_count": 11
        }
      ]
    },
    {
      "cell_type": "code",
      "source": [
        "R5=5+S(8)\n",
        "R5"
      ],
      "metadata": {
        "colab": {
          "base_uri": "https://localhost:8080/"
        },
        "id": "Yf4uaiM8Rz0d",
        "outputId": "3517e922-93af-4366-df7d-ee070d2220e9"
      },
      "execution_count": 12,
      "outputs": [
        {
          "output_type": "execute_result",
          "data": {
            "text/plain": [
              "array([6.        , 5.1       , 5.01      , 5.001     , 5.0001    ,\n",
              "       5.00001   , 5.000001  , 5.0000001 , 5.00000001])"
            ]
          },
          "metadata": {},
          "execution_count": 12
        }
      ]
    },
    {
      "cell_type": "markdown",
      "source": [
        "* As we can see, both of these squences approach 5. \n",
        "\n",
        "* The sequence __L5__ approches $5$ from the __Left__ (or from below), while the sequence __R5__ approaches $5$ from the __Right__ (or from above).\n",
        "\n",
        "* Now we can sub both sequences into the function __f(x)__ and see what output we get in each case:"
      ],
      "metadata": {
        "id": "lXL4NVdAR4rP"
      }
    },
    {
      "cell_type": "code",
      "execution_count": 13,
      "metadata": {
        "colab": {
          "base_uri": "https://localhost:8080/"
        },
        "id": "p1wg-j8h_MOb",
        "outputId": "c3cf9c08-69b3-4a76-b892-5b8e337d8959"
      },
      "outputs": [
        {
          "output_type": "execute_result",
          "data": {
            "text/plain": [
              "array([12.        , 20.01      , 20.9001    , 20.990001  , 20.99900001,\n",
              "       20.9999    , 20.99999   , 20.999999  , 20.9999999 ])"
            ]
          },
          "metadata": {},
          "execution_count": 13
        }
      ],
      "source": [
        "f(L5)"
      ]
    },
    {
      "cell_type": "code",
      "source": [
        "f(R5)"
      ],
      "metadata": {
        "colab": {
          "base_uri": "https://localhost:8080/"
        },
        "id": "Hst1dlJuSisD",
        "outputId": "d25517b8-9e99-4134-b1d0-a50650c9a563"
      },
      "execution_count": 14,
      "outputs": [
        {
          "output_type": "execute_result",
          "data": {
            "text/plain": [
              "array([32.        , 22.01      , 21.1001    , 21.010001  , 21.00100001,\n",
              "       21.0001    , 21.00001   , 21.000001  , 21.0000001 ])"
            ]
          },
          "metadata": {},
          "execution_count": 14
        }
      ]
    },
    {
      "cell_type": "markdown",
      "source": [
        "* As we can see, as the inputs get closer to 5, the outputs get closer to 21 along each sequence.\n",
        "\n",
        "* To make this clearer we plot these sequences below:"
      ],
      "metadata": {
        "id": "2yIwqqACSlLi"
      }
    },
    {
      "cell_type": "code",
      "source": [
        "plt.figure(figsize=(16,8))\n",
        "plt.plot(L5,f(L5),'rs',label='Left sequence')\n",
        "plt.plot(R5,f(R5),'bo',label='Right sequence')\n",
        "\n",
        "plt.axhline(y=0,lw=0.75)\n",
        "plt.axvline(x=5,lw=0.75)\n",
        "\n",
        "plt.xlabel('$x$')\n",
        "plt.ylabel('$y$')\n",
        "\n",
        "plt.legend(fontsize=14)"
      ],
      "metadata": {
        "colab": {
          "base_uri": "https://localhost:8080/",
          "height": 514
        },
        "id": "N39_oTcHSzmj",
        "outputId": "a4723146-23e0-42af-84c5-42e4c10a1c63"
      },
      "execution_count": 15,
      "outputs": [
        {
          "output_type": "execute_result",
          "data": {
            "text/plain": [
              "<matplotlib.legend.Legend at 0x7f3e17dc4a30>"
            ]
          },
          "metadata": {},
          "execution_count": 15
        },
        {
          "output_type": "display_data",
          "data": {
            "text/plain": [
              "<Figure size 1152x576 with 1 Axes>"
            ],
            "image/png": "[encoded data removed]"
          },
          "metadata": {}
        }
      ]
    },
    {
      "cell_type": "markdown",
      "source": [
        "* As we can see, both sequences of dots __converge__ to the value $y=21$ as the $x$-value approaces $5$.\n",
        "\n",
        "* In this case we __estimate__\n",
        "$$\n",
        "\\lim_{x\\to 5}(x^2-4) = 21.\n",
        "$$"
      ],
      "metadata": {
        "id": "e36U0vF8TYCM"
      }
    },
    {
      "cell_type": "markdown",
      "metadata": {
        "id": "ToFebcxi_MOd"
      },
      "source": [
        "# __Exercise 1.1__\n",
        "\n",
        "1. Follow the steps of __Example 1.1__ above to estimate the limit\n",
        "$$\n",
        "\\lim_{x\\to 3} (x^5+3x^4-4x^2+2x+1)\n",
        "$$\n",
        "along sequences approaching 3 from above and from below.\n",
        "\n",
        "\n",
        "2. Plot the outputs of this function along these sequnces.\n",
        "\n",
        "\n",
        "3. What values do the sequnces converge to?\n",
        "\n"
      ]
    },
    {
      "cell_type": "code",
      "execution_count": 15,
      "metadata": {
        "id": "gIY18ody_MOe"
      },
      "outputs": [],
      "source": []
    },
    {
      "cell_type": "code",
      "execution_count": 15,
      "metadata": {
        "id": "WFgz0mUo_MOf"
      },
      "outputs": [],
      "source": []
    },
    {
      "cell_type": "code",
      "execution_count": 15,
      "metadata": {
        "id": "Y4z3kA48_MOf"
      },
      "outputs": [],
      "source": []
    },
    {
      "cell_type": "code",
      "source": [],
      "metadata": {
        "id": "qxbRgkAsVVOh"
      },
      "execution_count": 15,
      "outputs": []
    },
    {
      "cell_type": "markdown",
      "metadata": {
        "id": "HkqDOd0B_MOg"
      },
      "source": [
        "# __Section 1.2__ Continuity\n",
        "\n",
        "## One-sided limits \\& Piecewise functions \n",
        "\n",
        "* A one sided limit is calculated along a sequnce of numbers from one side of a fixed number only.\n",
        "\n",
        "\n",
        "* For example, the sequence of numbers below appraches $5$ from below (or from the left), which we write as $\\displaystyle \\lim_{x\\to 5^{-}}$."
      ]
    },
    {
      "cell_type": "code",
      "source": [
        "5-S(8)"
      ],
      "metadata": {
        "colab": {
          "base_uri": "https://localhost:8080/"
        },
        "id": "8snxS5t9W3sj",
        "outputId": "d2b1978e-6cd9-4724-e855-6fe2672d8226"
      },
      "execution_count": 16,
      "outputs": [
        {
          "output_type": "execute_result",
          "data": {
            "text/plain": [
              "array([4.        , 4.9       , 4.99      , 4.999     , 4.9999    ,\n",
              "       4.99999   , 4.999999  , 4.9999999 , 4.99999999])"
            ]
          },
          "metadata": {},
          "execution_count": 16
        }
      ]
    },
    {
      "cell_type": "markdown",
      "source": [
        "* Similarly, the sequnce of numbers below aproaces $5$ from above (or from the right), which we write as $\\displaystyle \\lim_{x\\to5^+}$."
      ],
      "metadata": {
        "id": "jgdtCJ94W6fr"
      }
    },
    {
      "cell_type": "code",
      "source": [
        "5+S(8)"
      ],
      "metadata": {
        "colab": {
          "base_uri": "https://localhost:8080/"
        },
        "id": "nGi0jtJron5I",
        "outputId": "95282b04-3b4e-40b4-c983-6421e117306d"
      },
      "execution_count": 17,
      "outputs": [
        {
          "output_type": "execute_result",
          "data": {
            "text/plain": [
              "array([6.        , 5.1       , 5.01      , 5.001     , 5.0001    ,\n",
              "       5.00001   , 5.000001  , 5.0000001 , 5.00000001])"
            ]
          },
          "metadata": {},
          "execution_count": 17
        }
      ]
    },
    {
      "cell_type": "markdown",
      "source": [
        "* These sequences can be used to calculate the __left hand limit__ and the __right hand limit__ of a function $f(x)$ about $x5$, like we did in __Example 1.1__.\n",
        "\n",
        "* If these __limits match__, then we say the __limit exits__ at $x=5$."
      ],
      "metadata": {
        "id": "PY7F-FzDXazr"
      }
    },
    {
      "cell_type": "markdown",
      "source": [
        "* Not every function will have a limit at all values of $x$\n",
        "\n",
        "* In the cell below we define a __piecewise__ function called __D(x)__ to represent\n",
        "$$\n",
        "D(x) = \n",
        "\\begin{cases}\n",
        "x^2+34, \\quad \\text{if  } x< 2 \\\\\n",
        "x^2+2x+15, \\quad \\text{if  } x\\geq 2\n",
        "\\end{cases}\n",
        "$$"
      ],
      "metadata": {
        "id": "uzU_bvQ2Xz47"
      }
    },
    {
      "cell_type": "code",
      "source": [
        "def D(x):\n",
        "  if x<2:\n",
        "    return x**2+34\n",
        "  if x>=2:\n",
        "    return x**2+ 2*x+15\n",
        "\n",
        "D=np.vectorize(D) "
      ],
      "metadata": {
        "id": "17T0iZemXaUb"
      },
      "execution_count": 18,
      "outputs": []
    },
    {
      "cell_type": "markdown",
      "source": [
        "## __IMPORTANT ! !__\n",
        "\n",
        "* The command __D=np.vectorize(D)__ at the end of this cell is critical to make the original definition of __D__ work with __numpy.__\n",
        "\n",
        "* Without including this extra command, you will get an error message telling you your function cannot be used with __numpy arrays__\n",
        "\n",
        "* This is because, usually, the __if__ directive can only be applied to one number at a time instead of a list of numbers. \n",
        "\n",
        "\n",
        "* The __np.vectorize()__ command modifies this so __if__ can be applied to a list of numbers."
      ],
      "metadata": {
        "id": "g14rbS_EZkxv"
      }
    },
    {
      "cell_type": "markdown",
      "metadata": {
        "id": "J2H3kW7J_MOg"
      },
      "source": [
        "## __Example 1.2__ \n",
        "\n",
        "1. Use __np.linspace()__ to create a list with 501 value for $x\\in$__[0,5]__ and plot __D__ along this linspace."
      ]
    },
    {
      "cell_type": "code",
      "source": [
        "x=np.linspace(0,5,501)"
      ],
      "metadata": {
        "id": "UgI6kz4eZAzs"
      },
      "execution_count": 19,
      "outputs": []
    },
    {
      "cell_type": "code",
      "source": [
        "\n",
        "plt.figure(figsize=(16,8))\n",
        "\n",
        "plt.plot(x,D(x),color='k', label='$D(x)$',alpha=0.5) \n",
        "\n",
        "plt.axhline(y=0,lw=0.75,color='k')\n",
        "plt.axvline(x=0,lw=0.75,color='k')\n",
        "\n",
        "plt.xlabel('$x$')\n",
        "plt.ylabel('$y$')\n",
        "\n",
        "plt.legend(fontsize=14)"
      ],
      "metadata": {
        "colab": {
          "base_uri": "https://localhost:8080/",
          "height": 514
        },
        "id": "VuyIvZoyo-37",
        "outputId": "8c477b45-46b8-4adc-a71f-c6238cf7278c"
      },
      "execution_count": 20,
      "outputs": [
        {
          "output_type": "execute_result",
          "data": {
            "text/plain": [
              "<matplotlib.legend.Legend at 0x7f3e15a4b0a0>"
            ]
          },
          "metadata": {},
          "execution_count": 20
        },
        {
          "output_type": "display_data",
          "data": {
            "text/plain": [
              "<Figure size 1152x576 with 1 Axes>"
            ],
            "image/png": "[encoded data removed]"
          },
          "metadata": {}
        }
      ]
    },
    {
      "cell_type": "markdown",
      "source": [
        "### Discontinuous Graphs\n",
        "\n",
        "* The function $D(x)$ is discontinuous at $x=2$, meaning there is a __sudden change__ in its value at $x=2$.\n",
        "\n",
        "\n",
        "* Strictly speaking, this means there should be no vertical line at $x=2$, as shown in the graph above.\n",
        "\n",
        "\n",
        "* We get around this by making __2 plots:__\n",
        "  \n",
        "  * One plot for $ < 2 $. \n",
        "\n",
        "  * Another plot for $x\\geq 2$. "
      ],
      "metadata": {
        "id": "r7SEQKzxpFhY"
      }
    },
    {
      "cell_type": "code",
      "source": [
        "plt.figure(figsize=(16,8))\n",
        "\n",
        "plt.plot(x[x<2],D(x[x<2]),color='k', label='$D(x)$',alpha=0.5) # Plot P(x) for x <2\n",
        "plt.plot(x[x>=2],D(x[x>=2]),color='k',alpha=0.5) # Plot P(x) for x >=2\n",
        "\n",
        "plt.axhline(y=0,lw=0.75,color='k')\n",
        "plt.axvline(x=0,lw=0.75,color='k')\n",
        "\n",
        "plt.xlabel('$x$')\n",
        "plt.ylabel('$y$')\n",
        "\n",
        "plt.legend(fontsize=14)"
      ],
      "metadata": {
        "colab": {
          "base_uri": "https://localhost:8080/",
          "height": 514
        },
        "id": "U1urmJhXZGYj",
        "outputId": "033871e2-bf10-44ee-c077-004996af90c6"
      },
      "execution_count": 21,
      "outputs": [
        {
          "output_type": "execute_result",
          "data": {
            "text/plain": [
              "<matplotlib.legend.Legend at 0x7f3e1513adf0>"
            ]
          },
          "metadata": {},
          "execution_count": 21
        },
        {
          "output_type": "display_data",
          "data": {
            "text/plain": [
              "<Figure size 1152x576 with 1 Axes>"
            ],
            "image/png": "[encoded data removed]"
          },
          "metadata": {}
        }
      ]
    },
    {
      "cell_type": "markdown",
      "metadata": {
        "id": "pwwYdvN3_MOh"
      },
      "source": [
        "* As we can see, there is a sudden jump in the value of the function at $x=2$, i.e. where the function changes from one form to another."
      ]
    },
    {
      "cell_type": "markdown",
      "source": [
        "2. Use the __S(N)__ function to define a seqeunce approaching 2 from below and another sequence approaching 2 from above. "
      ],
      "metadata": {
        "id": "DjQOWiXubtWb"
      }
    },
    {
      "cell_type": "code",
      "execution_count": 22,
      "metadata": {
        "colab": {
          "base_uri": "https://localhost:8080/"
        },
        "id": "-g0Djpcp_MOh",
        "outputId": "373f0116-5be8-4b13-822f-089cf8027c86"
      },
      "outputs": [
        {
          "output_type": "execute_result",
          "data": {
            "text/plain": [
              "array([1.        , 1.9       , 1.99      , 1.999     , 1.9999    ,\n",
              "       1.99999   , 1.999999  , 1.9999999 , 1.99999999])"
            ]
          },
          "metadata": {},
          "execution_count": 22
        }
      ],
      "source": [
        "L2=2-S(8)\n",
        "L2"
      ]
    },
    {
      "cell_type": "code",
      "source": [
        "R2=2+S(8)\n",
        "R2"
      ],
      "metadata": {
        "colab": {
          "base_uri": "https://localhost:8080/"
        },
        "id": "NVDFocB9cBlM",
        "outputId": "789731b7-0936-4e69-8ada-af59a65e20f1"
      },
      "execution_count": 23,
      "outputs": [
        {
          "output_type": "execute_result",
          "data": {
            "text/plain": [
              "array([3.        , 2.1       , 2.01      , 2.001     , 2.0001    ,\n",
              "       2.00001   , 2.000001  , 2.0000001 , 2.00000001])"
            ]
          },
          "metadata": {},
          "execution_count": 23
        }
      ]
    },
    {
      "cell_type": "markdown",
      "metadata": {
        "id": "yE3piQEo_MOi"
      },
      "source": [
        "3. Now estimate the limits\n",
        "$$\n",
        "\\lim_{x\\to2^-}D(x) \\quad\\text{and}\\quad \\lim_{x\\to2^+}D(x).\n",
        "$$\n"
      ]
    },
    {
      "cell_type": "code",
      "execution_count": 24,
      "metadata": {
        "colab": {
          "base_uri": "https://localhost:8080/"
        },
        "id": "C9BtGypc_MOi",
        "outputId": "ebd92ea7-e9ef-4408-b249-ef5bd9e8121c"
      },
      "outputs": [
        {
          "output_type": "execute_result",
          "data": {
            "text/plain": [
              "array([35.        , 37.61      , 37.9601    , 37.996001  , 37.99960001,\n",
              "       37.99996   , 37.999996  , 37.9999996 , 37.99999996])"
            ]
          },
          "metadata": {},
          "execution_count": 24
        }
      ],
      "source": [
        "D(L2)"
      ]
    },
    {
      "cell_type": "markdown",
      "source": [
        "* From this sequnce of outputs we estimate\n",
        "$$\n",
        "\\lim_{x\\to2^-}D(x) = 38.\n",
        "$$"
      ],
      "metadata": {
        "id": "d7x7bdtmciuJ"
      }
    },
    {
      "cell_type": "code",
      "source": [
        "D(R2)"
      ],
      "metadata": {
        "colab": {
          "base_uri": "https://localhost:8080/"
        },
        "id": "_17E8lYHcsYn",
        "outputId": "70dc3a46-ea4e-4be7-fcbf-a53b43237897"
      },
      "execution_count": 25,
      "outputs": [
        {
          "output_type": "execute_result",
          "data": {
            "text/plain": [
              "array([30.        , 23.61      , 23.0601    , 23.006001  , 23.00060001,\n",
              "       23.00006   , 23.000006  , 23.0000006 , 23.00000006])"
            ]
          },
          "metadata": {},
          "execution_count": 25
        }
      ]
    },
    {
      "cell_type": "markdown",
      "source": [
        "* From this sequnce we estimate \n",
        "$$\n",
        "\\lim_{x\\to2^{+}}D(x) = 23\n",
        "$$"
      ],
      "metadata": {
        "id": "h9O1-tMvdJi8"
      }
    },
    {
      "cell_type": "markdown",
      "source": [
        "* We see that \n",
        "$$\n",
        "\\lim_{x\\to2^{-}}D(x) \\neq \\lim_{x\\to2^+}D(x)\n",
        "$$\n",
        "and so we say $\\displaystyle \\lim_{x\\to2}D(x)$ __does not exist !__"
      ],
      "metadata": {
        "id": "CPiyUTvPdQoH"
      }
    },
    {
      "cell_type": "markdown",
      "metadata": {
        "id": "Bk4CnY_Z_MOi"
      },
      "source": [
        "4. Copy \\& Paste the plot from above and include these sequences in it"
      ]
    },
    {
      "cell_type": "code",
      "execution_count": 26,
      "metadata": {
        "colab": {
          "base_uri": "https://localhost:8080/",
          "height": 514
        },
        "id": "QVX_za-__MOk",
        "outputId": "22237065-94b0-4c0b-9dc1-6252f746c8d8"
      },
      "outputs": [
        {
          "output_type": "execute_result",
          "data": {
            "text/plain": [
              "<matplotlib.legend.Legend at 0x7f3e14c977c0>"
            ]
          },
          "metadata": {},
          "execution_count": 26
        },
        {
          "output_type": "display_data",
          "data": {
            "text/plain": [
              "<Figure size 1152x576 with 1 Axes>"
            ],
            "image/png": "[encoded data removed]"
          },
          "metadata": {}
        }
      ],
      "source": [
        "plt.figure(figsize=(16,8))\n",
        "plt.plot(x[x<2],D(x[x<2]),color='k', label='$P(x)$',alpha=0.5)\n",
        "plt.plot(x[x>=2],D(x[x>=2]),color='k',alpha=0.5)\n",
        "\n",
        "plt.plot(L2,D(L2),'rs',label='Left sequence')\n",
        "plt.plot(R2,D(R2),'bo',label='Right sequence')\n",
        "\n",
        "plt.axhline(y=0,lw=0.75,color='k')\n",
        "plt.axvline(x=0,lw=0.75,color='k')\n",
        "\n",
        "plt.xlabel('$x$')\n",
        "plt.ylabel('$y$')\n",
        "\n",
        "plt.legend(fontsize=14)"
      ]
    },
    {
      "cell_type": "markdown",
      "metadata": {
        "id": "a1ivE2nG_MOk"
      },
      "source": [
        "---\n",
        "# __Exercise 1.2__\n",
        "\n",
        "1. Define a python function to represent\n",
        "$$\n",
        "Q(x) =\n",
        "\\begin{cases}\n",
        " x^3 +4x^2-x+1, \\quad \\text{ if } x<1\\\\\n",
        " x^2 +7x + 4, \\quad \\text{ if } x\\geq 1 \n",
        "\\end{cases}\n",
        "$$"
      ]
    },
    {
      "cell_type": "code",
      "execution_count": 26,
      "metadata": {
        "id": "nHHjRJrG_MOk"
      },
      "outputs": [],
      "source": []
    },
    {
      "cell_type": "markdown",
      "source": [
        "2. Plot this piecewise function along the interval $x\\in$__[-2,4]__ with 501 points."
      ],
      "metadata": {
        "id": "YGV_-DOLeyyX"
      }
    },
    {
      "cell_type": "code",
      "execution_count": 26,
      "metadata": {
        "id": "igG_YWF-_MOk"
      },
      "outputs": [],
      "source": []
    },
    {
      "cell_type": "markdown",
      "source": [
        "3. Create appropriate sequences to estimate the limits\n",
        "$$\n",
        "\\lim_{x\\to1^-}Q(x)\\quad \\lim_{x\\to1^+}Q(x).\n",
        "$$\n",
        "Does $\\displaystyle \\lim_{x\\to1}Q(x)$ exist?"
      ],
      "metadata": {
        "id": "QJWaz45ve81Y"
      }
    },
    {
      "cell_type": "code",
      "execution_count": 26,
      "metadata": {
        "id": "5UjQgiwV_MOl"
      },
      "outputs": [],
      "source": []
    },
    {
      "cell_type": "code",
      "execution_count": 26,
      "metadata": {
        "id": "8ci6sb6r_MOl"
      },
      "outputs": [],
      "source": []
    },
    {
      "cell_type": "markdown",
      "source": [
        "4. Copy \\& Paste the plot from above and include these sequences in it"
      ],
      "metadata": {
        "id": "9JEKYqW5fUxL"
      }
    },
    {
      "cell_type": "code",
      "source": [],
      "metadata": {
        "id": "V3qgr2IRfYSA"
      },
      "execution_count": 26,
      "outputs": []
    },
    {
      "cell_type": "code",
      "source": [],
      "metadata": {
        "id": "GCwT_0nCfYZx"
      },
      "execution_count": 26,
      "outputs": []
    },
    {
      "cell_type": "markdown",
      "metadata": {
        "id": "zeK6ERrc_MOm"
      },
      "source": [
        "---\n",
        "----\n",
        "\n",
        "# __Section 2__  Symbolic Peicewise Functions\n",
        "\n",
        "* In the __SymPy__ library there is a specific function called __sym.Piecewise()__ used to create a __symbolic piecewise function__\n",
        "\n",
        "\n",
        "* This is useful when we want to calculate the __derivatives__ of these piecewise functions\n",
        "\n"
      ]
    },
    {
      "cell_type": "markdown",
      "metadata": {
        "id": "EvqYyORc_MOm"
      },
      "source": [
        "## __Example 2.1__\n",
        "\n",
        "Given the piecewise function\n",
        "\n",
        "$$\n",
        "p(t)=\n",
        "    \\begin{cases}\n",
        "    6t-5,\\quad t<3, \\\\ \n",
        "    t^2+2,\\quad t \\geq 3 \n",
        "    \\end{cases}\n",
        "$$   \n",
        "answer the following:\n"
      ]
    },
    {
      "cell_type": "markdown",
      "metadata": {
        "id": "a1HnJp3P_MOm"
      },
      "source": [
        "1. Use __sym.Piecewise()__ to define __p(t)__ symbolically.\n",
        "\n",
        "* Before we define __p(t)__ we must use __sym.symbols()__ to declare the symbol __t__"
      ]
    },
    {
      "cell_type": "code",
      "source": [
        "t=sym.symbols('t', real = True)\n",
        "t"
      ],
      "metadata": {
        "colab": {
          "base_uri": "https://localhost:8080/",
          "height": 38
        },
        "id": "aQn1PWd6l2zv",
        "outputId": "9ee3763f-caa2-4753-d222-6349ce8f444b"
      },
      "execution_count": 27,
      "outputs": [
        {
          "output_type": "execute_result",
          "data": {
            "text/plain": [
              "t"
            ],
            "text/latex": "$\\displaystyle t$"
          },
          "metadata": {},
          "execution_count": 27
        }
      ]
    },
    {
      "cell_type": "markdown",
      "source": [
        "* Now we can define our symbolic piecewise function"
      ],
      "metadata": {
        "id": "uhi5f1kBl-Es"
      }
    },
    {
      "cell_type": "code",
      "execution_count": 28,
      "metadata": {
        "colab": {
          "base_uri": "https://localhost:8080/",
          "height": 68
        },
        "id": "8qHBGQwP_MOm",
        "outputId": "c141344b-d463-470e-e484-63614b026dbd"
      },
      "outputs": [
        {
          "output_type": "execute_result",
          "data": {
            "text/plain": [
              "Piecewise((6*t - 5, t < 3), (t**2 + 2, True))"
            ],
            "text/latex": "$\\displaystyle \\begin{cases} 6 t - 5 & \\text{for}\\: t < 3 \\\\t^{2} + 2 & \\text{otherwise} \\end{cases}$"
          },
          "metadata": {},
          "execution_count": 28
        }
      ],
      "source": [
        "p=sym.Piecewise((6*t-5,t<3),(t**2+2,t>=3))\n",
        "p"
      ]
    },
    {
      "cell_type": "markdown",
      "metadata": {
        "id": "dpWSbwJP_MOm"
      },
      "source": [
        "2. Use __sym.lambdify()__ to create a __numpy__ compatible version of __p(t)__ and plot this along the interval __T=[0,5]__ with __1001 points__\n",
        "\n"
      ]
    },
    {
      "cell_type": "code",
      "execution_count": 29,
      "metadata": {
        "id": "4l-L93xI_MOm"
      },
      "outputs": [],
      "source": [
        "P=sym.lambdify(t,p,'numpy')"
      ]
    },
    {
      "cell_type": "code",
      "source": [
        "T=np.linspace(0,5,1001)"
      ],
      "metadata": {
        "id": "BIJBTp69mp55"
      },
      "execution_count": 30,
      "outputs": []
    },
    {
      "cell_type": "code",
      "execution_count": 31,
      "metadata": {
        "id": "1PjGna3N_MOq",
        "outputId": "a2241dc4-4ec1-4059-f7e7-c7a6b8a15f15",
        "colab": {
          "base_uri": "https://localhost:8080/",
          "height": 516
        }
      },
      "outputs": [
        {
          "output_type": "execute_result",
          "data": {
            "text/plain": [
              "<matplotlib.legend.Legend at 0x7f3e15c539d0>"
            ]
          },
          "metadata": {},
          "execution_count": 31
        },
        {
          "output_type": "display_data",
          "data": {
            "text/plain": [
              "<Figure size 1152x576 with 1 Axes>"
            ],
            "image/png": "[encoded data removed]"
          },
          "metadata": {}
        }
      ],
      "source": [
        "plt.figure(figsize=(16,8))\n",
        "plt.plot(T[T<3],P(T[T<3]),label='$p(t)$',c='k')\n",
        "plt.plot(T[T>=3],P(T[T>=3]),c='k')\n",
        "\n",
        "plt.axvline(x=0,lw=0.75)\n",
        "plt.axhline(y=0,lw=0.75)\n",
        "\n",
        "plt.xlabel('$t$')\n",
        "plt.ylabel('$y$')\n",
        "\n",
        "plt.legend(loc='upper left',fontsize=14)"
      ]
    },
    {
      "cell_type": "markdown",
      "metadata": {
        "id": "ND_-YR1E_MOq"
      },
      "source": [
        "4. Use __sym.diff()__ to calculate the derivative $\\frac{dp}{dt}$ symbolically, lambdify this derivative and plot it on the same graph."
      ]
    },
    {
      "cell_type": "code",
      "execution_count": 32,
      "metadata": {
        "id": "efPp6sid_MO0",
        "outputId": "1b847050-d8c2-4a8a-ed80-d5f9816a17cb",
        "colab": {
          "base_uri": "https://localhost:8080/",
          "height": 68
        }
      },
      "outputs": [
        {
          "output_type": "execute_result",
          "data": {
            "text/plain": [
              "Piecewise((6, t < 3), (2*t, True))"
            ],
            "text/latex": "$\\displaystyle \\begin{cases} 6 & \\text{for}\\: t < 3 \\\\2 t & \\text{otherwise} \\end{cases}$"
          },
          "metadata": {},
          "execution_count": 32
        }
      ],
      "source": [
        "dp = sym.diff(p,(t,1))\n",
        "dp"
      ]
    },
    {
      "cell_type": "code",
      "source": [
        "DP=sym.lambdify(t,dp,'numpy')"
      ],
      "metadata": {
        "id": "w8JRXcKcoBe8"
      },
      "execution_count": 33,
      "outputs": []
    },
    {
      "cell_type": "code",
      "source": [
        "plt.figure(figsize=(16,8))\n",
        "\n",
        "plt.plot(T[T<3],P(T[T<3]),label='$p(t)$',c='k')\n",
        "plt.plot(T[T>=3],P(T[T>=3]),c='k')\n",
        "\n",
        "\n",
        "plt.plot(T[T<3],DP(T[T<3]),label='$\\\\frac{dp}{dt}$',c='r')\n",
        "plt.plot(T[T>=3],DP(T[T>=3]),c='r')\n",
        "\n",
        "plt.axvline(x=0,lw=0.75)\n",
        "plt.axhline(y=0,lw=0.75)\n",
        "\n",
        "plt.xlabel('$t$')\n",
        "plt.ylabel('$y$')\n",
        "\n",
        "plt.legend(loc='upper left',fontsize=14)"
      ],
      "metadata": {
        "colab": {
          "base_uri": "https://localhost:8080/",
          "height": 516
        },
        "id": "vcEczOIhoIGz",
        "outputId": "6f2b47ce-ff7e-4577-9435-096b570d35e8"
      },
      "execution_count": 34,
      "outputs": [
        {
          "output_type": "execute_result",
          "data": {
            "text/plain": [
              "<matplotlib.legend.Legend at 0x7f3e15c1ac40>"
            ]
          },
          "metadata": {},
          "execution_count": 34
        },
        {
          "output_type": "display_data",
          "data": {
            "text/plain": [
              "<Figure size 1152x576 with 1 Axes>"
            ],
            "image/png": "[encoded data removed]"
          },
          "metadata": {}
        }
      ]
    },
    {
      "cell_type": "markdown",
      "metadata": {
        "id": "DV20nFCR_MO2"
      },
      "source": [
        "--- \n",
        "\n",
        "## __Exercise 2.1__\n",
        "\n",
        "Given the piecewise function\n",
        "\n",
        "$$\n",
        "q(b)=\n",
        "\\begin{cases}\n",
        "    b^2+1, b<0\\\\\n",
        "    2- b^2,b\\geq 0\n",
        "\\end{cases}   \n",
        "$$\n",
        "answer the following:\n",
        "\n",
        "\n",
        "1. Define a symbolic __b__ and use it with __sym.Piecewise()__ to define __q(b)__\n",
        "\n",
        " "
      ]
    },
    {
      "cell_type": "code",
      "execution_count": 34,
      "metadata": {
        "id": "wEqNWLx8_MO2"
      },
      "outputs": [],
      "source": []
    },
    {
      "cell_type": "markdown",
      "source": [
        "2. Use __sym.lambdify()__ to create __Q()__ the numpy compatible version of __q(b)__"
      ],
      "metadata": {
        "id": "wUt1J6cUpMgS"
      }
    },
    {
      "cell_type": "code",
      "execution_count": 34,
      "metadata": {
        "id": "y-liGPgV_MO2"
      },
      "outputs": [],
      "source": []
    },
    {
      "cell_type": "markdown",
      "source": [
        "3.  Use __np.linspace()__ to define the interval __B=[-2,2]__ with __1001__ points, and plot __Q()__ along this interval."
      ],
      "metadata": {
        "id": "b5vQsnvtplG4"
      }
    },
    {
      "cell_type": "code",
      "execution_count": 34,
      "metadata": {
        "id": "qaFuCllE_MO3"
      },
      "outputs": [],
      "source": []
    },
    {
      "cell_type": "code",
      "execution_count": 34,
      "metadata": {
        "id": "r95tzX62_MO3"
      },
      "outputs": [],
      "source": []
    },
    {
      "cell_type": "markdown",
      "source": [
        "4. Use __sym.diff()__ to find $\\frac{dq}{db}$ and create a __lambdified__ version called __DQ__"
      ],
      "metadata": {
        "id": "D61GQiE6prWR"
      }
    },
    {
      "cell_type": "code",
      "source": [],
      "metadata": {
        "id": "Fattj5oTp4F1"
      },
      "execution_count": 34,
      "outputs": []
    },
    {
      "cell_type": "code",
      "source": [],
      "metadata": {
        "id": "t1aD20G1p4Dh"
      },
      "execution_count": 34,
      "outputs": []
    },
    {
      "cell_type": "markdown",
      "source": [
        "5. Copy and paste the plot from __Part 3__ into to cell below and include the plot of $\\frac{dq}{db}$."
      ],
      "metadata": {
        "id": "tXIeDuyRp5-j"
      }
    },
    {
      "cell_type": "code",
      "source": [],
      "metadata": {
        "id": "mqeR86j5qDUj"
      },
      "execution_count": 34,
      "outputs": []
    },
    {
      "cell_type": "code",
      "source": [],
      "metadata": {
        "id": "EmyQV8PQqDRq"
      },
      "execution_count": 34,
      "outputs": []
    },
    {
      "cell_type": "markdown",
      "metadata": {
        "id": "OFMMxzlB_MO3"
      },
      "source": [
        "---\n",
        "---\n",
        "# __Section 3__ Testing for continuty and smoothness\n",
        "\n",
        "* Now that we know how to define a piecewise function and calculate its derivative symbolically, we can use __sym.lambdify()__ to calculate these functions along sequences like in __Section 1__\n",
        "\n",
        "\n",
        "* We can use these sequcences to test if a function is __Continuous & Smooth__\n"
      ]
    },
    {
      "cell_type": "markdown",
      "metadata": {
        "id": "tLz-aZ-B_MO4"
      },
      "source": [
        "### __Definition 1__ Continuous Functions\n",
        "\n",
        "* A function $f(x)$ is continuous at $x=a$ if the following conditions are true\n",
        "  1. $\\displaystyle \\lim_{x\\to a^{-}}f(x) = \\lim_{x\\to a^{+}} f(x)$, in other words $\\displaystyle \\lim_{x\\to a}f(x)$ exists.\n",
        "\n",
        "  2. $\\displaystyle \\lim_{x\\to a}f(x) = f(a)$, this means the limit at $x=a$ and the actual function value at $x=a$ are the same number.\n",
        "\n",
        "* When both of these conditions are true, then there will be no sudden jump in the value of $f$ at $x=a$, and the __graph__ will appear as one __continuous line__ "
      ]
    },
    {
      "cell_type": "markdown",
      "metadata": {
        "id": "LjpZ7TpTsb7L"
      },
      "source": [
        "### __Definition 2__ Smooth Functions\n",
        "\n",
        "* A function $f(x)$ is smooth at $x=a$ if $f(x)$ is __continuous__ at $x=a$ __AND__  the following conditions are true\n",
        "  1. $\\displaystyle \\lim_{x\\to a^{-}}\\frac{df}{dx} = \\lim_{x\\to a^{+}} \\frac{df}{dx}$, in other words $\\displaystyle \\lim_{x\\to a}\\frac{df}{dx}$ exists.\n",
        "\n",
        "  2. $\\displaystyle \\lim_{x\\to a}\\frac{df}{dx} = \\frac{df}{dx}(a)$, this means the limit at $x=a$ and the actual function value at $x=a$ are the same number.\n",
        "\n",
        "* This means the __derivative__ $\\displaystyle \\frac{df}{dx}$ is __continuos__, and the __graph__  $\\displaystyle \\frac{df}{dx}$ of will appear as one __continuous line__ at $x=a$.\n",
        "\n",
        "* It also means the graph of $f(x)$ will not appear to increase or decrease more rapidly at $x=a$."
      ]
    },
    {
      "cell_type": "markdown",
      "source": [
        "---\n",
        "\n",
        "## __Example 3.1__\n",
        "\n",
        "* We already ploted the graph of \n",
        "$$\n",
        "p(t)=\n",
        "   \\begin{cases}\n",
        "    6t-5,\\quad\\text{if }t<3 \\\\\n",
        "    t^2+3, \\quad\\text{if }t\\geq 3\n",
        "  \\end{cases}\n",
        "$$\n",
        "in __Exercise 2.1__\n",
        "\n",
        "\n",
        "* The graph is shown below again:"
      ],
      "metadata": {
        "id": "ksKtLYB1tdUT"
      }
    },
    {
      "cell_type": "code",
      "source": [
        "plt.figure(figsize=(16,8))\n",
        "\n",
        "plt.plot(T[T<3],P(T[T<3]),label='$p(t)$',c='k')\n",
        "plt.plot(T[T>=3],P(T[T>=3]),c='k')\n",
        "\n",
        "\n",
        "plt.plot(T[T<3],DP(T[T<3]),label='$\\\\frac{dp}{dt}$',c='r')\n",
        "plt.plot(T[T>=3],DP(T[T>=3]),c='r')\n",
        "\n",
        "plt.axvline(x=0,lw=0.75)\n",
        "plt.axhline(y=0,lw=0.75)\n",
        "\n",
        "plt.xlabel('$t$')\n",
        "plt.ylabel('$y$')\n",
        "\n",
        "plt.legend(loc='upper left',fontsize=14)"
      ],
      "metadata": {
        "colab": {
          "base_uri": "https://localhost:8080/",
          "height": 516
        },
        "id": "SMAqfYYgt80_",
        "outputId": "227d6e00-3008-4e91-ea4c-da39abf9baf0"
      },
      "execution_count": 35,
      "outputs": [
        {
          "output_type": "execute_result",
          "data": {
            "text/plain": [
              "<matplotlib.legend.Legend at 0x7f3e15b6c610>"
            ]
          },
          "metadata": {},
          "execution_count": 35
        },
        {
          "output_type": "display_data",
          "data": {
            "text/plain": [
              "<Figure size 1152x576 with 1 Axes>"
            ],
            "image/png": "[encoded data removed]"
          },
          "metadata": {}
        }
      ]
    },
    {
      "cell_type": "markdown",
      "source": [
        "* From this graph we see the following:\n",
        "  1. $p(t)$ is not continus at $t=3$\n",
        "\n",
        "  2. $\\frac{dp}{dt}$ is continuous at $t=3$ and so $p(t)$"
      ],
      "metadata": {
        "id": "OqMprcAOuJE7"
      }
    },
    {
      "cell_type": "markdown",
      "source": [
        "1. Use the __lambdified__ version of $p(t)$  to show $p(t)$ is not continuous at $t=3$"
      ],
      "metadata": {
        "id": "xSFvXUtIuamG"
      }
    },
    {
      "cell_type": "markdown",
      "source": [
        "* First we create a left and right sequence about $t=3$ to estimate the left and right hand limits  $\\displaystyle \\lim_{t\\to3^{-}}p(t)$ and $\\displaystyle \\lim_{t\\to3^{+}}p(t)$"
      ],
      "metadata": {
        "id": "01wSSAGHu3aj"
      }
    },
    {
      "cell_type": "code",
      "source": [
        "L3=3-S(8)\n",
        "R3=3+S(8)"
      ],
      "metadata": {
        "id": "mCsOtTSguG8E"
      },
      "execution_count": 36,
      "outputs": []
    },
    {
      "cell_type": "code",
      "source": [
        "L3"
      ],
      "metadata": {
        "colab": {
          "base_uri": "https://localhost:8080/"
        },
        "id": "S7KDa13VvT3E",
        "outputId": "f3e8aaa3-dd98-4e31-b33f-dd07ba06ea2a"
      },
      "execution_count": 37,
      "outputs": [
        {
          "output_type": "execute_result",
          "data": {
            "text/plain": [
              "array([2.        , 2.9       , 2.99      , 2.999     , 2.9999    ,\n",
              "       2.99999   , 2.999999  , 2.9999999 , 2.99999999])"
            ]
          },
          "metadata": {},
          "execution_count": 37
        }
      ]
    },
    {
      "cell_type": "code",
      "source": [
        "R3"
      ],
      "metadata": {
        "colab": {
          "base_uri": "https://localhost:8080/"
        },
        "id": "NKCVkbFqvUpj",
        "outputId": "7c7d1854-ea0f-4822-aa4c-ce6660d55efc"
      },
      "execution_count": 38,
      "outputs": [
        {
          "output_type": "execute_result",
          "data": {
            "text/plain": [
              "array([4.        , 3.1       , 3.01      , 3.001     , 3.0001    ,\n",
              "       3.00001   , 3.000001  , 3.0000001 , 3.00000001])"
            ]
          },
          "metadata": {},
          "execution_count": 38
        }
      ]
    },
    {
      "cell_type": "markdown",
      "source": [
        "* Now we evaluate the __lambdified__ version of $p$ along these sequences:"
      ],
      "metadata": {
        "id": "hfWfpf7avYns"
      }
    },
    {
      "cell_type": "code",
      "source": [
        "P(L3)"
      ],
      "metadata": {
        "colab": {
          "base_uri": "https://localhost:8080/"
        },
        "id": "Yzs0iXo7vVm3",
        "outputId": "58d5c5b8-b095-4f47-fb9e-43eb59c2d797"
      },
      "execution_count": 39,
      "outputs": [
        {
          "output_type": "execute_result",
          "data": {
            "text/plain": [
              "array([ 7.        , 12.4       , 12.94      , 12.994     , 12.9994    ,\n",
              "       12.99994   , 12.999994  , 12.9999994 , 12.99999994])"
            ]
          },
          "metadata": {},
          "execution_count": 39
        }
      ]
    },
    {
      "cell_type": "code",
      "source": [
        "P(R3)"
      ],
      "metadata": {
        "colab": {
          "base_uri": "https://localhost:8080/"
        },
        "id": "0n4L69dNvlvS",
        "outputId": "9b2c91c3-4512-4e3b-b586-0492e923c84b"
      },
      "execution_count": 40,
      "outputs": [
        {
          "output_type": "execute_result",
          "data": {
            "text/plain": [
              "array([18.        , 11.61      , 11.0601    , 11.006001  , 11.00060001,\n",
              "       11.00006   , 11.000006  , 11.0000006 , 11.00000006])"
            ]
          },
          "metadata": {},
          "execution_count": 40
        }
      ]
    },
    {
      "cell_type": "markdown",
      "source": [
        "* From these sequences we estimate:\n",
        "$$\n",
        "\\lim_{t\\to3^{-}}p(t) = 13\n",
        "$$\n",
        "and \n",
        "$$\n",
        "\\lim_{t\\to3^{+}}p(t) = 11\n",
        "$$\n",
        "so we see \n",
        "$$\n",
        "\\lim_{t\\to3^{-}}p(t) \\neq \\lim_{t\\to3^{+}}p(t).\n",
        "$$\n",
        "\n",
        "\n",
        "* Now we already know the function is not continuous at $t=3$, since $\\displaystyle\\lim_{t\\to 3}p(t)$ does not exist.\n",
        "\n",
        "\n",
        "* Just for the sake of it, we will also calucalute $p(3)$, which is simply \n"
      ],
      "metadata": {
        "id": "PF_ILbrnvov4"
      }
    },
    {
      "cell_type": "code",
      "source": [
        "P(3)"
      ],
      "metadata": {
        "colab": {
          "base_uri": "https://localhost:8080/"
        },
        "id": "Hy1RRKMWvntz",
        "outputId": "2b99b2d2-fb22-481f-c4e4-e70bf6a676ea"
      },
      "execution_count": 41,
      "outputs": [
        {
          "output_type": "execute_result",
          "data": {
            "text/plain": [
              "array(11.)"
            ]
          },
          "metadata": {},
          "execution_count": 41
        }
      ]
    },
    {
      "cell_type": "markdown",
      "source": [
        "* So __p(t)__ is not continuous at $t=3$."
      ],
      "metadata": {
        "id": "DqIJxCZ4wgsn"
      }
    },
    {
      "cell_type": "markdown",
      "source": [
        "2. Use the __lambdified__ version of $\\frac{dp}{dt}$ to show the derivaive is continuous at $t=3$"
      ],
      "metadata": {
        "id": "sFWQAVLrwnxM"
      }
    },
    {
      "cell_type": "code",
      "source": [
        "DP(L3)"
      ],
      "metadata": {
        "colab": {
          "base_uri": "https://localhost:8080/"
        },
        "id": "6T-PNiSZwl3d",
        "outputId": "9c46e59c-0d66-4a70-854c-347351ce85d4"
      },
      "execution_count": 42,
      "outputs": [
        {
          "output_type": "execute_result",
          "data": {
            "text/plain": [
              "array([6., 6., 6., 6., 6., 6., 6., 6., 6.])"
            ]
          },
          "metadata": {},
          "execution_count": 42
        }
      ]
    },
    {
      "cell_type": "code",
      "source": [
        "DP(R3)"
      ],
      "metadata": {
        "colab": {
          "base_uri": "https://localhost:8080/"
        },
        "id": "v8xc-XSsxII8",
        "outputId": "0cc88e47-e162-4db3-a1aa-e398b45a27de"
      },
      "execution_count": 43,
      "outputs": [
        {
          "output_type": "execute_result",
          "data": {
            "text/plain": [
              "array([8.        , 6.2       , 6.02      , 6.002     , 6.0002    ,\n",
              "       6.00002   , 6.000002  , 6.0000002 , 6.00000002])"
            ]
          },
          "metadata": {},
          "execution_count": 43
        }
      ]
    },
    {
      "cell_type": "markdown",
      "source": [
        "* From these sequnces we see that \n",
        "$$\n",
        "\\lim_{t\\to3^{-}}\\frac{dp}{dt} = \\lim_{t\\to3^{+}}\\frac{dp}{dt} = 6\n",
        "$$"
      ],
      "metadata": {
        "id": "zuL7a7H0xLGX"
      }
    },
    {
      "cell_type": "markdown",
      "source": [
        "* We also have "
      ],
      "metadata": {
        "id": "Xea1uWPFxVbH"
      }
    },
    {
      "cell_type": "code",
      "source": [
        "DP(3)"
      ],
      "metadata": {
        "colab": {
          "base_uri": "https://localhost:8080/"
        },
        "id": "a0mYdLGJxJxU",
        "outputId": "ba53e400-9b10-49a2-b101-2c32edd38402"
      },
      "execution_count": 44,
      "outputs": [
        {
          "output_type": "execute_result",
          "data": {
            "text/plain": [
              "array(6.)"
            ]
          },
          "metadata": {},
          "execution_count": 44
        }
      ]
    },
    {
      "cell_type": "markdown",
      "source": [
        "* This means $\\frac{dp}{dt}$ is continous at $t=3$, as you can see from the red line in the graph aboe. \n",
        "\n",
        "\n",
        "* However, this is not enough to make $f(t)$ smooth, since this function is not continuous at $t=3$, and so not all conditions are met for smoothness. "
      ],
      "metadata": {
        "id": "BjDqlgK9xa85"
      }
    },
    {
      "cell_type": "code",
      "source": [],
      "metadata": {
        "id": "lzg1NyRuxYtL"
      },
      "execution_count": 44,
      "outputs": []
    },
    {
      "cell_type": "markdown",
      "source": [
        "## __Exercise 3.1__\n",
        "\n",
        "1. Carry out the steps in __Example 3.1__ to show that the function\n",
        "$$\n",
        "w(z)=\n",
        "  \\begin{cases}\n",
        "    z^2 - 5z +1, \\quad \\text{if } z<2 \\\\\n",
        "    2z^2 - 9z + 5, \\quad \\text{if } z\\geq 2 \\\\\n",
        "  \\end{cases}\n",
        "$$\n",
        "is continuus and smooth at $z=2$\n",
        "\n",
        "\n"
      ],
      "metadata": {
        "id": "I-9_LEOIxwZd"
      }
    },
    {
      "cell_type": "code",
      "source": [],
      "metadata": {
        "id": "REPgfdLpym1T"
      },
      "execution_count": 44,
      "outputs": []
    },
    {
      "cell_type": "code",
      "source": [],
      "metadata": {
        "id": "2GYs1_wYyodT"
      },
      "execution_count": 44,
      "outputs": []
    },
    {
      "cell_type": "code",
      "source": [],
      "metadata": {
        "id": "Xm3s8Qk9yoFD"
      },
      "execution_count": 44,
      "outputs": []
    },
    {
      "cell_type": "code",
      "source": [],
      "metadata": {
        "id": "Fe9bAqHnyn7z"
      },
      "execution_count": 44,
      "outputs": []
    },
    {
      "cell_type": "markdown",
      "source": [
        "2. Plot the functions  $w(z)$ and $\\frac{dw}{dz}$ along the interval __Z=[0,4]__ with __1001__ points."
      ],
      "metadata": {
        "id": "FgXJi95xznlV"
      }
    },
    {
      "cell_type": "code",
      "source": [],
      "metadata": {
        "id": "rjGlfdXZzoST"
      },
      "execution_count": 44,
      "outputs": []
    },
    {
      "cell_type": "code",
      "source": [],
      "metadata": {
        "id": "Yshpak9fzqHP"
      },
      "execution_count": 44,
      "outputs": []
    },
    {
      "cell_type": "code",
      "source": [],
      "metadata": {
        "id": "DhhZkcrazqCQ"
      },
      "execution_count": 44,
      "outputs": []
    }
  ],
  "metadata": {
    "anaconda-cloud": {},
    "colab": {
      "provenance": [],
      "include_colab_link": true
    },
    "kernelspec": {
      "display_name": "Python 3 (ipykernel)",
      "language": "python",
      "name": "python3"
    },
    "language_info": {
      "codemirror_mode": {
        "name": "ipython",
        "version": 3
      },
      "file_extension": ".py",
      "mimetype": "text/x-python",
      "name": "python",
      "nbconvert_exporter": "python",
      "pygments_lexer": "ipython3",
      "version": "3.9.12"
    }
  },
  "nbformat": 4,
  "nbformat_minor": 0
}