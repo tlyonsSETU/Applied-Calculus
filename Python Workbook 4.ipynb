{
  "cells": [
    {
      "cell_type": "markdown",
      "metadata": {
        "id": "view-in-github",
        "colab_type": "text"
      },
      "source": [
        "<a href=\"https://colab.research.google.com/github/tlyonsSETU/Applied-Calculus/blob/main/Python%20Workbook%204.ipynb\" target=\"_parent\"><img src=\"https://colab.research.google.com/assets/colab-badge.svg\" alt=\"Open In Colab\"/></a>"
      ]
    },
    {
      "cell_type": "markdown",
      "metadata": {
        "id": "1MqhxbkTzU_w"
      },
      "source": [
        "### Name:\n",
        "### Student Number:"
      ]
    },
    {
      "cell_type": "code",
      "execution_count": null,
      "metadata": {
        "id": "siqLu3TdzU_z"
      },
      "outputs": [],
      "source": [
        "import matplotlib.pyplot as plt\n",
        "import numpy as np "
      ]
    },
    {
      "cell_type": "code",
      "source": [
        "import matplotlib.style as style # Change the plot style used for graphs\n",
        "style.use('seaborn')"
      ],
      "metadata": {
        "id": "jKZkQTHep0pz"
      },
      "execution_count": null,
      "outputs": []
    },
    {
      "cell_type": "code",
      "source": [
        "# The following libraries are for creating interactive plots\n",
        "from ipywidgets import interact, interactive, fixed, interact_manual\n",
        "import ipywidgets as widgets"
      ],
      "metadata": {
        "id": "-RavQYML3X6j"
      },
      "execution_count": null,
      "outputs": []
    },
    {
      "cell_type": "markdown",
      "source": [
        "# Python Workbook 4 - Symbolic Differentiation\n",
        "\n",
        "* In this workbook we will cover the following topics:\n",
        "\n",
        "  1. The meaning of the derivative.\n",
        "  2. Symbolic functions and their plots.\n",
        "  3. Derivatives of symbolic functions and their plots.\n",
        "  4. Rules of derivatives cecked with sybolic differentiation.\n",
        "\n",
        "\n",
        "---\n",
        "---"
      ],
      "metadata": {
        "id": "cQXWGueRPVAH"
      }
    },
    {
      "cell_type": "markdown",
      "source": [
        "# Section 1 - What is a derivative?\n",
        "\n",
        "* The derivative of a function $f(x)$ tells us how quickly that function changes as we move away from some value of $x$.\n",
        "\n",
        "\n",
        "* If we draw a graph of $f(x)$ it tells us how quiuckly the $y$-coordinate of $f(x)$ changes compared to the corresponding change in the $x$-coordinate.\n",
        "\n",
        "\n",
        "* The derivative of $f(x)$ is __defined__ as:\n",
        "$$\n",
        "\\frac{df}{dx} = \\lim_{h \\to 0}\\frac{f(x+h) - f(x)}{h}.\n",
        "$$\n",
        "\n",
        "* The __numerator__ of this expression is\n",
        "$$\n",
        "f(x+h) - f(x)\n",
        "$$\n",
        "and it tells us the change in the $y$-coordinate of the graph between $x$ and $x+h$.\n",
        "\n",
        "* The difference of these two $x$-coordinates (inputs) is\n",
        "$$\n",
        "(x+h) - x = h, \n",
        "$$\n",
        "which is the __denominator__ of the expression.\n",
        "\n",
        "\n",
        "* Now letting $\\lim_{h\\to 0 }$ just means letting the inputs $x+h$ get closer and closer to the starting input $x$. "
      ],
      "metadata": {
        "id": "GvCOIpvVq589"
      }
    },
    {
      "cell_type": "markdown",
      "source": [
        "## Example 1\n",
        "\n",
        "* The graph of the function\n",
        "$$\n",
        "f(x) = x^3\n",
        "$$\n",
        "is shown in the interactive plot below.\n",
        "\n",
        "\n",
        "* We know from our tables that this function should have derivative\n",
        "$$\n",
        "\\frac{df}{dx} = 3x^2,\n",
        "$$\n",
        "and so the derivative of $f$ at the point $x=1$ is\n",
        "$$\n",
        "\\frac{df}{dx}(1) = 3(1)^2 = 3.\n",
        "$$\n",
        "\n",
        "\n",
        "* The graph shows the line connecting the points\n",
        "$$\n",
        "(x,f(x)),\\quad (x+h,f(x+h))\n",
        "$$\n",
        "on the graph of this function. \n",
        "\n",
        "\n",
        "* The point where the derivative is calculated is the input $x$.\n",
        "\n",
        "* The coordinate difference is $h$.\n",
        "\n",
        "__First:__ The function $f(x)$ is __def__ined in the cell below: "
      ],
      "metadata": {
        "id": "0cLGONaPsUn-"
      }
    },
    {
      "cell_type": "code",
      "source": [
        "def f(x):\n",
        "  return x**3"
      ],
      "metadata": {
        "id": "NbHaEes-jgmI"
      },
      "execution_count": null,
      "outputs": []
    },
    {
      "cell_type": "markdown",
      "source": [
        "* Now we create an interactive plot with __2 sliders__, one for $x$ and one for $h$."
      ],
      "metadata": {
        "id": "D1GOWb3quQbv"
      }
    },
    {
      "cell_type": "code",
      "execution_count": null,
      "metadata": {
        "id": "lGhHkwwgzU_4",
        "colab": {
          "base_uri": "https://localhost:8080/",
          "height": 686,
          "referenced_widgets": [
            "7d14428356754ebab0c9f843c6d22c57",
            "5753c56575d34580b3ad4b1756709990",
            "cce84019988c4baa932ea40b1901eba7",
            "5d79be21916e441d91d83ddf1d2780d1",
            "a96f4710696d40bcbe409705c3ff5bdc",
            "c5fcbb3cc671410ab368207cfc714446",
            "1e03fb00b7aa47b0ae19dca6d6ed31c8",
            "a257dc3e4488496db765577853529179",
            "dba443f15a8f46038a35591a085adc25",
            "db3394dd3d7349a397fdf043165db5d2"
          ]
        },
        "outputId": "b511d517-c59a-4fd4-9ca9-77a7ba71ba14",
        "cellView": "form"
      },
      "outputs": [
        {
          "output_type": "display_data",
          "data": {
            "text/plain": [
              "interactive(children=(FloatSlider(value=1.0, description='h', max=1.0, min=1e-10, step=0.001), FloatSlider(val…"
            ],
            "application/vnd.jupyter.widget-view+json": {
              "version_major": 2,
              "version_minor": 0,
              "model_id": "7d14428356754ebab0c9f843c6d22c57"
            }
          },
          "metadata": {}
        }
      ],
      "source": [
        "#@title What is a Deriviative \n",
        "def IP1(h=1,x=1):\n",
        "    plt.figure(figsize=(12,9))\n",
        "    \n",
        "    plt.axvline(color='k',lw=0.75) # Plot the y-axis\n",
        "    plt.axhline(color='k',lw=0.5) # Plot the x-axis\n",
        "\n",
        "    t=np.linspace(-1,2,201) # An iterval used to plot the graph of f(x)\n",
        "    plt.plot(t, f(t),color='darkslategray') # The graph of f(t) for -1<t<2\n",
        "\n",
        "    plt.plot([x,x+h],[f(x),f(x+h)],'or') # Plot red dots at the x-coordinates [x,x+h] and y-coordinates [f(x), f(x+h)] \n",
        "    plt.plot([x,x+h],[f(x),f(x+h)],ls='--') # Plot the line between the x-coordinates [x,x+h] and y-coordinates [f(x), f(x+h)]\n",
        "    plt.plot([x+h,x+h],[f(x),f(x+h)],ls='--',label='$f(x+h)-f(x)$',color='green') # Plot a vertical line to show the y-change f(x+h)-f(x)\n",
        "    plt.plot([x,x+h],[f(x),f(x)],ls='--',label='$h$',color='orange') # Plot a horizontal line to show the horizontal change h\n",
        "\n",
        "    dx=h\n",
        "    dy=f(x+h)-f(x)\n",
        "\n",
        "    plt.text(-1,7,'$\\\\frac{f(x+h)-f(x)}{h} \\\\approx % s$' % (dy/dx),size=14 ) # Show the value of the ratio [f(f+h)-f(x)]/h\n",
        "    plt.legend(loc='lower right',fontsize=14) # Plot the legend to show what each line represents\n",
        "\n",
        "    plt.show() # Show the plot\n",
        "\n",
        "Plot = interactive(IP1, h=(1E-10,1,0.001),x=(-0.5,1.5)) # Create an interactive plot environment with sliders for h and x\n",
        "output = Plot.children[-1] \n",
        "output.layout.height = '6.3in'\n",
        "Plot"
      ]
    },
    {
      "cell_type": "markdown",
      "source": [
        "* If you adjust the __h__ slider down towards zero, then you can see that the ratio\n",
        "$$\n",
        "\\frac{f(1+h)-f(1)}{h}\n",
        "$$\n",
        "approaches the value $3$, as we expect from our __Table of Derivatives__\n",
        "\n",
        "\n",
        "* You can also adjust the __a__ slider to calcuate the derivative $\\frac{df}{dx}=3x^2$ at various inputs for $x$.\n",
        "\n",
        "\n",
        "* For example, if we adjust the __x__-slider to $x=0.5$, we see that the derivative $\\frac{df}{dx}=3x^2$ approaches the value __0.75__  \n",
        "\n",
        "---"
      ],
      "metadata": {
        "id": "vsTeBLw9vRH3"
      }
    },
    {
      "cell_type": "markdown",
      "source": [
        "## __Exercise 1__\n",
        "\n",
        "(a) Define a new Python function to represent\n",
        "$$\n",
        "g(x) = x^2-x.\n",
        "$$"
      ],
      "metadata": {
        "id": "6dGTs_tCyvAM"
      }
    },
    {
      "cell_type": "code",
      "source": [
        "def g(x):\n",
        "  return x**2-x"
      ],
      "metadata": {
        "id": "4PyxufPVDiAB"
      },
      "execution_count": null,
      "outputs": []
    },
    {
      "cell_type": "markdown",
      "source": [
        "(b) __Copy & Paste__ the code from the interavitve plot above into the code cell below.\n",
        "\n",
        "\n",
        "(c) Adjust this code to plot the graph of __g(x)__ on the interval __t__ $\\in[-1,3].$ \n",
        "\n",
        "\n",
        "(d) __Adjust__ the sliders __h__ and __x__ to estimate the derivative of $\\frac{dg}{dx}$ at $x=0.2$ and $x=1.25$. "
      ],
      "metadata": {
        "id": "IaubHBabz0wz"
      }
    },
    {
      "cell_type": "code",
      "source": [],
      "metadata": {
        "id": "JwpZYkKuz8xL"
      },
      "execution_count": null,
      "outputs": []
    },
    {
      "cell_type": "markdown",
      "source": [
        "(c) What is the value of $\\frac{dg}{dx}$ at $x=1.2$ and $x=2.25$."
      ],
      "metadata": {
        "id": "R2q_lrjPz9ly"
      }
    },
    {
      "cell_type": "code",
      "source": [],
      "metadata": {
        "id": "3tpzulxT0eNk"
      },
      "execution_count": null,
      "outputs": []
    },
    {
      "cell_type": "code",
      "source": [],
      "metadata": {
        "id": "qaM1tiB70eIr"
      },
      "execution_count": null,
      "outputs": []
    },
    {
      "cell_type": "markdown",
      "source": [
        "---\n",
        "---"
      ],
      "metadata": {
        "id": "kT6Z0QG7QyPj"
      }
    },
    {
      "cell_type": "markdown",
      "source": [
        "# Section 2 - Symbolic Functions & Plots\n",
        "\n",
        "* While the definition of the derivative above is a useful way to see what the derivative is, it is not very convenitent when you want to carry our calculations.\n",
        "\n",
        "* For this purpose we use __tables of derivative__ to calculate derivatives by had.\n",
        "\n",
        "* In python there is a similar procedure we can use to calculate derivatives, using the __SymPy__ library, which stands for __Sym__bolic __Py__thon.\n",
        "\n",
        "* This library is imported below as __sym:__"
      ],
      "metadata": {
        "id": "4R2AJV343OM7"
      }
    },
    {
      "cell_type": "code",
      "source": [
        "import sympy as sym"
      ],
      "metadata": {
        "id": "MP0BmHnK4FWQ"
      },
      "execution_count": null,
      "outputs": []
    },
    {
      "cell_type": "code",
      "source": [],
      "metadata": {
        "id": "jqGRcBMJ4HYB"
      },
      "execution_count": null,
      "outputs": []
    },
    {
      "cell_type": "markdown",
      "source": [
        "## Example 2.1 - Symbolic Variables & Functions\n",
        "\n",
        "* To define functions like $f(x)=x^3$ we first need to define a __symbolic variable__ to represent $x$ as follows: "
      ],
      "metadata": {
        "id": "lubzCdhc4TYU"
      }
    },
    {
      "cell_type": "code",
      "source": [
        "x = sym.symbols('x', real = True)\n",
        "x"
      ],
      "metadata": {
        "colab": {
          "base_uri": "https://localhost:8080/",
          "height": 38
        },
        "id": "salfkhhm4kfI",
        "outputId": "bece4d6b-e3f3-4f09-dcb4-22ce3d6c7a1d"
      },
      "execution_count": null,
      "outputs": [
        {
          "output_type": "execute_result",
          "data": {
            "text/plain": [
              "x"
            ],
            "text/latex": "$\\displaystyle x$"
          },
          "metadata": {},
          "execution_count": 8
        }
      ]
    },
    {
      "cell_type": "markdown",
      "source": [
        "* This arguments of __sym.symbols()__ mean the following\n",
        "  * __real=True__ - This means __x__ should be interpreted as a real valued input i.e. not complex\n",
        "  * 'x' - Print x when __x__ is called in a code cell\n",
        "\n",
        "* The string 'x' can be changed to any text you wish, for example the python variable __Q__ below will print the string 'a-string' when called"
      ],
      "metadata": {
        "id": "Doy3sl7i4smQ"
      }
    },
    {
      "cell_type": "code",
      "source": [
        "Q=sym.symbols('a-string')\n",
        "Q"
      ],
      "metadata": {
        "colab": {
          "base_uri": "https://localhost:8080/",
          "height": 38
        },
        "id": "h_ZrVYLR4qkn",
        "outputId": "8817c387-6419-4659-ff18-ab6d48803239"
      },
      "execution_count": null,
      "outputs": [
        {
          "output_type": "execute_result",
          "data": {
            "text/plain": [
              "a-string"
            ],
            "text/latex": "$\\displaystyle a-string$"
          },
          "metadata": {},
          "execution_count": 9
        }
      ]
    },
    {
      "cell_type": "code",
      "source": [],
      "metadata": {
        "id": "R8825-sO5n74"
      },
      "execution_count": null,
      "outputs": []
    },
    {
      "cell_type": "markdown",
      "source": [
        "### Defining a symbolic function\n",
        "\n",
        "* To define the symbolic function $f(x)=x^3$ we can now just set: "
      ],
      "metadata": {
        "id": "Vvy4jCMp81ut"
      }
    },
    {
      "cell_type": "code",
      "source": [
        "f=x**3\n",
        "f"
      ],
      "metadata": {
        "colab": {
          "base_uri": "https://localhost:8080/",
          "height": 38
        },
        "id": "rQJSSG0i9ENR",
        "outputId": "fb6e63f7-3a02-45eb-e3b9-1d8d7082ff65"
      },
      "execution_count": null,
      "outputs": [
        {
          "output_type": "execute_result",
          "data": {
            "text/plain": [
              "x**3"
            ],
            "text/latex": "$\\displaystyle x^{3}$"
          },
          "metadata": {},
          "execution_count": 10
        }
      ]
    },
    {
      "cell_type": "markdown",
      "source": [
        "* As you can see, it is very straight forward as there is no need to use __def()__, although you still can if you wish!"
      ],
      "metadata": {
        "id": "a1_UqWJ-9Gyl"
      }
    },
    {
      "cell_type": "code",
      "source": [],
      "metadata": {
        "id": "87NjseJY9Fap"
      },
      "execution_count": null,
      "outputs": []
    },
    {
      "cell_type": "markdown",
      "source": [
        "## __Exercise 2.1__ \n",
        "\n",
        "* Use __sym.sympy()__ to define a python variable __t__ which will display the string $t$"
      ],
      "metadata": {
        "id": "-OjaKSp69bAq"
      }
    },
    {
      "cell_type": "code",
      "source": [],
      "metadata": {
        "id": "Naiajfy79rNa"
      },
      "execution_count": null,
      "outputs": []
    },
    {
      "cell_type": "markdown",
      "source": [
        "* Now define the symbolic function $r = t^2-4t +1$"
      ],
      "metadata": {
        "id": "1kojWpmv9sGy"
      }
    },
    {
      "cell_type": "code",
      "source": [],
      "metadata": {
        "id": "aILYasA891Sh"
      },
      "execution_count": null,
      "outputs": []
    },
    {
      "cell_type": "code",
      "source": [],
      "metadata": {
        "id": "I50ITTEk-Byi"
      },
      "execution_count": null,
      "outputs": []
    },
    {
      "cell_type": "markdown",
      "source": [
        "---"
      ],
      "metadata": {
        "id": "KAMjehjxQ3wG"
      }
    },
    {
      "cell_type": "markdown",
      "source": [
        "## Example 2.2 - Lambdify funcitons and plotting\n",
        "\n",
        "* The symbolic library does not work very well with the numpy library, since they are desigened to do two very different types of calculation.\n",
        "\n",
        "\n",
        "* However, we can always use the function __sym.lamdify()__ to convert a sympy function to a numpy function, which works very well with matplotlib for plotting.\n",
        "\n",
        "\n",
        "* In the cell below we define the sympy function\n",
        "$$\n",
        "p(x) = \\frac{e^x}{1+x^2}\\sin(2x)\n",
        "$$"
      ],
      "metadata": {
        "id": "84xbQOB2BXha"
      }
    },
    {
      "cell_type": "code",
      "source": [
        "p =sym.exp(x)/(1+x**2)*sym.sin(2*x)\n",
        "p"
      ],
      "metadata": {
        "colab": {
          "base_uri": "https://localhost:8080/",
          "height": 54
        },
        "id": "tsQ4O_NWCKoi",
        "outputId": "2668051c-9e4e-47ba-bee8-f94caf9d12b0"
      },
      "execution_count": null,
      "outputs": [
        {
          "output_type": "execute_result",
          "data": {
            "text/plain": [
              "exp(x)*sin(2*x)/(x**2 + 1)"
            ],
            "text/latex": "$\\displaystyle \\frac{e^{x} \\sin{\\left(2 x \\right)}}{x^{2} + 1}$"
          },
          "metadata": {},
          "execution_count": 12
        }
      ]
    },
    {
      "cell_type": "markdown",
      "source": [
        "### __Important:__ \n",
        "\n",
        "* The symolic functions $\\sin()$, $\\cos()$ and $\\tan()$ are called from the sympy library by placing __sym.__ befor the corresponding function name, similar to the numpy versions of these functions\n",
        "\n",
        "* Similary, the functions $\\sqrt{( )}$, $e^{( )}$ and $\\ln( )$ are called using __sym.sqrt()__, __sym.exp()__, __sym.log()__"
      ],
      "metadata": {
        "id": "DRb0gYiZCW0-"
      }
    },
    {
      "cell_type": "markdown",
      "source": [
        "### Lambdify the function\n",
        "\n",
        "* The next cell __lambdifies__ this function, so that it becomes compatible with the numpy and matplotlib libraries.\n",
        "\n",
        "* From now on we will use __lower case letters__ for __symbolic functions__ and __varibales__\n",
        "\n",
        "* We will use __upper case letters__ for __numerical functions__ and variables, just so things are easier to follow in the code!!"
      ],
      "metadata": {
        "id": "r3PhlylbDok7"
      }
    },
    {
      "cell_type": "code",
      "source": [
        "P = sym.lambdify(x, p, 'numpy')"
      ],
      "metadata": {
        "id": "2CZzcrMwCS0b"
      },
      "execution_count": null,
      "outputs": []
    },
    {
      "cell_type": "markdown",
      "source": [
        "#### SYNTAX of lambdify\n",
        "\n",
        "* The argument __x__ is used since $x$ was the symbolic variable used to define the symbolic __p__.\n",
        "\n",
        "* __p__ is the symbolic function we want to lambdify\n",
        "\n",
        "* 'numpy' is the type of function we want to lambdify to.\n",
        "\n",
        "* __P__ is the name we have chosen to give to the numpy version of __p__"
      ],
      "metadata": {
        "id": "uuklzpuMEhvl"
      }
    },
    {
      "cell_type": "markdown",
      "source": [
        "### Plotting the lamdified function\n",
        "\n",
        "* We can now plot the numpy function __P__ using the usual matplotlib function.\n",
        "\n",
        "* We will plot the function over the interval __X__$\\in[-2,2]$\n",
        "\n",
        "* Again, we will use capital letters for numpy intervals like __X__"
      ],
      "metadata": {
        "id": "IyVBoSHXFo-r"
      }
    },
    {
      "cell_type": "code",
      "source": [
        "X=np.linspace(-2,2,501)\n",
        "\n",
        "plt.plot(X,P(X),lw=2,c='cornflowerblue',label='p(x)')\n",
        "\n",
        "plt.axhline(y=0,lw=0.75)\n",
        "plt.axvline(x=0,lw=0.75)\n",
        "\n",
        "plt.xlabel('x')\n",
        "plt.ylabel('y')\n",
        "\n",
        "plt.legend()\n",
        "\n",
        "plt.show()"
      ],
      "metadata": {
        "colab": {
          "base_uri": "https://localhost:8080/",
          "height": 361
        },
        "id": "EH6j3ppXE7Gk",
        "outputId": "1d66fb15-f0a2-4e5c-8da2-056844e587b2"
      },
      "execution_count": null,
      "outputs": [
        {
          "output_type": "display_data",
          "data": {
            "text/plain": [
              "<Figure size 576x396 with 1 Axes>"
            ],
            "image/png": "[encoded data removed]"
          },
          "metadata": {}
        }
      ]
    },
    {
      "cell_type": "markdown",
      "source": [
        "---\n",
        "## __Exercise 2.2__\n",
        "\n",
        "(a) Define the symbolic function \n",
        "$$\n",
        "q = \\frac{\\cos(t)}{1+e^{t}}.\n",
        "$$\n",
        "__NOTE:__ The symbolic variable $t$ should be already defined from __Exercise 2.1__\n"
      ],
      "metadata": {
        "id": "tDfehYx_HbFZ"
      }
    },
    {
      "cell_type": "code",
      "source": [],
      "metadata": {
        "id": "M1RYg5B0GG50"
      },
      "execution_count": null,
      "outputs": []
    },
    {
      "cell_type": "markdown",
      "source": [
        "(b) Use __sym.lambdify()__ to define __Q__ the numpy version of __q__ "
      ],
      "metadata": {
        "id": "mdK81jggIXg0"
      }
    },
    {
      "cell_type": "code",
      "source": [],
      "metadata": {
        "id": "6RmR4DFyIPfF"
      },
      "execution_count": null,
      "outputs": []
    },
    {
      "cell_type": "markdown",
      "source": [
        "(c) Use __np.linpsace()__ to define the interval __T = [-5,5]__ with __501__ points, and plot __Q__ along this interval."
      ],
      "metadata": {
        "id": "bkNkEyYlIpr8"
      }
    },
    {
      "cell_type": "code",
      "source": [],
      "metadata": {
        "id": "lCZMf0GKIm4d"
      },
      "execution_count": null,
      "outputs": []
    },
    {
      "cell_type": "code",
      "source": [],
      "metadata": {
        "id": "PTqzi-uSJC7E"
      },
      "execution_count": null,
      "outputs": []
    },
    {
      "cell_type": "markdown",
      "source": [
        "---\n",
        "---"
      ],
      "metadata": {
        "id": "PmTqNy48QtTX"
      }
    },
    {
      "cell_type": "markdown",
      "source": [
        "# Section 3 - Symbolic Derivatives & Plots\n",
        "\n",
        "\n",
        "* Now that we know how to define and plot symbolic functions, we can use the __sym.diff()__ function to calcualte the __Derivatives__ of symbolic functions.\n",
        "\n",
        "\n",
        "* We can then use the techniques of Section 2 to plot these functions and their derivatives also."
      ],
      "metadata": {
        "id": "uzFfqrEWJ6Ql"
      }
    },
    {
      "cell_type": "markdown",
      "source": [
        "## Example 3\n",
        "\n",
        "* Use the __sym.diff()__ function to calculate the __first__ and __second__ derivatives of the function __p__ defined in __Example 2.2.__\n",
        "\n",
        "\n",
        "* First, to remind ourselves we call the symbolic function __p__ again in the cell below."
      ],
      "metadata": {
        "id": "RRxIKp5BKasB"
      }
    },
    {
      "cell_type": "code",
      "source": [
        "p"
      ],
      "metadata": {
        "colab": {
          "base_uri": "https://localhost:8080/",
          "height": 54
        },
        "id": "dz8PB4cJKXcl",
        "outputId": "02358142-e9a0-432f-87f1-7e931c2ae12d"
      },
      "execution_count": null,
      "outputs": [
        {
          "output_type": "execute_result",
          "data": {
            "text/plain": [
              "exp(x)*sin(2*x)/(x**2 + 1)"
            ],
            "text/latex": "$\\displaystyle \\frac{e^{x} \\sin{\\left(2 x \\right)}}{x^{2} + 1}$"
          },
          "metadata": {},
          "execution_count": 15
        }
      ]
    },
    {
      "cell_type": "markdown",
      "source": [
        "* The __first derivative__ is found using:"
      ],
      "metadata": {
        "id": "8SS7BotXK6rC"
      }
    },
    {
      "cell_type": "code",
      "source": [
        "dp = sym.diff(p, (x,1))\n",
        "dp"
      ],
      "metadata": {
        "colab": {
          "base_uri": "https://localhost:8080/",
          "height": 60
        },
        "id": "hQmi6EgvK5GN",
        "outputId": "d3f237cd-20f8-4930-b5c2-c67e8103fa5a"
      },
      "execution_count": null,
      "outputs": [
        {
          "output_type": "execute_result",
          "data": {
            "text/plain": [
              "-2*x*exp(x)*sin(2*x)/(x**2 + 1)**2 + exp(x)*sin(2*x)/(x**2 + 1) + 2*exp(x)*cos(2*x)/(x**2 + 1)"
            ],
            "text/latex": "$\\displaystyle - \\frac{2 x e^{x} \\sin{\\left(2 x \\right)}}{\\left(x^{2} + 1\\right)^{2}} + \\frac{e^{x} \\sin{\\left(2 x \\right)}}{x^{2} + 1} + \\frac{2 e^{x} \\cos{\\left(2 x \\right)}}{x^{2} + 1}$"
          },
          "metadata": {},
          "execution_count": 16
        }
      ]
    },
    {
      "cell_type": "markdown",
      "source": [
        "__SYNTAX of sym.diff()__\n",
        "\n",
        "* The function __sym.diff()__ takes the input __p__ to indicate the function we want to differentiate.\n",
        "\n",
        "* The second argument is __(x,1):__ This indicates we want to differentiate with respect to the variable __x__ since __p__ was originally defined in terms of __x__, while __1__ indicates we want the __first derivative__"
      ],
      "metadata": {
        "id": "DcPy00JpLLqt"
      }
    },
    {
      "cell_type": "markdown",
      "source": [
        "* The __second derivative__ is similarly given by"
      ],
      "metadata": {
        "id": "mBu8NfFwLq1V"
      }
    },
    {
      "cell_type": "code",
      "source": [
        "d2p = sym.diff(p,(x,2))\n",
        "d2p"
      ],
      "metadata": {
        "colab": {
          "base_uri": "https://localhost:8080/",
          "height": 78
        },
        "id": "HxI8osJnLIAl",
        "outputId": "6d3d246f-eb98-436a-c297-db05b6a0b43a"
      },
      "execution_count": null,
      "outputs": [
        {
          "output_type": "execute_result",
          "data": {
            "text/plain": [
              "(-4*x*sin(2*x)/(x**2 + 1) - 8*x*cos(2*x)/(x**2 + 1) - 3*sin(2*x) + 4*cos(2*x) + 2*(4*x**2/(x**2 + 1) - 1)*sin(2*x)/(x**2 + 1))*exp(x)/(x**2 + 1)"
            ],
            "text/latex": "$\\displaystyle \\frac{\\left(- \\frac{4 x \\sin{\\left(2 x \\right)}}{x^{2} + 1} - \\frac{8 x \\cos{\\left(2 x \\right)}}{x^{2} + 1} - 3 \\sin{\\left(2 x \\right)} + 4 \\cos{\\left(2 x \\right)} + \\frac{2 \\left(\\frac{4 x^{2}}{x^{2} + 1} - 1\\right) \\sin{\\left(2 x \\right)}}{x^{2} + 1}\\right) e^{x}}{x^{2} + 1}$"
          },
          "metadata": {},
          "execution_count": 17
        }
      ]
    },
    {
      "cell_type": "markdown",
      "source": [
        "## Lambidfication\n",
        "\n",
        "* Use __sym.lambdify()__ to lambdify the first and second derivatives of __p__, we will call these lambdifed versions __DP__ and __D2P__."
      ],
      "metadata": {
        "id": "b2b7tEEfN_Qo"
      }
    },
    {
      "cell_type": "code",
      "source": [
        "DP=sym.lambdify(x,dp,'numpy')\n",
        "D2P=sym.lambdify(x,d2p,'numpy')"
      ],
      "metadata": {
        "id": "oGdin8bAMHRl"
      },
      "execution_count": null,
      "outputs": []
    },
    {
      "cell_type": "markdown",
      "source": [
        "* Now plot the numpy functions __P__, __DP__ and __D2P__ along the interval __X=[-2,2]__ defined earlier."
      ],
      "metadata": {
        "id": "Lc2bbwCXOPFS"
      }
    },
    {
      "cell_type": "code",
      "source": [
        "plt.figure(figsize=(15,10))\n",
        "\n",
        "plt.plot(X,P(X),label='$p(x)$')\n",
        "plt.plot(X,DP(X),label='$\\\\frac{dp}{dx}$')\n",
        "plt.plot(X,D2P(X),label='$\\\\frac{d^2p}{dx^2}$')\n",
        "\n",
        "plt.axhline(y=0,lw=0.75)\n",
        "plt.axvline(x=0,lw=0.75)\n",
        "\n",
        "plt.legend(fontsize=12)\n",
        "\n",
        "plt.xlabel('x')\n",
        "plt.ylabel('y')\n",
        "\n",
        "plt.show()"
      ],
      "metadata": {
        "colab": {
          "base_uri": "https://localhost:8080/",
          "height": 606
        },
        "id": "sGBmFbJBMsuu",
        "outputId": "73900ac8-2aaf-4550-8f09-5672dc076a11"
      },
      "execution_count": null,
      "outputs": [
        {
          "output_type": "display_data",
          "data": {
            "text/plain": [
              "<Figure size 1080x720 with 1 Axes>"
            ],
            "image/png": "[encoded data removed]"
          },
          "metadata": {}
        }
      ]
    },
    {
      "cell_type": "markdown",
      "source": [
        "---"
      ],
      "metadata": {
        "id": "JzuROtvpQ96O"
      }
    },
    {
      "cell_type": "code",
      "source": [],
      "metadata": {
        "id": "cKqty3nzM_jO"
      },
      "execution_count": null,
      "outputs": []
    },
    {
      "cell_type": "markdown",
      "source": [
        "## __Exercie 3__\n",
        "\n",
        "(a) Use __sym.diff()__ to find the __first__ and __third__ derivatives of the function __q__ with respect to $t$, which were defined in __Exercise 2.2__"
      ],
      "metadata": {
        "id": "47vZ2u3RP3Wu"
      }
    },
    {
      "cell_type": "code",
      "source": [],
      "metadata": {
        "id": "zTfGVgUUQMo2"
      },
      "execution_count": null,
      "outputs": []
    },
    {
      "cell_type": "code",
      "source": [],
      "metadata": {
        "id": "6cDFkFThQNx7"
      },
      "execution_count": null,
      "outputs": []
    },
    {
      "cell_type": "code",
      "source": [],
      "metadata": {
        "id": "ZVZWz8bXQNuK"
      },
      "execution_count": null,
      "outputs": []
    },
    {
      "cell_type": "code",
      "source": [],
      "metadata": {
        "id": "S7m946oZQNpj"
      },
      "execution_count": null,
      "outputs": []
    },
    {
      "cell_type": "markdown",
      "source": [
        "(b) Use __sym.lambdify()__ create numpy versions of these derivatives called __DQ__ and __D3Q__"
      ],
      "metadata": {
        "id": "9w_Xb8QvQONi"
      }
    },
    {
      "cell_type": "code",
      "source": [],
      "metadata": {
        "id": "zEY9j_fCQb8G"
      },
      "execution_count": null,
      "outputs": []
    },
    {
      "cell_type": "code",
      "source": [],
      "metadata": {
        "id": "7Q87DOHgQclN"
      },
      "execution_count": null,
      "outputs": []
    },
    {
      "cell_type": "code",
      "source": [],
      "metadata": {
        "id": "douLKgiiQdcb"
      },
      "execution_count": null,
      "outputs": []
    },
    {
      "cell_type": "markdown",
      "source": [
        "(c) Plot the functions __Q__, __DQ__ and __D3Q__ over the interval __T=[-5,5]__ already defined in __Exercise 2.2__"
      ],
      "metadata": {
        "id": "1VtZH7CpQe68"
      }
    },
    {
      "cell_type": "code",
      "source": [],
      "metadata": {
        "id": "3NzF6ypFRJCm"
      },
      "execution_count": null,
      "outputs": []
    },
    {
      "cell_type": "code",
      "source": [],
      "metadata": {
        "id": "GQRPI1h1RXnc"
      },
      "execution_count": null,
      "outputs": []
    },
    {
      "cell_type": "code",
      "source": [],
      "metadata": {
        "id": "zRD0n5QaRXdM"
      },
      "execution_count": null,
      "outputs": []
    },
    {
      "cell_type": "markdown",
      "source": [
        "---\n",
        "---"
      ],
      "metadata": {
        "id": "Dk3gH_2OVp0A"
      }
    },
    {
      "cell_type": "markdown",
      "source": [
        "# Section 4 - Rules of Differentation\n",
        "\n",
        "* We already have tables of derivatives to calcualte derivatives symbolically.\n",
        "\n",
        "* We would like to confirm some of these rules using __sym.diff()__ for a number of differenti functions."
      ],
      "metadata": {
        "id": "az7lTbgSRYKO"
      }
    },
    {
      "cell_type": "markdown",
      "source": [
        "## Example 4\n",
        "\n",
        "* Use the function __sym.diff()__ to find the $1^{\\rm st}$, $2^{\\rm nd}$ amd $3^{\\rm rd}$ deerivatives of the following functions:"
      ],
      "metadata": {
        "id": "BDKcoowxR3_a"
      }
    },
    {
      "cell_type": "markdown",
      "source": [
        "(a) $f_{1} = x^4 +x^{-\\frac{3}{2}}$"
      ],
      "metadata": {
        "id": "ubekTIgzTKcL"
      }
    },
    {
      "cell_type": "code",
      "source": [
        "f1 = x**4 +x**(-3/2)\n",
        "df1 = sym.diff(f1,(x,1))\n",
        "d2f1 = sym.diff(f1,(x,2))\n",
        "d3f1 = sym.diff(f1,(x,3))"
      ],
      "metadata": {
        "id": "mAor4M5yR2oP"
      },
      "execution_count": null,
      "outputs": []
    },
    {
      "cell_type": "code",
      "source": [
        "f1"
      ],
      "metadata": {
        "colab": {
          "base_uri": "https://localhost:8080/",
          "height": 38
        },
        "id": "qhpDh6jdS9an",
        "outputId": "e86ad3b4-15bc-4b6c-8a25-cfd5f3fcd77f"
      },
      "execution_count": null,
      "outputs": [
        {
          "output_type": "execute_result",
          "data": {
            "text/plain": [
              "x**(-1.5) + x**4"
            ],
            "text/latex": "$\\displaystyle x^{-1.5} + x^{4}$"
          },
          "metadata": {},
          "execution_count": 22
        }
      ]
    },
    {
      "cell_type": "code",
      "source": [
        "df1"
      ],
      "metadata": {
        "colab": {
          "base_uri": "https://localhost:8080/",
          "height": 51
        },
        "id": "YljUgn5PS__g",
        "outputId": "c843cb31-d5ae-4886-b25e-056f94bc4a1c"
      },
      "execution_count": null,
      "outputs": [
        {
          "output_type": "execute_result",
          "data": {
            "text/plain": [
              "-1.5*x**(-2.5) + 4*x**3"
            ],
            "text/latex": "$\\displaystyle - \\frac{1.5}{x^{2.5}} + 4 x^{3}$"
          },
          "metadata": {},
          "execution_count": 23
        }
      ]
    },
    {
      "cell_type": "code",
      "source": [
        "d2f1"
      ],
      "metadata": {
        "colab": {
          "base_uri": "https://localhost:8080/",
          "height": 51
        },
        "id": "5KFWGrrYTBAw",
        "outputId": "a70ec23f-8102-4061-b825-2ca130ca03ce"
      },
      "execution_count": null,
      "outputs": [
        {
          "output_type": "execute_result",
          "data": {
            "text/plain": [
              "3.75*x**(-3.5) + 12*x**2"
            ],
            "text/latex": "$\\displaystyle \\frac{3.75}{x^{3.5}} + 12 x^{2}$"
          },
          "metadata": {},
          "execution_count": 24
        }
      ]
    },
    {
      "cell_type": "code",
      "source": [
        "d3f1"
      ],
      "metadata": {
        "colab": {
          "base_uri": "https://localhost:8080/",
          "height": 51
        },
        "id": "ZbC4aEIxTCcA",
        "outputId": "6d422788-9419-427a-99d6-30b201c0c066"
      },
      "execution_count": null,
      "outputs": [
        {
          "output_type": "execute_result",
          "data": {
            "text/plain": [
              "-13.125*x**(-4.5) + 24*x"
            ],
            "text/latex": "$\\displaystyle - \\frac{13.125}{x^{4.5}} + 24 x$"
          },
          "metadata": {},
          "execution_count": 25
        }
      ]
    },
    {
      "cell_type": "code",
      "source": [],
      "metadata": {
        "id": "QpNIVLgOTEAn"
      },
      "execution_count": null,
      "outputs": []
    },
    {
      "cell_type": "markdown",
      "source": [
        "(b) $f_{2} = e^{-3x} + \\sin(2x)$"
      ],
      "metadata": {
        "id": "yBkWeUTxTNu8"
      }
    },
    {
      "cell_type": "code",
      "source": [
        "f2=sym.exp(-3*x)+sym.sin(2*x)\n",
        "df2 = sym.diff(f2,(x,1))\n",
        "d2f2 = sym.diff(f2,(x,2))\n",
        "d3f2 = sym.diff(f2,(x,3))"
      ],
      "metadata": {
        "id": "UhTm0TkmTQde"
      },
      "execution_count": null,
      "outputs": []
    },
    {
      "cell_type": "code",
      "source": [
        "f2"
      ],
      "metadata": {
        "colab": {
          "base_uri": "https://localhost:8080/",
          "height": 38
        },
        "id": "4HbkQBsTTW04",
        "outputId": "3ae85a97-2d9a-405f-ca73-a5607a8ff804"
      },
      "execution_count": null,
      "outputs": [
        {
          "output_type": "execute_result",
          "data": {
            "text/plain": [
              "sin(2*x) + exp(-3*x)"
            ],
            "text/latex": "$\\displaystyle \\sin{\\left(2 x \\right)} + e^{- 3 x}$"
          },
          "metadata": {},
          "execution_count": 27
        }
      ]
    },
    {
      "cell_type": "code",
      "source": [
        "df2"
      ],
      "metadata": {
        "colab": {
          "base_uri": "https://localhost:8080/",
          "height": 38
        },
        "id": "05z2rsCiTbS3",
        "outputId": "c0e15e09-38e4-4e00-c1c1-aa247c6022c4"
      },
      "execution_count": null,
      "outputs": [
        {
          "output_type": "execute_result",
          "data": {
            "text/plain": [
              "2*cos(2*x) - 3*exp(-3*x)"
            ],
            "text/latex": "$\\displaystyle 2 \\cos{\\left(2 x \\right)} - 3 e^{- 3 x}$"
          },
          "metadata": {},
          "execution_count": 28
        }
      ]
    },
    {
      "cell_type": "code",
      "source": [
        "d2f2"
      ],
      "metadata": {
        "colab": {
          "base_uri": "https://localhost:8080/",
          "height": 38
        },
        "id": "Ofb9opl7Tdzn",
        "outputId": "72b06305-78c0-444c-c39b-a3d421b2d315"
      },
      "execution_count": null,
      "outputs": [
        {
          "output_type": "execute_result",
          "data": {
            "text/plain": [
              "-4*sin(2*x) + 9*exp(-3*x)"
            ],
            "text/latex": "$\\displaystyle - 4 \\sin{\\left(2 x \\right)} + 9 e^{- 3 x}$"
          },
          "metadata": {},
          "execution_count": 29
        }
      ]
    },
    {
      "cell_type": "code",
      "source": [
        "d3f2"
      ],
      "metadata": {
        "colab": {
          "base_uri": "https://localhost:8080/",
          "height": 38
        },
        "id": "KcIzd-82TfOf",
        "outputId": "ae058ff4-7254-4c70-98b2-79ee1dd47554"
      },
      "execution_count": null,
      "outputs": [
        {
          "output_type": "execute_result",
          "data": {
            "text/plain": [
              "-(8*cos(2*x) + 27*exp(-3*x))"
            ],
            "text/latex": "$\\displaystyle - (8 \\cos{\\left(2 x \\right)} + 27 e^{- 3 x})$"
          },
          "metadata": {},
          "execution_count": 30
        }
      ]
    },
    {
      "cell_type": "code",
      "source": [],
      "metadata": {
        "id": "doVAXWQLTlu3"
      },
      "execution_count": null,
      "outputs": []
    },
    {
      "cell_type": "markdown",
      "source": [
        "(c) $f_{3} = \\tan(4x) + \\tan^{-1}\\left(\\frac{x}{3}\\right)$"
      ],
      "metadata": {
        "id": "NMADX6_TTvoP"
      }
    },
    {
      "cell_type": "code",
      "source": [
        "f3=sym.tan(4*x)+sym.atan(x/3)\n",
        "df3 = sym.diff(f3,(x,1))\n",
        "d2f3 = sym.diff(f3,(x,2))\n",
        "d3f3 = sym.diff(f3,(x,3))"
      ],
      "metadata": {
        "id": "TgiMbIokTwhn"
      },
      "execution_count": null,
      "outputs": []
    },
    {
      "cell_type": "code",
      "source": [
        "f3"
      ],
      "metadata": {
        "colab": {
          "base_uri": "https://localhost:8080/",
          "height": 48
        },
        "id": "epu5cColT7EY",
        "outputId": "9bfa4763-6de7-411a-fa2d-bddfe0f7e69e"
      },
      "execution_count": null,
      "outputs": [
        {
          "output_type": "execute_result",
          "data": {
            "text/plain": [
              "tan(4*x) + atan(x/3)"
            ],
            "text/latex": "$\\displaystyle \\tan{\\left(4 x \\right)} + \\operatorname{atan}{\\left(\\frac{x}{3} \\right)}$"
          },
          "metadata": {},
          "execution_count": 32
        }
      ]
    },
    {
      "cell_type": "code",
      "source": [
        "df3"
      ],
      "metadata": {
        "colab": {
          "base_uri": "https://localhost:8080/",
          "height": 68
        },
        "id": "6c7nqlugT8TP",
        "outputId": "a68433b4-2158-4750-9ab0-7e4aa5d3f51f"
      },
      "execution_count": null,
      "outputs": [
        {
          "output_type": "execute_result",
          "data": {
            "text/plain": [
              "4*tan(4*x)**2 + 4 + 1/(3*(x**2/9 + 1))"
            ],
            "text/latex": "$\\displaystyle 4 \\tan^{2}{\\left(4 x \\right)} + 4 + \\frac{1}{3 \\left(\\frac{x^{2}}{9} + 1\\right)}$"
          },
          "metadata": {},
          "execution_count": 33
        }
      ]
    },
    {
      "cell_type": "code",
      "source": [
        "d2f3"
      ],
      "metadata": {
        "colab": {
          "base_uri": "https://localhost:8080/",
          "height": 68
        },
        "id": "o0NzHsKMT9gv",
        "outputId": "f52fb8ef-dd80-49bd-e5b2-f2ed87ccff66"
      },
      "execution_count": null,
      "outputs": [
        {
          "output_type": "execute_result",
          "data": {
            "text/plain": [
              "2*(-3*x/(x**2 + 9)**2 + 16*(tan(4*x)**2 + 1)*tan(4*x))"
            ],
            "text/latex": "$\\displaystyle 2 \\left(- \\frac{3 x}{\\left(x^{2} + 9\\right)^{2}} + 16 \\left(\\tan^{2}{\\left(4 x \\right)} + 1\\right) \\tan{\\left(4 x \\right)}\\right)$"
          },
          "metadata": {},
          "execution_count": 34
        }
      ]
    },
    {
      "cell_type": "code",
      "source": [
        "d3f3"
      ],
      "metadata": {
        "colab": {
          "base_uri": "https://localhost:8080/",
          "height": 68
        },
        "id": "Fy6wozK1T-XP",
        "outputId": "c4c8932b-87eb-4116-fdb0-22c5c1e990a6"
      },
      "execution_count": null,
      "outputs": [
        {
          "output_type": "execute_result",
          "data": {
            "text/plain": [
              "2*(12*x**2/(x**2 + 9)**3 + 64*(tan(4*x)**2 + 1)**2 + 128*(tan(4*x)**2 + 1)*tan(4*x)**2 - 3/(x**2 + 9)**2)"
            ],
            "text/latex": "$\\displaystyle 2 \\left(\\frac{12 x^{2}}{\\left(x^{2} + 9\\right)^{3}} + 64 \\left(\\tan^{2}{\\left(4 x \\right)} + 1\\right)^{2} + 128 \\left(\\tan^{2}{\\left(4 x \\right)} + 1\\right) \\tan^{2}{\\left(4 x \\right)} - \\frac{3}{\\left(x^{2} + 9\\right)^{2}}\\right)$"
          },
          "metadata": {},
          "execution_count": 35
        }
      ]
    },
    {
      "cell_type": "markdown",
      "source": [
        "__NOTE:__ Another name for the $\\tan^{-1}()$ function is $\\arctan()$. This is called from the sympy library as __sym.atan()__, the prefix __a__ is used to indicate __arc__"
      ],
      "metadata": {
        "id": "FFXVOKzxUAlw"
      }
    },
    {
      "cell_type": "code",
      "source": [],
      "metadata": {
        "id": "Y_3hDVWzT_pP"
      },
      "execution_count": null,
      "outputs": []
    },
    {
      "cell_type": "markdown",
      "source": [
        "---"
      ],
      "metadata": {
        "id": "SJzco85fVsQV"
      }
    },
    {
      "cell_type": "markdown",
      "source": [
        "## __Exercie 4__\n",
        "\n",
        "* Use the __sym.diff()__ function the find the $1^{\\rm st}$, $3^{\\rm rd}$ and $5^{\\rm th}$ derivatives of the following functions:"
      ],
      "metadata": {
        "id": "LqDKTg2vUe9Q"
      }
    },
    {
      "cell_type": "markdown",
      "source": [
        "(a) $g_1 = \\sin^{-1}\\left(\\frac{t}{2}\\right) + \\ln(3t)$"
      ],
      "metadata": {
        "id": "IhFxSC-MUu3n"
      }
    },
    {
      "cell_type": "code",
      "source": [],
      "metadata": {
        "id": "UgQHGeA7UtCH"
      },
      "execution_count": null,
      "outputs": []
    },
    {
      "cell_type": "code",
      "source": [],
      "metadata": {
        "id": "Hv1BeF1pU5tr"
      },
      "execution_count": null,
      "outputs": []
    },
    {
      "cell_type": "code",
      "source": [],
      "metadata": {
        "id": "lu8K0P7AU5lQ"
      },
      "execution_count": null,
      "outputs": []
    },
    {
      "cell_type": "code",
      "source": [],
      "metadata": {
        "id": "DvH_-kJuU5WM"
      },
      "execution_count": null,
      "outputs": []
    },
    {
      "cell_type": "markdown",
      "source": [
        "(b) $g_{2} = \\frac{1}{t^4} - t^{\\frac{5}{4}}$"
      ],
      "metadata": {
        "id": "ZmNnPX64U6K8"
      }
    },
    {
      "cell_type": "code",
      "source": [],
      "metadata": {
        "id": "hSDytWARVIKP"
      },
      "execution_count": null,
      "outputs": []
    },
    {
      "cell_type": "code",
      "source": [],
      "metadata": {
        "id": "lPzZtU4IVJ0t"
      },
      "execution_count": null,
      "outputs": []
    },
    {
      "cell_type": "code",
      "source": [],
      "metadata": {
        "id": "jMFS77FDVJke"
      },
      "execution_count": null,
      "outputs": []
    },
    {
      "cell_type": "code",
      "source": [],
      "metadata": {
        "id": "uD7kt48-VJWE"
      },
      "execution_count": null,
      "outputs": []
    },
    {
      "cell_type": "markdown",
      "source": [
        "(c) $g_{3} = e^{t} + \\tan(2t) + \\cos(3t)$"
      ],
      "metadata": {
        "id": "cfbGq3HYVKPz"
      }
    },
    {
      "cell_type": "code",
      "source": [],
      "metadata": {
        "id": "24yFrvUyVYow"
      },
      "execution_count": null,
      "outputs": []
    },
    {
      "cell_type": "code",
      "source": [],
      "metadata": {
        "id": "oztE2rdSVeSD"
      },
      "execution_count": null,
      "outputs": []
    },
    {
      "cell_type": "code",
      "source": [],
      "metadata": {
        "id": "oNZvCburVeJf"
      },
      "execution_count": null,
      "outputs": []
    },
    {
      "cell_type": "code",
      "source": [],
      "metadata": {
        "id": "f1bQC4mRVd_k"
      },
      "execution_count": null,
      "outputs": []
    }
  ],
  "metadata": {
    "colab": {
      "provenance": [],
      "include_colab_link": true
    },
    "kernelspec": {
      "display_name": "Python 3 (ipykernel)",
      "language": "python",
      "name": "python3"
    },
    "language_info": {
      "codemirror_mode": {
        "name": "ipython",
        "version": 3
      },
      "file_extension": ".py",
      "mimetype": "text/x-python",
      "name": "python",
      "nbconvert_exporter": "python",
      "pygments_lexer": "ipython3",
      "version": "3.9.12"
    },
    "widgets": {
      "application/vnd.jupyter.widget-state+json": {
        "7d14428356754ebab0c9f843c6d22c57": {
          "model_module": "@jupyter-widgets/controls",
          "model_name": "VBoxModel",
          "model_module_version": "1.5.0",
          "state": {
            "_dom_classes": [
              "widget-interact"
            ],
            "_model_module": "@jupyter-widgets/controls",
            "_model_module_version": "1.5.0",
            "_model_name": "VBoxModel",
            "_view_count": null,
            "_view_module": "@jupyter-widgets/controls",
            "_view_module_version": "1.5.0",
            "_view_name": "VBoxView",
            "box_style": "",
            "children": [
              "IPY_MODEL_5753c56575d34580b3ad4b1756709990",
              "IPY_MODEL_cce84019988c4baa932ea40b1901eba7",
              "IPY_MODEL_5d79be21916e441d91d83ddf1d2780d1"
            ],
            "layout": "IPY_MODEL_a96f4710696d40bcbe409705c3ff5bdc"
          }
        },
        "5753c56575d34580b3ad4b1756709990": {
          "model_module": "@jupyter-widgets/controls",
          "model_name": "FloatSliderModel",
          "model_module_version": "1.5.0",
          "state": {
            "_dom_classes": [],
            "_model_module": "@jupyter-widgets/controls",
            "_model_module_version": "1.5.0",
            "_model_name": "FloatSliderModel",
            "_view_count": null,
            "_view_module": "@jupyter-widgets/controls",
            "_view_module_version": "1.5.0",
            "_view_name": "FloatSliderView",
            "continuous_update": true,
            "description": "h",
            "description_tooltip": null,
            "disabled": false,
            "layout": "IPY_MODEL_c5fcbb3cc671410ab368207cfc714446",
            "max": 1,
            "min": 1e-10,
            "orientation": "horizontal",
            "readout": true,
            "readout_format": ".2f",
            "step": 0.001,
            "style": "IPY_MODEL_1e03fb00b7aa47b0ae19dca6d6ed31c8",
            "value": 1
          }
        },
        "cce84019988c4baa932ea40b1901eba7": {
          "model_module": "@jupyter-widgets/controls",
          "model_name": "FloatSliderModel",
          "model_module_version": "1.5.0",
          "state": {
            "_dom_classes": [],
            "_model_module": "@jupyter-widgets/controls",
            "_model_module_version": "1.5.0",
            "_model_name": "FloatSliderModel",
            "_view_count": null,
            "_view_module": "@jupyter-widgets/controls",
            "_view_module_version": "1.5.0",
            "_view_name": "FloatSliderView",
            "continuous_update": true,
            "description": "x",
            "description_tooltip": null,
            "disabled": false,
            "layout": "IPY_MODEL_a257dc3e4488496db765577853529179",
            "max": 1.5,
            "min": -0.5,
            "orientation": "horizontal",
            "readout": true,
            "readout_format": ".2f",
            "step": 0.1,
            "style": "IPY_MODEL_dba443f15a8f46038a35591a085adc25",
            "value": 1
          }
        },
        "5d79be21916e441d91d83ddf1d2780d1": {
          "model_module": "@jupyter-widgets/output",
          "model_name": "OutputModel",
          "model_module_version": "1.0.0",
          "state": {
            "_dom_classes": [],
            "_model_module": "@jupyter-widgets/output",
            "_model_module_version": "1.0.0",
            "_model_name": "OutputModel",
            "_view_count": null,
            "_view_module": "@jupyter-widgets/output",
            "_view_module_version": "1.0.0",
            "_view_name": "OutputView",
            "layout": "IPY_MODEL_db3394dd3d7349a397fdf043165db5d2",
            "msg_id": "",
            "outputs": [
              {
                "output_type": "display_data",
                "data": {
                  "text/plain": "<Figure size 864x648 with 1 Axes>",
                  "image/png": "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\n"
                },
                "metadata": {}
              }
            ]
          }
        },
        "a96f4710696d40bcbe409705c3ff5bdc": {
          "model_module": "@jupyter-widgets/base",
          "model_name": "LayoutModel",
          "model_module_version": "1.2.0",
          "state": {
            "_model_module": "@jupyter-widgets/base",
            "_model_module_version": "1.2.0",
            "_model_name": "LayoutModel",
            "_view_count": null,
            "_view_module": "@jupyter-widgets/base",
            "_view_module_version": "1.2.0",
            "_view_name": "LayoutView",
            "align_content": null,
            "align_items": null,
            "align_self": null,
            "border": null,
            "bottom": null,
            "display": null,
            "flex": null,
            "flex_flow": null,
            "grid_area": null,
            "grid_auto_columns": null,
            "grid_auto_flow": null,
            "grid_auto_rows": null,
            "grid_column": null,
            "grid_gap": null,
            "grid_row": null,
            "grid_template_areas": null,
            "grid_template_columns": null,
            "grid_template_rows": null,
            "height": null,
            "justify_content": null,
            "justify_items": null,
            "left": null,
            "margin": null,
            "max_height": null,
            "max_width": null,
            "min_height": null,
            "min_width": null,
            "object_fit": null,
            "object_position": null,
            "order": null,
            "overflow": null,
            "overflow_x": null,
            "overflow_y": null,
            "padding": null,
            "right": null,
            "top": null,
            "visibility": null,
            "width": null
          }
        },
        "c5fcbb3cc671410ab368207cfc714446": {
          "model_module": "@jupyter-widgets/base",
          "model_name": "LayoutModel",
          "model_module_version": "1.2.0",
          "state": {
            "_model_module": "@jupyter-widgets/base",
            "_model_module_version": "1.2.0",
            "_model_name": "LayoutModel",
            "_view_count": null,
            "_view_module": "@jupyter-widgets/base",
            "_view_module_version": "1.2.0",
            "_view_name": "LayoutView",
            "align_content": null,
            "align_items": null,
            "align_self": null,
            "border": null,
            "bottom": null,
            "display": null,
            "flex": null,
            "flex_flow": null,
            "grid_area": null,
            "grid_auto_columns": null,
            "grid_auto_flow": null,
            "grid_auto_rows": null,
            "grid_column": null,
            "grid_gap": null,
            "grid_row": null,
            "grid_template_areas": null,
            "grid_template_columns": null,
            "grid_template_rows": null,
            "height": null,
            "justify_content": null,
            "justify_items": null,
            "left": null,
            "margin": null,
            "max_height": null,
            "max_width": null,
            "min_height": null,
            "min_width": null,
            "object_fit": null,
            "object_position": null,
            "order": null,
            "overflow": null,
            "overflow_x": null,
            "overflow_y": null,
            "padding": null,
            "right": null,
            "top": null,
            "visibility": null,
            "width": null
          }
        },
        "1e03fb00b7aa47b0ae19dca6d6ed31c8": {
          "model_module": "@jupyter-widgets/controls",
          "model_name": "SliderStyleModel",
          "model_module_version": "1.5.0",
          "state": {
            "_model_module": "@jupyter-widgets/controls",
            "_model_module_version": "1.5.0",
            "_model_name": "SliderStyleModel",
            "_view_count": null,
            "_view_module": "@jupyter-widgets/base",
            "_view_module_version": "1.2.0",
            "_view_name": "StyleView",
            "description_width": "",
            "handle_color": null
          }
        },
        "a257dc3e4488496db765577853529179": {
          "model_module": "@jupyter-widgets/base",
          "model_name": "LayoutModel",
          "model_module_version": "1.2.0",
          "state": {
            "_model_module": "@jupyter-widgets/base",
            "_model_module_version": "1.2.0",
            "_model_name": "LayoutModel",
            "_view_count": null,
            "_view_module": "@jupyter-widgets/base",
            "_view_module_version": "1.2.0",
            "_view_name": "LayoutView",
            "align_content": null,
            "align_items": null,
            "align_self": null,
            "border": null,
            "bottom": null,
            "display": null,
            "flex": null,
            "flex_flow": null,
            "grid_area": null,
            "grid_auto_columns": null,
            "grid_auto_flow": null,
            "grid_auto_rows": null,
            "grid_column": null,
            "grid_gap": null,
            "grid_row": null,
            "grid_template_areas": null,
            "grid_template_columns": null,
            "grid_template_rows": null,
            "height": null,
            "justify_content": null,
            "justify_items": null,
            "left": null,
            "margin": null,
            "max_height": null,
            "max_width": null,
            "min_height": null,
            "min_width": null,
            "object_fit": null,
            "object_position": null,
            "order": null,
            "overflow": null,
            "overflow_x": null,
            "overflow_y": null,
            "padding": null,
            "right": null,
            "top": null,
            "visibility": null,
            "width": null
          }
        },
        "dba443f15a8f46038a35591a085adc25": {
          "model_module": "@jupyter-widgets/controls",
          "model_name": "SliderStyleModel",
          "model_module_version": "1.5.0",
          "state": {
            "_model_module": "@jupyter-widgets/controls",
            "_model_module_version": "1.5.0",
            "_model_name": "SliderStyleModel",
            "_view_count": null,
            "_view_module": "@jupyter-widgets/base",
            "_view_module_version": "1.2.0",
            "_view_name": "StyleView",
            "description_width": "",
            "handle_color": null
          }
        },
        "db3394dd3d7349a397fdf043165db5d2": {
          "model_module": "@jupyter-widgets/base",
          "model_name": "LayoutModel",
          "model_module_version": "1.2.0",
          "state": {
            "_model_module": "@jupyter-widgets/base",
            "_model_module_version": "1.2.0",
            "_model_name": "LayoutModel",
            "_view_count": null,
            "_view_module": "@jupyter-widgets/base",
            "_view_module_version": "1.2.0",
            "_view_name": "LayoutView",
            "align_content": null,
            "align_items": null,
            "align_self": null,
            "border": null,
            "bottom": null,
            "display": null,
            "flex": null,
            "flex_flow": null,
            "grid_area": null,
            "grid_auto_columns": null,
            "grid_auto_flow": null,
            "grid_auto_rows": null,
            "grid_column": null,
            "grid_gap": null,
            "grid_row": null,
            "grid_template_areas": null,
            "grid_template_columns": null,
            "grid_template_rows": null,
            "height": "6.3in",
            "justify_content": null,
            "justify_items": null,
            "left": null,
            "margin": null,
            "max_height": null,
            "max_width": null,
            "min_height": null,
            "min_width": null,
            "object_fit": null,
            "object_position": null,
            "order": null,
            "overflow": null,
            "overflow_x": null,
            "overflow_y": null,
            "padding": null,
            "right": null,
            "top": null,
            "visibility": null,
            "width": null
          }
        }
      }
    }
  },
  "nbformat": 4,
  "nbformat_minor": 0
}