{
  "cells": [
    {
      "cell_type": "markdown",
      "metadata": {
        "id": "view-in-github",
        "colab_type": "text"
      },
      "source": [
        "<a href=\"https://colab.research.google.com/github/tlyonsSETU/Applied-Calculus/blob/main/Python%20Workbook%204.ipynb\" target=\"_parent\"><img src=\"https://colab.research.google.com/assets/colab-badge.svg\" alt=\"Open In Colab\"/></a>"
      ]
    },
    {
      "cell_type": "markdown",
      "metadata": {
        "id": "1MqhxbkTzU_w"
      },
      "source": [
        "### Name:\n",
        "### Student Number:"
      ]
    },
    {
      "cell_type": "code",
      "execution_count": 1,
      "metadata": {
        "id": "siqLu3TdzU_z"
      },
      "outputs": [],
      "source": [
        "import matplotlib.pyplot as plt\n",
        "import numpy as np "
      ]
    },
    {
      "cell_type": "code",
      "source": [
        "import matplotlib.style as style # Change the plot style used for graphs\n",
        "style.use('seaborn')"
      ],
      "metadata": {
        "id": "jKZkQTHep0pz"
      },
      "execution_count": 2,
      "outputs": []
    },
    {
      "cell_type": "code",
      "source": [
        "# The following libraries are for creating interactive plots\n",
        "from ipywidgets import interact, interactive, fixed, interact_manual\n",
        "import ipywidgets as widgets"
      ],
      "metadata": {
        "id": "-RavQYML3X6j"
      },
      "execution_count": 3,
      "outputs": []
    },
    {
      "cell_type": "markdown",
      "source": [
        "# Python Workbook 4 - Symbolic Differentiation\n",
        "\n",
        "* In this workbook we will cover the following topics:\n",
        "\n",
        "  1. The meaning of the derivative.\n",
        "  2. Symbolic functions and their plots.\n",
        "  3. Derivatives of symbolic functions and their plots.\n",
        "  4. Rules of derivatives cecked with sybolic differentiation.\n",
        "\n",
        "\n",
        "---\n",
        "---"
      ],
      "metadata": {
        "id": "cQXWGueRPVAH"
      }
    },
    {
      "cell_type": "markdown",
      "source": [
        "# Section 1 - What is a derivative?\n",
        "\n",
        "* The derivative of a function $f(x)$ tells us how quickly that function changes as we move away from some value of $x$.\n",
        "\n",
        "\n",
        "* If we draw a graph of $f(x)$ it tells us how quiuckly the $y$-coordinate of $f(x)$ changes compared to the corresponding change in the $x$-coordinate.\n",
        "\n",
        "\n",
        "* The derivative of $f(x)$ is __defined__ as:\n",
        "$$\n",
        "\\frac{df}{dx} = \\lim_{h \\to 0}\\frac{f(x+h) - f(x)}{h}.\n",
        "$$\n",
        "\n",
        "* The __numerator__ of this expression is\n",
        "$$\n",
        "f(x+h) - f(x)\n",
        "$$\n",
        "and it tells us the change in the $y$-coordinate of the graph between $x$ and $x+h$.\n",
        "\n",
        "* The difference of these two $x$-coordinates (inputs) is\n",
        "$$\n",
        "(x+h) - x = h, \n",
        "$$\n",
        "which is the __denominator__ of the expression.\n",
        "\n",
        "\n",
        "* Now letting $\\lim_{h\\to 0 }$ just means letting the inputs $x+h$ get closer and closer to the starting input $x$. "
      ],
      "metadata": {
        "id": "GvCOIpvVq589"
      }
    },
    {
      "cell_type": "markdown",
      "source": [
        "## Example 1\n",
        "\n",
        "* The graph of the function\n",
        "$$\n",
        "f(x) = x^3\n",
        "$$\n",
        "is shown in the interactive plot below.\n",
        "\n",
        "\n",
        "* We know from our tables that this function should have derivative\n",
        "$$\n",
        "\\frac{df}{dx} = 3x^2,\n",
        "$$\n",
        "and so the derivative of $f$ at the point $x=1$ is\n",
        "$$\n",
        "\\frac{df}{dx}(1) = 3(1)^2 = 3.\n",
        "$$\n",
        "\n",
        "\n",
        "* The graph shows the line connecting the points\n",
        "$$\n",
        "(x,f(x)),\\quad (x+h,f(x+h))\n",
        "$$\n",
        "on the graph of this function. \n",
        "\n",
        "\n",
        "* The point where the derivative is calculated is the input $x$.\n",
        "\n",
        "* The coordinate difference is $h$.\n",
        "\n",
        "__First:__ The function $f(x)$ is __def__ined in the cell below: "
      ],
      "metadata": {
        "id": "0cLGONaPsUn-"
      }
    },
    {
      "cell_type": "code",
      "source": [
        "def f(x):\n",
        "  return x**3"
      ],
      "metadata": {
        "id": "NbHaEes-jgmI"
      },
      "execution_count": 4,
      "outputs": []
    },
    {
      "cell_type": "markdown",
      "source": [
        "* Now we create an interactive plot with __2 sliders__, one for $x$ and one for $h$."
      ],
      "metadata": {
        "id": "D1GOWb3quQbv"
      }
    },
    {
      "cell_type": "code",
      "execution_count": 5,
      "metadata": {
        "id": "lGhHkwwgzU_4",
        "colab": {
          "base_uri": "https://localhost:8080/",
          "height": 686,
          "referenced_widgets": [
            "fd465ccb0a6b4ea1986b73a271722413",
            "8ea0d30b66f54697ae28a2fe9d350e1c",
            "32a0b2b0a96d465a825b3dbd2d2aba8d",
            "d4516d679a3c42f8a68a744dc961b787",
            "c6f74c7a978c4d14b83833b1b29eb6bd",
            "4c39f7fc794c497bb7c1811117ec4605",
            "48a094378b4a4224b83b58a6cc2a5326",
            "63abde80d41549a0af8da1288760815b",
            "8b37e522fb184fee8c82aeaf464a5077",
            "2ea2200482744b6a9f9b1ea33382291c"
          ]
        },
        "outputId": "14c91063-973b-45a1-9217-4ab24bb945b4",
        "cellView": "form"
      },
      "outputs": [
        {
          "output_type": "display_data",
          "data": {
            "text/plain": [
              "interactive(children=(FloatSlider(value=1.0, description='h', max=1.0, min=1e-10, step=0.001), FloatSlider(val…"
            ],
            "application/vnd.jupyter.widget-view+json": {
              "version_major": 2,
              "version_minor": 0,
              "model_id": "fd465ccb0a6b4ea1986b73a271722413"
            }
          },
          "metadata": {}
        }
      ],
      "source": [
        "#@title What is a Deriviative \n",
        "def IP1(h=1,x=1):\n",
        "    plt.figure(figsize=(12,9))\n",
        "    \n",
        "    plt.axvline(color='k',lw=0.75) # Plot the y-axis\n",
        "    plt.axhline(color='k',lw=0.5) # Plot the x-axis\n",
        "\n",
        "    t=np.linspace(-1,2,201) # An iterval used to plot the graph of f(x)\n",
        "    plt.plot(t, f(t),color='darkslategray') # The graph of f(t) for -1<t<2\n",
        "\n",
        "    plt.plot([x,x+h],[f(x),f(x+h)],'or') # Plot red dots at the x-coordinates [x,x+h] and y-coordinates [f(x), f(x+h)] \n",
        "    plt.plot([x,x+h],[f(x),f(x+h)],ls='--') # Plot the line between the x-coordinates [x,x+h] and y-coordinates [f(x), f(x+h)]\n",
        "    plt.plot([x+h,x+h],[f(x),f(x+h)],ls='--',label='$f(x+h)-f(x)$',color='green') # Plot a vertical line to show the y-change f(x+h)-f(x)\n",
        "    plt.plot([x,x+h],[f(x),f(x)],ls='--',label='$h$',color='orange') # Plot a horizontal line to show the horizontal change h\n",
        "\n",
        "    dx=h\n",
        "    dy=f(x+h)-f(x)\n",
        "\n",
        "    plt.text(-1,7,'$\\\\frac{f(x+h)-f(x)}{h} \\\\approx % s$' % (dy/dx),size=14 ) # Show the value of the ratio [f(f+h)-f(x)]/h\n",
        "    plt.legend(loc='lower right',fontsize=14) # Plot the legend to show what each line represents\n",
        "\n",
        "    plt.show() # Show the plot\n",
        "\n",
        "Plot = interactive(IP1, h=(1E-10,1,0.001),x=(-0.5,1.5)) # Create an interactive plot environment with sliders for h and x\n",
        "output = Plot.children[-1] \n",
        "output.layout.height = '6.3in'\n",
        "Plot"
      ]
    },
    {
      "cell_type": "markdown",
      "source": [
        "* If you adjust the __h__ slider down towards zero, then you can see that the ratio\n",
        "$$\n",
        "\\frac{f(1+h)-f(1)}{h}\n",
        "$$\n",
        "approaches the value $3$, as we expect from our __Table of Derivatives__\n",
        "\n",
        "\n",
        "* You can also adjust the __a__ slider to calcuate the derivative $\\frac{df}{dx}=3x^2$ at various inputs for $x$.\n",
        "\n",
        "\n",
        "* For example, if we adjust the __x__-slider to $x=0.5$, we see that the derivative $\\frac{df}{dx}=3x^2$ approaches the value __0.75__  \n",
        "\n",
        "---"
      ],
      "metadata": {
        "id": "vsTeBLw9vRH3"
      }
    },
    {
      "cell_type": "markdown",
      "source": [
        "## __Exercise 1__\n",
        "\n",
        "(a) Define a new Python function to represent\n",
        "$$\n",
        "g(x) = x^2-x.\n",
        "$$"
      ],
      "metadata": {
        "id": "6dGTs_tCyvAM"
      }
    },
    {
      "cell_type": "code",
      "source": [],
      "metadata": {
        "id": "4PyxufPVDiAB"
      },
      "execution_count": null,
      "outputs": []
    },
    {
      "cell_type": "markdown",
      "source": [
        "(b) __Copy & Paste__ the code from the interavitve plot above into the code cell below.\n",
        "\n",
        "\n",
        "(c) Adjust this code to plot the graph of __g(x)__ on the interval __t__ $\\in[-1,3].$ \n",
        "\n",
        "\n",
        "(d) __Adjust__ the sliders __h__ and __x__ to estimate the derivative of $\\frac{dg}{dx}$ at $x=0.2$ and $x=1.25$. "
      ],
      "metadata": {
        "id": "IaubHBabz0wz"
      }
    },
    {
      "cell_type": "code",
      "source": [],
      "metadata": {
        "id": "JwpZYkKuz8xL"
      },
      "execution_count": null,
      "outputs": []
    },
    {
      "cell_type": "markdown",
      "source": [
        "(c) What is the value of $\\frac{dg}{dx}$ at $x=1.2$ and $x=2.25$."
      ],
      "metadata": {
        "id": "R2q_lrjPz9ly"
      }
    },
    {
      "cell_type": "code",
      "source": [],
      "metadata": {
        "id": "3tpzulxT0eNk"
      },
      "execution_count": null,
      "outputs": []
    },
    {
      "cell_type": "code",
      "source": [],
      "metadata": {
        "id": "qaM1tiB70eIr"
      },
      "execution_count": null,
      "outputs": []
    },
    {
      "cell_type": "markdown",
      "source": [
        "---\n",
        "---"
      ],
      "metadata": {
        "id": "kT6Z0QG7QyPj"
      }
    },
    {
      "cell_type": "markdown",
      "source": [
        "# Section 2 - Symbolic Functions & Plots\n",
        "\n",
        "* While the definition of the derivative above is a useful way to see what the derivative is, it is not very convenitent when you want to carry our calculations.\n",
        "\n",
        "* For this purpose we use __tables of derivative__ to calculate derivatives by had.\n",
        "\n",
        "* In python there is a similar procedure we can use to calculate derivatives, using the __SymPy__ library, which stands for __Sym__bolic __Py__thon.\n",
        "\n",
        "* This library is imported below as __sym:__"
      ],
      "metadata": {
        "id": "4R2AJV343OM7"
      }
    },
    {
      "cell_type": "code",
      "source": [
        "import sympy as sym"
      ],
      "metadata": {
        "id": "MP0BmHnK4FWQ"
      },
      "execution_count": null,
      "outputs": []
    },
    {
      "cell_type": "code",
      "source": [],
      "metadata": {
        "id": "jqGRcBMJ4HYB"
      },
      "execution_count": null,
      "outputs": []
    },
    {
      "cell_type": "markdown",
      "source": [
        "## Example 2.1 - Symbolic Variables & Functions\n",
        "\n",
        "* To define functions like $f(x)=x^3$ we first need to define a __symbolic variable__ to represent $x$ as follows: "
      ],
      "metadata": {
        "id": "lubzCdhc4TYU"
      }
    },
    {
      "cell_type": "code",
      "source": [
        "x = sym.symbols('x', real = True)\n",
        "x"
      ],
      "metadata": {
        "colab": {
          "base_uri": "https://localhost:8080/",
          "height": 38
        },
        "id": "salfkhhm4kfI",
        "outputId": "bece4d6b-e3f3-4f09-dcb4-22ce3d6c7a1d"
      },
      "execution_count": null,
      "outputs": [
        {
          "output_type": "execute_result",
          "data": {
            "text/plain": [
              "x"
            ],
            "text/latex": "$\\displaystyle x$"
          },
          "metadata": {},
          "execution_count": 8
        }
      ]
    },
    {
      "cell_type": "markdown",
      "source": [
        "* This arguments of __sym.symbols()__ mean the following\n",
        "  * __real=True__ - This means __x__ should be interpreted as a real valued input i.e. not complex\n",
        "  * 'x' - Print x when __x__ is called in a code cell\n",
        "\n",
        "* The string 'x' can be changed to any text you wish, for example the python variable __Q__ below will print the string 'a-string' when called"
      ],
      "metadata": {
        "id": "Doy3sl7i4smQ"
      }
    },
    {
      "cell_type": "code",
      "source": [
        "Q=sym.symbols('a-string')\n",
        "Q"
      ],
      "metadata": {
        "colab": {
          "base_uri": "https://localhost:8080/",
          "height": 38
        },
        "id": "h_ZrVYLR4qkn",
        "outputId": "8817c387-6419-4659-ff18-ab6d48803239"
      },
      "execution_count": null,
      "outputs": [
        {
          "output_type": "execute_result",
          "data": {
            "text/plain": [
              "a-string"
            ],
            "text/latex": "$\\displaystyle a-string$"
          },
          "metadata": {},
          "execution_count": 9
        }
      ]
    },
    {
      "cell_type": "code",
      "source": [],
      "metadata": {
        "id": "R8825-sO5n74"
      },
      "execution_count": null,
      "outputs": []
    },
    {
      "cell_type": "markdown",
      "source": [
        "### Defining a symbolic function\n",
        "\n",
        "* To define the symbolic function $f(x)=x^3$ we can now just set: "
      ],
      "metadata": {
        "id": "Vvy4jCMp81ut"
      }
    },
    {
      "cell_type": "code",
      "source": [
        "f=x**3\n",
        "f"
      ],
      "metadata": {
        "colab": {
          "base_uri": "https://localhost:8080/",
          "height": 38
        },
        "id": "rQJSSG0i9ENR",
        "outputId": "fb6e63f7-3a02-45eb-e3b9-1d8d7082ff65"
      },
      "execution_count": null,
      "outputs": [
        {
          "output_type": "execute_result",
          "data": {
            "text/plain": [
              "x**3"
            ],
            "text/latex": "$\\displaystyle x^{3}$"
          },
          "metadata": {},
          "execution_count": 10
        }
      ]
    },
    {
      "cell_type": "markdown",
      "source": [
        "* As you can see, it is very straight forward as there is no need to use __def()__, although you still can if you wish!"
      ],
      "metadata": {
        "id": "a1_UqWJ-9Gyl"
      }
    },
    {
      "cell_type": "code",
      "source": [],
      "metadata": {
        "id": "87NjseJY9Fap"
      },
      "execution_count": null,
      "outputs": []
    },
    {
      "cell_type": "markdown",
      "source": [
        "## __Exercise 2.1__ \n",
        "\n",
        "* Use __sym.sympy()__ to define a python variable __t__ which will display the string $t$"
      ],
      "metadata": {
        "id": "-OjaKSp69bAq"
      }
    },
    {
      "cell_type": "code",
      "source": [],
      "metadata": {
        "id": "Naiajfy79rNa"
      },
      "execution_count": null,
      "outputs": []
    },
    {
      "cell_type": "markdown",
      "source": [
        "* Now define the symbolic function $r = t^2-4t +1$"
      ],
      "metadata": {
        "id": "1kojWpmv9sGy"
      }
    },
    {
      "cell_type": "code",
      "source": [],
      "metadata": {
        "id": "aILYasA891Sh"
      },
      "execution_count": null,
      "outputs": []
    },
    {
      "cell_type": "code",
      "source": [],
      "metadata": {
        "id": "I50ITTEk-Byi"
      },
      "execution_count": null,
      "outputs": []
    },
    {
      "cell_type": "markdown",
      "source": [
        "---"
      ],
      "metadata": {
        "id": "KAMjehjxQ3wG"
      }
    },
    {
      "cell_type": "markdown",
      "source": [
        "## Example 2.2 - Lambdify funcitons and plotting\n",
        "\n",
        "* The symbolic library does not work very well with the numpy library, since they are desigened to do two very different types of calculation.\n",
        "\n",
        "\n",
        "* However, we can always use the function __sym.lamdify()__ to convert a sympy function to a numpy function, which works very well with matplotlib for plotting.\n",
        "\n",
        "\n",
        "* In the cell below we define the sympy function\n",
        "$$\n",
        "p(x) = \\frac{e^x}{1+x^2}\\sin(2x)\n",
        "$$"
      ],
      "metadata": {
        "id": "84xbQOB2BXha"
      }
    },
    {
      "cell_type": "code",
      "source": [
        "p =sym.exp(x)/(1+x**2)*sym.sin(2*x)\n",
        "p"
      ],
      "metadata": {
        "colab": {
          "base_uri": "https://localhost:8080/",
          "height": 54
        },
        "id": "tsQ4O_NWCKoi",
        "outputId": "2668051c-9e4e-47ba-bee8-f94caf9d12b0"
      },
      "execution_count": null,
      "outputs": [
        {
          "output_type": "execute_result",
          "data": {
            "text/plain": [
              "exp(x)*sin(2*x)/(x**2 + 1)"
            ],
            "text/latex": "$\\displaystyle \\frac{e^{x} \\sin{\\left(2 x \\right)}}{x^{2} + 1}$"
          },
          "metadata": {},
          "execution_count": 12
        }
      ]
    },
    {
      "cell_type": "markdown",
      "source": [
        "### __Important:__ \n",
        "\n",
        "* The symolic functions $\\sin()$, $\\cos()$ and $\\tan()$ are called from the sympy library by placing __sym.__ befor the corresponding function name, similar to the numpy versions of these functions\n",
        "\n",
        "* Similary, the functions $\\sqrt{( )}$, $e^{( )}$ and $\\ln( )$ are called using __sym.sqrt()__, __sym.exp()__, __sym.log()__"
      ],
      "metadata": {
        "id": "DRb0gYiZCW0-"
      }
    },
    {
      "cell_type": "markdown",
      "source": [
        "### Lambdify the function\n",
        "\n",
        "* The next cell __lambdifies__ this function, so that it becomes compatible with the numpy and matplotlib libraries.\n",
        "\n",
        "* From now on we will use __lower case letters__ for __symbolic functions__ and __varibales__\n",
        "\n",
        "* We will use __upper case letters__ for __numerical functions__ and variables, just so things are easier to follow in the code!!"
      ],
      "metadata": {
        "id": "r3PhlylbDok7"
      }
    },
    {
      "cell_type": "code",
      "source": [
        "P = sym.lambdify(x, p, 'numpy')"
      ],
      "metadata": {
        "id": "2CZzcrMwCS0b"
      },
      "execution_count": null,
      "outputs": []
    },
    {
      "cell_type": "markdown",
      "source": [
        "#### SYNTAX of lambdify\n",
        "\n",
        "* The argument __x__ is used since $x$ was the symbolic variable used to define the symbolic __p__.\n",
        "\n",
        "* __p__ is the symbolic function we want to lambdify\n",
        "\n",
        "* 'numpy' is the type of function we want to lambdify to.\n",
        "\n",
        "* __P__ is the name we have chosen to give to the numpy version of __p__"
      ],
      "metadata": {
        "id": "uuklzpuMEhvl"
      }
    },
    {
      "cell_type": "markdown",
      "source": [
        "### Plotting the lamdified function\n",
        "\n",
        "* We can now plot the numpy function __P__ using the usual matplotlib function.\n",
        "\n",
        "* We will plot the function over the interval __X__$\\in[-2,2]$\n",
        "\n",
        "* Again, we will use capital letters for numpy intervals like __X__"
      ],
      "metadata": {
        "id": "IyVBoSHXFo-r"
      }
    },
    {
      "cell_type": "code",
      "source": [
        "X=np.linspace(-2,2,501)\n",
        "\n",
        "plt.plot(X,P(X),lw=2,c='cornflowerblue',label='p(x)')\n",
        "\n",
        "plt.axhline(y=0,lw=0.75)\n",
        "plt.axvline(x=0,lw=0.75)\n",
        "\n",
        "plt.xlabel('x')\n",
        "plt.ylabel('y')\n",
        "\n",
        "plt.legend()\n",
        "\n",
        "plt.show()"
      ],
      "metadata": {
        "colab": {
          "base_uri": "https://localhost:8080/",
          "height": 361
        },
        "id": "EH6j3ppXE7Gk",
        "outputId": "1d66fb15-f0a2-4e5c-8da2-056844e587b2"
      },
      "execution_count": null,
      "outputs": [
        {
          "output_type": "display_data",
          "data": {
            "text/plain": [
              "<Figure size 576x396 with 1 Axes>"
            ],
            "image/png": "[encoded data removed]"
          },
          "metadata": {}
        }
      ]
    },
    {
      "cell_type": "markdown",
      "source": [
        "---\n",
        "## __Exercise 2.2__\n",
        "\n",
        "(a) Define the symbolic function \n",
        "$$\n",
        "q = \\frac{\\cos(t)}{1+e^{t}}.\n",
        "$$\n",
        "__NOTE:__ The symbolic variable $t$ should be already defined from __Exercise 2.1__\n"
      ],
      "metadata": {
        "id": "tDfehYx_HbFZ"
      }
    },
    {
      "cell_type": "code",
      "source": [],
      "metadata": {
        "id": "M1RYg5B0GG50"
      },
      "execution_count": null,
      "outputs": []
    },
    {
      "cell_type": "markdown",
      "source": [
        "(b) Use __sym.lambdify()__ to define __Q__ the numpy version of __q__ "
      ],
      "metadata": {
        "id": "mdK81jggIXg0"
      }
    },
    {
      "cell_type": "code",
      "source": [],
      "metadata": {
        "id": "6RmR4DFyIPfF"
      },
      "execution_count": null,
      "outputs": []
    },
    {
      "cell_type": "markdown",
      "source": [
        "(c) Use __np.linpsace()__ to define the interval __T = [-5,5]__ with __501__ points, and plot __Q__ along this interval."
      ],
      "metadata": {
        "id": "bkNkEyYlIpr8"
      }
    },
    {
      "cell_type": "code",
      "source": [],
      "metadata": {
        "id": "lCZMf0GKIm4d"
      },
      "execution_count": null,
      "outputs": []
    },
    {
      "cell_type": "code",
      "source": [],
      "metadata": {
        "id": "PTqzi-uSJC7E"
      },
      "execution_count": null,
      "outputs": []
    },
    {
      "cell_type": "markdown",
      "source": [
        "---\n",
        "---"
      ],
      "metadata": {
        "id": "PmTqNy48QtTX"
      }
    },
    {
      "cell_type": "markdown",
      "source": [
        "# Section 3 - Symbolic Derivatives & Plots\n",
        "\n",
        "\n",
        "* Now that we know how to define and plot symbolic functions, we can use the __sym.diff()__ function to calcualte the __Derivatives__ of symbolic functions.\n",
        "\n",
        "\n",
        "* We can then use the techniques of Section 2 to plot these functions and their derivatives also."
      ],
      "metadata": {
        "id": "uzFfqrEWJ6Ql"
      }
    },
    {
      "cell_type": "markdown",
      "source": [
        "## Example 3\n",
        "\n",
        "* Use the __sym.diff()__ function to calculate the __first__ and __second__ derivatives of the function __p__ defined in __Example 2.2.__\n",
        "\n",
        "\n",
        "* First, to remind ourselves we call the symbolic function __p__ again in the cell below."
      ],
      "metadata": {
        "id": "RRxIKp5BKasB"
      }
    },
    {
      "cell_type": "code",
      "source": [
        "p"
      ],
      "metadata": {
        "colab": {
          "base_uri": "https://localhost:8080/",
          "height": 54
        },
        "id": "dz8PB4cJKXcl",
        "outputId": "02358142-e9a0-432f-87f1-7e931c2ae12d"
      },
      "execution_count": null,
      "outputs": [
        {
          "output_type": "execute_result",
          "data": {
            "text/plain": [
              "exp(x)*sin(2*x)/(x**2 + 1)"
            ],
            "text/latex": "$\\displaystyle \\frac{e^{x} \\sin{\\left(2 x \\right)}}{x^{2} + 1}$"
          },
          "metadata": {},
          "execution_count": 15
        }
      ]
    },
    {
      "cell_type": "markdown",
      "source": [
        "* The __first derivative__ is found using:"
      ],
      "metadata": {
        "id": "8SS7BotXK6rC"
      }
    },
    {
      "cell_type": "code",
      "source": [
        "dp = sym.diff(p, (x,1))\n",
        "dp"
      ],
      "metadata": {
        "colab": {
          "base_uri": "https://localhost:8080/",
          "height": 60
        },
        "id": "hQmi6EgvK5GN",
        "outputId": "d3f237cd-20f8-4930-b5c2-c67e8103fa5a"
      },
      "execution_count": null,
      "outputs": [
        {
          "output_type": "execute_result",
          "data": {
            "text/plain": [
              "-2*x*exp(x)*sin(2*x)/(x**2 + 1)**2 + exp(x)*sin(2*x)/(x**2 + 1) + 2*exp(x)*cos(2*x)/(x**2 + 1)"
            ],
            "text/latex": "$\\displaystyle - \\frac{2 x e^{x} \\sin{\\left(2 x \\right)}}{\\left(x^{2} + 1\\right)^{2}} + \\frac{e^{x} \\sin{\\left(2 x \\right)}}{x^{2} + 1} + \\frac{2 e^{x} \\cos{\\left(2 x \\right)}}{x^{2} + 1}$"
          },
          "metadata": {},
          "execution_count": 16
        }
      ]
    },
    {
      "cell_type": "markdown",
      "source": [
        "__SYNTAX of sym.diff()__\n",
        "\n",
        "* The function __sym.diff()__ takes the input __p__ to indicate the function we want to differentiate.\n",
        "\n",
        "* The second argument is __(x,1):__ This indicates we want to differentiate with respect to the variable __x__ since __p__ was originally defined in terms of __x__, while __1__ indicates we want the __first derivative__"
      ],
      "metadata": {
        "id": "DcPy00JpLLqt"
      }
    },
    {
      "cell_type": "markdown",
      "source": [
        "* The __second derivative__ is similarly given by"
      ],
      "metadata": {
        "id": "mBu8NfFwLq1V"
      }
    },
    {
      "cell_type": "code",
      "source": [
        "d2p = sym.diff(p,(x,2))\n",
        "d2p"
      ],
      "metadata": {
        "colab": {
          "base_uri": "https://localhost:8080/",
          "height": 78
        },
        "id": "HxI8osJnLIAl",
        "outputId": "6d3d246f-eb98-436a-c297-db05b6a0b43a"
      },
      "execution_count": null,
      "outputs": [
        {
          "output_type": "execute_result",
          "data": {
            "text/plain": [
              "(-4*x*sin(2*x)/(x**2 + 1) - 8*x*cos(2*x)/(x**2 + 1) - 3*sin(2*x) + 4*cos(2*x) + 2*(4*x**2/(x**2 + 1) - 1)*sin(2*x)/(x**2 + 1))*exp(x)/(x**2 + 1)"
            ],
            "text/latex": "$\\displaystyle \\frac{\\left(- \\frac{4 x \\sin{\\left(2 x \\right)}}{x^{2} + 1} - \\frac{8 x \\cos{\\left(2 x \\right)}}{x^{2} + 1} - 3 \\sin{\\left(2 x \\right)} + 4 \\cos{\\left(2 x \\right)} + \\frac{2 \\left(\\frac{4 x^{2}}{x^{2} + 1} - 1\\right) \\sin{\\left(2 x \\right)}}{x^{2} + 1}\\right) e^{x}}{x^{2} + 1}$"
          },
          "metadata": {},
          "execution_count": 17
        }
      ]
    },
    {
      "cell_type": "markdown",
      "source": [
        "## Lambidfication\n",
        "\n",
        "* Use __sym.lambdify()__ to lambdify the first and second derivatives of __p__, we will call these lambdifed versions __DP__ and __D2P__."
      ],
      "metadata": {
        "id": "b2b7tEEfN_Qo"
      }
    },
    {
      "cell_type": "code",
      "source": [
        "DP=sym.lambdify(x,dp,'numpy')\n",
        "D2P=sym.lambdify(x,d2p,'numpy')"
      ],
      "metadata": {
        "id": "oGdin8bAMHRl"
      },
      "execution_count": null,
      "outputs": []
    },
    {
      "cell_type": "markdown",
      "source": [
        "* Now plot the numpy functions __P__, __DP__ and __D2P__ along the interval __X=[-2,2]__ defined earlier."
      ],
      "metadata": {
        "id": "Lc2bbwCXOPFS"
      }
    },
    {
      "cell_type": "code",
      "source": [
        "plt.figure(figsize=(15,10))\n",
        "\n",
        "plt.plot(X,P(X),label='$p(x)$')\n",
        "plt.plot(X,DP(X),label='$\\\\frac{dp}{dx}$')\n",
        "plt.plot(X,D2P(X),label='$\\\\frac{d^2p}{dx^2}$')\n",
        "\n",
        "plt.axhline(y=0,lw=0.75)\n",
        "plt.axvline(x=0,lw=0.75)\n",
        "\n",
        "plt.legend(fontsize=12)\n",
        "\n",
        "plt.xlabel('x')\n",
        "plt.ylabel('y')\n",
        "\n",
        "plt.show()"
      ],
      "metadata": {
        "colab": {
          "base_uri": "https://localhost:8080/",
          "height": 606
        },
        "id": "sGBmFbJBMsuu",
        "outputId": "73900ac8-2aaf-4550-8f09-5672dc076a11"
      },
      "execution_count": null,
      "outputs": [
        {
          "output_type": "display_data",
          "data": {
            "text/plain": [
              "<Figure size 1080x720 with 1 Axes>"
            ],
            "image/png": "[encoded data removed]"
          },
          "metadata": {}
        }
      ]
    },
    {
      "cell_type": "markdown",
      "source": [
        "---"
      ],
      "metadata": {
        "id": "JzuROtvpQ96O"
      }
    },
    {
      "cell_type": "code",
      "source": [],
      "metadata": {
        "id": "cKqty3nzM_jO"
      },
      "execution_count": null,
      "outputs": []
    },
    {
      "cell_type": "markdown",
      "source": [
        "## __Exercie 3__\n",
        "\n",
        "(a) Use __sym.diff()__ to find the __first__ and __third__ derivatives of the function __q__ with respect to $t$, which were defined in __Exercise 2.2__"
      ],
      "metadata": {
        "id": "47vZ2u3RP3Wu"
      }
    },
    {
      "cell_type": "code",
      "source": [],
      "metadata": {
        "id": "zTfGVgUUQMo2"
      },
      "execution_count": null,
      "outputs": []
    },
    {
      "cell_type": "code",
      "source": [],
      "metadata": {
        "id": "6cDFkFThQNx7"
      },
      "execution_count": null,
      "outputs": []
    },
    {
      "cell_type": "code",
      "source": [],
      "metadata": {
        "id": "ZVZWz8bXQNuK"
      },
      "execution_count": null,
      "outputs": []
    },
    {
      "cell_type": "code",
      "source": [],
      "metadata": {
        "id": "S7m946oZQNpj"
      },
      "execution_count": null,
      "outputs": []
    },
    {
      "cell_type": "markdown",
      "source": [
        "(b) Use __sym.lambdify()__ create numpy versions of these derivatives called __DQ__ and __D3Q__"
      ],
      "metadata": {
        "id": "9w_Xb8QvQONi"
      }
    },
    {
      "cell_type": "code",
      "source": [],
      "metadata": {
        "id": "zEY9j_fCQb8G"
      },
      "execution_count": null,
      "outputs": []
    },
    {
      "cell_type": "code",
      "source": [],
      "metadata": {
        "id": "7Q87DOHgQclN"
      },
      "execution_count": null,
      "outputs": []
    },
    {
      "cell_type": "code",
      "source": [],
      "metadata": {
        "id": "douLKgiiQdcb"
      },
      "execution_count": null,
      "outputs": []
    },
    {
      "cell_type": "markdown",
      "source": [
        "(c) Plot the functions __Q__, __DQ__ and __D3Q__ over the interval __T=[-5,5]__ already defined in __Exercise 2.2__"
      ],
      "metadata": {
        "id": "1VtZH7CpQe68"
      }
    },
    {
      "cell_type": "code",
      "source": [],
      "metadata": {
        "id": "3NzF6ypFRJCm"
      },
      "execution_count": null,
      "outputs": []
    },
    {
      "cell_type": "code",
      "source": [],
      "metadata": {
        "id": "GQRPI1h1RXnc"
      },
      "execution_count": null,
      "outputs": []
    },
    {
      "cell_type": "code",
      "source": [],
      "metadata": {
        "id": "zRD0n5QaRXdM"
      },
      "execution_count": null,
      "outputs": []
    },
    {
      "cell_type": "markdown",
      "source": [
        "---\n",
        "---"
      ],
      "metadata": {
        "id": "Dk3gH_2OVp0A"
      }
    },
    {
      "cell_type": "markdown",
      "source": [
        "# Section 4 - Rules of Differentation\n",
        "\n",
        "* We already have tables of derivatives to calcualte derivatives symbolically.\n",
        "\n",
        "* We would like to confirm some of these rules using __sym.diff()__ for a number of differenti functions."
      ],
      "metadata": {
        "id": "az7lTbgSRYKO"
      }
    },
    {
      "cell_type": "markdown",
      "source": [
        "## Example 4\n",
        "\n",
        "* Use the function __sym.diff()__ to find the $1^{\\rm st}$, $2^{\\rm nd}$ amd $3^{\\rm rd}$ deerivatives of the following functions:"
      ],
      "metadata": {
        "id": "BDKcoowxR3_a"
      }
    },
    {
      "cell_type": "markdown",
      "source": [
        "(a) $f_{1} = x^4 +x^{-\\frac{3}{2}}$"
      ],
      "metadata": {
        "id": "ubekTIgzTKcL"
      }
    },
    {
      "cell_type": "code",
      "source": [
        "f1 = x**4 +x**(-3/2)\n",
        "df1 = sym.diff(f1,(x,1))\n",
        "d2f1 = sym.diff(f1,(x,2))\n",
        "d3f1 = sym.diff(f1,(x,3))"
      ],
      "metadata": {
        "id": "mAor4M5yR2oP"
      },
      "execution_count": null,
      "outputs": []
    },
    {
      "cell_type": "code",
      "source": [
        "f1"
      ],
      "metadata": {
        "colab": {
          "base_uri": "https://localhost:8080/",
          "height": 38
        },
        "id": "qhpDh6jdS9an",
        "outputId": "e86ad3b4-15bc-4b6c-8a25-cfd5f3fcd77f"
      },
      "execution_count": null,
      "outputs": [
        {
          "output_type": "execute_result",
          "data": {
            "text/plain": [
              "x**(-1.5) + x**4"
            ],
            "text/latex": "$\\displaystyle x^{-1.5} + x^{4}$"
          },
          "metadata": {},
          "execution_count": 22
        }
      ]
    },
    {
      "cell_type": "code",
      "source": [
        "df1"
      ],
      "metadata": {
        "colab": {
          "base_uri": "https://localhost:8080/",
          "height": 51
        },
        "id": "YljUgn5PS__g",
        "outputId": "c843cb31-d5ae-4886-b25e-056f94bc4a1c"
      },
      "execution_count": null,
      "outputs": [
        {
          "output_type": "execute_result",
          "data": {
            "text/plain": [
              "-1.5*x**(-2.5) + 4*x**3"
            ],
            "text/latex": "$\\displaystyle - \\frac{1.5}{x^{2.5}} + 4 x^{3}$"
          },
          "metadata": {},
          "execution_count": 23
        }
      ]
    },
    {
      "cell_type": "code",
      "source": [
        "d2f1"
      ],
      "metadata": {
        "colab": {
          "base_uri": "https://localhost:8080/",
          "height": 51
        },
        "id": "5KFWGrrYTBAw",
        "outputId": "a70ec23f-8102-4061-b825-2ca130ca03ce"
      },
      "execution_count": null,
      "outputs": [
        {
          "output_type": "execute_result",
          "data": {
            "text/plain": [
              "3.75*x**(-3.5) + 12*x**2"
            ],
            "text/latex": "$\\displaystyle \\frac{3.75}{x^{3.5}} + 12 x^{2}$"
          },
          "metadata": {},
          "execution_count": 24
        }
      ]
    },
    {
      "cell_type": "code",
      "source": [
        "d3f1"
      ],
      "metadata": {
        "colab": {
          "base_uri": "https://localhost:8080/",
          "height": 51
        },
        "id": "ZbC4aEIxTCcA",
        "outputId": "6d422788-9419-427a-99d6-30b201c0c066"
      },
      "execution_count": null,
      "outputs": [
        {
          "output_type": "execute_result",
          "data": {
            "text/plain": [
              "-13.125*x**(-4.5) + 24*x"
            ],
            "text/latex": "$\\displaystyle - \\frac{13.125}{x^{4.5}} + 24 x$"
          },
          "metadata": {},
          "execution_count": 25
        }
      ]
    },
    {
      "cell_type": "code",
      "source": [],
      "metadata": {
        "id": "QpNIVLgOTEAn"
      },
      "execution_count": null,
      "outputs": []
    },
    {
      "cell_type": "markdown",
      "source": [
        "(b) $f_{2} = e^{-3x} + \\sin(2x)$"
      ],
      "metadata": {
        "id": "yBkWeUTxTNu8"
      }
    },
    {
      "cell_type": "code",
      "source": [
        "f2=sym.exp(-3*x)+sym.sin(2*x)\n",
        "df2 = sym.diff(f2,(x,1))\n",
        "d2f2 = sym.diff(f2,(x,2))\n",
        "d3f2 = sym.diff(f2,(x,3))"
      ],
      "metadata": {
        "id": "UhTm0TkmTQde"
      },
      "execution_count": null,
      "outputs": []
    },
    {
      "cell_type": "code",
      "source": [
        "f2"
      ],
      "metadata": {
        "colab": {
          "base_uri": "https://localhost:8080/",
          "height": 38
        },
        "id": "4HbkQBsTTW04",
        "outputId": "3ae85a97-2d9a-405f-ca73-a5607a8ff804"
      },
      "execution_count": null,
      "outputs": [
        {
          "output_type": "execute_result",
          "data": {
            "text/plain": [
              "sin(2*x) + exp(-3*x)"
            ],
            "text/latex": "$\\displaystyle \\sin{\\left(2 x \\right)} + e^{- 3 x}$"
          },
          "metadata": {},
          "execution_count": 27
        }
      ]
    },
    {
      "cell_type": "code",
      "source": [
        "df2"
      ],
      "metadata": {
        "colab": {
          "base_uri": "https://localhost:8080/",
          "height": 38
        },
        "id": "05z2rsCiTbS3",
        "outputId": "c0e15e09-38e4-4e00-c1c1-aa247c6022c4"
      },
      "execution_count": null,
      "outputs": [
        {
          "output_type": "execute_result",
          "data": {
            "text/plain": [
              "2*cos(2*x) - 3*exp(-3*x)"
            ],
            "text/latex": "$\\displaystyle 2 \\cos{\\left(2 x \\right)} - 3 e^{- 3 x}$"
          },
          "metadata": {},
          "execution_count": 28
        }
      ]
    },
    {
      "cell_type": "code",
      "source": [
        "d2f2"
      ],
      "metadata": {
        "colab": {
          "base_uri": "https://localhost:8080/",
          "height": 38
        },
        "id": "Ofb9opl7Tdzn",
        "outputId": "72b06305-78c0-444c-c39b-a3d421b2d315"
      },
      "execution_count": null,
      "outputs": [
        {
          "output_type": "execute_result",
          "data": {
            "text/plain": [
              "-4*sin(2*x) + 9*exp(-3*x)"
            ],
            "text/latex": "$\\displaystyle - 4 \\sin{\\left(2 x \\right)} + 9 e^{- 3 x}$"
          },
          "metadata": {},
          "execution_count": 29
        }
      ]
    },
    {
      "cell_type": "code",
      "source": [
        "d3f2"
      ],
      "metadata": {
        "colab": {
          "base_uri": "https://localhost:8080/",
          "height": 38
        },
        "id": "KcIzd-82TfOf",
        "outputId": "ae058ff4-7254-4c70-98b2-79ee1dd47554"
      },
      "execution_count": null,
      "outputs": [
        {
          "output_type": "execute_result",
          "data": {
            "text/plain": [
              "-(8*cos(2*x) + 27*exp(-3*x))"
            ],
            "text/latex": "$\\displaystyle - (8 \\cos{\\left(2 x \\right)} + 27 e^{- 3 x})$"
          },
          "metadata": {},
          "execution_count": 30
        }
      ]
    },
    {
      "cell_type": "code",
      "source": [],
      "metadata": {
        "id": "doVAXWQLTlu3"
      },
      "execution_count": null,
      "outputs": []
    },
    {
      "cell_type": "markdown",
      "source": [
        "(c) $f_{3} = \\tan(4x) + \\tan^{-1}\\left(\\frac{x}{3}\\right)$"
      ],
      "metadata": {
        "id": "NMADX6_TTvoP"
      }
    },
    {
      "cell_type": "code",
      "source": [
        "f3=sym.tan(4*x)+sym.atan(x/3)\n",
        "df3 = sym.diff(f3,(x,1))\n",
        "d2f3 = sym.diff(f3,(x,2))\n",
        "d3f3 = sym.diff(f3,(x,3))"
      ],
      "metadata": {
        "id": "TgiMbIokTwhn"
      },
      "execution_count": null,
      "outputs": []
    },
    {
      "cell_type": "code",
      "source": [
        "f3"
      ],
      "metadata": {
        "colab": {
          "base_uri": "https://localhost:8080/",
          "height": 48
        },
        "id": "epu5cColT7EY",
        "outputId": "9bfa4763-6de7-411a-fa2d-bddfe0f7e69e"
      },
      "execution_count": null,
      "outputs": [
        {
          "output_type": "execute_result",
          "data": {
            "text/plain": [
              "tan(4*x) + atan(x/3)"
            ],
            "text/latex": "$\\displaystyle \\tan{\\left(4 x \\right)} + \\operatorname{atan}{\\left(\\frac{x}{3} \\right)}$"
          },
          "metadata": {},
          "execution_count": 32
        }
      ]
    },
    {
      "cell_type": "code",
      "source": [
        "df3"
      ],
      "metadata": {
        "colab": {
          "base_uri": "https://localhost:8080/",
          "height": 68
        },
        "id": "6c7nqlugT8TP",
        "outputId": "a68433b4-2158-4750-9ab0-7e4aa5d3f51f"
      },
      "execution_count": null,
      "outputs": [
        {
          "output_type": "execute_result",
          "data": {
            "text/plain": [
              "4*tan(4*x)**2 + 4 + 1/(3*(x**2/9 + 1))"
            ],
            "text/latex": "$\\displaystyle 4 \\tan^{2}{\\left(4 x \\right)} + 4 + \\frac{1}{3 \\left(\\frac{x^{2}}{9} + 1\\right)}$"
          },
          "metadata": {},
          "execution_count": 33
        }
      ]
    },
    {
      "cell_type": "code",
      "source": [
        "d2f3"
      ],
      "metadata": {
        "colab": {
          "base_uri": "https://localhost:8080/",
          "height": 68
        },
        "id": "o0NzHsKMT9gv",
        "outputId": "f52fb8ef-dd80-49bd-e5b2-f2ed87ccff66"
      },
      "execution_count": null,
      "outputs": [
        {
          "output_type": "execute_result",
          "data": {
            "text/plain": [
              "2*(-3*x/(x**2 + 9)**2 + 16*(tan(4*x)**2 + 1)*tan(4*x))"
            ],
            "text/latex": "$\\displaystyle 2 \\left(- \\frac{3 x}{\\left(x^{2} + 9\\right)^{2}} + 16 \\left(\\tan^{2}{\\left(4 x \\right)} + 1\\right) \\tan{\\left(4 x \\right)}\\right)$"
          },
          "metadata": {},
          "execution_count": 34
        }
      ]
    },
    {
      "cell_type": "code",
      "source": [
        "d3f3"
      ],
      "metadata": {
        "colab": {
          "base_uri": "https://localhost:8080/",
          "height": 68
        },
        "id": "Fy6wozK1T-XP",
        "outputId": "c4c8932b-87eb-4116-fdb0-22c5c1e990a6"
      },
      "execution_count": null,
      "outputs": [
        {
          "output_type": "execute_result",
          "data": {
            "text/plain": [
              "2*(12*x**2/(x**2 + 9)**3 + 64*(tan(4*x)**2 + 1)**2 + 128*(tan(4*x)**2 + 1)*tan(4*x)**2 - 3/(x**2 + 9)**2)"
            ],
            "text/latex": "$\\displaystyle 2 \\left(\\frac{12 x^{2}}{\\left(x^{2} + 9\\right)^{3}} + 64 \\left(\\tan^{2}{\\left(4 x \\right)} + 1\\right)^{2} + 128 \\left(\\tan^{2}{\\left(4 x \\right)} + 1\\right) \\tan^{2}{\\left(4 x \\right)} - \\frac{3}{\\left(x^{2} + 9\\right)^{2}}\\right)$"
          },
          "metadata": {},
          "execution_count": 35
        }
      ]
    },
    {
      "cell_type": "markdown",
      "source": [
        "__NOTE:__ Another name for the $\\tan^{-1}()$ function is $\\arctan()$. This is called from the sympy library as __sym.atan()__, the prefix __a__ is used to indicate __arc__"
      ],
      "metadata": {
        "id": "FFXVOKzxUAlw"
      }
    },
    {
      "cell_type": "code",
      "source": [],
      "metadata": {
        "id": "Y_3hDVWzT_pP"
      },
      "execution_count": null,
      "outputs": []
    },
    {
      "cell_type": "markdown",
      "source": [
        "---"
      ],
      "metadata": {
        "id": "SJzco85fVsQV"
      }
    },
    {
      "cell_type": "markdown",
      "source": [
        "## __Exercie 4__\n",
        "\n",
        "* Use the __sym.diff()__ function the find the $1^{\\rm st}$, $3^{\\rm rd}$ and $5^{\\rm th}$ derivatives of the following functions:"
      ],
      "metadata": {
        "id": "LqDKTg2vUe9Q"
      }
    },
    {
      "cell_type": "markdown",
      "source": [
        "(a) $g_1 = \\sin^{-1}\\left(\\frac{t}{2}\\right) + \\ln(3t)$"
      ],
      "metadata": {
        "id": "IhFxSC-MUu3n"
      }
    },
    {
      "cell_type": "code",
      "source": [],
      "metadata": {
        "id": "UgQHGeA7UtCH"
      },
      "execution_count": null,
      "outputs": []
    },
    {
      "cell_type": "code",
      "source": [],
      "metadata": {
        "id": "Hv1BeF1pU5tr"
      },
      "execution_count": null,
      "outputs": []
    },
    {
      "cell_type": "code",
      "source": [],
      "metadata": {
        "id": "lu8K0P7AU5lQ"
      },
      "execution_count": null,
      "outputs": []
    },
    {
      "cell_type": "code",
      "source": [],
      "metadata": {
        "id": "DvH_-kJuU5WM"
      },
      "execution_count": null,
      "outputs": []
    },
    {
      "cell_type": "markdown",
      "source": [
        "(b) $g_{2} = \\frac{1}{t^4} - t^{\\frac{5}{4}}$"
      ],
      "metadata": {
        "id": "ZmNnPX64U6K8"
      }
    },
    {
      "cell_type": "code",
      "source": [],
      "metadata": {
        "id": "hSDytWARVIKP"
      },
      "execution_count": null,
      "outputs": []
    },
    {
      "cell_type": "code",
      "source": [],
      "metadata": {
        "id": "lPzZtU4IVJ0t"
      },
      "execution_count": null,
      "outputs": []
    },
    {
      "cell_type": "code",
      "source": [],
      "metadata": {
        "id": "jMFS77FDVJke"
      },
      "execution_count": null,
      "outputs": []
    },
    {
      "cell_type": "code",
      "source": [],
      "metadata": {
        "id": "uD7kt48-VJWE"
      },
      "execution_count": null,
      "outputs": []
    },
    {
      "cell_type": "markdown",
      "source": [
        "(c) $g_{3} = e^{t} + \\tan(2t) + \\cos(3t)$"
      ],
      "metadata": {
        "id": "cfbGq3HYVKPz"
      }
    },
    {
      "cell_type": "code",
      "source": [],
      "metadata": {
        "id": "24yFrvUyVYow"
      },
      "execution_count": null,
      "outputs": []
    },
    {
      "cell_type": "code",
      "source": [],
      "metadata": {
        "id": "oztE2rdSVeSD"
      },
      "execution_count": null,
      "outputs": []
    },
    {
      "cell_type": "code",
      "source": [],
      "metadata": {
        "id": "oNZvCburVeJf"
      },
      "execution_count": null,
      "outputs": []
    },
    {
      "cell_type": "code",
      "source": [],
      "metadata": {
        "id": "f1bQC4mRVd_k"
      },
      "execution_count": null,
      "outputs": []
    }
  ],
  "metadata": {
    "colab": {
      "provenance": [],
      "include_colab_link": true
    },
    "kernelspec": {
      "display_name": "Python 3 (ipykernel)",
      "language": "python",
      "name": "python3"
    },
    "language_info": {
      "codemirror_mode": {
        "name": "ipython",
        "version": 3
      },
      "file_extension": ".py",
      "mimetype": "text/x-python",
      "name": "python",
      "nbconvert_exporter": "python",
      "pygments_lexer": "ipython3",
      "version": "3.9.12"
    },
    "widgets": {
      "application/vnd.jupyter.widget-state+json": {
        "fd465ccb0a6b4ea1986b73a271722413": {
          "model_module": "@jupyter-widgets/controls",
          "model_name": "VBoxModel",
          "model_module_version": "1.5.0",
          "state": {
            "_dom_classes": [
              "widget-interact"
            ],
            "_model_module": "@jupyter-widgets/controls",
            "_model_module_version": "1.5.0",
            "_model_name": "VBoxModel",
            "_view_count": null,
            "_view_module": "@jupyter-widgets/controls",
            "_view_module_version": "1.5.0",
            "_view_name": "VBoxView",
            "box_style": "",
            "children": [
              "IPY_MODEL_8ea0d30b66f54697ae28a2fe9d350e1c",
              "IPY_MODEL_32a0b2b0a96d465a825b3dbd2d2aba8d",
              "IPY_MODEL_d4516d679a3c42f8a68a744dc961b787"
            ],
            "layout": "IPY_MODEL_c6f74c7a978c4d14b83833b1b29eb6bd"
          }
        },
        "8ea0d30b66f54697ae28a2fe9d350e1c": {
          "model_module": "@jupyter-widgets/controls",
          "model_name": "FloatSliderModel",
          "model_module_version": "1.5.0",
          "state": {
            "_dom_classes": [],
            "_model_module": "@jupyter-widgets/controls",
            "_model_module_version": "1.5.0",
            "_model_name": "FloatSliderModel",
            "_view_count": null,
            "_view_module": "@jupyter-widgets/controls",
            "_view_module_version": "1.5.0",
            "_view_name": "FloatSliderView",
            "continuous_update": true,
            "description": "h",
            "description_tooltip": null,
            "disabled": false,
            "layout": "IPY_MODEL_4c39f7fc794c497bb7c1811117ec4605",
            "max": 1,
            "min": 1e-10,
            "orientation": "horizontal",
            "readout": true,
            "readout_format": ".2f",
            "step": 0.001,
            "style": "IPY_MODEL_48a094378b4a4224b83b58a6cc2a5326",
            "value": 0.193
          }
        },
        "32a0b2b0a96d465a825b3dbd2d2aba8d": {
          "model_module": "@jupyter-widgets/controls",
          "model_name": "FloatSliderModel",
          "model_module_version": "1.5.0",
          "state": {
            "_dom_classes": [],
            "_model_module": "@jupyter-widgets/controls",
            "_model_module_version": "1.5.0",
            "_model_name": "FloatSliderModel",
            "_view_count": null,
            "_view_module": "@jupyter-widgets/controls",
            "_view_module_version": "1.5.0",
            "_view_name": "FloatSliderView",
            "continuous_update": true,
            "description": "x",
            "description_tooltip": null,
            "disabled": false,
            "layout": "IPY_MODEL_63abde80d41549a0af8da1288760815b",
            "max": 1.5,
            "min": -0.5,
            "orientation": "horizontal",
            "readout": true,
            "readout_format": ".2f",
            "step": 0.1,
            "style": "IPY_MODEL_8b37e522fb184fee8c82aeaf464a5077",
            "value": 0.8
          }
        },
        "d4516d679a3c42f8a68a744dc961b787": {
          "model_module": "@jupyter-widgets/output",
          "model_name": "OutputModel",
          "model_module_version": "1.0.0",
          "state": {
            "_dom_classes": [],
            "_model_module": "@jupyter-widgets/output",
            "_model_module_version": "1.0.0",
            "_model_name": "OutputModel",
            "_view_count": null,
            "_view_module": "@jupyter-widgets/output",
            "_view_module_version": "1.0.0",
            "_view_name": "OutputView",
            "layout": "IPY_MODEL_2ea2200482744b6a9f9b1ea33382291c",
            "msg_id": "",
            "outputs": [
              {
                "output_type": "display_data",
                "data": {
                  "text/plain": "<Figure size 864x648 with 1 Axes>",
                  "image/png": "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\n"
                },
                "metadata": {}
              }
            ]
          }
        },
        "c6f74c7a978c4d14b83833b1b29eb6bd": {
          "model_module": "@jupyter-widgets/base",
          "model_name": "LayoutModel",
          "model_module_version": "1.2.0",
          "state": {
            "_model_module": "@jupyter-widgets/base",
            "_model_module_version": "1.2.0",
            "_model_name": "LayoutModel",
            "_view_count": null,
            "_view_module": "@jupyter-widgets/base",
            "_view_module_version": "1.2.0",
            "_view_name": "LayoutView",
            "align_content": null,
            "align_items": null,
            "align_self": null,
            "border": null,
            "bottom": null,
            "display": null,
            "flex": null,
            "flex_flow": null,
            "grid_area": null,
            "grid_auto_columns": null,
            "grid_auto_flow": null,
            "grid_auto_rows": null,
            "grid_column": null,
            "grid_gap": null,
            "grid_row": null,
            "grid_template_areas": null,
            "grid_template_columns": null,
            "grid_template_rows": null,
            "height": null,
            "justify_content": null,
            "justify_items": null,
            "left": null,
            "margin": null,
            "max_height": null,
            "max_width": null,
            "min_height": null,
            "min_width": null,
            "object_fit": null,
            "object_position": null,
            "order": null,
            "overflow": null,
            "overflow_x": null,
            "overflow_y": null,
            "padding": null,
            "right": null,
            "top": null,
            "visibility": null,
            "width": null
          }
        },
        "4c39f7fc794c497bb7c1811117ec4605": {
          "model_module": "@jupyter-widgets/base",
          "model_name": "LayoutModel",
          "model_module_version": "1.2.0",
          "state": {
            "_model_module": "@jupyter-widgets/base",
            "_model_module_version": "1.2.0",
            "_model_name": "LayoutModel",
            "_view_count": null,
            "_view_module": "@jupyter-widgets/base",
            "_view_module_version": "1.2.0",
            "_view_name": "LayoutView",
            "align_content": null,
            "align_items": null,
            "align_self": null,
            "border": null,
            "bottom": null,
            "display": null,
            "flex": null,
            "flex_flow": null,
            "grid_area": null,
            "grid_auto_columns": null,
            "grid_auto_flow": null,
            "grid_auto_rows": null,
            "grid_column": null,
            "grid_gap": null,
            "grid_row": null,
            "grid_template_areas": null,
            "grid_template_columns": null,
            "grid_template_rows": null,
            "height": null,
            "justify_content": null,
            "justify_items": null,
            "left": null,
            "margin": null,
            "max_height": null,
            "max_width": null,
            "min_height": null,
            "min_width": null,
            "object_fit": null,
            "object_position": null,
            "order": null,
            "overflow": null,
            "overflow_x": null,
            "overflow_y": null,
            "padding": null,
            "right": null,
            "top": null,
            "visibility": null,
            "width": null
          }
        },
        "48a094378b4a4224b83b58a6cc2a5326": {
          "model_module": "@jupyter-widgets/controls",
          "model_name": "SliderStyleModel",
          "model_module_version": "1.5.0",
          "state": {
            "_model_module": "@jupyter-widgets/controls",
            "_model_module_version": "1.5.0",
            "_model_name": "SliderStyleModel",
            "_view_count": null,
            "_view_module": "@jupyter-widgets/base",
            "_view_module_version": "1.2.0",
            "_view_name": "StyleView",
            "description_width": "",
            "handle_color": null
          }
        },
        "63abde80d41549a0af8da1288760815b": {
          "model_module": "@jupyter-widgets/base",
          "model_name": "LayoutModel",
          "model_module_version": "1.2.0",
          "state": {
            "_model_module": "@jupyter-widgets/base",
            "_model_module_version": "1.2.0",
            "_model_name": "LayoutModel",
            "_view_count": null,
            "_view_module": "@jupyter-widgets/base",
            "_view_module_version": "1.2.0",
            "_view_name": "LayoutView",
            "align_content": null,
            "align_items": null,
            "align_self": null,
            "border": null,
            "bottom": null,
            "display": null,
            "flex": null,
            "flex_flow": null,
            "grid_area": null,
            "grid_auto_columns": null,
            "grid_auto_flow": null,
            "grid_auto_rows": null,
            "grid_column": null,
            "grid_gap": null,
            "grid_row": null,
            "grid_template_areas": null,
            "grid_template_columns": null,
            "grid_template_rows": null,
            "height": null,
            "justify_content": null,
            "justify_items": null,
            "left": null,
            "margin": null,
            "max_height": null,
            "max_width": null,
            "min_height": null,
            "min_width": null,
            "object_fit": null,
            "object_position": null,
            "order": null,
            "overflow": null,
            "overflow_x": null,
            "overflow_y": null,
            "padding": null,
            "right": null,
            "top": null,
            "visibility": null,
            "width": null
          }
        },
        "8b37e522fb184fee8c82aeaf464a5077": {
          "model_module": "@jupyter-widgets/controls",
          "model_name": "SliderStyleModel",
          "model_module_version": "1.5.0",
          "state": {
            "_model_module": "@jupyter-widgets/controls",
            "_model_module_version": "1.5.0",
            "_model_name": "SliderStyleModel",
            "_view_count": null,
            "_view_module": "@jupyter-widgets/base",
            "_view_module_version": "1.2.0",
            "_view_name": "StyleView",
            "description_width": "",
            "handle_color": null
          }
        },
        "2ea2200482744b6a9f9b1ea33382291c": {
          "model_module": "@jupyter-widgets/base",
          "model_name": "LayoutModel",
          "model_module_version": "1.2.0",
          "state": {
            "_model_module": "@jupyter-widgets/base",
            "_model_module_version": "1.2.0",
            "_model_name": "LayoutModel",
            "_view_count": null,
            "_view_module": "@jupyter-widgets/base",
            "_view_module_version": "1.2.0",
            "_view_name": "LayoutView",
            "align_content": null,
            "align_items": null,
            "align_self": null,
            "border": null,
            "bottom": null,
            "display": null,
            "flex": null,
            "flex_flow": null,
            "grid_area": null,
            "grid_auto_columns": null,
            "grid_auto_flow": null,
            "grid_auto_rows": null,
            "grid_column": null,
            "grid_gap": null,
            "grid_row": null,
            "grid_template_areas": null,
            "grid_template_columns": null,
            "grid_template_rows": null,
            "height": "6.3in",
            "justify_content": null,
            "justify_items": null,
            "left": null,
            "margin": null,
            "max_height": null,
            "max_width": null,
            "min_height": null,
            "min_width": null,
            "object_fit": null,
            "object_position": null,
            "order": null,
            "overflow": null,
            "overflow_x": null,
            "overflow_y": null,
            "padding": null,
            "right": null,
            "top": null,
            "visibility": null,
            "width": null
          }
        }
      }
    }
  },
  "nbformat": 4,
  "nbformat_minor": 0
}