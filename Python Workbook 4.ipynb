{
  "cells": [
    {
      "cell_type": "markdown",
      "metadata": {
        "id": "view-in-github",
        "colab_type": "text"
      },
      "source": [
        "<a href=\"https://colab.research.google.com/github/tlyonsSETU/Applied-Calculus/blob/main/Python%20Workbook%204.ipynb\" target=\"_parent\"><img src=\"https://colab.research.google.com/assets/colab-badge.svg\" alt=\"Open In Colab\"/></a>"
      ]
    },
    {
      "cell_type": "markdown",
      "metadata": {
        "id": "1MqhxbkTzU_w"
      },
      "source": [
        "### Name:\n",
        "### Student Number:"
      ]
    },
    {
      "cell_type": "code",
      "execution_count": 1,
      "metadata": {
        "id": "siqLu3TdzU_z"
      },
      "outputs": [],
      "source": [
        "import matplotlib.pyplot as plt\n",
        "import numpy as np "
      ]
    },
    {
      "cell_type": "code",
      "source": [
        "import matplotlib.style as style # Change the plot style used for graphs\n",
        "style.use('seaborn')"
      ],
      "metadata": {
        "id": "jKZkQTHep0pz"
      },
      "execution_count": 2,
      "outputs": []
    },
    {
      "cell_type": "code",
      "source": [
        "# The following libraries are for creating interactive plots\n",
        "from ipywidgets import interact, interactive, fixed, interact_manual\n",
        "import ipywidgets as widgets"
      ],
      "metadata": {
        "id": "-RavQYML3X6j"
      },
      "execution_count": 3,
      "outputs": []
    },
    {
      "cell_type": "markdown",
      "source": [
        "# Python Workbook 4 - Symbolic Differentiation\n",
        "\n",
        "* In this workbook we will cover the following topics:\n",
        "\n",
        "  1. The meaning of the derivative.\n",
        "  2. Symbolic functions and their plots.\n",
        "  3. Derivatives of symbolic functions and their plots.\n",
        "  4. Rules of derivatives checked with sybolic differentiation.\n",
        "\n",
        "\n",
        "---\n",
        "---"
      ],
      "metadata": {
        "id": "cQXWGueRPVAH"
      }
    },
    {
      "cell_type": "markdown",
      "source": [
        "# Section 1 - What is a derivative?\n",
        "\n",
        "* The derivative of a function $f(x)$ tells us how quickly that function changes as we move away from some value of $x$.\n",
        "\n",
        "\n",
        "* If we draw a graph of $f(x)$ it tells us how quiuckly the $y$-coordinate of $f(x)$ changes compared to the corresponding change in the $x$-coordinate.\n",
        "\n",
        "\n",
        "* The derivative of $f(x)$ is __defined__ as:\n",
        "$$\n",
        "\\frac{df}{dx} = \\lim_{h \\to 0}\\frac{f(x+h) - f(x)}{h}.\n",
        "$$\n",
        "\n",
        "* The __numerator__ of this expression is\n",
        "$$\n",
        "f(x+h) - f(x)\n",
        "$$\n",
        "and it tells us the change in the $y$-coordinate of the graph between $x$ and $x+h$.\n",
        "\n",
        "* The difference of these two $x$-coordinates (inputs) is\n",
        "$$\n",
        "(x+h) - x = h, \n",
        "$$\n",
        "which is the __denominator__ of the expression.\n",
        "\n",
        "\n",
        "* Now letting $\\lim_{h\\to 0 }$ just means letting the input $x+h$ get closer and closer to the initial input $x$. "
      ],
      "metadata": {
        "id": "GvCOIpvVq589"
      }
    },
    {
      "cell_type": "markdown",
      "source": [
        "## Example 1\n",
        "\n",
        "* The graph of the function\n",
        "$$\n",
        "f(x) = x^3\n",
        "$$\n",
        "is shown in the interactive plot below.\n",
        "\n",
        "\n",
        "* We know from our tables that this function should have derivative\n",
        "$$\n",
        "\\frac{df}{dx} = 3x^2,\n",
        "$$\n",
        "and so the derivative of $f$ at the point $x=1$ is\n",
        "$$\n",
        "\\frac{df}{dx}(1) = 3(1)^2 = 3.\n",
        "$$\n",
        "\n",
        "\n",
        "* The graph shows the line connecting the points\n",
        "$$\n",
        "(x,f(x)),\\quad (x+h,f(x+h))\n",
        "$$\n",
        "on the graph of this function. \n",
        "\n",
        "\n",
        "* The point where the derivative is calculated is the input $x$.\n",
        "\n",
        "* The coordinate difference is $h$.\n",
        "\n",
        "__First:__ The function $f(x)$ is __def__ined in the cell below: "
      ],
      "metadata": {
        "id": "0cLGONaPsUn-"
      }
    },
    {
      "cell_type": "code",
      "source": [
        "def f(x):\n",
        "  return x**3"
      ],
      "metadata": {
        "id": "NbHaEes-jgmI"
      },
      "execution_count": 4,
      "outputs": []
    },
    {
      "cell_type": "markdown",
      "source": [
        "* Now we create an interactive plot with __2 sliders__, one for $x$ and one for $h$."
      ],
      "metadata": {
        "id": "D1GOWb3quQbv"
      }
    },
    {
      "cell_type": "code",
      "execution_count": 7,
      "metadata": {
        "id": "lGhHkwwgzU_4",
        "colab": {
          "base_uri": "https://localhost:8080/",
          "height": 686,
          "referenced_widgets": [
            "b4e9d4b40f3a498992d0fc0252e87243",
            "a9230fd0753946aba4fbe259093c6e43",
            "ac5f591e050e4346a49e2c96a5a5f19b",
            "778773090f4742388a31d9d93ca6eece",
            "084e878ca972439f82d00f530d46178d",
            "57fb74cbe8bf46928d1c0212eff1d5ee",
            "bd3bd832787748a190110db223257522",
            "cd6a7045408f48968665cf540eed88c3",
            "85e9730bce994f75a232db870a7d0b1f",
            "c295f4c7313f4895822e1434f5323b1e"
          ]
        },
        "outputId": "16ec4928-535c-4f26-da73-9107c117916a"
      },
      "outputs": [
        {
          "output_type": "display_data",
          "data": {
            "text/plain": [
              "interactive(children=(FloatSlider(value=1.0, description='h', max=1.0, min=1e-10, step=0.001), FloatSlider(val…"
            ],
            "application/vnd.jupyter.widget-view+json": {
              "version_major": 2,
              "version_minor": 0,
              "model_id": "b4e9d4b40f3a498992d0fc0252e87243"
            }
          },
          "metadata": {}
        }
      ],
      "source": [
        "#@title What is a Deriviative \n",
        "def IP1(h=1,x=1):\n",
        "    plt.figure(figsize=(12,9))\n",
        "    \n",
        "    plt.axvline(color='k',lw=0.75) # Plot the y-axis\n",
        "    plt.axhline(color='k',lw=0.5) # Plot the x-axis\n",
        "\n",
        "    t=np.linspace(-1,2.5,201) # An iterval used to plot the graph of f(x)\n",
        "    plt.plot(t, f(t),color='darkslategray') # The graph of f(t) for -1<t<2\n",
        "\n",
        "    plt.plot([x,x+h],[f(x),f(x+h)],'or') # Plot red dots at the x-coordinates [x,x+h] and y-coordinates [f(x), f(x+h)] \n",
        "    plt.plot([x,x+h],[f(x),f(x+h)],ls='--') # Plot the line between the x-coordinates [x,x+h] and y-coordinates [f(x), f(x+h)]\n",
        "    plt.plot([x+h,x+h],[f(x),f(x+h)],ls='--',label='$f(x+h)-f(x)$',color='green') # Plot a vertical line to show the y-change f(x+h)-f(x)\n",
        "    plt.plot([x,x+h],[f(x),f(x)],ls='--',label='$h$',color='orange') # Plot a horizontal line to show the horizontal change h\n",
        "\n",
        "    dx=h\n",
        "    dy=f(x+h)-f(x)\n",
        "\n",
        "    plt.text(-1,7,'$\\\\frac{f(x+h)-f(x)}{h} \\\\approx % s$' % (dy/dx),size=14 ) # Show the value of the ratio [f(f+h)-f(x)]/h\n",
        "    plt.legend(loc='lower right',fontsize=14) # Plot the legend to show what each line represents\n",
        "\n",
        "    plt.show() # Show the plot\n",
        "\n",
        "Plot = interactive(IP1, h=(1E-10,1,0.001),x=(-0.5,1.5)) # Create an interactive plot environment with sliders for h and x\n",
        "output = Plot.children[-1] \n",
        "output.layout.height = '6.3in'\n",
        "Plot"
      ]
    },
    {
      "cell_type": "markdown",
      "source": [
        "* If you adjust the __h__ slider down towards zero, then you can see that the ratio\n",
        "$$\n",
        "\\frac{f(1+h)-f(1)}{h}\n",
        "$$\n",
        "approaches the value $3$, as we expect from our __Table of Derivatives__\n",
        "\n",
        "\n",
        "* You can also adjust the __a__ slider to calcuate the derivative $\\frac{df}{dx}=3x^2$ at various inputs for $x$.\n",
        "\n",
        "\n",
        "* For example, if we adjust the __x__-slider to $x=0.5$, we see that the derivative $\\frac{df}{dx}=3x^2$ approaches the value __0.75__  \n",
        "\n",
        "---"
      ],
      "metadata": {
        "id": "vsTeBLw9vRH3"
      }
    },
    {
      "cell_type": "markdown",
      "source": [
        "## __Exercise 1__\n",
        "\n",
        "(a) Define a new Python function to represent\n",
        "$$\n",
        "g(x) = x^2-x.\n",
        "$$"
      ],
      "metadata": {
        "id": "6dGTs_tCyvAM"
      }
    },
    {
      "cell_type": "code",
      "source": [],
      "metadata": {
        "id": "4PyxufPVDiAB"
      },
      "execution_count": null,
      "outputs": []
    },
    {
      "cell_type": "markdown",
      "source": [
        "(b) __Copy & Paste__ the code from the interavitve plot above into the code cell below.\n",
        "\n",
        "\n",
        "(c) Adjust this code to plot the graph of __g(x)__ on the interval $ x\\in[-1,3].$ \n",
        "\n",
        "\n",
        "(d) __Adjust__ the sliders __h__ and __x__ to estimate the derivative of $\\frac{dg}{dx}$ at __x=0.2__ and __x=1.25__. "
      ],
      "metadata": {
        "id": "IaubHBabz0wz"
      }
    },
    {
      "cell_type": "code",
      "source": [],
      "metadata": {
        "id": "JwpZYkKuz8xL"
      },
      "execution_count": null,
      "outputs": []
    },
    {
      "cell_type": "markdown",
      "source": [
        "(c) What is the value of $\\frac{dg}{dx}$ at $x=1.2$ and $x=2.25$."
      ],
      "metadata": {
        "id": "R2q_lrjPz9ly"
      }
    },
    {
      "cell_type": "code",
      "source": [],
      "metadata": {
        "id": "3tpzulxT0eNk"
      },
      "execution_count": null,
      "outputs": []
    },
    {
      "cell_type": "code",
      "source": [],
      "metadata": {
        "id": "qaM1tiB70eIr"
      },
      "execution_count": null,
      "outputs": []
    },
    {
      "cell_type": "markdown",
      "source": [
        "---\n",
        "---"
      ],
      "metadata": {
        "id": "kT6Z0QG7QyPj"
      }
    },
    {
      "cell_type": "markdown",
      "source": [
        "# Section 2 - Symbolic Functions & Plots\n",
        "\n",
        "* While the definition of the derivative above is a useful way to see what the derivative is, it is not very convenitent when you want to carry our calculations.\n",
        "\n",
        "* For this purpose we use __tables of derivative__ to calculate derivatives by had.\n",
        "\n",
        "* In python there is a similar procedure we can use to calculate derivatives, using the __SymPy__ library, which stands for __Sym__bolic __Py__thon.\n",
        "\n",
        "* This library is imported below as __sym:__\n",
        "\n",
        "\n",
        "### Importing SymPy"
      ],
      "metadata": {
        "id": "4R2AJV343OM7"
      }
    },
    {
      "cell_type": "code",
      "source": [
        "import sympy as sym"
      ],
      "metadata": {
        "id": "MP0BmHnK4FWQ"
      },
      "execution_count": null,
      "outputs": []
    },
    {
      "cell_type": "markdown",
      "source": [
        "## Example 2.1 - Symbolic Variables & Functions\n",
        "\n",
        "* To define functions like $f(x)=x^3$ we first need to define a __symbolic variable__ to represent $x$ as follows: "
      ],
      "metadata": {
        "id": "lubzCdhc4TYU"
      }
    },
    {
      "cell_type": "code",
      "source": [
        "x = sym.symbols('x', real = True)\n",
        "x"
      ],
      "metadata": {
        "colab": {
          "base_uri": "https://localhost:8080/",
          "height": 38
        },
        "id": "salfkhhm4kfI",
        "outputId": "0d48fabc-7a04-4b4d-91c2-cc8d7416b4a5"
      },
      "execution_count": null,
      "outputs": [
        {
          "output_type": "execute_result",
          "data": {
            "text/plain": [
              "x"
            ],
            "text/latex": "$\\displaystyle x$"
          },
          "metadata": {},
          "execution_count": 7
        }
      ]
    },
    {
      "cell_type": "markdown",
      "source": [
        "* This arguments of __sym.symbols()__ mean the following\n",
        "  * __real=True__ - This means __x__ should be interpreted as a real valued input i.e. not complex\n",
        "  * 'x' - Print x when __x__ is called in a code cell\n",
        "\n",
        "* The string 'x' can be changed to any text you wish, for example the python variable __Q__ below will print the string 'a-string' when called"
      ],
      "metadata": {
        "id": "Doy3sl7i4smQ"
      }
    },
    {
      "cell_type": "code",
      "source": [
        "Q=sym.symbols('a-string')\n",
        "Q"
      ],
      "metadata": {
        "colab": {
          "base_uri": "https://localhost:8080/",
          "height": 38
        },
        "id": "h_ZrVYLR4qkn",
        "outputId": "8998e0c3-29fe-4cd2-e951-26b7ca738ed6"
      },
      "execution_count": null,
      "outputs": [
        {
          "output_type": "execute_result",
          "data": {
            "text/plain": [
              "a-string"
            ],
            "text/latex": "$\\displaystyle a-string$"
          },
          "metadata": {},
          "execution_count": 8
        }
      ]
    },
    {
      "cell_type": "markdown",
      "source": [
        "### Defining a symbolic function\n",
        "\n",
        "* To define the symbolic function $f(x)=x^3$ we can now just set: "
      ],
      "metadata": {
        "id": "Vvy4jCMp81ut"
      }
    },
    {
      "cell_type": "code",
      "source": [
        "f=x**3\n",
        "f"
      ],
      "metadata": {
        "colab": {
          "base_uri": "https://localhost:8080/",
          "height": 38
        },
        "id": "rQJSSG0i9ENR",
        "outputId": "0491fb46-3269-4871-d2b0-fcbc1832faeb"
      },
      "execution_count": null,
      "outputs": [
        {
          "output_type": "execute_result",
          "data": {
            "text/plain": [
              "x**3"
            ],
            "text/latex": "$\\displaystyle x^{3}$"
          },
          "metadata": {},
          "execution_count": 9
        }
      ]
    },
    {
      "cell_type": "markdown",
      "source": [
        "* As you can see, it is very straight forward as there is no need to use __def()__, although you still can if you wish!"
      ],
      "metadata": {
        "id": "a1_UqWJ-9Gyl"
      }
    },
    {
      "cell_type": "markdown",
      "source": [
        "## __Exercise 2.1__ \n",
        "\n",
        "* Use __sym.sympy()__ to define a python variable __t__ which will display the string $t$"
      ],
      "metadata": {
        "id": "-OjaKSp69bAq"
      }
    },
    {
      "cell_type": "code",
      "source": [],
      "metadata": {
        "id": "Naiajfy79rNa"
      },
      "execution_count": null,
      "outputs": []
    },
    {
      "cell_type": "markdown",
      "source": [
        "* Now define the symbolic function $r = t^2-4t +1$"
      ],
      "metadata": {
        "id": "1kojWpmv9sGy"
      }
    },
    {
      "cell_type": "code",
      "source": [],
      "metadata": {
        "id": "aILYasA891Sh"
      },
      "execution_count": null,
      "outputs": []
    },
    {
      "cell_type": "code",
      "source": [],
      "metadata": {
        "id": "I50ITTEk-Byi"
      },
      "execution_count": null,
      "outputs": []
    },
    {
      "cell_type": "markdown",
      "source": [
        "---"
      ],
      "metadata": {
        "id": "KAMjehjxQ3wG"
      }
    },
    {
      "cell_type": "markdown",
      "source": [
        "## Example 2.2 - Lambdify functions and plotting\n",
        "\n",
        "* The symbolic library does not work very well with the numpy library, since they are desigened to do two very different types of calculation.\n",
        "\n",
        "\n",
        "* However, we can always use the function __sym.lamdify()__ to convert a sympy function to a numpy function, which works very well with matplotlib for plotting.\n",
        "\n",
        "\n",
        "* In the cell below we define the sympy function\n",
        "$$\n",
        "p(x) = \\frac{e^x}{1+x^2}\\sin(2x)\n",
        "$$"
      ],
      "metadata": {
        "id": "84xbQOB2BXha"
      }
    },
    {
      "cell_type": "code",
      "source": [
        "p =sym.exp(x)/(1+x**2)*sym.sin(2*x)\n",
        "p"
      ],
      "metadata": {
        "colab": {
          "base_uri": "https://localhost:8080/",
          "height": 54
        },
        "id": "tsQ4O_NWCKoi",
        "outputId": "459c6555-701d-4b22-f840-41bd0ccc6fb1"
      },
      "execution_count": null,
      "outputs": [
        {
          "output_type": "execute_result",
          "data": {
            "text/plain": [
              "exp(x)*sin(2*x)/(x**2 + 1)"
            ],
            "text/latex": "$\\displaystyle \\frac{e^{x} \\sin{\\left(2 x \\right)}}{x^{2} + 1}$"
          },
          "metadata": {},
          "execution_count": 10
        }
      ]
    },
    {
      "cell_type": "markdown",
      "source": [
        "### __Important:__ \n",
        "\n",
        "* The symolic functions $\\sin()$, $\\cos()$ and $\\tan()$ are called from the sympy library by placing __sym.__ before the corresponding function name, similar to the numpy versions of these functions\n",
        "\n",
        "* Similary, the functions $\\sqrt{( )}$, $e^{( )}$ and $\\ln( )$ are called using __sym.sqrt()__, __sym.exp()__, __sym.log()__"
      ],
      "metadata": {
        "id": "DRb0gYiZCW0-"
      }
    },
    {
      "cell_type": "markdown",
      "source": [
        "### Lambdify the function\n",
        "\n",
        "* The next cell __lambdifies__ this function, so that it becomes compatible with the numpy and matplotlib libraries.\n",
        "\n",
        "* From now on we will use __lower case letters__ for __symbolic functions__ and __varibales__\n",
        "\n",
        "* We will use __upper case letters__ for __numerical functions__ and __variables__, just so things are easier to follow in the code!!"
      ],
      "metadata": {
        "id": "r3PhlylbDok7"
      }
    },
    {
      "cell_type": "code",
      "source": [
        "P = sym.lambdify(x, p, 'numpy')"
      ],
      "metadata": {
        "id": "2CZzcrMwCS0b"
      },
      "execution_count": null,
      "outputs": []
    },
    {
      "cell_type": "markdown",
      "source": [
        "#### SYNTAX of lambdify\n",
        "\n",
        "* The argument __x__ is used since $x$ was the symbolic variable used to define the symbolic __p__.\n",
        "\n",
        "* __p__ is the symbolic function we want to lambdify\n",
        "\n",
        "* 'numpy' is the type of function we want to lambdify to.\n",
        "\n",
        "* __P__ is the name we have chosen to give to the numpy version of __p__"
      ],
      "metadata": {
        "id": "uuklzpuMEhvl"
      }
    },
    {
      "cell_type": "markdown",
      "source": [
        "### Plotting the lambdified function\n",
        "\n",
        "* We can now plot the numpy function __P__ using the usual matplotlib function.\n",
        "\n",
        "* We will plot the function over the interval __X__$\\in[-2,2]$\n",
        "\n",
        "* Again, we will use capital letters for numpy intervals like __X__"
      ],
      "metadata": {
        "id": "IyVBoSHXFo-r"
      }
    },
    {
      "cell_type": "code",
      "source": [
        "X=np.linspace(-2,2,501)\n",
        "\n",
        "plt.plot(X,P(X),lw=2,c='cornflowerblue',label='p(x)')\n",
        "\n",
        "plt.axhline(y=0,lw=0.75)\n",
        "plt.axvline(x=0,lw=0.75)\n",
        "\n",
        "plt.xlabel('x')\n",
        "plt.ylabel('y')\n",
        "\n",
        "plt.legend()\n",
        "\n",
        "plt.show()"
      ],
      "metadata": {
        "colab": {
          "base_uri": "https://localhost:8080/",
          "height": 361
        },
        "id": "EH6j3ppXE7Gk",
        "outputId": "656d1ac4-63eb-400b-8019-07a080e6f087"
      },
      "execution_count": null,
      "outputs": [
        {
          "output_type": "display_data",
          "data": {
            "text/plain": [
              "<Figure size 576x396 with 1 Axes>"
            ],
            "image/png": "[encoded data removed]"
          },
          "metadata": {}
        }
      ]
    },
    {
      "cell_type": "markdown",
      "source": [
        "---\n",
        "## __Exercise 2.2__\n",
        "\n",
        "(a) Define the symbolic function \n",
        "$$\n",
        "q = \\frac{\\cos(t)}{1+e^{t}}.\n",
        "$$\n",
        "__NOTE:__ The symbolic variable $t$ should be already defined from __Exercise 2.1__\n"
      ],
      "metadata": {
        "id": "tDfehYx_HbFZ"
      }
    },
    {
      "cell_type": "code",
      "source": [],
      "metadata": {
        "id": "M1RYg5B0GG50"
      },
      "execution_count": null,
      "outputs": []
    },
    {
      "cell_type": "markdown",
      "source": [
        "(b) Use __sym.lambdify()__ to define __Q__ the numpy version of __q__ "
      ],
      "metadata": {
        "id": "mdK81jggIXg0"
      }
    },
    {
      "cell_type": "code",
      "source": [],
      "metadata": {
        "id": "6RmR4DFyIPfF"
      },
      "execution_count": null,
      "outputs": []
    },
    {
      "cell_type": "markdown",
      "source": [
        "(c) Use __np.linspace()__ to define the interval __T = [-5,5]__ with __501__ points, and plot __Q__ along this interval."
      ],
      "metadata": {
        "id": "bkNkEyYlIpr8"
      }
    },
    {
      "cell_type": "code",
      "source": [],
      "metadata": {
        "id": "lCZMf0GKIm4d"
      },
      "execution_count": null,
      "outputs": []
    },
    {
      "cell_type": "code",
      "source": [],
      "metadata": {
        "id": "PTqzi-uSJC7E"
      },
      "execution_count": null,
      "outputs": []
    },
    {
      "cell_type": "markdown",
      "source": [
        "---\n",
        "---"
      ],
      "metadata": {
        "id": "PmTqNy48QtTX"
      }
    },
    {
      "cell_type": "markdown",
      "source": [
        "# Section 3 - Symbolic Derivatives & Plots\n",
        "\n",
        "\n",
        "* Now that we know how to define and plot symbolic functions, we can use the __sym.diff()__ function to calcualte the __Derivatives__ of symbolic functions.\n",
        "\n",
        "\n",
        "* We can then use the techniques of Section 2 to plot these functions and their derivatives also."
      ],
      "metadata": {
        "id": "uzFfqrEWJ6Ql"
      }
    },
    {
      "cell_type": "markdown",
      "source": [
        "## Example 3\n",
        "\n",
        "* Use the __sym.diff()__ function to calculate the __first__ and __second__ derivatives of the function __p__ defined in __Example 2.2.__\n",
        "\n",
        "\n",
        "* First, to remind ourselves we call the symbolic function __p__ again in the cell below."
      ],
      "metadata": {
        "id": "RRxIKp5BKasB"
      }
    },
    {
      "cell_type": "code",
      "source": [
        "p"
      ],
      "metadata": {
        "colab": {
          "base_uri": "https://localhost:8080/",
          "height": 54
        },
        "id": "dz8PB4cJKXcl",
        "outputId": "3fd09ba3-c598-4649-bbf5-7786bfdbe6c3"
      },
      "execution_count": null,
      "outputs": [
        {
          "output_type": "execute_result",
          "data": {
            "text/plain": [
              "exp(x)*sin(2*x)/(x**2 + 1)"
            ],
            "text/latex": "$\\displaystyle \\frac{e^{x} \\sin{\\left(2 x \\right)}}{x^{2} + 1}$"
          },
          "metadata": {},
          "execution_count": 13
        }
      ]
    },
    {
      "cell_type": "markdown",
      "source": [
        "* The __first derivative__ is found using:"
      ],
      "metadata": {
        "id": "8SS7BotXK6rC"
      }
    },
    {
      "cell_type": "code",
      "source": [
        "dp = sym.diff(p, (x,1))\n",
        "dp"
      ],
      "metadata": {
        "colab": {
          "base_uri": "https://localhost:8080/",
          "height": 60
        },
        "id": "hQmi6EgvK5GN",
        "outputId": "e394a516-f30b-48ad-e8a5-9726086f874e"
      },
      "execution_count": null,
      "outputs": [
        {
          "output_type": "execute_result",
          "data": {
            "text/plain": [
              "-2*x*exp(x)*sin(2*x)/(x**2 + 1)**2 + exp(x)*sin(2*x)/(x**2 + 1) + 2*exp(x)*cos(2*x)/(x**2 + 1)"
            ],
            "text/latex": "$\\displaystyle - \\frac{2 x e^{x} \\sin{\\left(2 x \\right)}}{\\left(x^{2} + 1\\right)^{2}} + \\frac{e^{x} \\sin{\\left(2 x \\right)}}{x^{2} + 1} + \\frac{2 e^{x} \\cos{\\left(2 x \\right)}}{x^{2} + 1}$"
          },
          "metadata": {},
          "execution_count": 14
        }
      ]
    },
    {
      "cell_type": "markdown",
      "source": [
        "__SYNTAX of sym.diff()__\n",
        "\n",
        "* The function __sym.diff()__ takes the input __p__ to indicate the function we want to differentiate.\n",
        "\n",
        "* The second argument is __(x,1):__ This indicates we want to differentiate with respect to the variable __x__ since __p__ was originally defined in terms of __x__, while __1__ indicates we want the __first derivative__"
      ],
      "metadata": {
        "id": "DcPy00JpLLqt"
      }
    },
    {
      "cell_type": "markdown",
      "source": [
        "* The __second derivative__ is similarly given by"
      ],
      "metadata": {
        "id": "mBu8NfFwLq1V"
      }
    },
    {
      "cell_type": "code",
      "source": [
        "d2p = sym.diff(p,(x,2))\n",
        "d2p"
      ],
      "metadata": {
        "colab": {
          "base_uri": "https://localhost:8080/",
          "height": 78
        },
        "id": "HxI8osJnLIAl",
        "outputId": "3398713f-e172-4e80-cecd-d3e4f964f6a0"
      },
      "execution_count": null,
      "outputs": [
        {
          "output_type": "execute_result",
          "data": {
            "text/plain": [
              "(-4*x*sin(2*x)/(x**2 + 1) - 8*x*cos(2*x)/(x**2 + 1) - 3*sin(2*x) + 4*cos(2*x) + 2*(4*x**2/(x**2 + 1) - 1)*sin(2*x)/(x**2 + 1))*exp(x)/(x**2 + 1)"
            ],
            "text/latex": "$\\displaystyle \\frac{\\left(- \\frac{4 x \\sin{\\left(2 x \\right)}}{x^{2} + 1} - \\frac{8 x \\cos{\\left(2 x \\right)}}{x^{2} + 1} - 3 \\sin{\\left(2 x \\right)} + 4 \\cos{\\left(2 x \\right)} + \\frac{2 \\left(\\frac{4 x^{2}}{x^{2} + 1} - 1\\right) \\sin{\\left(2 x \\right)}}{x^{2} + 1}\\right) e^{x}}{x^{2} + 1}$"
          },
          "metadata": {},
          "execution_count": 15
        }
      ]
    },
    {
      "cell_type": "markdown",
      "source": [
        "## Lambidfication\n",
        "\n",
        "* Use __sym.lambdify()__ to lambdify the first and second derivatives of __p__, we will call these lambdifed versions __DP__ and __D2P__."
      ],
      "metadata": {
        "id": "b2b7tEEfN_Qo"
      }
    },
    {
      "cell_type": "code",
      "source": [
        "DP=sym.lambdify(x,dp,'numpy')\n",
        "D2P=sym.lambdify(x,d2p,'numpy')"
      ],
      "metadata": {
        "id": "oGdin8bAMHRl"
      },
      "execution_count": null,
      "outputs": []
    },
    {
      "cell_type": "markdown",
      "source": [
        "* Now plot the numpy functions __P__, __DP__ and __D2P__ along the interval __X=[-2,2]__ defined earlier."
      ],
      "metadata": {
        "id": "Lc2bbwCXOPFS"
      }
    },
    {
      "cell_type": "code",
      "source": [
        "plt.figure(figsize=(15,10))\n",
        "\n",
        "plt.plot(X,P(X),label='$p(x)$')\n",
        "plt.plot(X,DP(X),label='$\\\\frac{dp}{dx}$')\n",
        "plt.plot(X,D2P(X),label='$\\\\frac{d^2p}{dx^2}$')\n",
        "\n",
        "plt.axhline(y=0,lw=0.75)\n",
        "plt.axvline(x=0,lw=0.75)\n",
        "\n",
        "plt.legend(fontsize=12)\n",
        "\n",
        "plt.xlabel('x')\n",
        "plt.ylabel('y')\n",
        "\n",
        "plt.show()"
      ],
      "metadata": {
        "colab": {
          "base_uri": "https://localhost:8080/",
          "height": 606
        },
        "id": "sGBmFbJBMsuu",
        "outputId": "e2ad8bca-14f6-4c39-febc-0fd0ec25205f"
      },
      "execution_count": null,
      "outputs": [
        {
          "output_type": "display_data",
          "data": {
            "text/plain": [
              "<Figure size 1080x720 with 1 Axes>"
            ],
            "image/png": "[encoded data removed]"
          },
          "metadata": {}
        }
      ]
    },
    {
      "cell_type": "markdown",
      "source": [
        "---"
      ],
      "metadata": {
        "id": "JzuROtvpQ96O"
      }
    },
    {
      "cell_type": "code",
      "source": [],
      "metadata": {
        "id": "cKqty3nzM_jO"
      },
      "execution_count": null,
      "outputs": []
    },
    {
      "cell_type": "markdown",
      "source": [
        "## __Exercie 3__\n",
        "\n",
        "(a) Use __sym.diff()__ to find the __first__ and __third__ derivatives of the function __q__ with respect to $t$, which were defined in __Exercise 2.2__"
      ],
      "metadata": {
        "id": "47vZ2u3RP3Wu"
      }
    },
    {
      "cell_type": "code",
      "source": [],
      "metadata": {
        "id": "zTfGVgUUQMo2"
      },
      "execution_count": null,
      "outputs": []
    },
    {
      "cell_type": "code",
      "source": [],
      "metadata": {
        "id": "6cDFkFThQNx7"
      },
      "execution_count": null,
      "outputs": []
    },
    {
      "cell_type": "code",
      "source": [],
      "metadata": {
        "id": "ZVZWz8bXQNuK"
      },
      "execution_count": null,
      "outputs": []
    },
    {
      "cell_type": "code",
      "source": [],
      "metadata": {
        "id": "S7m946oZQNpj"
      },
      "execution_count": null,
      "outputs": []
    },
    {
      "cell_type": "markdown",
      "source": [
        "(b) Use __sym.lambdify()__ create numpy versions of these derivatives called __DQ__ and __D3Q__"
      ],
      "metadata": {
        "id": "9w_Xb8QvQONi"
      }
    },
    {
      "cell_type": "code",
      "source": [],
      "metadata": {
        "id": "zEY9j_fCQb8G"
      },
      "execution_count": null,
      "outputs": []
    },
    {
      "cell_type": "code",
      "source": [],
      "metadata": {
        "id": "7Q87DOHgQclN"
      },
      "execution_count": null,
      "outputs": []
    },
    {
      "cell_type": "code",
      "source": [],
      "metadata": {
        "id": "douLKgiiQdcb"
      },
      "execution_count": null,
      "outputs": []
    },
    {
      "cell_type": "markdown",
      "source": [
        "(c) Plot the functions __Q__, __DQ__ and __D3Q__ over the interval __T=[-5,5]__ already defined in __Exercise 2.2__"
      ],
      "metadata": {
        "id": "1VtZH7CpQe68"
      }
    },
    {
      "cell_type": "code",
      "source": [],
      "metadata": {
        "id": "3NzF6ypFRJCm"
      },
      "execution_count": null,
      "outputs": []
    },
    {
      "cell_type": "code",
      "source": [],
      "metadata": {
        "id": "GQRPI1h1RXnc"
      },
      "execution_count": null,
      "outputs": []
    },
    {
      "cell_type": "code",
      "source": [],
      "metadata": {
        "id": "zRD0n5QaRXdM"
      },
      "execution_count": null,
      "outputs": []
    },
    {
      "cell_type": "markdown",
      "source": [
        "---\n",
        "---"
      ],
      "metadata": {
        "id": "Dk3gH_2OVp0A"
      }
    },
    {
      "cell_type": "markdown",
      "source": [
        "# Section 4 - Rules of Differentation\n",
        "\n",
        "* We already have tables of derivatives to calcualte derivatives symbolically.\n",
        "\n",
        "* We would like to confirm some of these rules using __sym.diff()__ for a number of differenti functions."
      ],
      "metadata": {
        "id": "az7lTbgSRYKO"
      }
    },
    {
      "cell_type": "markdown",
      "source": [
        "## Example 4\n",
        "\n",
        "* Use the function __sym.diff()__ to find the $1^{\\rm st}$, $2^{\\rm nd}$ amd $3^{\\rm rd}$ deerivatives of the following functions:"
      ],
      "metadata": {
        "id": "BDKcoowxR3_a"
      }
    },
    {
      "cell_type": "markdown",
      "source": [
        "(a) $f_{1} = x^4 +x^{-\\frac{3}{2}}$"
      ],
      "metadata": {
        "id": "ubekTIgzTKcL"
      }
    },
    {
      "cell_type": "code",
      "source": [
        "f1 = x**4 +x**(-3/2)\n",
        "df1 = sym.diff(f1,(x,1))\n",
        "d2f1 = sym.diff(f1,(x,2))\n",
        "d3f1 = sym.diff(f1,(x,3))"
      ],
      "metadata": {
        "id": "mAor4M5yR2oP"
      },
      "execution_count": null,
      "outputs": []
    },
    {
      "cell_type": "code",
      "source": [
        "f1"
      ],
      "metadata": {
        "colab": {
          "base_uri": "https://localhost:8080/",
          "height": 38
        },
        "id": "qhpDh6jdS9an",
        "outputId": "6aa42ee0-b419-47ee-a4ee-1c8a8bc19e43"
      },
      "execution_count": null,
      "outputs": [
        {
          "output_type": "execute_result",
          "data": {
            "text/plain": [
              "x**(-1.5) + x**4"
            ],
            "text/latex": "$\\displaystyle x^{-1.5} + x^{4}$"
          },
          "metadata": {},
          "execution_count": 19
        }
      ]
    },
    {
      "cell_type": "code",
      "source": [
        "df1"
      ],
      "metadata": {
        "colab": {
          "base_uri": "https://localhost:8080/",
          "height": 51
        },
        "id": "YljUgn5PS__g",
        "outputId": "6c86e269-bdf1-4ef3-84a3-8dc14bb381b5"
      },
      "execution_count": null,
      "outputs": [
        {
          "output_type": "execute_result",
          "data": {
            "text/plain": [
              "-1.5*x**(-2.5) + 4*x**3"
            ],
            "text/latex": "$\\displaystyle - \\frac{1.5}{x^{2.5}} + 4 x^{3}$"
          },
          "metadata": {},
          "execution_count": 20
        }
      ]
    },
    {
      "cell_type": "code",
      "source": [
        "d2f1"
      ],
      "metadata": {
        "colab": {
          "base_uri": "https://localhost:8080/",
          "height": 51
        },
        "id": "5KFWGrrYTBAw",
        "outputId": "c5a002c7-0352-42c0-ffd5-90f9e2be5b32"
      },
      "execution_count": null,
      "outputs": [
        {
          "output_type": "execute_result",
          "data": {
            "text/plain": [
              "3.75*x**(-3.5) + 12*x**2"
            ],
            "text/latex": "$\\displaystyle \\frac{3.75}{x^{3.5}} + 12 x^{2}$"
          },
          "metadata": {},
          "execution_count": 21
        }
      ]
    },
    {
      "cell_type": "code",
      "source": [
        "d3f1"
      ],
      "metadata": {
        "colab": {
          "base_uri": "https://localhost:8080/",
          "height": 51
        },
        "id": "ZbC4aEIxTCcA",
        "outputId": "6b32d2c8-4cff-45a3-fee2-84a0ec1e93ed"
      },
      "execution_count": null,
      "outputs": [
        {
          "output_type": "execute_result",
          "data": {
            "text/plain": [
              "-13.125*x**(-4.5) + 24*x"
            ],
            "text/latex": "$\\displaystyle - \\frac{13.125}{x^{4.5}} + 24 x$"
          },
          "metadata": {},
          "execution_count": 22
        }
      ]
    },
    {
      "cell_type": "markdown",
      "source": [
        "(b) $f_{2} = e^{-3x} + \\sin(2x)$"
      ],
      "metadata": {
        "id": "yBkWeUTxTNu8"
      }
    },
    {
      "cell_type": "code",
      "source": [
        "f2=sym.exp(-3*x)+sym.sin(2*x)\n",
        "df2 = sym.diff(f2,(x,1))\n",
        "d2f2 = sym.diff(f2,(x,2))\n",
        "d3f2 = sym.diff(f2,(x,3))"
      ],
      "metadata": {
        "id": "UhTm0TkmTQde"
      },
      "execution_count": null,
      "outputs": []
    },
    {
      "cell_type": "code",
      "source": [
        "f2"
      ],
      "metadata": {
        "colab": {
          "base_uri": "https://localhost:8080/",
          "height": 38
        },
        "id": "4HbkQBsTTW04",
        "outputId": "639429f5-b432-4394-f7a9-63c9ba642b60"
      },
      "execution_count": null,
      "outputs": [
        {
          "output_type": "execute_result",
          "data": {
            "text/plain": [
              "sin(2*x) + exp(-3*x)"
            ],
            "text/latex": "$\\displaystyle \\sin{\\left(2 x \\right)} + e^{- 3 x}$"
          },
          "metadata": {},
          "execution_count": 24
        }
      ]
    },
    {
      "cell_type": "code",
      "source": [
        "df2"
      ],
      "metadata": {
        "colab": {
          "base_uri": "https://localhost:8080/",
          "height": 38
        },
        "id": "05z2rsCiTbS3",
        "outputId": "87094ec5-a996-43f1-9a27-12a7e074066f"
      },
      "execution_count": null,
      "outputs": [
        {
          "output_type": "execute_result",
          "data": {
            "text/plain": [
              "2*cos(2*x) - 3*exp(-3*x)"
            ],
            "text/latex": "$\\displaystyle 2 \\cos{\\left(2 x \\right)} - 3 e^{- 3 x}$"
          },
          "metadata": {},
          "execution_count": 25
        }
      ]
    },
    {
      "cell_type": "code",
      "source": [
        "d2f2"
      ],
      "metadata": {
        "colab": {
          "base_uri": "https://localhost:8080/",
          "height": 38
        },
        "id": "Ofb9opl7Tdzn",
        "outputId": "24b46fbc-f22c-44c2-ea65-3c66f1ade05c"
      },
      "execution_count": null,
      "outputs": [
        {
          "output_type": "execute_result",
          "data": {
            "text/plain": [
              "-4*sin(2*x) + 9*exp(-3*x)"
            ],
            "text/latex": "$\\displaystyle - 4 \\sin{\\left(2 x \\right)} + 9 e^{- 3 x}$"
          },
          "metadata": {},
          "execution_count": 26
        }
      ]
    },
    {
      "cell_type": "code",
      "source": [
        "d3f2"
      ],
      "metadata": {
        "colab": {
          "base_uri": "https://localhost:8080/",
          "height": 38
        },
        "id": "KcIzd-82TfOf",
        "outputId": "03e96272-8cc9-49be-de66-6495b8917c1f"
      },
      "execution_count": null,
      "outputs": [
        {
          "output_type": "execute_result",
          "data": {
            "text/plain": [
              "-(8*cos(2*x) + 27*exp(-3*x))"
            ],
            "text/latex": "$\\displaystyle - (8 \\cos{\\left(2 x \\right)} + 27 e^{- 3 x})$"
          },
          "metadata": {},
          "execution_count": 27
        }
      ]
    },
    {
      "cell_type": "markdown",
      "source": [
        "(c) $f_{3} = \\tan(4x) + \\tan^{-1}\\left(\\frac{x}{3}\\right)$"
      ],
      "metadata": {
        "id": "NMADX6_TTvoP"
      }
    },
    {
      "cell_type": "code",
      "source": [
        "f3=sym.tan(4*x)+sym.atan(x/3)\n",
        "df3 = sym.diff(f3,(x,1))\n",
        "d2f3 = sym.diff(f3,(x,2))\n",
        "d3f3 = sym.diff(f3,(x,3))"
      ],
      "metadata": {
        "id": "TgiMbIokTwhn"
      },
      "execution_count": null,
      "outputs": []
    },
    {
      "cell_type": "code",
      "source": [
        "f3"
      ],
      "metadata": {
        "colab": {
          "base_uri": "https://localhost:8080/",
          "height": 48
        },
        "id": "epu5cColT7EY",
        "outputId": "9ceff48a-e6a1-42f4-fe75-2053641a6cf1"
      },
      "execution_count": null,
      "outputs": [
        {
          "output_type": "execute_result",
          "data": {
            "text/plain": [
              "tan(4*x) + atan(x/3)"
            ],
            "text/latex": "$\\displaystyle \\tan{\\left(4 x \\right)} + \\operatorname{atan}{\\left(\\frac{x}{3} \\right)}$"
          },
          "metadata": {},
          "execution_count": 29
        }
      ]
    },
    {
      "cell_type": "code",
      "source": [
        "df3"
      ],
      "metadata": {
        "colab": {
          "base_uri": "https://localhost:8080/",
          "height": 68
        },
        "id": "6c7nqlugT8TP",
        "outputId": "781544d1-e9b9-4856-9159-090956b156d3"
      },
      "execution_count": null,
      "outputs": [
        {
          "output_type": "execute_result",
          "data": {
            "text/plain": [
              "4*tan(4*x)**2 + 4 + 1/(3*(x**2/9 + 1))"
            ],
            "text/latex": "$\\displaystyle 4 \\tan^{2}{\\left(4 x \\right)} + 4 + \\frac{1}{3 \\left(\\frac{x^{2}}{9} + 1\\right)}$"
          },
          "metadata": {},
          "execution_count": 30
        }
      ]
    },
    {
      "cell_type": "code",
      "source": [
        "d2f3"
      ],
      "metadata": {
        "colab": {
          "base_uri": "https://localhost:8080/",
          "height": 68
        },
        "id": "o0NzHsKMT9gv",
        "outputId": "a480e7ba-2f46-47e2-a9d0-4068456e05a4"
      },
      "execution_count": null,
      "outputs": [
        {
          "output_type": "execute_result",
          "data": {
            "text/plain": [
              "2*(-3*x/(x**2 + 9)**2 + 16*(tan(4*x)**2 + 1)*tan(4*x))"
            ],
            "text/latex": "$\\displaystyle 2 \\left(- \\frac{3 x}{\\left(x^{2} + 9\\right)^{2}} + 16 \\left(\\tan^{2}{\\left(4 x \\right)} + 1\\right) \\tan{\\left(4 x \\right)}\\right)$"
          },
          "metadata": {},
          "execution_count": 31
        }
      ]
    },
    {
      "cell_type": "code",
      "source": [
        "d3f3"
      ],
      "metadata": {
        "colab": {
          "base_uri": "https://localhost:8080/",
          "height": 68
        },
        "id": "Fy6wozK1T-XP",
        "outputId": "4723cdc2-da12-483e-88ce-79033c532ac3"
      },
      "execution_count": null,
      "outputs": [
        {
          "output_type": "execute_result",
          "data": {
            "text/plain": [
              "2*(12*x**2/(x**2 + 9)**3 + 64*(tan(4*x)**2 + 1)**2 + 128*(tan(4*x)**2 + 1)*tan(4*x)**2 - 3/(x**2 + 9)**2)"
            ],
            "text/latex": "$\\displaystyle 2 \\left(\\frac{12 x^{2}}{\\left(x^{2} + 9\\right)^{3}} + 64 \\left(\\tan^{2}{\\left(4 x \\right)} + 1\\right)^{2} + 128 \\left(\\tan^{2}{\\left(4 x \\right)} + 1\\right) \\tan^{2}{\\left(4 x \\right)} - \\frac{3}{\\left(x^{2} + 9\\right)^{2}}\\right)$"
          },
          "metadata": {},
          "execution_count": 32
        }
      ]
    },
    {
      "cell_type": "markdown",
      "source": [
        "### The $\\arctan()$ Function\n",
        "\n",
        "* Another name for the $\\tan^{-1}()$ function is $\\arctan()$. \n",
        "\n",
        "\n",
        "* This is called from the sympy library as __sym.atan()__, the prefix __a__ is used to indicate __arc__.\n",
        "\n",
        "\n",
        "* Similarly the symbolic $\\sin^{-1}()$ and $\\cos^{-1}()$ functions are called using __sym.asin()__ and __sym.acos()__."
      ],
      "metadata": {
        "id": "FFXVOKzxUAlw"
      }
    },
    {
      "cell_type": "markdown",
      "source": [
        "---"
      ],
      "metadata": {
        "id": "SJzco85fVsQV"
      }
    },
    {
      "cell_type": "markdown",
      "source": [
        "## __Exercie 4__\n",
        "\n",
        "* Use the __sym.diff()__ function the find the $1^{\\rm st}$, $3^{\\rm rd}$ and $5^{\\rm th}$ derivatives of the following functions:"
      ],
      "metadata": {
        "id": "LqDKTg2vUe9Q"
      }
    },
    {
      "cell_type": "markdown",
      "source": [
        "(a) $g_1 = \\sin^{-1}\\left(\\frac{t}{2}\\right) + \\ln(3t)$"
      ],
      "metadata": {
        "id": "IhFxSC-MUu3n"
      }
    },
    {
      "cell_type": "code",
      "source": [],
      "metadata": {
        "id": "UgQHGeA7UtCH"
      },
      "execution_count": null,
      "outputs": []
    },
    {
      "cell_type": "code",
      "source": [],
      "metadata": {
        "id": "Hv1BeF1pU5tr"
      },
      "execution_count": null,
      "outputs": []
    },
    {
      "cell_type": "code",
      "source": [],
      "metadata": {
        "id": "lu8K0P7AU5lQ"
      },
      "execution_count": null,
      "outputs": []
    },
    {
      "cell_type": "code",
      "source": [],
      "metadata": {
        "id": "DvH_-kJuU5WM"
      },
      "execution_count": null,
      "outputs": []
    },
    {
      "cell_type": "markdown",
      "source": [
        "(b) $g_{2} = \\frac{1}{t^4} - t^{\\frac{5}{4}}$"
      ],
      "metadata": {
        "id": "ZmNnPX64U6K8"
      }
    },
    {
      "cell_type": "code",
      "source": [],
      "metadata": {
        "id": "hSDytWARVIKP"
      },
      "execution_count": null,
      "outputs": []
    },
    {
      "cell_type": "code",
      "source": [],
      "metadata": {
        "id": "lPzZtU4IVJ0t"
      },
      "execution_count": null,
      "outputs": []
    },
    {
      "cell_type": "code",
      "source": [],
      "metadata": {
        "id": "jMFS77FDVJke"
      },
      "execution_count": null,
      "outputs": []
    },
    {
      "cell_type": "code",
      "source": [],
      "metadata": {
        "id": "uD7kt48-VJWE"
      },
      "execution_count": null,
      "outputs": []
    },
    {
      "cell_type": "markdown",
      "source": [
        "(c) $g_{3} = e^{t} + \\tan(2t) + \\cos(3t)$"
      ],
      "metadata": {
        "id": "cfbGq3HYVKPz"
      }
    },
    {
      "cell_type": "code",
      "source": [],
      "metadata": {
        "id": "24yFrvUyVYow"
      },
      "execution_count": null,
      "outputs": []
    },
    {
      "cell_type": "code",
      "source": [],
      "metadata": {
        "id": "oztE2rdSVeSD"
      },
      "execution_count": null,
      "outputs": []
    },
    {
      "cell_type": "code",
      "source": [],
      "metadata": {
        "id": "oNZvCburVeJf"
      },
      "execution_count": null,
      "outputs": []
    },
    {
      "cell_type": "code",
      "source": [],
      "metadata": {
        "id": "f1bQC4mRVd_k"
      },
      "execution_count": null,
      "outputs": []
    }
  ],
  "metadata": {
    "colab": {
      "provenance": [],
      "include_colab_link": true
    },
    "kernelspec": {
      "display_name": "Python 3 (ipykernel)",
      "language": "python",
      "name": "python3"
    },
    "language_info": {
      "codemirror_mode": {
        "name": "ipython",
        "version": 3
      },
      "file_extension": ".py",
      "mimetype": "text/x-python",
      "name": "python",
      "nbconvert_exporter": "python",
      "pygments_lexer": "ipython3",
      "version": "3.9.12"
    },
    "widgets": {
      "application/vnd.jupyter.widget-state+json": {
        "b4e9d4b40f3a498992d0fc0252e87243": {
          "model_module": "@jupyter-widgets/controls",
          "model_name": "VBoxModel",
          "model_module_version": "1.5.0",
          "state": {
            "_dom_classes": [
              "widget-interact"
            ],
            "_model_module": "@jupyter-widgets/controls",
            "_model_module_version": "1.5.0",
            "_model_name": "VBoxModel",
            "_view_count": null,
            "_view_module": "@jupyter-widgets/controls",
            "_view_module_version": "1.5.0",
            "_view_name": "VBoxView",
            "box_style": "",
            "children": [
              "IPY_MODEL_a9230fd0753946aba4fbe259093c6e43",
              "IPY_MODEL_ac5f591e050e4346a49e2c96a5a5f19b",
              "IPY_MODEL_778773090f4742388a31d9d93ca6eece"
            ],
            "layout": "IPY_MODEL_084e878ca972439f82d00f530d46178d"
          }
        },
        "a9230fd0753946aba4fbe259093c6e43": {
          "model_module": "@jupyter-widgets/controls",
          "model_name": "FloatSliderModel",
          "model_module_version": "1.5.0",
          "state": {
            "_dom_classes": [],
            "_model_module": "@jupyter-widgets/controls",
            "_model_module_version": "1.5.0",
            "_model_name": "FloatSliderModel",
            "_view_count": null,
            "_view_module": "@jupyter-widgets/controls",
            "_view_module_version": "1.5.0",
            "_view_name": "FloatSliderView",
            "continuous_update": true,
            "description": "h",
            "description_tooltip": null,
            "disabled": false,
            "layout": "IPY_MODEL_57fb74cbe8bf46928d1c0212eff1d5ee",
            "max": 1,
            "min": 1e-10,
            "orientation": "horizontal",
            "readout": true,
            "readout_format": ".2f",
            "step": 0.001,
            "style": "IPY_MODEL_bd3bd832787748a190110db223257522",
            "value": 1
          }
        },
        "ac5f591e050e4346a49e2c96a5a5f19b": {
          "model_module": "@jupyter-widgets/controls",
          "model_name": "FloatSliderModel",
          "model_module_version": "1.5.0",
          "state": {
            "_dom_classes": [],
            "_model_module": "@jupyter-widgets/controls",
            "_model_module_version": "1.5.0",
            "_model_name": "FloatSliderModel",
            "_view_count": null,
            "_view_module": "@jupyter-widgets/controls",
            "_view_module_version": "1.5.0",
            "_view_name": "FloatSliderView",
            "continuous_update": true,
            "description": "x",
            "description_tooltip": null,
            "disabled": false,
            "layout": "IPY_MODEL_cd6a7045408f48968665cf540eed88c3",
            "max": 1.5,
            "min": -0.5,
            "orientation": "horizontal",
            "readout": true,
            "readout_format": ".2f",
            "step": 0.1,
            "style": "IPY_MODEL_85e9730bce994f75a232db870a7d0b1f",
            "value": 1.5
          }
        },
        "778773090f4742388a31d9d93ca6eece": {
          "model_module": "@jupyter-widgets/output",
          "model_name": "OutputModel",
          "model_module_version": "1.0.0",
          "state": {
            "_dom_classes": [],
            "_model_module": "@jupyter-widgets/output",
            "_model_module_version": "1.0.0",
            "_model_name": "OutputModel",
            "_view_count": null,
            "_view_module": "@jupyter-widgets/output",
            "_view_module_version": "1.0.0",
            "_view_name": "OutputView",
            "layout": "IPY_MODEL_c295f4c7313f4895822e1434f5323b1e",
            "msg_id": "",
            "outputs": [
              {
                "output_type": "display_data",
                "data": {
                  "text/plain": "<Figure size 864x648 with 1 Axes>",
                  "image/png": "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\n"
                },
                "metadata": {}
              }
            ]
          }
        },
        "084e878ca972439f82d00f530d46178d": {
          "model_module": "@jupyter-widgets/base",
          "model_name": "LayoutModel",
          "model_module_version": "1.2.0",
          "state": {
            "_model_module": "@jupyter-widgets/base",
            "_model_module_version": "1.2.0",
            "_model_name": "LayoutModel",
            "_view_count": null,
            "_view_module": "@jupyter-widgets/base",
            "_view_module_version": "1.2.0",
            "_view_name": "LayoutView",
            "align_content": null,
            "align_items": null,
            "align_self": null,
            "border": null,
            "bottom": null,
            "display": null,
            "flex": null,
            "flex_flow": null,
            "grid_area": null,
            "grid_auto_columns": null,
            "grid_auto_flow": null,
            "grid_auto_rows": null,
            "grid_column": null,
            "grid_gap": null,
            "grid_row": null,
            "grid_template_areas": null,
            "grid_template_columns": null,
            "grid_template_rows": null,
            "height": null,
            "justify_content": null,
            "justify_items": null,
            "left": null,
            "margin": null,
            "max_height": null,
            "max_width": null,
            "min_height": null,
            "min_width": null,
            "object_fit": null,
            "object_position": null,
            "order": null,
            "overflow": null,
            "overflow_x": null,
            "overflow_y": null,
            "padding": null,
            "right": null,
            "top": null,
            "visibility": null,
            "width": null
          }
        },
        "57fb74cbe8bf46928d1c0212eff1d5ee": {
          "model_module": "@jupyter-widgets/base",
          "model_name": "LayoutModel",
          "model_module_version": "1.2.0",
          "state": {
            "_model_module": "@jupyter-widgets/base",
            "_model_module_version": "1.2.0",
            "_model_name": "LayoutModel",
            "_view_count": null,
            "_view_module": "@jupyter-widgets/base",
            "_view_module_version": "1.2.0",
            "_view_name": "LayoutView",
            "align_content": null,
            "align_items": null,
            "align_self": null,
            "border": null,
            "bottom": null,
            "display": null,
            "flex": null,
            "flex_flow": null,
            "grid_area": null,
            "grid_auto_columns": null,
            "grid_auto_flow": null,
            "grid_auto_rows": null,
            "grid_column": null,
            "grid_gap": null,
            "grid_row": null,
            "grid_template_areas": null,
            "grid_template_columns": null,
            "grid_template_rows": null,
            "height": null,
            "justify_content": null,
            "justify_items": null,
            "left": null,
            "margin": null,
            "max_height": null,
            "max_width": null,
            "min_height": null,
            "min_width": null,
            "object_fit": null,
            "object_position": null,
            "order": null,
            "overflow": null,
            "overflow_x": null,
            "overflow_y": null,
            "padding": null,
            "right": null,
            "top": null,
            "visibility": null,
            "width": null
          }
        },
        "bd3bd832787748a190110db223257522": {
          "model_module": "@jupyter-widgets/controls",
          "model_name": "SliderStyleModel",
          "model_module_version": "1.5.0",
          "state": {
            "_model_module": "@jupyter-widgets/controls",
            "_model_module_version": "1.5.0",
            "_model_name": "SliderStyleModel",
            "_view_count": null,
            "_view_module": "@jupyter-widgets/base",
            "_view_module_version": "1.2.0",
            "_view_name": "StyleView",
            "description_width": "",
            "handle_color": null
          }
        },
        "cd6a7045408f48968665cf540eed88c3": {
          "model_module": "@jupyter-widgets/base",
          "model_name": "LayoutModel",
          "model_module_version": "1.2.0",
          "state": {
            "_model_module": "@jupyter-widgets/base",
            "_model_module_version": "1.2.0",
            "_model_name": "LayoutModel",
            "_view_count": null,
            "_view_module": "@jupyter-widgets/base",
            "_view_module_version": "1.2.0",
            "_view_name": "LayoutView",
            "align_content": null,
            "align_items": null,
            "align_self": null,
            "border": null,
            "bottom": null,
            "display": null,
            "flex": null,
            "flex_flow": null,
            "grid_area": null,
            "grid_auto_columns": null,
            "grid_auto_flow": null,
            "grid_auto_rows": null,
            "grid_column": null,
            "grid_gap": null,
            "grid_row": null,
            "grid_template_areas": null,
            "grid_template_columns": null,
            "grid_template_rows": null,
            "height": null,
            "justify_content": null,
            "justify_items": null,
            "left": null,
            "margin": null,
            "max_height": null,
            "max_width": null,
            "min_height": null,
            "min_width": null,
            "object_fit": null,
            "object_position": null,
            "order": null,
            "overflow": null,
            "overflow_x": null,
            "overflow_y": null,
            "padding": null,
            "right": null,
            "top": null,
            "visibility": null,
            "width": null
          }
        },
        "85e9730bce994f75a232db870a7d0b1f": {
          "model_module": "@jupyter-widgets/controls",
          "model_name": "SliderStyleModel",
          "model_module_version": "1.5.0",
          "state": {
            "_model_module": "@jupyter-widgets/controls",
            "_model_module_version": "1.5.0",
            "_model_name": "SliderStyleModel",
            "_view_count": null,
            "_view_module": "@jupyter-widgets/base",
            "_view_module_version": "1.2.0",
            "_view_name": "StyleView",
            "description_width": "",
            "handle_color": null
          }
        },
        "c295f4c7313f4895822e1434f5323b1e": {
          "model_module": "@jupyter-widgets/base",
          "model_name": "LayoutModel",
          "model_module_version": "1.2.0",
          "state": {
            "_model_module": "@jupyter-widgets/base",
            "_model_module_version": "1.2.0",
            "_model_name": "LayoutModel",
            "_view_count": null,
            "_view_module": "@jupyter-widgets/base",
            "_view_module_version": "1.2.0",
            "_view_name": "LayoutView",
            "align_content": null,
            "align_items": null,
            "align_self": null,
            "border": null,
            "bottom": null,
            "display": null,
            "flex": null,
            "flex_flow": null,
            "grid_area": null,
            "grid_auto_columns": null,
            "grid_auto_flow": null,
            "grid_auto_rows": null,
            "grid_column": null,
            "grid_gap": null,
            "grid_row": null,
            "grid_template_areas": null,
            "grid_template_columns": null,
            "grid_template_rows": null,
            "height": "6.3in",
            "justify_content": null,
            "justify_items": null,
            "left": null,
            "margin": null,
            "max_height": null,
            "max_width": null,
            "min_height": null,
            "min_width": null,
            "object_fit": null,
            "object_position": null,
            "order": null,
            "overflow": null,
            "overflow_x": null,
            "overflow_y": null,
            "padding": null,
            "right": null,
            "top": null,
            "visibility": null,
            "width": null
          }
        }
      }
    }
  },
  "nbformat": 4,
  "nbformat_minor": 0
}