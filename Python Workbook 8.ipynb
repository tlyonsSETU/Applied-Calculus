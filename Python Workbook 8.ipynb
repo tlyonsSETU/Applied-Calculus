{
  "cells": [
    {
      "cell_type": "markdown",
      "metadata": {
        "id": "view-in-github",
        "colab_type": "text"
      },
      "source": [
        "<a href=\"https://colab.research.google.com/github/tlyonsSETU/Applied-Calculus/blob/main/Python%20Workbook%208.ipynb\" target=\"_parent\"><img src=\"https://colab.research.google.com/assets/colab-badge.svg\" alt=\"Open In Colab\"/></a>"
      ]
    },
    {
      "cell_type": "markdown",
      "metadata": {
        "id": "bfHiH3IiMb4p"
      },
      "source": [
        "### Name:\n",
        "### Student Number:"
      ]
    },
    {
      "cell_type": "code",
      "source": [
        "import sympy as sym\n",
        "import numpy as np\n",
        "import matplotlib.pyplot as plt"
      ],
      "metadata": {
        "id": "qYYm017BEV6o"
      },
      "execution_count": 1,
      "outputs": []
    },
    {
      "cell_type": "code",
      "source": [
        "import matplotlib.style as style # Change the plot style used for graphs\n",
        "style.use('seaborn')"
      ],
      "metadata": {
        "id": "mqe8UmkaEX4r"
      },
      "execution_count": 2,
      "outputs": []
    },
    {
      "cell_type": "markdown",
      "metadata": {
        "id": "6ZCoHXywMb4y"
      },
      "source": [
        "# Python Workbook 8 - Further Applications Integration\n",
        "\n",
        "* In this workbook we will use __sympy__ and __numpy__ to examine more properties of definite integrals of the form $\\int_a^bf(x)dx$.\n",
        "\n",
        "\n",
        "* We will cover the following topics:\n",
        "\n",
        "  1. The average of a function.\n",
        "\n",
        "  2. The Root Mean Square (RMS) of a function.\n",
        "\n",
        "  3. Numerical integration of functions. \n",
        "\n",
        "\n",
        "---\n",
        "---\n",
        "\n",
        "\n",
        "\n",
        "\n"
      ]
    },
    {
      "cell_type": "markdown",
      "source": [
        "# Section 1:  Average Values of Functions\n",
        "\n",
        "* In this work book we will use the integral to evaluate the average value of some function $f(x)$, over some interval $a\\leq x\\leq b$.\n",
        "\n",
        "---\n",
        "## __Definition: The Average of a function__\n",
        "* Given an function $f(x)$ and an interval $X=[a,b]$, then the average of $f(x)$ over this interval is given by\n",
        "$$\n",
        "\\bar{f} = \\frac{1}{b-a}\\int_{a}^{b}f(x)dx\n",
        "$$\n",
        "\n",
        "\n",
        "* This defition basically means add $f(x)$ up for each value of $x\\in[a,b]$ which is given by the integral\n",
        "$$\n",
        "\\int_{a}^{b}f(x)dx,\n",
        "$$\n",
        "while multiplying by $\\frac{1}{b-a}$ means __dividing__ this sum by the __length__ of $[a,b]$, which is simply the distance between the end-points, i.e. $b-a$. \n",
        "\n",
        "---"
      ],
      "metadata": {
        "id": "ZgFSZ9pnFBXQ"
      }
    },
    {
      "cell_type": "code",
      "source": [],
      "metadata": {
        "id": "NmnzjXFm-ced"
      },
      "execution_count": 2,
      "outputs": []
    },
    {
      "cell_type": "markdown",
      "metadata": {
        "id": "nhZNwLcaMb41"
      },
      "source": [
        "## Example 1: \n",
        "\n",
        "Given the function\n",
        "$$\n",
        "f(t)=t^{3}-8t^{2}+t+75\n",
        "$$\n",
        "answer the following:\n",
        "\n",
        "\n",
        "1. Plot the function f(t) over the interval $-5\\leq t\\leq 5$.\n",
        "\n",
        "\n",
        "2. From the plot, determine if the function is __mostly positive__ or __mostly negative__.\n",
        "\n",
        "\n",
        "3. Determine the average value of the function.\n",
        "\n",
        "\n",
        "4. Does this agree with your observation in Part 2."
      ]
    },
    {
      "cell_type": "markdown",
      "metadata": {
        "id": "1Krfl4OfMb42"
      },
      "source": [
        "### Part 1:\n",
        "First we must create a symbolic variable for $t$, and then define the function $f(t)$."
      ]
    },
    {
      "cell_type": "code",
      "execution_count": 3,
      "metadata": {
        "id": "F8DeAWqLMb43"
      },
      "outputs": [],
      "source": [
        "t=sym.symbols('t')"
      ]
    },
    {
      "cell_type": "code",
      "execution_count": 4,
      "metadata": {
        "colab": {
          "base_uri": "https://localhost:8080/",
          "height": 38
        },
        "id": "NmYGeFuWMb43",
        "outputId": "ccfb0aa9-9c43-4b57-f42a-33b5bc6c4d81"
      },
      "outputs": [
        {
          "output_type": "execute_result",
          "data": {
            "text/plain": [
              "t**3 - 8*t**2 + t + 75"
            ],
            "text/latex": "$\\displaystyle t^{3} - 8 t^{2} + t + 75$"
          },
          "metadata": {},
          "execution_count": 4
        }
      ],
      "source": [
        "f=t**3-8*t**2+t+75\n",
        "f"
      ]
    },
    {
      "cell_type": "code",
      "source": [],
      "metadata": {
        "id": "aI2Z6XlY9QW1"
      },
      "execution_count": 4,
      "outputs": []
    },
    {
      "cell_type": "markdown",
      "metadata": {
        "id": "1Re5Y4NZMb46"
      },
      "source": [
        "* Now we can plot the function $f(t)$ over the interval $T=[-5, 5]$.\n",
        "\n",
        "* To do that, we __lambdify__ $f(t)$ in the usual way, and use  __np.linspace()__ to define the plot interval:"
      ]
    },
    {
      "cell_type": "code",
      "source": [
        "F=sym.lambdify(t,f,'numpy')"
      ],
      "metadata": {
        "id": "IR5GOik19jlW"
      },
      "execution_count": 5,
      "outputs": []
    },
    {
      "cell_type": "code",
      "source": [
        "T=np.linspace(-5,5,501)"
      ],
      "metadata": {
        "id": "8ihaFUOg9kHb"
      },
      "execution_count": 6,
      "outputs": []
    },
    {
      "cell_type": "markdown",
      "source": [
        "* Now we can plot __F__ on the linspace __T:__"
      ],
      "metadata": {
        "id": "OOQzkBH59yrC"
      }
    },
    {
      "cell_type": "code",
      "execution_count": 7,
      "metadata": {
        "colab": {
          "base_uri": "https://localhost:8080/",
          "height": 408
        },
        "id": "6xJ12oonMb47",
        "outputId": "f8442977-c0cb-470c-c5e2-c540932bf360"
      },
      "outputs": [
        {
          "output_type": "execute_result",
          "data": {
            "text/plain": [
              "(-5.0, 5.0)"
            ]
          },
          "metadata": {},
          "execution_count": 7
        },
        {
          "output_type": "display_data",
          "data": {
            "text/plain": [
              "<Figure size 648x432 with 1 Axes>"
            ],
            "image/png": "[encoded data removed]"
          },
          "metadata": {}
        }
      ],
      "source": [
        "plt.figure(figsize=(9,6))\n",
        "\n",
        "plt.plot(T,F(T),lw=2,c='blue',label='$f(t)$')\n",
        "\n",
        "plt.axhline(y=0,lw=0.75,c='k')\n",
        "plt.axvline(x=0,lw=0.75,c='k')\n",
        "\n",
        "plt.xlabel('$t$')\n",
        "plt.ylabel('f(t)')\n",
        "\n",
        "plt.xlim(-5,5)"
      ]
    },
    {
      "cell_type": "markdown",
      "metadata": {
        "id": "Nud3fT57Mb48"
      },
      "source": [
        "### Part 2:\n",
        "* From the graph it appears the function is __mostly potitive__, the function is positive over a much larger interval than negative.\n",
        "\n",
        "* The graph is negative (i.e. below the x-axis) between $t=-5$ and $t\\approx-2.5$.\n",
        "\n",
        "* The graph is positive for $t\\gtrsim-2.5$.\n",
        "\n",
        "* While the graph is very negative below $t\\approx-2.5$, it is comparably largely positive over the much larger interval $-2.5\\lesssim t\\leq 5$.\n",
        "\n",
        "* For this reason we say the grapg of $f(t)$ is mostly positive over the interval $T=[-5,5]$."
      ]
    },
    {
      "cell_type": "markdown",
      "metadata": {
        "id": "8eVt_zvgMb48"
      },
      "source": [
        "### Part 3:\n",
        "\n",
        "* We can make this statement more rigorous by calculating the average of $f(t)$ over the interval $T$.\n",
        "\n",
        "* First we give the __general definition__ of the __average__ of some function $f(x)$ over an interval $[a,b]=a\\leq x\\leq b$\n",
        "\n",
        "__DEFINTITION:__\n",
        "\n",
        "\n",
        "\n",
        "\n",
        "$$\n",
        "\\bar{f}=\\frac{1}{5-(-5)}\\int_{-5}^{5}f(t)dt=\\frac{1}{10}\\int_{-5}^{5}f(t)dt.\n",
        "$$\n",
        "\n"
      ]
    },
    {
      "cell_type": "code",
      "execution_count": 8,
      "metadata": {
        "colab": {
          "base_uri": "https://localhost:8080/",
          "height": 37
        },
        "id": "Aw2SEar6Mb4_",
        "outputId": "67a6c042-86fd-4340-cd33-7f5322d7ad51"
      },
      "outputs": [
        {
          "output_type": "execute_result",
          "data": {
            "text/plain": [
              "8.33333333333333"
            ],
            "text/latex": "$\\displaystyle 8.33333333333333$"
          },
          "metadata": {},
          "execution_count": 8
        }
      ],
      "source": [
        "a=-5\n",
        "b=5\n",
        "f_bar=(1/(b-a))*sym.integrate(f,(t,a,b))\n",
        "f_bar"
      ]
    },
    {
      "cell_type": "markdown",
      "metadata": {
        "id": "O0fqmLE-Mb5A"
      },
      "source": [
        "### Part 4:\n",
        "\n",
        "Since the function is mostly positive over the interval $-5\\leq t\\leq 5$, the average value of the function should be positive over this interval."
      ]
    },
    {
      "cell_type": "markdown",
      "metadata": {
        "id": "GfErax4BMb5B"
      },
      "source": [
        "## Exercise 1: \n",
        "\n",
        "The temperature $h$ (measureed in $^{\\circ}$C) at time $t$ is given by\n",
        "$$\n",
        "h(t)=0.001t^{4}-0.28t^{2}+25\n",
        "$$\n",
        "where $t$ is the number of hours from __noon__.\n",
        "\n",
        "Using this, answer the following:\n",
        "\n",
        "1. Plot the function h(t) over the interval $0\\leq t\\leq 12$, i.e. between noon and midnight (use __sym.lambdify()__ and __np.linspace()__ to set up the function and interval).\n",
        "\n",
        "\n",
        "\n",
        "2. From this plot, estimate if the temperature is mostly positive or mostly negative in this interval.\n",
        "\n",
        "\n",
        "\n",
        "3. Find the average value of the temperature beteween noon and midnight.\n",
        "\n",
        "\n",
        "\n",
        "4. Does this agree with your observation from Part 2."
      ]
    },
    {
      "cell_type": "code",
      "execution_count": 8,
      "metadata": {
        "id": "B1sdQoX7Mb5B"
      },
      "outputs": [],
      "source": []
    },
    {
      "cell_type": "code",
      "execution_count": 8,
      "metadata": {
        "id": "VE6mvoHMMb5B"
      },
      "outputs": [],
      "source": []
    },
    {
      "cell_type": "code",
      "execution_count": 8,
      "metadata": {
        "id": "fqAx4wmjMb5B"
      },
      "outputs": [],
      "source": []
    },
    {
      "cell_type": "code",
      "execution_count": 8,
      "metadata": {
        "id": "9ae6FFkSMb5C"
      },
      "outputs": [],
      "source": []
    },
    {
      "cell_type": "markdown",
      "source": [
        "---\n",
        "---"
      ],
      "metadata": {
        "id": "32pY9tumJlIA"
      }
    },
    {
      "cell_type": "markdown",
      "metadata": {
        "id": "eYBlILF5Mb5C"
      },
      "source": [
        "# Section 2:  The Root Mean Square (RMS) of a function\n",
        "\n",
        "\n",
        "## __Definition:: The RMS of a function__\n",
        "\n",
        "\n",
        "* Given a function $f(t)$, \n",
        "the __RMS__ of this function, over the time interval $a\\leq t\\leq b$ is given by:\n",
        "\n",
        "$$\n",
        "RMS(f(t))=\\sqrt{\\frac{1}{b-a}\\int f(t)^2dt}\n",
        "$$\n",
        "\n",
        "\n",
        "\n",
        "* This is an important type of average, especially in relation to electronics and elictrical supply, where currents and voltages are often __oscillatory__ funcitons of time."
      ]
    },
    {
      "cell_type": "markdown",
      "metadata": {
        "id": "yyMTTIbqMb5C"
      },
      "source": [
        "## Example 2 - RMS of a sinusoid\n",
        "\n",
        "Given by the function\n",
        "$$\n",
        "  g(t) = 400\\sin(250\\pi t),\n",
        "$$\n",
        " \n",
        "answer the following:\n",
        "1. Plot this function of the time interval $0\\leq t\\leq 0.016$.\n",
        " Is the graph mostly positive of mostly negative?\n",
        "\n",
        "\n",
        "2. Find the average value of this function over this time interval, as we did in __Exercise 1__.\n",
        "\n",
        "\n",
        "3. Find the RMS of this over the time interval.\n",
        "\n",
        "\n",
        "4. Confirm that this RMS is equivalent to $\\frac{400}{\\sqrt{2}}$"
      ]
    },
    {
      "cell_type": "markdown",
      "metadata": {
        "id": "unM1aoUoMb5D"
      },
      "source": [
        "### Part 1:\n",
        "* First we define $g(t)$ __symbolically__"
      ]
    },
    {
      "cell_type": "code",
      "execution_count": 9,
      "metadata": {
        "id": "6DHWCOVzMb5D",
        "colab": {
          "base_uri": "https://localhost:8080/",
          "height": 38
        },
        "outputId": "6b84cb16-56f9-4fc9-aa6d-efee4decfc21"
      },
      "outputs": [
        {
          "output_type": "execute_result",
          "data": {
            "text/plain": [
              "400*sin(250*pi*t)"
            ],
            "text/latex": "$\\displaystyle 400 \\sin{\\left(250 \\pi t \\right)}$"
          },
          "metadata": {},
          "execution_count": 9
        }
      ],
      "source": [
        "g=400*sym.sin(250*sym.pi*t)\n",
        "g"
      ]
    },
    {
      "cell_type": "markdown",
      "metadata": {
        "id": "UVBp4YJIMb5E"
      },
      "source": [
        "* Next we __lambdify__ and define the interval $0\\leq tleq 0.016$ using __np.linspace()__"
      ]
    },
    {
      "cell_type": "code",
      "execution_count": 10,
      "metadata": {
        "id": "7QoR2sLYMb5E"
      },
      "outputs": [],
      "source": [
        "G=sym.lambdify(t,g,'numpy')"
      ]
    },
    {
      "cell_type": "code",
      "source": [
        "T=np.linspace(0,0.016,501)"
      ],
      "metadata": {
        "id": "j6dIA6_rGyqZ"
      },
      "execution_count": 11,
      "outputs": []
    },
    {
      "cell_type": "markdown",
      "metadata": {
        "id": "HSXPzc1vMb5F"
      },
      "source": [
        "* Now we plot __G__ along __T__ using __matplotlib__\n",
        "\n",
        "\n",
        "\n",
        "* In other word, half of the area is above the $x$-axis and hald the area is below the $x$-axis."
      ]
    },
    {
      "cell_type": "code",
      "source": [
        "plt.figure(figsize=(10,7))\n",
        "\n",
        "plt.plot(T,G(T),c='blue',lw=2)\n",
        "\n",
        "plt.axhline(y=0,lw=0.75,c='k')\n",
        "plt.axvline(x=0,lw=0.75,c='k')\n",
        "\n",
        "plt.xlabel('$t$')\n",
        "plt.ylabel('g(t)')"
      ],
      "metadata": {
        "colab": {
          "base_uri": "https://localhost:8080/",
          "height": 462
        },
        "id": "dU-UbmIqG_Gl",
        "outputId": "205ba83f-d823-4608-abe0-4f8e76ba65f8"
      },
      "execution_count": 12,
      "outputs": [
        {
          "output_type": "execute_result",
          "data": {
            "text/plain": [
              "Text(0, 0.5, 'g(t)')"
            ]
          },
          "metadata": {},
          "execution_count": 12
        },
        {
          "output_type": "display_data",
          "data": {
            "text/plain": [
              "<Figure size 720x504 with 1 Axes>"
            ],
            "image/png": "[encoded data removed]"
          },
          "metadata": {}
        }
      ]
    },
    {
      "cell_type": "markdown",
      "source": [
        "* From this graph we see the fucntion is positive (above the horizontal) as much as it is negative (below the horizontal).\n",
        "\n",
        "* This means the function is __neither__ mostly positive or mostly negative.\n",
        "\n",
        "* It also means the integral of the function over this interval will be exactly zero, since the area below the horizontal cancels with the area above the horizontal."
      ],
      "metadata": {
        "id": "KmynafAWHcxy"
      }
    },
    {
      "cell_type": "markdown",
      "metadata": {
        "id": "wqbI0wN2Mb5F"
      },
      "source": [
        "### Part 2:\n",
        "\n",
        "* We can calucualte the integral $\\frac{1}{0.016-0}\\int_{0}^{0.016}g(t)dt$ (i.e. the average of $g(t)$ over the interval) symbolically as follows:"
      ]
    },
    {
      "cell_type": "code",
      "execution_count": 13,
      "metadata": {
        "colab": {
          "base_uri": "https://localhost:8080/",
          "height": 37
        },
        "id": "dxdnfYwQMb5G",
        "outputId": "0984960e-0363-437c-8a4b-1525430ff8c8"
      },
      "outputs": [
        {
          "output_type": "execute_result",
          "data": {
            "text/plain": [
              "0"
            ],
            "text/latex": "$\\displaystyle 0$"
          },
          "metadata": {},
          "execution_count": 13
        }
      ],
      "source": [
        "a=0\n",
        "b=0.016\n",
        "g_bar=1/(b-a)*sym. integrate(g,(t,a,b))\n",
        "g_bar"
      ]
    },
    {
      "cell_type": "markdown",
      "source": [
        "* As we can see, the average of the function over this interval is exactly zero.\n",
        "\n",
        "* Another way of sayning this is the __area above__  exactly __cancels__ the __area below__ the horizontal."
      ],
      "metadata": {
        "id": "sewFNTSRIVXz"
      }
    },
    {
      "cell_type": "markdown",
      "metadata": {
        "id": "UQ4o-m2oMb5G"
      },
      "source": [
        "### Part 3\n",
        "\n",
        "* We find the __RMS__ of the function as follows:"
      ]
    },
    {
      "cell_type": "code",
      "execution_count": 14,
      "metadata": {
        "colab": {
          "base_uri": "https://localhost:8080/",
          "height": 37
        },
        "id": "QmvHT3ZDMb5H",
        "outputId": "b499aaa4-21ab-4934-8339-4ca13e90aa89"
      },
      "outputs": [
        {
          "output_type": "execute_result",
          "data": {
            "text/plain": [
              "282.842712474619"
            ],
            "text/latex": "$\\displaystyle 282.842712474619$"
          },
          "metadata": {},
          "execution_count": 14
        }
      ],
      "source": [
        "a=0\n",
        "b=0.016\n",
        "RMS_g=sym.sqrt((1.0/(b-a))*sym.integrate(g**2,(t,a,b)))\n",
        "RMS_g"
      ]
    },
    {
      "cell_type": "markdown",
      "metadata": {
        "id": "NFoo0KAdMb5H"
      },
      "source": [
        "### Part 4\n",
        "\n",
        "* Comparing with $\\frac{400}{\\sqrt{2}}$ find:"
      ]
    },
    {
      "cell_type": "code",
      "execution_count": 15,
      "metadata": {
        "colab": {
          "base_uri": "https://localhost:8080/"
        },
        "id": "nl2WTlE-Mb5H",
        "outputId": "89ffae67-fd6a-40e9-a590-6ae98f80162c"
      },
      "outputs": [
        {
          "output_type": "execute_result",
          "data": {
            "text/plain": [
              "True"
            ]
          },
          "metadata": {},
          "execution_count": 15
        }
      ],
      "source": [
        "sym.N(400/sym.sqrt(2))==sym.sqrt((1.0/(b-a))*sym.integrate(g**2,(t,a,b)))"
      ]
    },
    {
      "cell_type": "markdown",
      "metadata": {
        "id": "ZJbGYQd1Mb5I"
      },
      "source": [
        "#### Reamark on $\\text{RMS}(A\\sin(kt))$\n",
        "\n",
        "\n",
        "* When we take the __RMS__ of a function like $A\\sin(kt)$ or $A\\cos(kt)$, where $A$ and $k$ are conatants, we always end up with the answer $\\frac{A}{\\sqrt{2}}$.\n",
        "\n",
        "\n",
        "\n",
        "* This is a general property of the trigonometric functions $\\cos$ and $\\sin$, and has nothing to do with the values of $A$ or $k$."
      ]
    },
    {
      "cell_type": "markdown",
      "metadata": {
        "id": "tgYbq4ReMb5I"
      },
      "source": [
        "## Exercise 2\n",
        "\n",
        "The electricity voltage delivered to a house in Ireland is given by the function\n",
        "$$\n",
        "    V(t) = 220\\sin(50t)\n",
        "$$\n",
        "\n",
        "1. Plot the function $V(t)$ and from the graph estimate the __mean__ of this voltage over $0<t<\\frac{\\pi}{25}$.\n",
        "\n",
        "\n",
        "2. Find the mean value of this voltage over the time interval given.\n",
        "\n",
        "\n",
        "3. Find the RMS of this voltage of this voltage over the time given.\n",
        "\n",
        "\n",
        "4. Confirm that this RMS is equal to $\\frac{220}{\\sqrt{2}}$."
      ]
    },
    {
      "cell_type": "code",
      "execution_count": 15,
      "metadata": {
        "id": "PpqE9is2Mb5I"
      },
      "outputs": [],
      "source": []
    },
    {
      "cell_type": "code",
      "execution_count": 15,
      "metadata": {
        "id": "ivzHuLGAMb5J"
      },
      "outputs": [],
      "source": []
    },
    {
      "cell_type": "code",
      "execution_count": 15,
      "metadata": {
        "id": "gGsSQPM8Mb5J"
      },
      "outputs": [],
      "source": []
    },
    {
      "cell_type": "code",
      "execution_count": 15,
      "metadata": {
        "id": "V21VkzHCMb5J"
      },
      "outputs": [],
      "source": []
    },
    {
      "cell_type": "markdown",
      "source": [
        "---\n",
        "---"
      ],
      "metadata": {
        "id": "S4jkg4VyJjSc"
      }
    },
    {
      "cell_type": "markdown",
      "metadata": {
        "id": "UyBkC5fmMb5K"
      },
      "source": [
        "# Section 3: Numerical Integration - The Trapezoidal Rule\n",
        "\n",
        "* The integral of a function $f(x)$, over the interval $a\\leq x\\leq b$, according to the __trapezoidal rule__ is given by\n",
        "\n",
        "\n",
        "$$\n",
        "\\int_{a}^{b}f(x)dx= \\frac{h}{2}[y_0+y_n+2(y_1+y_2+y_3+\\ldots+y_{n-1})]\n",
        "$$\n",
        "\n",
        "\n",
        "* Here the parameters are given by:\n",
        "  \n",
        "  * __$n$__ The number of steps in the integration.\n",
        "\n",
        "  * __$h$__ The stepsize of the integration, given by $h=\\frac{b-a}{n}$\n",
        "\n",
        "  * __$y_n$__ The value of the function at $x_n=x_0+nh$, i.e. $y_{n}=f(x_n)$ \n",
        "\n",
        "\n",
        "* __NOTE:__ In the rest of this workbook we will be using __numpy__ and __matplotlib__ only, so we can use __def()__ to define our functions from now on."
      ]
    },
    {
      "cell_type": "markdown",
      "metadata": {
        "id": "_eNIXq-yMb5K"
      },
      "source": [
        "## Example 3\n",
        "\n",
        "Integrate the following function, over the interval $X=[0,4]$, using the trapezoidal rule with __n=5__ evaluation points:\n",
        "\n",
        "$$\n",
        "    P(x) = 1+x^2.\n",
        "$$\n"
      ]
    },
    {
      "cell_type": "markdown",
      "metadata": {
        "id": "H9kVZfs-Mb5K"
      },
      "source": [
        "### Part 1: Define the function"
      ]
    },
    {
      "cell_type": "code",
      "execution_count": 16,
      "metadata": {
        "id": "5y3aOpO9Mb5L"
      },
      "outputs": [],
      "source": [
        "def P(x):\n",
        "    return 1+x**2"
      ]
    },
    {
      "cell_type": "markdown",
      "metadata": {
        "id": "aU_0u72lMb5M"
      },
      "source": [
        "### Part 2: Create the $x$-space for the integral\n",
        "\n",
        "* Since we are integrating along __X=[0,5]__ using __n=11__ points, we use __np.linspace()__ for the integral as follows:"
      ]
    },
    {
      "cell_type": "code",
      "execution_count": 17,
      "metadata": {
        "colab": {
          "base_uri": "https://localhost:8080/"
        },
        "id": "tlAmwV86Mb5N",
        "outputId": "b8cb09c6-10ea-4fc3-ad27-f786a643ec8d"
      },
      "outputs": [
        {
          "output_type": "execute_result",
          "data": {
            "text/plain": [
              "array([0., 1., 2., 3., 4.])"
            ]
          },
          "metadata": {},
          "execution_count": 17
        }
      ],
      "source": [
        "X5=np.linspace(0,4,5)\n",
        "X5"
      ]
    },
    {
      "cell_type": "markdown",
      "metadata": {
        "id": "s-S4SWWuMb5N"
      },
      "source": [
        "### Part 3: Plotting the $P(x)$ "
      ]
    },
    {
      "cell_type": "markdown",
      "metadata": {
        "id": "Iz9VYx-xMb5N"
      },
      "source": [
        "* The function evaluated on this __linspace__ is given by"
      ]
    },
    {
      "cell_type": "code",
      "execution_count": 18,
      "metadata": {
        "colab": {
          "base_uri": "https://localhost:8080/"
        },
        "id": "n2RmqSNCMb5O",
        "outputId": "99a12222-4982-4e84-d1da-11a379950ab1"
      },
      "outputs": [
        {
          "output_type": "execute_result",
          "data": {
            "text/plain": [
              "array([ 1.,  2.,  5., 10., 17.])"
            ]
          },
          "metadata": {},
          "execution_count": 18
        }
      ],
      "source": [
        "P(X5)"
      ]
    },
    {
      "cell_type": "markdown",
      "metadata": {
        "id": "0j-Www3uMb5P"
      },
      "source": [
        "* This returns the square of each value in the __linspace  X__\n",
        "\n",
        "\n",
        "* We plot these values as follows"
      ]
    },
    {
      "cell_type": "code",
      "execution_count": 19,
      "metadata": {
        "colab": {
          "base_uri": "https://localhost:8080/",
          "height": 460
        },
        "id": "jHcnWvFhMb5P",
        "outputId": "1155f171-8303-47b7-f568-6362d686f01d"
      },
      "outputs": [
        {
          "output_type": "execute_result",
          "data": {
            "text/plain": [
              "Text(0, 0.5, '$P(x)$')"
            ]
          },
          "metadata": {},
          "execution_count": 19
        },
        {
          "output_type": "display_data",
          "data": {
            "text/plain": [
              "<Figure size 720x504 with 1 Axes>"
            ],
            "image/png": "[encoded data removed]"
          },
          "metadata": {}
        }
      ],
      "source": [
        "plt.figure(figsize=(10,7))\n",
        "plt.plot(X5,P(X5),'o',color='red')\n",
        "\n",
        "plt.axhline(y=0,lw=0.75,c='k')\n",
        "plt.axvline(x=0,lw=0.75,c='k')\n",
        "\n",
        "plt.xlabel('$x$')\n",
        "plt.ylabel('$P(x)$')"
      ]
    },
    {
      "cell_type": "markdown",
      "metadata": {
        "id": "bHA9f8_-Mb5P"
      },
      "source": [
        "* We use __'o'__ in the plot function to indicate we want to use closed dots to represent the data values.\n",
        "\n",
        "\n",
        "\n",
        "* Other markers include __'+'__, __'v'__, __'s'__, __'d'__ among many others. "
      ]
    },
    {
      "cell_type": "markdown",
      "metadata": {
        "id": "vow214ZCMb5Q"
      },
      "source": [
        "## Integrating on the linspace"
      ]
    },
    {
      "cell_type": "markdown",
      "metadata": {
        "id": "uzKB2qFXMb5Q"
      },
      "source": [
        "* Luckily, there is a __NumPy__ function called __np.trapz()__ specifically used to evaluate numerical integrals using the __trapezoidal rule__\n",
        "\n",
        "* We can integrate __P(X)__ along the linepsace __X__ this using the trapezoidal rule as follows:"
      ]
    },
    {
      "cell_type": "code",
      "execution_count": 20,
      "metadata": {
        "colab": {
          "base_uri": "https://localhost:8080/"
        },
        "id": "FJHi4PGyMb5Q",
        "outputId": "570b3511-6a83-418b-9d38-bc04b40252d1"
      },
      "outputs": [
        {
          "output_type": "execute_result",
          "data": {
            "text/plain": [
              "26.0"
            ]
          },
          "metadata": {},
          "execution_count": 20
        }
      ],
      "source": [
        "np.trapz(P(X5),X5)"
      ]
    },
    {
      "cell_type": "markdown",
      "metadata": {
        "id": "OhSr0nfKMb5R"
      },
      "source": [
        "* This gives 2 times each value $X_1$, $X_2$ and $X_3$, while it gives only 1 times the values $X_{0}$ and $X_{4}$. This sum is then mutiplied by  half the stepsize.\n",
        "\n",
        "\n",
        "* In the figure below we illustrate what we have done graphically:"
      ]
    },
    {
      "cell_type": "code",
      "execution_count": 21,
      "metadata": {
        "colab": {
          "base_uri": "https://localhost:8080/",
          "height": 460
        },
        "id": "hqWOZbp7Mb5S",
        "outputId": "2f53fb74-a755-492e-e09c-a48992ed78cc"
      },
      "outputs": [
        {
          "output_type": "execute_result",
          "data": {
            "text/plain": [
              "Text(0, 0.5, '$P(x)$')"
            ]
          },
          "metadata": {},
          "execution_count": 21
        },
        {
          "output_type": "display_data",
          "data": {
            "text/plain": [
              "<Figure size 720x504 with 1 Axes>"
            ],
            "image/png": "[encoded data removed]"
          },
          "metadata": {}
        }
      ],
      "source": [
        "plt.figure(figsize=(10,7))\n",
        "plt.plot(X5,P(X5),'o',color='red') # Plot the red dots\n",
        "plt.plot(X5,P(X5),color='b') # Plot the blue connecting lines\n",
        "\n",
        "plt.vlines(X5,ymin=0,ymax=P(X5),color='k') # Plot the vertical connecting lines\n",
        "\n",
        "plt.axhline(y=0,lw=0.75,c='k')\n",
        "plt.axvline(x=0,lw=0.75,c='k')\n",
        "\n",
        "plt.xlabel('$x$')\n",
        "plt.ylabel('$P(x)$')"
      ]
    },
    {
      "cell_type": "markdown",
      "metadata": {
        "id": "2m9yrAlrMb5S"
      },
      "source": [
        "## Interpreting the Trapezoidal Ruel\n",
        "\n",
        "* What we are doing numerically is calculating the areas of each of the trapezoids shown above.\n",
        "\n",
        "\n",
        "\n",
        "* The __First Trapezoid__ has heights __P(0)__, __P(1)__ and width __h__ so \n",
        "\n",
        "$$\n",
        "\\mathrm{Area}_1=h\\cdot\\frac{P(0)+P(1)}{2}.\n",
        "$$\n",
        "\n",
        "\n",
        "* The __Second Trapezoid__ has heights __P(1)__, __P(X[2])__ and width __h__ so \n",
        "$$\n",
        "\\mathrm{Area}_2=h\\cdot\\frac{P(X[1])+P(X[2])}{2}.\n",
        "$$\n",
        "\n",
        "\n",
        "* The __Third Trapezoid__ has heights __P(X[2])__, __P(X[3])__ and width __h__ so \n",
        "$$\n",
        "\\mathrm{Area}_3=h\\cdot\\frac{P(X[2])+P(X[3])}{2}.\n",
        "$$\n",
        "\n",
        "\n",
        "* The __Fourth Trapezoid__ has heights __P(X[3])__, __P(X[4])__ and width __h__ so \n",
        "$$\n",
        "\\mathrm{Area}_4=h\\cdot\\frac{P(X[3])+P(X[4])}{2}.\n",
        "$$\n",
        "\n",
        "\n",
        "* Hence the __total area__ is just the sum of these areas, given by\n",
        "$$\n",
        "\\begin{aligned}\n",
        "\\mathrm{Area}&=\\frac{h}{2}\\left[P(X[0])+2P(X[1])+2P(X[2])+2P(X[3])+P(X[4])\\right]\\\\\n",
        "             &=\\frac{h}{2}\\left[2\\{P(X[0])+P(X[1])+P(X[2])+P(X[3])+P(X[3])+P(X[4])\\}-P(X[0])-P(X[4])\\right]\\\\\n",
        "             &=\\frac{h}{2}\\left[2\\Sigma(P(X))-P(X[0])-P(X[4])\\right].\n",
        "\\end{aligned}\n",
        "$$\n"
      ]
    },
    {
      "cell_type": "markdown",
      "metadata": {
        "id": "LvXXyAnrMb5S"
      },
      "source": [
        "## Improving the answer\n",
        "\n",
        "* The smaller we make the step size __h__, or equivalently, the larger we make **n**, then the better our answer will be.\n",
        "\n",
        "\n",
        "* To see this, we evaluate the same integral using __n=51__ evaluation points:"
      ]
    },
    {
      "cell_type": "code",
      "execution_count": 22,
      "metadata": {
        "id": "LL7Eaf-HMb5T"
      },
      "outputs": [],
      "source": [
        "X51=np.linspace(0,4,51)"
      ]
    },
    {
      "cell_type": "code",
      "execution_count": 23,
      "metadata": {
        "colab": {
          "base_uri": "https://localhost:8080/"
        },
        "id": "rvHOufNrMb5T",
        "outputId": "e94f3b91-ba31-48a7-ce11-0ff4f21c02ee"
      },
      "outputs": [
        {
          "output_type": "execute_result",
          "data": {
            "text/plain": [
              "array([ 1.    ,  1.0064,  1.0256,  1.0576,  1.1024,  1.16  ,  1.2304,\n",
              "        1.3136,  1.4096,  1.5184,  1.64  ,  1.7744,  1.9216,  2.0816,\n",
              "        2.2544,  2.44  ,  2.6384,  2.8496,  3.0736,  3.3104,  3.56  ,\n",
              "        3.8224,  4.0976,  4.3856,  4.6864,  5.    ,  5.3264,  5.6656,\n",
              "        6.0176,  6.3824,  6.76  ,  7.1504,  7.5536,  7.9696,  8.3984,\n",
              "        8.84  ,  9.2944,  9.7616, 10.2416, 10.7344, 11.24  , 11.7584,\n",
              "       12.2896, 12.8336, 13.3904, 13.96  , 14.5424, 15.1376, 15.7456,\n",
              "       16.3664, 17.    ])"
            ]
          },
          "metadata": {},
          "execution_count": 23
        }
      ],
      "source": [
        "P(X51)"
      ]
    },
    {
      "cell_type": "code",
      "execution_count": 24,
      "metadata": {
        "colab": {
          "base_uri": "https://localhost:8080/",
          "height": 460
        },
        "id": "Ezp4JRgSMb5T",
        "outputId": "2ed3e9d8-4695-42e1-c33e-4b9a6d234be8"
      },
      "outputs": [
        {
          "output_type": "execute_result",
          "data": {
            "text/plain": [
              "Text(0, 0.5, '$P(x)$')"
            ]
          },
          "metadata": {},
          "execution_count": 24
        },
        {
          "output_type": "display_data",
          "data": {
            "text/plain": [
              "<Figure size 720x504 with 1 Axes>"
            ],
            "image/png": "[encoded data removed]"
          },
          "metadata": {}
        }
      ],
      "source": [
        "plt.figure(figsize=(10,7))\n",
        "plt.plot(X51,P(X51),'o',color='red') # Plot the red dots\n",
        "plt.plot(X51,P(X51),color='b') # Plot the blue connecting lines\n",
        "\n",
        "plt.vlines(X51,ymin=0,ymax=P(X51),color='k') # Plot the vertical connecting lines\n",
        "\n",
        "plt.axhline(y=0,lw=0.75,c='k')\n",
        "plt.axvline(x=0,lw=0.75,c='k')\n",
        "\n",
        "plt.xlabel('$x$')\n",
        "plt.ylabel('$P(x)$')"
      ]
    },
    {
      "cell_type": "markdown",
      "metadata": {
        "id": "r5YdGui1Mb5U"
      },
      "source": [
        "* The trapesoidal rule gives the area above as follows:"
      ]
    },
    {
      "cell_type": "code",
      "execution_count": 25,
      "metadata": {
        "colab": {
          "base_uri": "https://localhost:8080/"
        },
        "id": "O2my6cnLMb5U",
        "outputId": "a6e7f65f-eaad-47bf-e775-c3dbc5839338"
      },
      "outputs": [
        {
          "output_type": "execute_result",
          "data": {
            "text/plain": [
              "25.337600000000002"
            ]
          },
          "metadata": {},
          "execution_count": 25
        }
      ],
      "source": [
        "np.trapz(P(X51),X51)"
      ]
    },
    {
      "cell_type": "markdown",
      "metadata": {
        "id": "ll4-1rUvMb5U"
      },
      "source": [
        "## The exact answer \n",
        "\n",
        "* Since the function is simple to integrate in this case, we can also get an exact answer symbolically.\n",
        "\n",
        "\n",
        "* The exact answer we seek is:"
      ]
    },
    {
      "cell_type": "code",
      "execution_count": 26,
      "metadata": {
        "colab": {
          "base_uri": "https://localhost:8080/",
          "height": 37
        },
        "id": "M1HP2gU1Mb5V",
        "outputId": "faf20caf-733d-465a-8e61-d2e101ec32c5"
      },
      "outputs": [
        {
          "output_type": "execute_result",
          "data": {
            "text/plain": [
              "25.3333333333333"
            ],
            "text/latex": "$\\displaystyle 25.3333333333333$"
          },
          "metadata": {},
          "execution_count": 26
        }
      ],
      "source": [
        "x=sym.symbols('x')\n",
        "sym.integrate(1+x**2,(x,0,4)).evalf()"
      ]
    },
    {
      "cell_type": "markdown",
      "metadata": {
        "id": "52J0wddiMb5V"
      },
      "source": [
        "* It is clear that with __n=51__ then the answer we get is fairly accurate.\n",
        "\n",
        "* If we make __n__ even bigger then we will get an even more accuarte answer."
      ]
    },
    {
      "cell_type": "markdown",
      "metadata": {
        "id": "8d6wuWQ5Mb5V"
      },
      "source": [
        "## Exercise 3\n",
        "\n",
        "Integrate the following function, over the interval $0\\leq x\\leq 2\\pi$, using the methods given below: \n",
        "\n",
        "$$\n",
        "    Q(r) = \\sin(r^2)\n",
        "$$\n",
        "\n",
        "1. Integrate using the trapezoidal rule with $n=15$.\n",
        "\n",
        "\n",
        "2. Integrate using the trapezoidal rule with $n=75$.\n",
        "\n",
        "\n",
        "3. Create __two__ plots to represent __both__ of these numerical integrals."
      ]
    },
    {
      "cell_type": "code",
      "execution_count": 26,
      "metadata": {
        "id": "_ZlZUmvEN2qq"
      },
      "outputs": [],
      "source": []
    },
    {
      "cell_type": "code",
      "execution_count": 26,
      "metadata": {
        "id": "M51VlMHTPHa6"
      },
      "outputs": [],
      "source": []
    },
    {
      "cell_type": "code",
      "execution_count": 26,
      "metadata": {
        "id": "qjSFBy0RPHdk"
      },
      "outputs": [],
      "source": []
    },
    {
      "cell_type": "code",
      "execution_count": 26,
      "metadata": {
        "id": "Jeo71X_rPHgQ"
      },
      "outputs": [],
      "source": []
    },
    {
      "cell_type": "code",
      "execution_count": 26,
      "metadata": {
        "id": "ABCa7yODPHiz"
      },
      "outputs": [],
      "source": []
    },
    {
      "cell_type": "code",
      "execution_count": 26,
      "metadata": {
        "id": "fcSfdwCRPHlY"
      },
      "outputs": [],
      "source": []
    },
    {
      "cell_type": "code",
      "execution_count": 26,
      "metadata": {
        "id": "T-W0OepNPHoO"
      },
      "outputs": [],
      "source": []
    },
    {
      "cell_type": "code",
      "execution_count": 26,
      "metadata": {
        "id": "1-T513kFPH96"
      },
      "outputs": [],
      "source": []
    },
    {
      "cell_type": "markdown",
      "metadata": {
        "id": "CuC_5c3LMb5X"
      },
      "source": [
        "## Exercise 4\n",
        "\n",
        "Integrate the following function, over the interval $0\\leq r\\leq 2\\pi$, using the methods given below: \n",
        "\n",
        "$$\n",
        "    G(r) = \\exp(0.25\\cos(r))\n",
        "$$\n",
        "\n",
        "1. Integrate using the function __np.trapz()__ with $n=35$.\n",
        "\n",
        "\n",
        "2. Integrate using the function __np.trapz()__ with $n=201$.\n",
        "\n",
        "\n",
        "3. Create a plot to illustrate the trapezoidal sum in the case $n=35$."
      ]
    },
    {
      "cell_type": "code",
      "execution_count": 26,
      "metadata": {
        "id": "f_Dv6QwtMb5Y"
      },
      "outputs": [],
      "source": []
    },
    {
      "cell_type": "code",
      "execution_count": 26,
      "metadata": {
        "id": "cb_E_wxFPC4s"
      },
      "outputs": [],
      "source": []
    },
    {
      "cell_type": "code",
      "execution_count": 26,
      "metadata": {
        "id": "xKQg_cAkPC7S"
      },
      "outputs": [],
      "source": []
    },
    {
      "cell_type": "code",
      "execution_count": 26,
      "metadata": {
        "id": "QIgf0rG6PC-F"
      },
      "outputs": [],
      "source": []
    },
    {
      "cell_type": "code",
      "execution_count": 26,
      "metadata": {
        "id": "oRXuj3dyPDAf"
      },
      "outputs": [],
      "source": []
    },
    {
      "cell_type": "code",
      "execution_count": 26,
      "metadata": {
        "id": "VgYiDFFnPDDG"
      },
      "outputs": [],
      "source": []
    },
    {
      "cell_type": "code",
      "execution_count": 26,
      "metadata": {
        "id": "gwXyeBYUMb5Y"
      },
      "outputs": [],
      "source": []
    }
  ],
  "metadata": {
    "anaconda-cloud": {},
    "colab": {
      "provenance": [],
      "include_colab_link": true
    },
    "kernelspec": {
      "display_name": "Python 3",
      "language": "python",
      "name": "python3"
    },
    "language_info": {
      "codemirror_mode": {
        "name": "ipython",
        "version": 3
      },
      "file_extension": ".py",
      "mimetype": "text/x-python",
      "name": "python",
      "nbconvert_exporter": "python",
      "pygments_lexer": "ipython3",
      "version": "3.8.10"
    }
  },
  "nbformat": 4,
  "nbformat_minor": 0
}