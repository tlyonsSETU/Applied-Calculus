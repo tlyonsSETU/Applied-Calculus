{
  "cells": [
    {
      "cell_type": "markdown",
      "metadata": {
        "id": "view-in-github",
        "colab_type": "text"
      },
      "source": [
        "<a href=\"https://colab.research.google.com/github/tlyonsSETU/Applied-Calculus/blob/main/Python%20Workbook%203.ipynb\" target=\"_parent\"><img src=\"https://colab.research.google.com/assets/colab-badge.svg\" alt=\"Open In Colab\"/></a>"
      ]
    },
    {
      "cell_type": "markdown",
      "metadata": {
        "id": "1MqhxbkTzU_w"
      },
      "source": [
        "### Name:\n",
        "### Student Number:"
      ]
    },
    {
      "cell_type": "code",
      "execution_count": 2,
      "metadata": {
        "id": "siqLu3TdzU_z"
      },
      "outputs": [],
      "source": [
        "import matplotlib.pyplot as plt\n",
        "import numpy as np "
      ]
    },
    {
      "cell_type": "code",
      "source": [
        "import matplotlib.style as style # Change the plot style used for graphs\n",
        "style.use('seaborn-whitegrid')"
      ],
      "metadata": {
        "id": "jKZkQTHep0pz"
      },
      "execution_count": 3,
      "outputs": []
    },
    {
      "cell_type": "code",
      "source": [
        "# The following libraries are for creating interactive plots\n",
        "from ipywidgets import interact, interactive, fixed, interact_manual\n",
        "import ipywidgets as widgets"
      ],
      "metadata": {
        "id": "-RavQYML3X6j"
      },
      "execution_count": 4,
      "outputs": []
    },
    {
      "cell_type": "code",
      "source": [
        "style.available"
      ],
      "metadata": {
        "id": "zHb3SdVY5YKm",
        "colab": {
          "base_uri": "https://localhost:8080/"
        },
        "outputId": "e1020b5e-32bd-4a8e-b6ad-1d7c0eaaa7aa"
      },
      "execution_count": 5,
      "outputs": [
        {
          "output_type": "execute_result",
          "data": {
            "text/plain": [
              "['Solarize_Light2',\n",
              " '_classic_test_patch',\n",
              " 'bmh',\n",
              " 'classic',\n",
              " 'dark_background',\n",
              " 'fast',\n",
              " 'fivethirtyeight',\n",
              " 'ggplot',\n",
              " 'grayscale',\n",
              " 'seaborn',\n",
              " 'seaborn-bright',\n",
              " 'seaborn-colorblind',\n",
              " 'seaborn-dark',\n",
              " 'seaborn-dark-palette',\n",
              " 'seaborn-darkgrid',\n",
              " 'seaborn-deep',\n",
              " 'seaborn-muted',\n",
              " 'seaborn-notebook',\n",
              " 'seaborn-paper',\n",
              " 'seaborn-pastel',\n",
              " 'seaborn-poster',\n",
              " 'seaborn-talk',\n",
              " 'seaborn-ticks',\n",
              " 'seaborn-white',\n",
              " 'seaborn-whitegrid',\n",
              " 'tableau-colorblind10']"
            ]
          },
          "metadata": {},
          "execution_count": 5
        }
      ]
    },
    {
      "cell_type": "markdown",
      "metadata": {
        "id": "OaHV4tNFzU_0"
      },
      "source": [
        "# Python Workbook 3 - Trigonometric & Rational Functions\n",
        "\n",
        "In this Python workbook we will cover the following topics:\n",
        "\n",
        "  1. __Trigonometric Functions:__ We examine the functions $\\cos(a)$, $\\sin(a)$ and $\\tan(a)$\n",
        "\n",
        "  2. __Rational Functions:__ We will also examine rational functions of the form $\\frac{a x + b}{c x + d}$ and $\\frac{a x^2 + b x + c}{p x^2 + q x + r}$\n",
        "\n",
        "  3. __Asymptotes & Singuarities:__ We investigate the asymptotic and singular behaviour of these functions graphically.\n",
        "---"
      ]
    },
    {
      "cell_type": "markdown",
      "metadata": {
        "id": "ErS668KkzU_2"
      },
      "source": [
        "# Section 1 - The Trigonometric Funtions\n",
        "\n",
        "* In this section we examine the behaviour of the three principal trigonometric functions\n",
        "$$\n",
        "\\cos(a); \\quad \\sin(a);\\quad \\tan(a)\n",
        "$$\n",
        "for $a\\in\\mathbb{R}$, i.e. where the __input__ $a$ can be any value from the __real numbers__ $\\mathbb{R}$.\n",
        "\n",
        "* Since these functions are so important, they are already defined in the __numpy__ library, and can be called as you might exptect by:\n",
        "\n",
        "  * __np.cos()__\n",
        "\n",
        "  * __np.sin()__\n",
        "\n",
        "  * __np.tan()__\n",
        "\n",
        "\n"
      ]
    },
    {
      "cell_type": "markdown",
      "source": [
        "---\n",
        "#### IMPORTANT \n",
        "\n",
        "* The __input__ $a$ represents an __angle__, and by default these functions interpret $a$ in __RADIANS!!__\n",
        "\n",
        "* A radian is the angle subtended (opened) by a segment of __arc length=__$r$ in a circle of radius $r$, and so radians allow us to __measure angles using distance__\n",
        "\n",
        "* The figure below shows this arc-length in red, and the subtended angle is __1 radian__ "
      ],
      "metadata": {
        "id": "7WKr7DSN0DsC"
      }
    },
    {
      "cell_type": "code",
      "execution_count": 6,
      "metadata": {
        "id": "lGhHkwwgzU_4",
        "colab": {
          "base_uri": "https://localhost:8080/",
          "height": 411
        },
        "cellView": "form",
        "outputId": "07a03964-8e12-4b54-ffdb-8e0d0eb108c8"
      },
      "outputs": [
        {
          "output_type": "display_data",
          "data": {
            "text/plain": [
              "<Figure size 504x504 with 1 Axes>"
            ],
            "image/png": "[encoded data removed]"
          },
          "metadata": {}
        }
      ],
      "source": [
        "#@title What is a Radian?\n",
        "\n",
        "\n",
        "t=np.linspace(0,2*np.pi,201)\n",
        "r=0.825\n",
        "\n",
        "plt.figure(figsize=(7,7))\n",
        "plt.plot(np.cos(t),np.sin(t),ls='--', c='darkslategray')\n",
        "plt.plot(np.cos(t[t<=1]), np.sin(t[t<=1]), c='red',lw=4)\n",
        "\n",
        "plt.plot([0,1],[0,0],lw=4,c='k')\n",
        "plt.plot([0,np.cos(1)],[0,np.sin(1)],lw=4,c='k')\n",
        "\n",
        "plt.axhline(y=0,lw=0.75,c='k')\n",
        "plt.axvline(x=0,lw=0.75,c='k')\n",
        "\n",
        "plt.xticks([])\n",
        "plt.yticks([])\n",
        "\n",
        "plt.text(0.5,-0.07,'$r$',size=12)\n",
        "plt.text(0.1,0.05,'$\\mathrm{Angle=1~rad}$',size=12,rotation=np.degrees(0.4))\n",
        "plt.text(r*np.cos(0.4),r*np.sin(0.4),'$\\mathrm{arc-length=r}$',rotation=np.degrees(0.5-np.pi/2),size=12);"
      ]
    },
    {
      "cell_type": "markdown",
      "source": [
        "---"
      ],
      "metadata": {
        "id": "_99z4KWP09No"
      }
    },
    {
      "cell_type": "code",
      "source": [],
      "metadata": {
        "id": "4PyxufPVDiAB"
      },
      "execution_count": null,
      "outputs": []
    },
    {
      "cell_type": "markdown",
      "source": [
        "# Section 1.1 - Graphs of $\\cos(a)$ and $\\sin(a)$\n",
        "\n",
        "* The function $\\cos(a)$ gives the __horizontal projection__ of the angle $a$ in the unit circle, shown in the figure below."
      ],
      "metadata": {
        "id": "Nld2lhxRjC5M"
      }
    },
    {
      "cell_type": "code",
      "source": [
        "#@title The meaning of $\\cos(a)$\n",
        "t=np.linspace(0,2*np.pi,201)\n",
        "r=1\n",
        "a=np.pi/5\n",
        "\n",
        "plt.figure(figsize=(7,7))\n",
        "plt.plot(np.cos(t),np.sin(t),ls='--', c='darkslategray')\n",
        "plt.plot(0.2*np.cos(t[t<=a]),0.2*np.sin(t[t<=a]),ls='-', c='darkslategray')\n",
        "\n",
        "plt.plot([0,np.cos(a)],[0,np.sin(a)],lw=1,c='k')\n",
        "plt.plot([0,np.cos(a)],[0,0],lw=4,c='k')\n",
        "plt.plot([np.cos(a),np.cos(a)],[0,np.sin(a)],ls=':',c='gray')\n",
        "\n",
        "plt.axhline(y=0,lw=0.75,c='k')\n",
        "plt.axvline(x=0,lw=0.75,c='k')\n",
        "\n",
        "plt.text(0.5*np.cos(1.125*a), 0.5*np.sin(1.125*a), '$r=1$', rotation=np.degrees(a))\n",
        "plt.text(0.225*np.cos(a/2), 0.225*np.sin(a/2), '$a$')\n",
        "plt.text(0.4*np.cos(a),-0.075,'$\\cos(a)$',size=10);"
      ],
      "metadata": {
        "colab": {
          "base_uri": "https://localhost:8080/",
          "height": 425
        },
        "id": "Xze7PGhEjlQF",
        "outputId": "6e352577-7b49-4c2e-b0db-220fbb1d96f5",
        "cellView": "form"
      },
      "execution_count": 10,
      "outputs": [
        {
          "output_type": "display_data",
          "data": {
            "text/plain": [
              "<Figure size 504x504 with 1 Axes>"
            ],
            "image/png": "[encoded data removed]"
          },
          "metadata": {}
        }
      ]
    },
    {
      "cell_type": "markdown",
      "source": [
        "* Similarly, the function $\\sin(a)$ gives the __vertical projection__ of the angle $a$, as shown in the next figure."
      ],
      "metadata": {
        "id": "FJUTNvlTn-89"
      }
    },
    {
      "cell_type": "code",
      "source": [
        "#@title The meaning of $\\sin(a)$\n",
        "t=np.linspace(0,2*np.pi,201)\n",
        "r=1\n",
        "a=np.pi/5\n",
        "\n",
        "plt.figure(figsize=(7,7))\n",
        "plt.plot(np.cos(t),np.sin(t),ls='--', c='darkslategray')\n",
        "plt.plot(0.2*np.cos(t[t<=a]),0.2*np.sin(t[t<=a]),ls='-', c='darkslategray')\n",
        "\n",
        "plt.plot([0,np.cos(a)],[0,np.sin(a)],lw=1,c='k')\n",
        "plt.plot([0,0],[0,np.sin(a)],lw=4,c='k')\n",
        "plt.plot([0,np.cos(a)],[np.sin(a),np.sin(a)],ls=':',c='gray')\n",
        "\n",
        "plt.axhline(y=0,lw=0.75,c='k')\n",
        "plt.axvline(x=0,lw=0.75,c='k')\n",
        "\n",
        "plt.text(0.5*np.cos(1.125*a), 0.5*np.sin(1.125*a), '$r=1$', rotation=np.degrees(a))\n",
        "plt.text(0.225*np.cos(a/2), 0.225*np.sin(a/2), '$a$')\n",
        "plt.text(-0.08,0.4*np.sin(a),'$\\sin(a)$',size=10,rotation=90);"
      ],
      "metadata": {
        "colab": {
          "base_uri": "https://localhost:8080/",
          "height": 428
        },
        "id": "0Ih40ZAwoLxd",
        "outputId": "bef1026f-d2d2-45eb-b5ef-7b7bf98abb7b",
        "cellView": "form"
      },
      "execution_count": null,
      "outputs": [
        {
          "output_type": "display_data",
          "data": {
            "text/plain": [
              "<Figure size 504x504 with 1 Axes>"
            ],
            "image/png": "[encoded data removed]"
          },
          "metadata": {}
        }
      ]
    },
    {
      "cell_type": "markdown",
      "source": [
        "## Graphing $\\sin(a)$\n",
        "\n",
        "* The following cell is an __interactive plot__ which shows why the graph of $\\sin(a)$ has the familiar ``wave form.''\n",
        "\n",
        "* The __slider__ below allows you to interact with the plot, by changing the __input angle a__.\n",
        "\n",
        "* This angle is in the interval $a\\in(-\\pi,\\pi)$, where $\\pi~\\mathrm{rad} = 180 ^{\\circ}$, so in going from $-\\pi$ to $\\pi$ the angle $a$ changes by $2\\pi\\mathrm{~rad}$ or $360^{\\circ}$.\n",
        "\n",
        "* The __green dots__ always have the same heigth, with the __left dot__ indicating the __angle a__ on the circle while the __right dot__ follows the graph of __(a, np.sin(a))__ "
      ],
      "metadata": {
        "id": "BqESIrN0p9-v"
      }
    },
    {
      "cell_type": "code",
      "execution_count": null,
      "metadata": {
        "id": "W5iGHX6FzVAV",
        "colab": {
          "base_uri": "https://localhost:8080/",
          "height": 462,
          "referenced_widgets": [
            "5b6a03fa6fd44832af0df537ad13a721",
            "0d589cf8696e48269070a7ceb42f9697",
            "5eb210d4a726422e94fc756ca52485c8",
            "2305f2dd33c848888fe6cd14781d7f6c",
            "148861c63c0140b6b2d10ed5fde07e14",
            "82f693667d8e4a6d8c17f9eac6f971d1",
            "e709c2d4df774864a2c85781f16464b2"
          ]
        },
        "outputId": "010013e6-2b30-46e8-b0c9-67ab2a8218c4",
        "cellView": "form"
      },
      "outputs": [
        {
          "output_type": "display_data",
          "data": {
            "text/plain": [
              "interactive(children=(FloatSlider(value=-3.141592653589793, description='a', max=3.141592653589793, min=-3.141…"
            ],
            "application/vnd.jupyter.widget-view+json": {
              "version_major": 2,
              "version_minor": 0,
              "model_id": "5b6a03fa6fd44832af0df537ad13a721"
            }
          },
          "metadata": {}
        }
      ],
      "source": [
        "#@title The graph of $\\sin(a)$\n",
        "def f(a=-np.pi):\n",
        "    plt.figure(figsize=(12,7))\n",
        "    \n",
        "    plt.axvline(color='k',lw=0.75)\n",
        "    plt.axhline(color='k',lw=0.5)\n",
        "\n",
        "    q=a/np.pi\n",
        "    R=np.linspace(-1,q,201)*np.pi\n",
        "    L=np.linspace(-1,1,9)\n",
        "    t=np.linspace(-1,1,201)*np.pi\n",
        "    plt.plot(np.cos(t), np.sin(t),color='darkslategray',alpha=0.25)\n",
        "    plt.plot([np.cos(a),a/np.pi+2.1],[np.sin(a),np.sin(a)],color='k',lw=1,ls=':',alpha=0.5)\n",
        "    plt.plot(np.cos(a),np.sin(a),'og',alpha=0.85,markersize=8)\n",
        "    plt.plot([np.cos(a),np.cos(a)],[0,np.sin(a)],lw=2,c='navy',ls=':')\n",
        "    plt.plot(R/np.pi+2.1,np.sin(R),color='navy',lw=2)\n",
        "    plt.plot([a/np.pi+2.1],[np.sin(a)],'og',markersize=8,alpha=0.85)\n",
        "    \n",
        "    deg=['$-\\pi$','$-\\\\frac{3\\pi}{4}$','$-\\\\frac{\\pi}{2}$','$-\\\\frac{\\pi}{4}$','$0$','$\\\\frac{\\pi}{4}$','$\\\\frac{\\pi}{2}$','$\\\\frac{3\\pi}{4}$','$\\pi$']\n",
        "    for n in np.where(L<=q)[0]: \n",
        "      plt.plot(2.1+L[n],0*n,marker=3,color='black')  \n",
        "      plt.text(2.065+L[n],-0.15,deg[n],size=12,rotation=-0)\n",
        "       \n",
        "    plt.ylim(-1.2, 1.2)\n",
        "    plt.xlim(-1.2,3.2)\n",
        "    plt.axis('off')\n",
        "    plt.show()\n",
        "\n",
        "Plot = interactive(f, a=(-np.pi, np.pi,0.01))\n",
        "output = Plot.children[-1]\n",
        "output.layout.height = '4.3in'\n",
        "Plot"
      ]
    },
    {
      "cell_type": "markdown",
      "source": [
        "## Example 1.1 - Graphs of $\\sin(\\cdot)$ and their periodicity\n",
        "\n",
        "* In this example we are going to create a simple graph of the functions $\\sin(a)$ and $\\sin(3a)$ over the interval $a\\in(-\\pi,\\pi)$.\n",
        "\n",
        "\n",
        "* We will see that the factor of $3$ appearing in $\\sin(3x)$ will effect the __periodicity__ of the function, as it will oscillate more rapidly over this interval."
      ],
      "metadata": {
        "id": "OqRdgoH1tzAa"
      }
    },
    {
      "cell_type": "markdown",
      "source": [
        "1. Use __np.linspace()__ to define the interval __A = [ -2 * np.pi , 2 * np.pi ]__ with __501__ points. "
      ],
      "metadata": {
        "id": "-bfkii3Auicr"
      }
    },
    {
      "cell_type": "code",
      "execution_count": 12,
      "metadata": {
        "id": "MHU9_88AzVAV",
        "colab": {
          "base_uri": "https://localhost:8080/"
        },
        "outputId": "6bf108ae-db46-4ab9-ff5c-69b5f027455c"
      },
      "outputs": [
        {
          "output_type": "execute_result",
          "data": {
            "text/plain": [
              "3.141592653589793"
            ]
          },
          "metadata": {},
          "execution_count": 12
        }
      ],
      "source": [
        "np.pi"
      ]
    },
    {
      "cell_type": "code",
      "execution_count": 13,
      "metadata": {
        "id": "S2tGHuk6zVAV"
      },
      "outputs": [],
      "source": [
        "A=np.linspace(-np.pi,np.pi,501)"
      ]
    },
    {
      "cell_type": "markdown",
      "source": [
        "2. Use __ply.plot()__ to plot the functions __np.sin(A)__ and __np.sin(3*A)__\n",
        "\n",
        "* Use a different color for each plot and __label__ the different functions.\n",
        "\n",
        "* Use __plt.legend()__ to include a legend in the plot, which will display the label of each function.\n",
        "\n",
        "* Unclude the usual $x$ and $y$ axes, as well as the axis-labels."
      ],
      "metadata": {
        "id": "jKB4Tsiiu7DV"
      }
    },
    {
      "cell_type": "code",
      "execution_count": 17,
      "metadata": {
        "id": "SM_UldGHzVAV",
        "colab": {
          "base_uri": "https://localhost:8080/",
          "height": 403
        },
        "outputId": "58145baf-370d-4e03-fd02-b560d18d23f4"
      },
      "outputs": [
        {
          "output_type": "execute_result",
          "data": {
            "text/plain": [
              "<matplotlib.legend.Legend at 0x7f868d4e3f70>"
            ]
          },
          "metadata": {},
          "execution_count": 17
        },
        {
          "output_type": "display_data",
          "data": {
            "text/plain": [
              "<Figure size 648x432 with 1 Axes>"
            ],
            "image/png": "[encoded data removed]"
          },
          "metadata": {}
        }
      ],
      "source": [
        "plt.figure(figsize=(9,6))\n",
        "plt.plot(A,np.sin(A),c='steelblue',label='sin(a)',alpha=0.75)\n",
        "\n",
        "plt.plot(A,np.sin(3*A),c='darkgreen',label='sin(3a)',alpha=0.75)\n",
        "\n",
        "\n",
        "\n",
        "plt.axhline(y=0,lw=0.75,c='k')\n",
        "plt.axvline(x=0,lw=0.75,c='k')\n",
        "\n",
        "plt.xlabel('a (rad)')\n",
        "plt.ylabel('sin(a) (m)')\n",
        "\n",
        "plt.legend(fontsize=14)"
      ]
    },
    {
      "cell_type": "markdown",
      "source": [
        "* We can see from this graph that the function $\\sin(a)$ completes __1 full cycle__ between $a=-\\pi$ (about -3 on the graph) and $a=+\\pi$ (about +3 on the graph.)\n",
        "\n",
        "* The __length__ of this interval is \n",
        "$$\n",
        "L=\\pi - (-\\pi) = 2\\pi\n",
        "$$\n",
        "and is called the __periodicity__ of $\\sin(a)$.\n",
        "\n",
        "* On the other hand, the function $\\sin(3a)$ completes __3 full cycles__ between $a=-\\pi$ and $a=+\\pi$.\n",
        "\n",
        "\n",
        "* We can also see that the function $\\sin(3a)$ completes __one full cycle__ between $a=-\\pi$ and $a=-\\frac{\\pi}{3}$ (about -1 on the graph).\n",
        "\n",
        "* This means the __periodicity__ of $\\sin(3a)$ is \n",
        "$$\n",
        "L=-\\frac{\\pi}{3} - (-\\pi) = \\pi-\\frac{\\pi}{3} = \\frac{2\\pi}{3}. \n",
        "$$"
      ],
      "metadata": {
        "id": "NvKTgOMKxFfH"
      }
    },
    {
      "cell_type": "code",
      "source": [],
      "metadata": {
        "id": "aKfSIC01ZjRN"
      },
      "execution_count": null,
      "outputs": []
    },
    {
      "cell_type": "code",
      "source": [],
      "metadata": {
        "id": "I2FX3skMZlf6"
      },
      "execution_count": null,
      "outputs": []
    },
    {
      "cell_type": "markdown",
      "source": [
        "## Exercise 1.2 - Graphs of $\\cos$ and their periodicity\n",
        "\n",
        "1. Using the interval __A__ from __Exercise 1.1__, plot the functions __np.cos(2*A)__ and __np.cos(4*A)__"
      ],
      "metadata": {
        "id": "WIVKZNuHy6GJ"
      }
    },
    {
      "cell_type": "code",
      "source": [],
      "metadata": {
        "id": "WSw3iPNly5aF"
      },
      "execution_count": null,
      "outputs": []
    },
    {
      "cell_type": "code",
      "source": [],
      "metadata": {
        "id": "7FzdC-succyK"
      },
      "execution_count": null,
      "outputs": []
    },
    {
      "cell_type": "markdown",
      "source": [
        "2. How many cycles does each function complete over the interval __A__"
      ],
      "metadata": {
        "id": "dMvooUpSzKYk"
      }
    },
    {
      "cell_type": "code",
      "source": [],
      "metadata": {
        "id": "4vgJeHxndQ7h"
      },
      "execution_count": null,
      "outputs": []
    },
    {
      "cell_type": "code",
      "source": [],
      "metadata": {
        "id": "Q0Kul_E6dU4a"
      },
      "execution_count": null,
      "outputs": []
    },
    {
      "cell_type": "markdown",
      "source": [
        "3. What is the __periodicity__ of each function?"
      ],
      "metadata": {
        "id": "7yOKbrKgzaZL"
      }
    },
    {
      "cell_type": "code",
      "source": [],
      "metadata": {
        "id": "iEY48iajeEGO"
      },
      "execution_count": null,
      "outputs": []
    },
    {
      "cell_type": "code",
      "source": [],
      "metadata": {
        "id": "xa3fPEQNeKta"
      },
      "execution_count": null,
      "outputs": []
    },
    {
      "cell_type": "markdown",
      "source": [
        "\n",
        "\n",
        "# Section 1.2 - Phase shifts\n",
        "\n",
        "* The __arguement__  $a$ appearing in $\\sin(a)$ or $\\cos(a)$ is also called the __phase__ of the __sine-wave__ or __cosine-wave__.\n",
        "\n",
        "\n",
        "* A __pahse-shift__ simply means changing the value of the phase according to\n",
        "$$\n",
        "a \\to a - \\phi.\n",
        "$$\n",
        "\n",
        "* The symbol $\\phi$ (the Greek letter __phi__) represents the __phase-shift__ and can be any number, i.e. $\\phi\\in(-\\infty,\\infty)$.\n",
        "\n",
        "* The interactive plot below shows the graph of __np.sin(A-phi)__ where __phi__ is controlled by a slider."
      ],
      "metadata": {
        "id": "Y4H1Atfg6qne"
      }
    },
    {
      "cell_type": "markdown",
      "source": [
        "## Example 1.3 - Phase shifts and moving axes"
      ],
      "metadata": {
        "id": "YvF_mSnc-iCR"
      }
    },
    {
      "cell_type": "code",
      "source": [
        "#@title The graph of $\\sin(a-\\phi)$\n",
        "def f(phi=0): # define a function which can be used to make the plot inside interactive\n",
        "    plt.figure(figsize=(12,7)) #Set the figure size\n",
        "    \n",
        "    plt.axhline(color='k',lw=0.5) #plot the x axis\n",
        "    plt.axvline(color='k',lw=0.75) # plot the y axis\n",
        "    \n",
        "    \n",
        "    A=np.linspace(-np.pi,np.pi,201) # create an interval A=[-pi,pi] for the argument a    \n",
        "    plt.plot(A,np.sin(A-phi),c='blue',alpha=1,lw=2)  # plot sin(a-phi)\n",
        "\n",
        "    plt.xlim(-3.2,3.2) # set the reange of x-values on the plot\n",
        "    plt.ylim(-1.1, 1.1) # set the reange of y-values on the plot\n",
        "    \n",
        "    \n",
        "    plt.xlabel('$a$',size=12) # label the x axis\n",
        "    plt.ylabel('$\\sin(a-\\phi)$',size=12) # label the y axis\n",
        "    \n",
        "    plt.grid('on') # Use a grid on the plot background\n",
        "    plt.show() # display the plot\n",
        "\n",
        "IP = interactive(f, phi=(0, 10,0.01)) # create an interacive plot called IP with phi allowd to goe from 0 to 10 in stpes of 0.01\n",
        "output = IP.children[-1] # Show the plot using the most recent value of phi\n",
        "output.layout.height = '4.5in' # set the size of the interactive plot\n",
        "IP # show IP"
      ],
      "metadata": {
        "colab": {
          "base_uri": "https://localhost:8080/",
          "height": 481,
          "referenced_widgets": [
            "18186b0ead314bc181a7ede7e392a132",
            "8bc7da65119a42098161a7e4e1c15d14",
            "b275c3c39eb5407dad971167b8ad62ec",
            "c969dc25ab5e492abef02148d84c9792",
            "bb92333a43dd4d69a763a6bee634106c",
            "0af20a3828ba4baeafbdb04564146a7f",
            "367c41fffddb4fc3ae71749217e5ef85"
          ]
        },
        "cellView": "form",
        "id": "2D17lkAGyr7V",
        "outputId": "24d8df08-f7d0-495c-e92c-fbc180c3680b"
      },
      "execution_count": null,
      "outputs": [
        {
          "output_type": "display_data",
          "data": {
            "text/plain": [
              "interactive(children=(FloatSlider(value=0.0, description='phi', max=10.0, step=0.01), Output(layout=Layout(hei…"
            ],
            "application/vnd.jupyter.widget-view+json": {
              "version_major": 2,
              "version_minor": 0,
              "model_id": "18186b0ead314bc181a7ede7e392a132"
            }
          },
          "metadata": {}
        }
      ]
    },
    {
      "cell_type": "markdown",
      "source": [
        "#### The moving axis\n",
        "\n",
        "* As you can see by changing the slider, __increasing phi__ causes the graph of __sin(a+phi)__ to __move right!!__\n",
        "\n",
        "\n",
        "* However, this makes sense when we look at the new argument $a-\\phi$. \n",
        "\n",
        "* For the sake of claridy, we are going to consider specific values of $a$ and $\\phi$ as follows:\n",
        "  * $a=2.5$\n",
        "  * $\\phi = 0.4$\n",
        "  * $\\phi = 1.4$\n",
        "\n",
        "* Now we find the phase becomes:\n"
      ],
      "metadata": {
        "id": "Y3m-wvQ12UN4"
      }
    },
    {
      "cell_type": "code",
      "source": [
        "a=2.5"
      ],
      "metadata": {
        "id": "yeydGzb63JD-"
      },
      "execution_count": null,
      "outputs": []
    },
    {
      "cell_type": "code",
      "source": [
        "a-0.4"
      ],
      "metadata": {
        "colab": {
          "base_uri": "https://localhost:8080/"
        },
        "id": "0iKR9hyV3MPL",
        "outputId": "cbf3cfbb-f9a2-4fdc-a722-1c793b35dc47"
      },
      "execution_count": null,
      "outputs": [
        {
          "output_type": "execute_result",
          "data": {
            "text/plain": [
              "2.1"
            ]
          },
          "metadata": {},
          "execution_count": 45
        }
      ]
    },
    {
      "cell_type": "code",
      "source": [
        "a-1.4"
      ],
      "metadata": {
        "colab": {
          "base_uri": "https://localhost:8080/"
        },
        "id": "hQQB-tMy3SH6",
        "outputId": "a1b0de8a-88f3-4ff0-cafb-66ea6af02460"
      },
      "execution_count": null,
      "outputs": [
        {
          "output_type": "execute_result",
          "data": {
            "text/plain": [
              "1.1"
            ]
          },
          "metadata": {},
          "execution_count": 46
        }
      ]
    },
    {
      "cell_type": "markdown",
      "source": [
        "* We see that as the __phase-shift $\\phi$ increases__ to $-0.4$ and then $-1.4$, the __argument $(a-\\phi)$ decreases__ to $2.1$ and then $1.1$ \n",
        "\n",
        "\n",
        "* However, on the graph, this means the __argument $(a-\\phi)$ moves left__ which then means the __graph $\\sin(a-\\phi)$ appears to move right__. \n",
        "\n",
        "* So it is not really the graph of $\\sin(\\phi-a)$ which moves right, it is the phase $(a-\\phi)$ which moves left. "
      ],
      "metadata": {
        "id": "5osCe99B3UdA"
      }
    },
    {
      "cell_type": "markdown",
      "source": [
        "## Exercise 1.3\n",
        "\n",
        "1. __Copy & paste__ the code from the interactive plot in __Example 2.1__ into the cell below "
      ],
      "metadata": {
        "id": "A4u8oIRv7eTi"
      }
    },
    {
      "cell_type": "code",
      "source": [
        "# Paste code here"
      ],
      "metadata": {
        "id": "qkZPAah43Q0U"
      },
      "execution_count": null,
      "outputs": []
    },
    {
      "cell_type": "markdown",
      "source": [
        "2. __Modify__ the pasted code in the cell above so that the graph of __np.cos(A-phi)__ is shown instead. Does the graph of $\\cos(a-\\phi)$ move left or right as __phi__ increases?"
      ],
      "metadata": {
        "id": "Lh2q7uhz7sLS"
      }
    },
    {
      "cell_type": "code",
      "source": [],
      "metadata": {
        "id": "LhEV_rxr87Vf"
      },
      "execution_count": null,
      "outputs": []
    },
    {
      "cell_type": "markdown",
      "source": [
        "# Section 1.3 - The function $\\tan(a)$"
      ],
      "metadata": {
        "id": "ikYKYKsbAydg"
      }
    },
    {
      "cell_type": "code",
      "source": [
        "#@title The meaning of $\\tan(a)$\n",
        "t=np.linspace(0,2*np.pi,201)\n",
        "r=1\n",
        "a=np.pi/5\n",
        "\n",
        "plt.figure(figsize=(7,7))\n",
        "plt.plot(np.cos(t),np.sin(t),ls='--', c='darkslategray')\n",
        "plt.plot(0.2*np.cos(t[t<=a]),0.2*np.sin(t[t<=a]),ls='-', c='darkslategray')\n",
        "\n",
        "plt.plot([0,np.cos(a)],[0,np.sin(a)],lw=1,c='k')\n",
        "plt.plot([0,np.cos(a)],[0,np.sin(a)],lw=1,c='k')\n",
        "plt.plot([0,np.cos(a)],[0,0],lw=4,c='k')\n",
        "plt.plot([np.cos(a),np.cos(a)],[0,np.sin(a)],lw=4,c='k')\n",
        "plt.plot([0,np.cos(a)],[0,np.sin(a)],'o',c='r',markersize=8)\n",
        "\n",
        "plt.axhline(y=0,lw=0.75,c='k')\n",
        "plt.axvline(x=0,lw=0.75,c='k')\n",
        "\n",
        "\n",
        "\n",
        "plt.text(0.5*np.cos(1.125*a), 0.5*np.sin(1.125*a), '$r=1$', rotation=np.degrees(a))\n",
        "plt.text(0.225*np.cos(a/2), 0.225*np.sin(a/2), '$a$')\n",
        "plt.text(0.4*np.cos(a),-0.075,'$\\cos(a)$',size=10);\n",
        "plt.text(-0.2,0.05,'$(x_{1},y_{1})$')\n",
        "plt.text(1.03*np.cos(a),1.03*np.sin(a),'$(x_{2},y_{2})$')\n",
        "\n",
        "plt.text(0.5*np.cos(1.125*a), 0.5*np.sin(1.125*a), '$r=1$', rotation=np.degrees(a))\n",
        "plt.text(0.225*np.cos(a/2), 0.225*np.sin(a/2), '$a$')\n",
        "plt.text(0.9*np.cos(a),0.4*np.sin(a),'$\\sin(a)$',size=10,rotation=90);"
      ],
      "metadata": {
        "colab": {
          "base_uri": "https://localhost:8080/",
          "height": 428
        },
        "cellView": "form",
        "id": "_BKxwEhZA4vP",
        "outputId": "2ff97fc7-e093-41bf-c037-7c936ef50786"
      },
      "execution_count": null,
      "outputs": [
        {
          "output_type": "display_data",
          "data": {
            "text/plain": [
              "<Figure size 504x504 with 1 Axes>"
            ],
            "image/png": "[encoded data removed]"
          },
          "metadata": {}
        }
      ]
    },
    {
      "cell_type": "markdown",
      "source": [
        "* The function $\\tan(a)$ is defined as the __ratio__\n",
        "$$\n",
        "\\tan(a) = \\frac{\\sin(a)}{\\cos(a)}.\n",
        "$$\n",
        "\n",
        "\n",
        "* As you can see from the plot above, this is the same as the the __slope of the radius__ at angle __a,__ given by\n",
        "$$\n",
        "m=\\frac{y_{2}-y_{1}}{x_{2}-x_{1}}\n",
        "$$\n",
        "\n",
        "* So in a sense $\\tan(a)$ is the __slope__ of the angle $a$!!\n"
      ],
      "metadata": {
        "id": "ymkZl_v0DFvO"
      }
    },
    {
      "cell_type": "markdown",
      "source": [
        "## Example 1.4 - The graph of $\\tan(a)$\n",
        "\n",
        "* It is easy to see that when the radius is __vertical__ i.e. when $a=90^{\\circ}=\\frac{\\pi}{2}\\mathrm{~rad}$ or $a=270^{\\circ}=\\frac{3\\pi}{2}\\mathrm{~rad}$,\n",
        "then $\\cos(a)=0$ and $\\sin(a)=\\pm1$:"
      ],
      "metadata": {
        "id": "n-L6Go--GFOq"
      }
    },
    {
      "cell_type": "code",
      "source": [
        "np.cos(np.pi/2)"
      ],
      "metadata": {
        "colab": {
          "base_uri": "https://localhost:8080/"
        },
        "id": "6g5Jat-3Bp8-",
        "outputId": "7db757ed-8550-47d9-9c8f-e80a44d37fa5"
      },
      "execution_count": null,
      "outputs": [
        {
          "output_type": "execute_result",
          "data": {
            "text/plain": [
              "0.0"
            ]
          },
          "metadata": {},
          "execution_count": 94
        }
      ]
    },
    {
      "cell_type": "code",
      "source": [
        "np.cos(3*np.pi/2)"
      ],
      "metadata": {
        "colab": {
          "base_uri": "https://localhost:8080/"
        },
        "id": "EFkLGTbeGm72",
        "outputId": "c65802e6-9564-4fdc-a7ef-c30194bff7dc"
      },
      "execution_count": null,
      "outputs": [
        {
          "output_type": "execute_result",
          "data": {
            "text/plain": [
              "-0.0"
            ]
          },
          "metadata": {},
          "execution_count": 95
        }
      ]
    },
    {
      "cell_type": "code",
      "source": [
        "np.sin(np.pi/2)"
      ],
      "metadata": {
        "colab": {
          "base_uri": "https://localhost:8080/"
        },
        "id": "ojusBT40Gvfi",
        "outputId": "3e3c4e1b-9632-48af-e9f4-89b4651bf868"
      },
      "execution_count": null,
      "outputs": [
        {
          "output_type": "execute_result",
          "data": {
            "text/plain": [
              "1.0"
            ]
          },
          "metadata": {},
          "execution_count": 99
        }
      ]
    },
    {
      "cell_type": "code",
      "source": [
        "np.sin(3*np.pi/2)"
      ],
      "metadata": {
        "colab": {
          "base_uri": "https://localhost:8080/"
        },
        "id": "H9wAthn9GzJO",
        "outputId": "99952334-a5c8-4715-ac9c-f8548f61c360"
      },
      "execution_count": null,
      "outputs": [
        {
          "output_type": "execute_result",
          "data": {
            "text/plain": [
              "-1.0"
            ]
          },
          "metadata": {},
          "execution_count": 100
        }
      ]
    },
    {
      "cell_type": "markdown",
      "source": [
        "* It is now clear that $\\tan(a)$ is __not defined__  at these angles, since\n",
        "$$\n",
        "\\tan\\left(\\frac{\\pi}{2}\\right) = \\frac{\\sin\\left(\\frac{\\pi}{2}\\right)}{\\cos\\left(\\frac{\\pi}{2}\\right)} = \\frac{1}{0} \\tag{NOT DEFINED!!}\n",
        "$$\n",
        "and\n",
        "$$\n",
        "\\tan\\left(\\frac{3\\pi}{2}\\right) = \\frac{\\sin\\left(\\frac{3\\pi}{2}\\right)}{\\cos\\left(\\frac{3\\pi}{2}\\right)} = \\frac{-1}{0} \\tag{NOT DEFINED!!}\n",
        "$$\n",
        "\n",
        "* Clearly, we expect something unusual to happen to the __graph__ of $\\tan(a)$ at these values of $a$, and this is indeed the case as you can see in the next cell.\n"
      ],
      "metadata": {
        "id": "3w-za9lCHBxb"
      }
    },
    {
      "cell_type": "code",
      "source": [
        "#@title The graph of $\\tan(a)$\n",
        "T=np.linspace(0,2,501)*np.pi\n",
        "plt.plot(T,np.tan(T),c='skyblue',lw=2,label='$\\\\tan(a)$')\n",
        "plt.axhline(y=0,lw=0.75,c='k')\n",
        "plt.axvline(x=0,lw=0.75,c='k')\n",
        "\n",
        "plt.axvline(x=np.pi/2,lw=2.5,c='orange',label='$a=\\\\frac{\\pi}{2}$')\n",
        "plt.axvline(x=3*np.pi/2,lw=2.5,c='orange',label='$a=\\\\frac{3\\pi}{2}$')\n",
        "\n",
        "plt.ylim(-10,10)\n",
        "\n",
        "plt.legend(loc='upper right',fontsize=12)\n",
        "plt.xlabel('a (rad)',fontsize=12)\n",
        "plt.ylabel('tan(a)',fontsize=12)"
      ],
      "metadata": {
        "colab": {
          "base_uri": "https://localhost:8080/",
          "height": 385
        },
        "cellView": "form",
        "id": "pQc0P2m5G91J",
        "outputId": "96e84564-408e-4dfc-fd4d-736cea0d662c"
      },
      "execution_count": null,
      "outputs": [
        {
          "output_type": "execute_result",
          "data": {
            "text/plain": [
              "Text(0, 0.5, 'tan(a)')"
            ]
          },
          "metadata": {},
          "execution_count": 323
        },
        {
          "output_type": "display_data",
          "data": {
            "text/plain": [
              "<Figure size 576x396 with 1 Axes>"
            ],
            "image/png": "[encoded data removed]"
          },
          "metadata": {}
        }
      ]
    },
    {
      "cell_type": "markdown",
      "source": [
        "* It is  clear that the graph is has unusual behaviour at the points\n",
        "$$\n",
        "a=1.570796...=\\frac{\\pi}{2}\\quad\\&\\quad a=4.712389...=\\frac{3\\pi}{2},\n",
        "$$\n",
        "which is eactly where $\\cos(a)=0$ and $\\sin(a)=\\pm1$, meaning $\\tan(a)=\\frac{\\pm1}{0}$.\n",
        "\n",
        "\n",
        "* Any point $a$ where the __denominator__  $\\cos(a)$ __becomes zero__ is called a __singularity__ of the function $\\tan(a)=\\frac{\\sin(a)}{\\cos(a)}$.\n",
        "\n",
        "\n",
        "* So a __singularity__ of $\\tan(a)$ is basically a point $a$ where the function becomes __undefined.__\n",
        "\n",
        "\n",
        "* The __orange lines__ shown in this graph at the singularities $a=\\frac{\\pi}{2}$ and $a=\\frac{3\\pi}{2}$ are called __vertical asymptotes__ of the graph  of $\\tan(a)$.\n",
        "\n",
        "\n",
        "* The word __asymptote__ basically means the graph gets __artbitrarily close__ to this vertical line, but __never__ crosses it."
      ],
      "metadata": {
        "id": "lByjFqwgJrQu"
      }
    },
    {
      "cell_type": "markdown",
      "source": [
        "## _Exercise_ 1.4\n",
        "\n",
        "* The singularities of $\\tan(a)$, always occur at values of $a$ of the form\n",
        "$$\n",
        "a=\\pm\\frac{\\pi}{2},\\pm\\frac{3\\pi}{2},\\pm\\frac{5\\pi}{2},...,\\frac{n\\pi}{2},...\n",
        "$$\n",
        "where $n$ is __any odd number.__\n",
        "\n",
        "* Use the function __np.tan()__ to evalualte the $\\tan$ of each of the following angles\n",
        "$$\n",
        "a=\\pm\\frac{231\\pi}{2}, \\pm\\frac{65\\pi}{2}, \\pm\\frac{11\\pi}{2},\\pm\\frac{7\\pi}{2}\n",
        "$$\n",
        "Is $\\tan(a)$ a __large number or undefined__ in each case?"
      ],
      "metadata": {
        "id": "BXt9ODwMNED4"
      }
    },
    {
      "cell_type": "code",
      "source": [],
      "metadata": {
        "id": "7qJ56kbxHnEW"
      },
      "execution_count": null,
      "outputs": []
    },
    {
      "cell_type": "code",
      "source": [],
      "metadata": {
        "id": "8nl-RcBSIn1W"
      },
      "execution_count": null,
      "outputs": []
    },
    {
      "cell_type": "code",
      "source": [],
      "metadata": {
        "id": "-5cN8InPOFJ9"
      },
      "execution_count": null,
      "outputs": []
    },
    {
      "cell_type": "code",
      "source": [],
      "metadata": {
        "id": "H6HK4E9BOE1b"
      },
      "execution_count": null,
      "outputs": []
    },
    {
      "cell_type": "code",
      "source": [],
      "metadata": {
        "id": "0g32euyCOEnq"
      },
      "execution_count": null,
      "outputs": []
    },
    {
      "cell_type": "markdown",
      "source": [
        "---\n",
        "# Section 2 - Rational Functions\n",
        "\n",
        "* A rational funtion just means the __ratio__ of two other functions, so anyting of the form\n",
        "$$\n",
        "r(x) = \\frac{f(x)}{g(x)}\n",
        "$$\n",
        "is a ratoinal function.\n",
        "\n",
        "* The word __ratio__ is an older name for __fraction,__ hence the name rational funtions.\n",
        "\n",
        "* We have already seen an example of a rational function in __Section 1.3__, since the function\n",
        "$$\n",
        "\\tan(a) = \\frac{\\sin(a)}{\\cos(a)}\n",
        "$$\n",
        "is the ratio of $\\sin(a)$ and $\\cos(a)$.\n",
        "---\n",
        "\n",
        "# Section 2.1 - Singularities of rational functions\n",
        "\n",
        "* As we have seen with the function $\\tan(a)$, a rational function can behave strangely at any point where its __denominator becomes zero.__"
      ],
      "metadata": {
        "id": "VWgu36YmRY6E"
      }
    },
    {
      "cell_type": "markdown",
      "source": [
        "## Example 2.1\n",
        "\n",
        "* In this section we are going to find the singularities of the rational functions\n",
        "$$\n",
        "r(a)=\\frac{3x-5}{2x-7}\\quad\\&\\quad R(x) = \\frac{x^2-5x+1}{x^2-3x+2}\n",
        "$$\n",
        "which are just __ratios of polymonial functions.__\n",
        "\n",
        "* To do this we are going to use the __numpy__ command __np.roots()__ (see __Workbook 1__), to find the __roots of the denominator__\n",
        "\n",
        "\n",
        "* Recall, these are the values of $x$ where the __polynomial becomes zero,__ and so it means the __ratio is not defined__ at these roots, since division by zero is not defined!!"
      ],
      "metadata": {
        "id": "LK0rCp4gUaur"
      }
    },
    {
      "cell_type": "markdown",
      "source": [
        "1. Use the function __np.roots()__ to find the roots of the polynomials $2x-7$ and $x^2-3x+2$.\n",
        "\n",
        "* Recall, we use the __coefficients__ of each polynomial as the input for __np.roots()__\n",
        "\n",
        "* The coefficiente oe each polynomial are:\n",
        "   \n",
        "   * $2x-7$ has coefficients __[2,-7]__\n",
        "\n",
        "   * $x^2-3x+2$ has coefficients __[1,-3,2]__"
      ],
      "metadata": {
        "id": "irwc8vJfUkSW"
      }
    },
    {
      "cell_type": "code",
      "source": [
        "Sr = np.roots([2,-7])\n",
        "Sr"
      ],
      "metadata": {
        "colab": {
          "base_uri": "https://localhost:8080/"
        },
        "id": "w9J6Hd0nSICT",
        "outputId": "60feb5b0-7ffc-43a2-b364-d54a901fd029"
      },
      "execution_count": null,
      "outputs": [
        {
          "output_type": "execute_result",
          "data": {
            "text/plain": [
              "array([3.5])"
            ]
          },
          "metadata": {},
          "execution_count": 195
        }
      ]
    },
    {
      "cell_type": "code",
      "source": [
        "SR=np.roots([1,-3,2])\n",
        "SR"
      ],
      "metadata": {
        "colab": {
          "base_uri": "https://localhost:8080/"
        },
        "id": "EsluDfB5Va6u",
        "outputId": "049c487d-3d4a-45f4-d108-9d7bd9b2f49e"
      },
      "execution_count": null,
      "outputs": [
        {
          "output_type": "execute_result",
          "data": {
            "text/plain": [
              "array([2., 1.])"
            ]
          },
          "metadata": {},
          "execution_count": 196
        }
      ]
    },
    {
      "cell_type": "markdown",
      "source": [
        "2. Define functions to represent the rational functions $r(x)$ and $R(x)$."
      ],
      "metadata": {
        "id": "KcafpKPlVoGz"
      }
    },
    {
      "cell_type": "code",
      "source": [
        "def r(x):\n",
        "  return (3*x-5)/(2*x-7)"
      ],
      "metadata": {
        "id": "oh4GQ28zVmJ6"
      },
      "execution_count": null,
      "outputs": []
    },
    {
      "cell_type": "code",
      "source": [
        "def R(x):\n",
        "  return (x**2-5*x+1)/(x**2-3*x+2)"
      ],
      "metadata": {
        "id": "EjzPV0cCWBMJ"
      },
      "execution_count": null,
      "outputs": []
    },
    {
      "cell_type": "markdown",
      "source": [
        "3. Show that $r(x_1)$ is not defined and $R(x_{2})$, $R(x_{3})$ are singualr also. "
      ],
      "metadata": {
        "id": "cJz8KGDPWRpX"
      }
    },
    {
      "cell_type": "code",
      "source": [
        "r(Sr)"
      ],
      "metadata": {
        "colab": {
          "base_uri": "https://localhost:8080/"
        },
        "id": "jItHK2c8WKTe",
        "outputId": "d90daad9-9edc-4fff-cceb-68fae072a3a3"
      },
      "execution_count": null,
      "outputs": [
        {
          "output_type": "stream",
          "name": "stderr",
          "text": [
            "<ipython-input-189-789c6798c7be>:2: RuntimeWarning: divide by zero encountered in true_divide\n",
            "  return (3*x-5)/(2*x-7)\n"
          ]
        },
        {
          "output_type": "execute_result",
          "data": {
            "text/plain": [
              "array([inf])"
            ]
          },
          "metadata": {},
          "execution_count": 191
        }
      ]
    },
    {
      "cell_type": "code",
      "source": [
        "R(SR)"
      ],
      "metadata": {
        "colab": {
          "base_uri": "https://localhost:8080/"
        },
        "id": "Go2Vxh87WmGd",
        "outputId": "e0bcc099-6247-4b8d-df52-2eafa48629f5"
      },
      "execution_count": null,
      "outputs": [
        {
          "output_type": "stream",
          "name": "stderr",
          "text": [
            "<ipython-input-190-4551f3097aa9>:2: RuntimeWarning: divide by zero encountered in true_divide\n",
            "  return (x**2-5*x+1)/(x**2-3*x+2)\n"
          ]
        },
        {
          "output_type": "execute_result",
          "data": {
            "text/plain": [
              "array([-inf, -inf])"
            ]
          },
          "metadata": {},
          "execution_count": 197
        }
      ]
    },
    {
      "cell_type": "markdown",
      "source": [
        "* In each case the function returns: __RuntimeWarning: divide by zero encountered in true_divide__ which indicates we are trying to divide by zero, which is not defined.\n",
        "\n",
        "\n",
        "* So it is indeed the case that the __singularities of a rational function__ occur at the __roots of the denominator__"
      ],
      "metadata": {
        "id": "QeMd8QhCWtNV"
      }
    },
    {
      "cell_type": "code",
      "source": [],
      "metadata": {
        "id": "30nkSN6UXoxF"
      },
      "execution_count": null,
      "outputs": []
    },
    {
      "cell_type": "code",
      "source": [],
      "metadata": {
        "id": "DoWyM8zAYH62"
      },
      "execution_count": null,
      "outputs": []
    },
    {
      "cell_type": "markdown",
      "source": [
        "## _Exercise 2.1_\n",
        "\n",
        "Given the rational function\n",
        "$$\n",
        "q(x) = \\frac{x^5 - 15x^4 + 72x^3 - 76x^2 - 288x + 576}{ x^5 - 9x^4 - 19x^3 + 241x^2 - 150x - 400}\\tag{Rational q}\n",
        "$$\n",
        "answer the following:\n",
        "\n"
      ],
      "metadata": {
        "id": "uTBwbBo5YLe9"
      }
    },
    {
      "cell_type": "markdown",
      "source": [
        "1. Use the function __np.roots()__ to find the roots of the __roots of the denominator__ in the rational function $q(x)$"
      ],
      "metadata": {
        "id": "3D9vOYFMYswH"
      }
    },
    {
      "cell_type": "code",
      "source": [],
      "metadata": {
        "id": "ysLkPy4MYne5"
      },
      "execution_count": null,
      "outputs": []
    },
    {
      "cell_type": "code",
      "source": [],
      "metadata": {
        "id": "uYsBrZJCY_ga"
      },
      "execution_count": null,
      "outputs": []
    },
    {
      "cell_type": "code",
      "source": [],
      "metadata": {
        "id": "XDb-U1pIZLTt"
      },
      "execution_count": null,
      "outputs": []
    },
    {
      "cell_type": "markdown",
      "source": [
        "2. Define a python function __q(x)__ to represent the function in equation $\\text{(Rational q)}$.\n",
        "\n",
        "* __IMPORTANT:__  Do not forget to use __brackets!!__"
      ],
      "metadata": {
        "id": "2ioAixIjZUmi"
      }
    },
    {
      "cell_type": "code",
      "source": [],
      "metadata": {
        "id": "681qDBpIZnYm"
      },
      "execution_count": null,
      "outputs": []
    },
    {
      "cell_type": "code",
      "source": [],
      "metadata": {
        "id": "fIvmvrd6aoMm"
      },
      "execution_count": null,
      "outputs": []
    },
    {
      "cell_type": "markdown",
      "source": [
        "3. Show that each of the roots found in __Part 1.__ are singularities of the functions by __inputting__ them into __q(x)__"
      ],
      "metadata": {
        "id": "pDResaL6a7-p"
      }
    },
    {
      "cell_type": "code",
      "source": [],
      "metadata": {
        "id": "fPULzcC1gWTb"
      },
      "execution_count": null,
      "outputs": []
    },
    {
      "cell_type": "markdown",
      "source": [
        "---\n",
        "# Section 3 - Graphs of rational functions\n",
        "\n",
        "* Now that we know how for find the singularities of ratios of polynomials, we wouls like to see if their graphs also display asmptotic behaviour like the $\\tan()$ function.\n",
        "\n",
        "---"
      ],
      "metadata": {
        "id": "JNLOhgbpg6Hc"
      }
    },
    {
      "cell_type": "markdown",
      "source": [
        "## Example 3.1 - The graph of $R(x)$\n",
        "\n",
        "* In __Example 3.1__ we found the rational function \n",
        "$$\n",
        "R(x) = \\frac{x^2-5x+1}{x^2-3x+2}\n",
        "$$\n",
        "has singularities at $x=1$ and $x=2$.\n",
        "\n",
        "* To see this graphically, we need to plot the __R(x)__ on an interval that contains these two points.\n",
        "\n",
        "1. Use __np.linspace()__ to define the interval __X = [0 , 3]__ with __301__ points and use __in__ to confirm $1\\in$__X__\n",
        "\n"
      ],
      "metadata": {
        "id": "Wf5-LQhShd0h"
      }
    },
    {
      "cell_type": "code",
      "source": [
        "X=np.linspace(0,3,501)"
      ],
      "metadata": {
        "id": "vwXLmbLthdE0"
      },
      "execution_count": null,
      "outputs": []
    },
    {
      "cell_type": "markdown",
      "source": [
        "2. Plot the function __R(X)__ on this inteval, and use __np.axvline()__ to include approptriate vertical asymptotes.\n",
        "\n",
        "* Before we begin, we recall that the singularities of $R(x)$ are defined above as __SR__"
      ],
      "metadata": {
        "id": "D0WpF5dijR5W"
      }
    },
    {
      "cell_type": "code",
      "source": [
        "SR"
      ],
      "metadata": {
        "colab": {
          "base_uri": "https://localhost:8080/"
        },
        "id": "Jqcp_bQUo0FO",
        "outputId": "7cb04054-222e-4a3b-a2f3-57dd6ecbbd79"
      },
      "execution_count": null,
      "outputs": [
        {
          "output_type": "execute_result",
          "data": {
            "text/plain": [
              "array([2., 1.])"
            ]
          },
          "metadata": {},
          "execution_count": 312
        }
      ]
    },
    {
      "cell_type": "code",
      "source": [
        "#@title The graph of $R(x)$ and its vertical asymptotes\n",
        "plt.plot(X,R(X),c='darkgreen',label='$R(x)$') # plot the garph of R(x)\n",
        "\n",
        "for i in range(len(SR)): # Plot all vertical asymptoes using a for loop\n",
        "  plt.axvline(x=SR[i],c='orange',lw=2.5,label='$x= %s $' % SR[i].astype(int))\n",
        "\n",
        "plt.axhline(y=0,lw=0.75,c='k') # plot the x axis\n",
        "plt.axvline(x=0,lw=0.75,c='k') # plot the y axis\n",
        "\n",
        "plt.xlabel('x') # label the x axis\n",
        "plt.ylabel('y') # label the x axis\n",
        "\n",
        "plt.ylim(-100,100) # restrict the vertical range of the plot\n",
        "\n",
        "plt.legend() # show the legend"
      ],
      "metadata": {
        "colab": {
          "base_uri": "https://localhost:8080/",
          "height": 383
        },
        "cellView": "form",
        "id": "lL0qf4ogihrB",
        "outputId": "5fb77407-55f4-430b-d524-5fa02877f494"
      },
      "execution_count": null,
      "outputs": [
        {
          "output_type": "execute_result",
          "data": {
            "text/plain": [
              "<matplotlib.legend.Legend at 0x7fadf0e768b0>"
            ]
          },
          "metadata": {},
          "execution_count": 313
        },
        {
          "output_type": "display_data",
          "data": {
            "text/plain": [
              "<Figure size 576x396 with 1 Axes>"
            ],
            "image/png": "[encoded data removed]"
          },
          "metadata": {}
        }
      ]
    },
    {
      "cell_type": "markdown",
      "source": [
        "* Notce that the __vertical asymptotes__ of $R(x)$ occure at $x=1$ and $x=2$.\n",
        "\n",
        "\n",
        "* These are exactly the $x$-values where the __denominator__ of $R(x)$ becomes __zero!!__\n",
        "\n",
        "\n",
        "* So the __vertical asymptotes__ of the rational function $R(x)$ occure at the points where $R(x)$ becomes __undefined__ (i.e. where we divide by zero)."
      ],
      "metadata": {
        "id": "W358Ynk4pQeq"
      }
    },
    {
      "cell_type": "code",
      "source": [],
      "metadata": {
        "id": "QvRyoQb8nvw6"
      },
      "execution_count": null,
      "outputs": []
    },
    {
      "cell_type": "markdown",
      "source": [
        "## _Exercise_ 3.1 - The graph of $q(x)$\n",
        "\n",
        "1. Use __np.linspace()__ to define the interval __I = [-6 , 9]__ with __501__ points.\n",
        "\n",
        " * This interval should cover __all__ singular points of the function __q(x)__ defined in _Exercise_ 2.1!"
      ],
      "metadata": {
        "id": "_2BuPTyBp8nO"
      }
    },
    {
      "cell_type": "code",
      "source": [],
      "metadata": {
        "id": "4W2STS12rcZK"
      },
      "execution_count": null,
      "outputs": []
    },
    {
      "cell_type": "code",
      "source": [],
      "metadata": {
        "id": "BQC2OGRcqr2J"
      },
      "execution_count": null,
      "outputs": []
    },
    {
      "cell_type": "markdown",
      "source": [
        "2. Copy & paste the code from __Example 3.1 - Part 2.__ above into to cell below, and modify it the plot the function __q(x)__ on the interaval __I__.\n",
        "\n",
        "* Use a __for__ loor to inclue all vertical asymptotes of __q(x)__ in this graph."
      ],
      "metadata": {
        "id": "2dehgOTBqtmX"
      }
    },
    {
      "cell_type": "code",
      "source": [],
      "metadata": {
        "id": "H6U6UjxYrIf7"
      },
      "execution_count": null,
      "outputs": []
    },
    {
      "cell_type": "code",
      "source": [],
      "metadata": {
        "id": "MslLhE8mrKa-"
      },
      "execution_count": null,
      "outputs": []
    },
    {
      "cell_type": "code",
      "source": [],
      "metadata": {
        "id": "_SYTSeberKOR"
      },
      "execution_count": null,
      "outputs": []
    },
    {
      "cell_type": "code",
      "source": [],
      "metadata": {
        "id": "SAXQ1MjOrKBM"
      },
      "execution_count": null,
      "outputs": []
    },
    {
      "cell_type": "markdown",
      "source": [
        "3. Do the vertical asymptotes in this graph occur at the singualrities of $q(x)$, i.e. at the __roots of the denominator?__"
      ],
      "metadata": {
        "id": "zK9ezrQmrLXA"
      }
    },
    {
      "cell_type": "code",
      "source": [],
      "metadata": {
        "id": "9zn_3rqJrW_2"
      },
      "execution_count": null,
      "outputs": []
    },
    {
      "cell_type": "code",
      "source": [],
      "metadata": {
        "id": "TTxTn16fsbz_"
      },
      "execution_count": null,
      "outputs": []
    }
  ],
  "metadata": {
    "colab": {
      "provenance": [],
      "include_colab_link": true
    },
    "kernelspec": {
      "display_name": "Python 3 (ipykernel)",
      "language": "python",
      "name": "python3"
    },
    "language_info": {
      "codemirror_mode": {
        "name": "ipython",
        "version": 3
      },
      "file_extension": ".py",
      "mimetype": "text/x-python",
      "name": "python",
      "nbconvert_exporter": "python",
      "pygments_lexer": "ipython3",
      "version": "3.9.12"
    },
    "widgets": {
      "application/vnd.jupyter.widget-state+json": {
        "5b6a03fa6fd44832af0df537ad13a721": {
          "model_module": "@jupyter-widgets/controls",
          "model_name": "VBoxModel",
          "model_module_version": "1.5.0",
          "state": {
            "_dom_classes": [
              "widget-interact"
            ],
            "_model_module": "@jupyter-widgets/controls",
            "_model_module_version": "1.5.0",
            "_model_name": "VBoxModel",
            "_view_count": null,
            "_view_module": "@jupyter-widgets/controls",
            "_view_module_version": "1.5.0",
            "_view_name": "VBoxView",
            "box_style": "",
            "children": [
              "IPY_MODEL_0d589cf8696e48269070a7ceb42f9697",
              "IPY_MODEL_5eb210d4a726422e94fc756ca52485c8"
            ],
            "layout": "IPY_MODEL_2305f2dd33c848888fe6cd14781d7f6c"
          }
        },
        "0d589cf8696e48269070a7ceb42f9697": {
          "model_module": "@jupyter-widgets/controls",
          "model_name": "FloatSliderModel",
          "model_module_version": "1.5.0",
          "state": {
            "_dom_classes": [],
            "_model_module": "@jupyter-widgets/controls",
            "_model_module_version": "1.5.0",
            "_model_name": "FloatSliderModel",
            "_view_count": null,
            "_view_module": "@jupyter-widgets/controls",
            "_view_module_version": "1.5.0",
            "_view_name": "FloatSliderView",
            "continuous_update": true,
            "description": "a",
            "description_tooltip": null,
            "disabled": false,
            "layout": "IPY_MODEL_148861c63c0140b6b2d10ed5fde07e14",
            "max": 3.141592653589793,
            "min": -3.141592653589793,
            "orientation": "horizontal",
            "readout": true,
            "readout_format": ".2f",
            "step": 0.01,
            "style": "IPY_MODEL_82f693667d8e4a6d8c17f9eac6f971d1",
            "value": 3.138407346410207
          }
        },
        "5eb210d4a726422e94fc756ca52485c8": {
          "model_module": "@jupyter-widgets/output",
          "model_name": "OutputModel",
          "model_module_version": "1.0.0",
          "state": {
            "_dom_classes": [],
            "_model_module": "@jupyter-widgets/output",
            "_model_module_version": "1.0.0",
            "_model_name": "OutputModel",
            "_view_count": null,
            "_view_module": "@jupyter-widgets/output",
            "_view_module_version": "1.0.0",
            "_view_name": "OutputView",
            "layout": "IPY_MODEL_e709c2d4df774864a2c85781f16464b2",
            "msg_id": "",
            "outputs": [
              {
                "output_type": "display_data",
                "data": {
                  "text/plain": "<Figure size 864x504 with 1 Axes>",
                  "image/png": "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\n"
                },
                "metadata": {}
              }
            ]
          }
        },
        "2305f2dd33c848888fe6cd14781d7f6c": {
          "model_module": "@jupyter-widgets/base",
          "model_name": "LayoutModel",
          "model_module_version": "1.2.0",
          "state": {
            "_model_module": "@jupyter-widgets/base",
            "_model_module_version": "1.2.0",
            "_model_name": "LayoutModel",
            "_view_count": null,
            "_view_module": "@jupyter-widgets/base",
            "_view_module_version": "1.2.0",
            "_view_name": "LayoutView",
            "align_content": null,
            "align_items": null,
            "align_self": null,
            "border": null,
            "bottom": null,
            "display": null,
            "flex": null,
            "flex_flow": null,
            "grid_area": null,
            "grid_auto_columns": null,
            "grid_auto_flow": null,
            "grid_auto_rows": null,
            "grid_column": null,
            "grid_gap": null,
            "grid_row": null,
            "grid_template_areas": null,
            "grid_template_columns": null,
            "grid_template_rows": null,
            "height": null,
            "justify_content": null,
            "justify_items": null,
            "left": null,
            "margin": null,
            "max_height": null,
            "max_width": null,
            "min_height": null,
            "min_width": null,
            "object_fit": null,
            "object_position": null,
            "order": null,
            "overflow": null,
            "overflow_x": null,
            "overflow_y": null,
            "padding": null,
            "right": null,
            "top": null,
            "visibility": null,
            "width": null
          }
        },
        "148861c63c0140b6b2d10ed5fde07e14": {
          "model_module": "@jupyter-widgets/base",
          "model_name": "LayoutModel",
          "model_module_version": "1.2.0",
          "state": {
            "_model_module": "@jupyter-widgets/base",
            "_model_module_version": "1.2.0",
            "_model_name": "LayoutModel",
            "_view_count": null,
            "_view_module": "@jupyter-widgets/base",
            "_view_module_version": "1.2.0",
            "_view_name": "LayoutView",
            "align_content": null,
            "align_items": null,
            "align_self": null,
            "border": null,
            "bottom": null,
            "display": null,
            "flex": null,
            "flex_flow": null,
            "grid_area": null,
            "grid_auto_columns": null,
            "grid_auto_flow": null,
            "grid_auto_rows": null,
            "grid_column": null,
            "grid_gap": null,
            "grid_row": null,
            "grid_template_areas": null,
            "grid_template_columns": null,
            "grid_template_rows": null,
            "height": null,
            "justify_content": null,
            "justify_items": null,
            "left": null,
            "margin": null,
            "max_height": null,
            "max_width": null,
            "min_height": null,
            "min_width": null,
            "object_fit": null,
            "object_position": null,
            "order": null,
            "overflow": null,
            "overflow_x": null,
            "overflow_y": null,
            "padding": null,
            "right": null,
            "top": null,
            "visibility": null,
            "width": null
          }
        },
        "82f693667d8e4a6d8c17f9eac6f971d1": {
          "model_module": "@jupyter-widgets/controls",
          "model_name": "SliderStyleModel",
          "model_module_version": "1.5.0",
          "state": {
            "_model_module": "@jupyter-widgets/controls",
            "_model_module_version": "1.5.0",
            "_model_name": "SliderStyleModel",
            "_view_count": null,
            "_view_module": "@jupyter-widgets/base",
            "_view_module_version": "1.2.0",
            "_view_name": "StyleView",
            "description_width": "",
            "handle_color": null
          }
        },
        "e709c2d4df774864a2c85781f16464b2": {
          "model_module": "@jupyter-widgets/base",
          "model_name": "LayoutModel",
          "model_module_version": "1.2.0",
          "state": {
            "_model_module": "@jupyter-widgets/base",
            "_model_module_version": "1.2.0",
            "_model_name": "LayoutModel",
            "_view_count": null,
            "_view_module": "@jupyter-widgets/base",
            "_view_module_version": "1.2.0",
            "_view_name": "LayoutView",
            "align_content": null,
            "align_items": null,
            "align_self": null,
            "border": null,
            "bottom": null,
            "display": null,
            "flex": null,
            "flex_flow": null,
            "grid_area": null,
            "grid_auto_columns": null,
            "grid_auto_flow": null,
            "grid_auto_rows": null,
            "grid_column": null,
            "grid_gap": null,
            "grid_row": null,
            "grid_template_areas": null,
            "grid_template_columns": null,
            "grid_template_rows": null,
            "height": "4.3in",
            "justify_content": null,
            "justify_items": null,
            "left": null,
            "margin": null,
            "max_height": null,
            "max_width": null,
            "min_height": null,
            "min_width": null,
            "object_fit": null,
            "object_position": null,
            "order": null,
            "overflow": null,
            "overflow_x": null,
            "overflow_y": null,
            "padding": null,
            "right": null,
            "top": null,
            "visibility": null,
            "width": null
          }
        },
        "18186b0ead314bc181a7ede7e392a132": {
          "model_module": "@jupyter-widgets/controls",
          "model_name": "VBoxModel",
          "model_module_version": "1.5.0",
          "state": {
            "_dom_classes": [
              "widget-interact"
            ],
            "_model_module": "@jupyter-widgets/controls",
            "_model_module_version": "1.5.0",
            "_model_name": "VBoxModel",
            "_view_count": null,
            "_view_module": "@jupyter-widgets/controls",
            "_view_module_version": "1.5.0",
            "_view_name": "VBoxView",
            "box_style": "",
            "children": [
              "IPY_MODEL_8bc7da65119a42098161a7e4e1c15d14",
              "IPY_MODEL_b275c3c39eb5407dad971167b8ad62ec"
            ],
            "layout": "IPY_MODEL_c969dc25ab5e492abef02148d84c9792"
          }
        },
        "8bc7da65119a42098161a7e4e1c15d14": {
          "model_module": "@jupyter-widgets/controls",
          "model_name": "FloatSliderModel",
          "model_module_version": "1.5.0",
          "state": {
            "_dom_classes": [],
            "_model_module": "@jupyter-widgets/controls",
            "_model_module_version": "1.5.0",
            "_model_name": "FloatSliderModel",
            "_view_count": null,
            "_view_module": "@jupyter-widgets/controls",
            "_view_module_version": "1.5.0",
            "_view_name": "FloatSliderView",
            "continuous_update": true,
            "description": "phi",
            "description_tooltip": null,
            "disabled": false,
            "layout": "IPY_MODEL_bb92333a43dd4d69a763a6bee634106c",
            "max": 10,
            "min": 0,
            "orientation": "horizontal",
            "readout": true,
            "readout_format": ".2f",
            "step": 0.01,
            "style": "IPY_MODEL_0af20a3828ba4baeafbdb04564146a7f",
            "value": 0
          }
        },
        "b275c3c39eb5407dad971167b8ad62ec": {
          "model_module": "@jupyter-widgets/output",
          "model_name": "OutputModel",
          "model_module_version": "1.0.0",
          "state": {
            "_dom_classes": [],
            "_model_module": "@jupyter-widgets/output",
            "_model_module_version": "1.0.0",
            "_model_name": "OutputModel",
            "_view_count": null,
            "_view_module": "@jupyter-widgets/output",
            "_view_module_version": "1.0.0",
            "_view_name": "OutputView",
            "layout": "IPY_MODEL_367c41fffddb4fc3ae71749217e5ef85",
            "msg_id": "",
            "outputs": [
              {
                "output_type": "display_data",
                "data": {
                  "text/plain": "<Figure size 864x504 with 1 Axes>",
                  "image/png": "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\n"
                },
                "metadata": {}
              }
            ]
          }
        },
        "c969dc25ab5e492abef02148d84c9792": {
          "model_module": "@jupyter-widgets/base",
          "model_name": "LayoutModel",
          "model_module_version": "1.2.0",
          "state": {
            "_model_module": "@jupyter-widgets/base",
            "_model_module_version": "1.2.0",
            "_model_name": "LayoutModel",
            "_view_count": null,
            "_view_module": "@jupyter-widgets/base",
            "_view_module_version": "1.2.0",
            "_view_name": "LayoutView",
            "align_content": null,
            "align_items": null,
            "align_self": null,
            "border": null,
            "bottom": null,
            "display": null,
            "flex": null,
            "flex_flow": null,
            "grid_area": null,
            "grid_auto_columns": null,
            "grid_auto_flow": null,
            "grid_auto_rows": null,
            "grid_column": null,
            "grid_gap": null,
            "grid_row": null,
            "grid_template_areas": null,
            "grid_template_columns": null,
            "grid_template_rows": null,
            "height": null,
            "justify_content": null,
            "justify_items": null,
            "left": null,
            "margin": null,
            "max_height": null,
            "max_width": null,
            "min_height": null,
            "min_width": null,
            "object_fit": null,
            "object_position": null,
            "order": null,
            "overflow": null,
            "overflow_x": null,
            "overflow_y": null,
            "padding": null,
            "right": null,
            "top": null,
            "visibility": null,
            "width": null
          }
        },
        "bb92333a43dd4d69a763a6bee634106c": {
          "model_module": "@jupyter-widgets/base",
          "model_name": "LayoutModel",
          "model_module_version": "1.2.0",
          "state": {
            "_model_module": "@jupyter-widgets/base",
            "_model_module_version": "1.2.0",
            "_model_name": "LayoutModel",
            "_view_count": null,
            "_view_module": "@jupyter-widgets/base",
            "_view_module_version": "1.2.0",
            "_view_name": "LayoutView",
            "align_content": null,
            "align_items": null,
            "align_self": null,
            "border": null,
            "bottom": null,
            "display": null,
            "flex": null,
            "flex_flow": null,
            "grid_area": null,
            "grid_auto_columns": null,
            "grid_auto_flow": null,
            "grid_auto_rows": null,
            "grid_column": null,
            "grid_gap": null,
            "grid_row": null,
            "grid_template_areas": null,
            "grid_template_columns": null,
            "grid_template_rows": null,
            "height": null,
            "justify_content": null,
            "justify_items": null,
            "left": null,
            "margin": null,
            "max_height": null,
            "max_width": null,
            "min_height": null,
            "min_width": null,
            "object_fit": null,
            "object_position": null,
            "order": null,
            "overflow": null,
            "overflow_x": null,
            "overflow_y": null,
            "padding": null,
            "right": null,
            "top": null,
            "visibility": null,
            "width": null
          }
        },
        "0af20a3828ba4baeafbdb04564146a7f": {
          "model_module": "@jupyter-widgets/controls",
          "model_name": "SliderStyleModel",
          "model_module_version": "1.5.0",
          "state": {
            "_model_module": "@jupyter-widgets/controls",
            "_model_module_version": "1.5.0",
            "_model_name": "SliderStyleModel",
            "_view_count": null,
            "_view_module": "@jupyter-widgets/base",
            "_view_module_version": "1.2.0",
            "_view_name": "StyleView",
            "description_width": "",
            "handle_color": null
          }
        },
        "367c41fffddb4fc3ae71749217e5ef85": {
          "model_module": "@jupyter-widgets/base",
          "model_name": "LayoutModel",
          "model_module_version": "1.2.0",
          "state": {
            "_model_module": "@jupyter-widgets/base",
            "_model_module_version": "1.2.0",
            "_model_name": "LayoutModel",
            "_view_count": null,
            "_view_module": "@jupyter-widgets/base",
            "_view_module_version": "1.2.0",
            "_view_name": "LayoutView",
            "align_content": null,
            "align_items": null,
            "align_self": null,
            "border": null,
            "bottom": null,
            "display": null,
            "flex": null,
            "flex_flow": null,
            "grid_area": null,
            "grid_auto_columns": null,
            "grid_auto_flow": null,
            "grid_auto_rows": null,
            "grid_column": null,
            "grid_gap": null,
            "grid_row": null,
            "grid_template_areas": null,
            "grid_template_columns": null,
            "grid_template_rows": null,
            "height": "4.5in",
            "justify_content": null,
            "justify_items": null,
            "left": null,
            "margin": null,
            "max_height": null,
            "max_width": null,
            "min_height": null,
            "min_width": null,
            "object_fit": null,
            "object_position": null,
            "order": null,
            "overflow": null,
            "overflow_x": null,
            "overflow_y": null,
            "padding": null,
            "right": null,
            "top": null,
            "visibility": null,
            "width": null
          }
        }
      }
    }
  },
  "nbformat": 4,
  "nbformat_minor": 0
}