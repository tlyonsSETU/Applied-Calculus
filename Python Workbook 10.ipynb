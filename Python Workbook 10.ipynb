{
  "cells": [
    {
      "cell_type": "markdown",
      "metadata": {
        "id": "view-in-github",
        "colab_type": "text"
      },
      "source": [
        "<a href=\"https://colab.research.google.com/github/tlyonsSETU/Applied-Calculus/blob/main/Python%20Workbook%2010.ipynb\" target=\"_parent\"><img src=\"https://colab.research.google.com/assets/colab-badge.svg\" alt=\"Open In Colab\"/></a>"
      ]
    },
    {
      "cell_type": "markdown",
      "metadata": {
        "id": "ez6GXM46E4UZ"
      },
      "source": [
        "### Name:\n",
        "### Student Number:"
      ]
    },
    {
      "cell_type": "code",
      "execution_count": 1,
      "metadata": {
        "id": "PmlWftfkE4Ud"
      },
      "outputs": [],
      "source": [
        "import sympy as sym\n",
        "from sympy.plotting import plot\n",
        "from ipywidgets import *\n",
        "from cmath import *"
      ]
    },
    {
      "cell_type": "markdown",
      "metadata": {
        "id": "1HJYyF5vE4Ug"
      },
      "source": [
        "# Python Workbook 10 - Complex Numbers\n",
        "\n",
        "## Introduction\n",
        "\n",
        "\n",
        "* In this practical we investigate complex numbers, how they are represented and standard operations with complex numbers. \n",
        "\n",
        "* The following topics will be covered: \n",
        "\n",
        " * __Section 1__ Define complex numbers in Python\n",
        "\n",
        " * __Section 2__ Polynomials with complex roots\n",
        "\n",
        " * __Section 3__ Plotting complex numbers\n",
        " \n",
        " * __Section 4__ Rectangular and polar forms of complex numbers\n",
        " \n",
        " * __Section 5__ Roots of complex numbers"
      ]
    },
    {
      "cell_type": "markdown",
      "source": [
        "# Mathematics Concepts\n",
        "\n",
        "Some basic concepts\n",
        "\n",
        " * A __complex number__ is number of the form\n",
        "$$\n",
        "    x + y i \n",
        "$$\n",
        "where $i=\\sqrt{-1}$ and $x$ and $y$ are real numbers.\n",
        "\n",
        "\n",
        "# Python Syntax/Modules/Commands\n",
        "\n",
        "## Symbol for imaginary unit: i or j\n",
        "\n",
        "* While mathematicians (and most physists) use $i$ to denote $\\sqrt{-1}$, engineers use $j$ (because they use $i$ to represent current). \n",
        "\n",
        "* Python uses both __j__ and __I__ depending on the context. \n",
        "\n",
        "* The symbolic programming module __sympy__ uses __I__ while most other parts of Python use __j__. \n",
        "\n",
        "---\n",
        "---"
      ],
      "metadata": {
        "id": "UFADU6hmI0JH"
      }
    },
    {
      "cell_type": "markdown",
      "source": [
        "# __Section 1:__ Defining complex numbers\n",
        "\n",
        "* To write the complex number $1+2j$ we type __complex(1,2)__ and python returns __(1+2j).__\n",
        "\n",
        "\n",
        "\n",
        "* Complex numbers in python can be added/subtracted/multiplied/divided as normal and they also support the following methods \n",
        " \n",
        " * __conjugate__  --- return the complex conjugate of its argument e.g. __(3-4i).conjugate() == 3+4i__\n",
        " * __imag__ --- return the imaginary part of a complex number\n",
        " * __real__ --- return the real part of a complex number\n",
        "\n",
        "\n",
        "\n",
        "* The function __abs__ will return the modulus of a complex number. \n",
        "\n",
        "\n",
        "* In order to work with __polar coodinates__ you need to import the __cmath__ module. This has functions \n",
        "\n",
        "\n",
        "* __polar()__ -- This converts the $(x,y)$-coordinates of a complex number to the corresponding __length__ and  __angle__ of the complex number\n",
        "\n",
        "\n",
        "* __rect()__ -- This converts the __length__ and __angle__ of a complex number to its corresponding $(x,y)$-coordinates."
      ],
      "metadata": {
        "id": "SpzGY9OkGfKx"
      }
    },
    {
      "cell_type": "markdown",
      "metadata": {
        "id": "_a6SsCyWE4Uj"
      },
      "source": [
        "## Example 1\n",
        "\n",
        "Given the complex numbers\n",
        "$$\n",
        "z_1=-3+2i\\qquad z_2=4-i\\qquad z_3=4-3i\\qquad z_4=5+2i \n",
        "$$\n",
        "answer the following:\n",
        "\n",
        "1. Define each of these complex numbers in Python\n",
        "\n",
        "2. Find the complex conjugates $\\bar{z}_1$ and $\\bar{z}_{4}$\n",
        "\n",
        "3. Find the absolute value of $z_2$ and $z_3$\n",
        "\n",
        "4. Write each of the complex numbers in __polar form__"
      ]
    },
    {
      "cell_type": "markdown",
      "metadata": {
        "id": "m9HN8Qc4E4Ul"
      },
      "source": [
        "### Part 1"
      ]
    },
    {
      "cell_type": "code",
      "execution_count": null,
      "metadata": {
        "id": "4M-c2CGVE4Um",
        "outputId": "c6122377-ba3f-47a4-b168-170dad4ff327"
      },
      "outputs": [
        {
          "data": {
            "text/plain": [
              "((-3+2j), (4-1j), (4-3j), (5+2j))"
            ]
          },
          "execution_count": 2,
          "metadata": {},
          "output_type": "execute_result"
        }
      ],
      "source": [
        "z1=complex(-3,2)\n",
        "z2=complex(4,-1)\n",
        "z3=complex(4,-3)\n",
        "z4=complex(5,2)\n",
        "z1,z2,z3,z4"
      ]
    },
    {
      "cell_type": "markdown",
      "metadata": {
        "id": "5_0Y9memE4Up"
      },
      "source": [
        "### Part 2"
      ]
    },
    {
      "cell_type": "code",
      "execution_count": null,
      "metadata": {
        "id": "PfBnwQ2RE4Up",
        "outputId": "0a96218c-b227-444b-94dc-627cecf082a1"
      },
      "outputs": [
        {
          "data": {
            "text/plain": [
              "((-3-2j), (5-2j))"
            ]
          },
          "execution_count": 3,
          "metadata": {},
          "output_type": "execute_result"
        }
      ],
      "source": [
        "z1.conjugate(),z4.conjugate()"
      ]
    },
    {
      "cell_type": "markdown",
      "metadata": {
        "id": "AEacyCWBE4Us"
      },
      "source": [
        "### Part 3"
      ]
    },
    {
      "cell_type": "code",
      "execution_count": null,
      "metadata": {
        "id": "CrkNUqdwE4Ut",
        "outputId": "4eeb083a-6ae6-46aa-af21-47d3aea516ad"
      },
      "outputs": [
        {
          "data": {
            "text/plain": [
              "(4.123105625617661, 5.0)"
            ]
          },
          "execution_count": 4,
          "metadata": {},
          "output_type": "execute_result"
        }
      ],
      "source": [
        "abs(z2), abs(z3)"
      ]
    },
    {
      "cell_type": "markdown",
      "metadata": {
        "id": "QRJtewl6E4Uv"
      },
      "source": [
        "### Part 4\n",
        "\n",
        "To write complex numbers in polar form we need to import __cmath__ as follows"
      ]
    },
    {
      "cell_type": "code",
      "execution_count": null,
      "metadata": {
        "id": "G6xH35M0E4Uw"
      },
      "outputs": [],
      "source": []
    },
    {
      "cell_type": "markdown",
      "metadata": {
        "id": "eIChXN64E4Uw"
      },
      "source": [
        "We can now use the __polar()__ function to write complex numbers in polar form"
      ]
    },
    {
      "cell_type": "code",
      "execution_count": null,
      "metadata": {
        "id": "tie2bJHPE4Ux",
        "outputId": "921f92ec-1c04-4f69-a253-f65e43deeaff"
      },
      "outputs": [
        {
          "data": {
            "text/plain": [
              "(3.605551275463989, 2.5535900500422257)"
            ]
          },
          "execution_count": 6,
          "metadata": {},
          "output_type": "execute_result"
        }
      ],
      "source": [
        "polar(z1)"
      ]
    },
    {
      "cell_type": "code",
      "execution_count": null,
      "metadata": {
        "id": "NhT1iohpE4Uy",
        "outputId": "61d177fb-022b-4717-a0e0-99eeafad816d"
      },
      "outputs": [
        {
          "data": {
            "text/plain": [
              "(4.123105625617661, -0.24497866312686414)"
            ]
          },
          "execution_count": 7,
          "metadata": {},
          "output_type": "execute_result"
        }
      ],
      "source": [
        "polar(z2)"
      ]
    },
    {
      "cell_type": "code",
      "execution_count": null,
      "metadata": {
        "id": "_K-eR1MDE4U0",
        "outputId": "6f14ce50-26e9-4e9c-f6cd-4c32dc1c0d52"
      },
      "outputs": [
        {
          "data": {
            "text/plain": [
              "(5.0, -0.6435011087932844)"
            ]
          },
          "execution_count": 8,
          "metadata": {},
          "output_type": "execute_result"
        }
      ],
      "source": [
        "polar(z3)"
      ]
    },
    {
      "cell_type": "code",
      "execution_count": null,
      "metadata": {
        "id": "Ng4OAQ6fE4U0",
        "outputId": "eff48d0c-77db-4357-db7c-88b49a74b5b0"
      },
      "outputs": [
        {
          "data": {
            "text/plain": [
              "(5.385164807134504, 0.3805063771123649)"
            ]
          },
          "execution_count": 9,
          "metadata": {},
          "output_type": "execute_result"
        }
      ],
      "source": [
        "polar(z4)"
      ]
    },
    {
      "cell_type": "markdown",
      "metadata": {
        "id": "eGmtUPHNE4U1"
      },
      "source": [
        "## Exercise 1\n",
        "\n",
        "Given the complex numbers\n",
        "$$\n",
        "u_1=4+5i\\qquad u_2=-8+4i\\qquad u_3=5+5i\\qquad u_4=7-9i \n",
        "$$\n",
        "answer the following:\n",
        "\n",
        "1. Define each of these complex numbers in Python\n",
        "\n",
        "2. Find the complex conjugates $\\bar{u}_2$ and $\\bar{u}_{4}$\n",
        "\n",
        "3. Find the absolute value of $u_1$ and $u_2$\n",
        "\n",
        "4. Write each of the complex numbers in polar form"
      ]
    },
    {
      "cell_type": "code",
      "execution_count": null,
      "metadata": {
        "id": "lySzSxJSE4U4"
      },
      "outputs": [],
      "source": []
    },
    {
      "cell_type": "code",
      "execution_count": null,
      "metadata": {
        "id": "k0OE1i-qE4U4"
      },
      "outputs": [],
      "source": []
    },
    {
      "cell_type": "code",
      "execution_count": null,
      "metadata": {
        "id": "zfF4q6_pE4U5"
      },
      "outputs": [],
      "source": []
    },
    {
      "cell_type": "code",
      "execution_count": null,
      "metadata": {
        "id": "PqwGpqssE4U5"
      },
      "outputs": [],
      "source": []
    },
    {
      "cell_type": "markdown",
      "source": [
        "---\n",
        "---"
      ],
      "metadata": {
        "id": "yRbaAR2KJGv9"
      }
    },
    {
      "cell_type": "markdown",
      "metadata": {
        "id": "QCpsBfTbE4U6"
      },
      "source": [
        "# __Section 2:__ Polynomials with complex roots\n",
        "\n",
        "* Complex numbers often arise when solving __quadratic equations__ of the form\n",
        "$$\n",
        "az^2+bz+c=0.\n",
        "$$\n",
        "\n",
        "\n",
        "* The __discriminant__ of this quadratic expression is\n",
        "$$\n",
        "D=b^2-4ac\n",
        "$$\n",
        "\n",
        "\n",
        "* The roots of the quadratic are __complex__ if $D < 0$. The roots are __real__ if $D \\geq 0$.\n",
        "\n",
        "\n",
        "* The following graph is interactive and you can vary the coefficients of the quadratic expression to see the conditions under when the roots are complex.\n",
        "\n",
        "\n",
        "\n",
        "* Graphically, the roots of the quadritc if the graph of the expression __does not__ cross the horizontal axis."
      ]
    },
    {
      "cell_type": "code",
      "execution_count": 4,
      "metadata": {
        "colab": {
          "base_uri": "https://localhost:8080/",
          "height": 618,
          "referenced_widgets": [
            "55b33237c754459d95681763f38decb0",
            "764786f1dcfa42eb9c2a1ba6067dcd99",
            "588d0680f3ea4782a2c4d80eb2316810",
            "e7a8c3e42ac2474c9f8681934374d878",
            "ec1a74f1f1c44a2fbd9eef9a70bad5f9",
            "114753a75bf246f1a253dff144406484",
            "b074b4d9fc2b478699e7e013af6a7b66",
            "bd1da73b1896441dbfa4d507ea49e16e",
            "236c24400cc148ca90228fcf8d3c510b",
            "d03db90543364c6fb41fbade7fa17f21",
            "7e96ff25357d43698e9c7a658fd950cc",
            "b7c548c7e42e4331bd9dfa878fdcd1a8",
            "cb7ef93bee8747f3832ecc1b59e582d7"
          ]
        },
        "id": "JpKSiZEDE4U7",
        "outputId": "56bae1ed-4219-46f1-b7e2-09dceee69722"
      },
      "outputs": [
        {
          "output_type": "display_data",
          "data": {
            "text/plain": [
              "interactive(children=(FloatSlider(value=5.0, description='a', max=5.0, min=-5.0, step=0.3), FloatSlider(value=…"
            ],
            "application/vnd.jupyter.widget-view+json": {
              "version_major": 2,
              "version_minor": 0,
              "model_id": "55b33237c754459d95681763f38decb0"
            }
          },
          "metadata": {}
        }
      ],
      "source": [
        "t= sym.symbols ('t')\n",
        "aSlider = FloatSlider(min=-5, max=5, step=0.3, value=5)\n",
        "bSlider = FloatSlider(min=-5, max=5, step=0.3, value=2)\n",
        "cSlider = FloatSlider(min=-20, max=20, step=0.3, value=-10)\n",
        "\n",
        "@interact\n",
        "def greeting(a=aSlider, b=bSlider, c=cSlider):\n",
        "    f = a*t**2 + b*t + c\n",
        "    p = plot (f, show=False)\n",
        "    p.xlim = (-5,5)\n",
        "    p.ylim = (-60,60)\n",
        "    p.axis_center = (-5,0)\n",
        "    p.legend = True\n",
        "    p.show()\n",
        "    d = b*b-4*a*c\n",
        "    print('The discriminant (b^2-4ac) = ',b*b-4*a*c,'is negative so COMPLEX ROOTS' if d<0  else \"is positive so real roots\")\n",
        "    print('The roots of the quadratic are ', sym.solve(f))\n"
      ]
    },
    {
      "cell_type": "markdown",
      "metadata": {
        "id": "xotO1hfnE4U7"
      },
      "source": [
        "## Example 2\n",
        "\n",
        "Use the sliders above to determine if the quadratic expression has real or complex roots:\n",
        "\n",
        "$$\n",
        "z^2-3z+5=0\n",
        "$$"
      ]
    },
    {
      "cell_type": "markdown",
      "metadata": {
        "id": "kCMPeD7BE4U8"
      },
      "source": [
        "* We set the slider values as follows:\n",
        "$$\n",
        "a=1\\qquad b=-3\\qquad c=5\n",
        "$$\n",
        "\n",
        "* __Note__ You can set these numbers direcly by double clicing on the numerical value beside each slider.\n",
        "\n",
        "\n",
        "* When we do this, the graph does not cross the horizontal axis, so the roots are complex. We also see from the message written with the graph that the discriminant is negative, so the roots are complex."
      ]
    },
    {
      "cell_type": "markdown",
      "metadata": {
        "id": "k1B3EhCUE4U9"
      },
      "source": [
        "## Exercise 2\n",
        "\n",
        "Use the sliders above to determine the types of roots of the following quadratic expressions\n",
        "\n",
        "$$\n",
        "z^2+z-4=0\\qquad\\qquad 3z^2-2z+5=0.\n",
        "$$"
      ]
    },
    {
      "cell_type": "code",
      "execution_count": null,
      "metadata": {
        "id": "O0vnjLgiE4U9"
      },
      "outputs": [],
      "source": []
    },
    {
      "cell_type": "code",
      "execution_count": null,
      "metadata": {
        "id": "6nFwlrroE4U-"
      },
      "outputs": [],
      "source": []
    },
    {
      "cell_type": "markdown",
      "source": [
        "---\n",
        "---"
      ],
      "metadata": {
        "id": "ogngLm-bJIz7"
      }
    },
    {
      "cell_type": "markdown",
      "metadata": {
        "id": "ub4oQkPTE4U-"
      },
      "source": [
        "# __Section 3:__ Plotting complex numbers \n",
        "\n",
        "* While real numbers can be considered as points along the real line, complex numbers can be considered as points on the complex plane. \n",
        "\n",
        "\n",
        "* The function __plotComplex__ defined below will draw a list of complex numbers. \n",
        "\n",
        "\n"
      ]
    },
    {
      "cell_type": "code",
      "execution_count": 6,
      "metadata": {
        "scrolled": false,
        "id": "ZTJO8ArIE4U_"
      },
      "outputs": [],
      "source": [
        "import matplotlib.patches as patches\n",
        "import matplotlib.pyplot as plt\n",
        "\n",
        "\n",
        "\n",
        "def complexRanges(numbers):\n",
        "    rls = [x.real for x in numbers]\n",
        "    ims = [x.imag for x in numbers]\n",
        "\n",
        "    return (min(rls), max(rls)), (min(ims), max(ims))\n",
        "\n",
        "\n",
        "# plotComplexNumbers : [complex] -> None\n",
        "# display a plot of the given list of complex numbers\n",
        "# window manually sets the plot window ((xMin, xMax), (yMin, yMax))\n",
        "def plotComplex(numbers, window=None):\n",
        "    plt.clf()\n",
        "    ax = plt.subplot(111)\n",
        "\n",
        "    if window is None:\n",
        "        realRange, clxRange = complexRanges(numbers)\n",
        "        lbound = lambda x: x - 0.2*abs(x)\n",
        "        ubound = lambda x: x + 0.2*abs(x)\n",
        "        xMin, xMax = lbound(realRange[0]), ubound(realRange[1])\n",
        "        yMin, yMax = lbound(clxRange[0]), ubound(clxRange[1])\n",
        "\n",
        "        xMin = min(-0.5, xMin)\n",
        "        yMin = min(-0.5, yMin)\n",
        "        xMax = max(0.5, xMax)\n",
        "        yMax = max(0.5, yMax)\n",
        "    else:\n",
        "        ((xMin, xMax), (yMin, yMax)) = window\n",
        "\n",
        "    ax.set_xlim([1.2*xMin, 1.2*xMax])\n",
        "    ax.set_ylim([1.2*yMin, 1.2*yMax])\n",
        "\n",
        "    for number in numbers:\n",
        "        ax.annotate(\"\",\n",
        "                  xy=(number.real, number.imag), xycoords='data',\n",
        "                  xytext=(0, 0), textcoords='data',\n",
        "                  arrowprops=dict(arrowstyle=\"->\",\n",
        "                                  connectionstyle=\"arc3\",\n",
        "                                 lw=2),\n",
        "                  )\n",
        "        halign = 'left' if number.real > 0 else 'right'\n",
        "        valign = 'bottom' if number.real > 0 else 'top'\n",
        "        ax.text(number.real, number.imag, str(number), horizontalalignment=halign, verticalalignment=valign)\n",
        "plt.show()\n",
        "\n"
      ]
    },
    {
      "cell_type": "markdown",
      "metadata": {
        "id": "D5C8-lavE4VA"
      },
      "source": [
        "## Example 3\n",
        "\n",
        "Use the function __plotComplex()__ to plot the following\n",
        "\n",
        "$$\n",
        "-1+j\\qquad 1-2j\\qquad -1.5-0.5j\\qquad -1.5-0.5j\\qquad 0.6-1.8j\n",
        "$$"
      ]
    },
    {
      "cell_type": "code",
      "execution_count": 7,
      "metadata": {
        "colab": {
          "base_uri": "https://localhost:8080/",
          "height": 430
        },
        "id": "3YE_9cJ9E4VB",
        "outputId": "2fdbfa09-32b8-46d5-c670-2cbfb4bfdab8"
      },
      "outputs": [
        {
          "output_type": "display_data",
          "data": {
            "text/plain": [
              "<Figure size 640x480 with 1 Axes>"
            ],
            "image/png": "[encoded data removed]"
          },
          "metadata": {}
        }
      ],
      "source": [
        "plotComplex([(-1+1j), (1+2j), (-1.5 - 0.5j), (0.6 - 1.8j)])"
      ]
    },
    {
      "cell_type": "markdown",
      "metadata": {
        "id": "iT6qLQ-7E4VB"
      },
      "source": [
        "## Exercise 3\n",
        "\n",
        "Given the complex number \n",
        "$$\n",
        "z=3+i\n",
        "$$ \n",
        "\n",
        "1. Define this complex number in Python\n",
        "\n",
        "2. Evaluate $|z|$ using __abs()__\n",
        "\n",
        "3. Evaluate the complex conjugate $\\bar z$\n",
        "\n",
        "4. Plot, $z$, $\\bar z$, $-z$ and $-\\bar z$ on the complex plane using __plotComplex__."
      ]
    },
    {
      "cell_type": "code",
      "execution_count": null,
      "metadata": {
        "id": "UZAw1Y81E4VC"
      },
      "outputs": [],
      "source": []
    },
    {
      "cell_type": "code",
      "execution_count": null,
      "metadata": {
        "id": "evlJAGbAE4VC"
      },
      "outputs": [],
      "source": []
    },
    {
      "cell_type": "code",
      "execution_count": null,
      "metadata": {
        "id": "FsrXKMabE4VD"
      },
      "outputs": [],
      "source": []
    },
    {
      "cell_type": "code",
      "execution_count": null,
      "metadata": {
        "id": "KdHL-Cx7E4VD"
      },
      "outputs": [],
      "source": []
    },
    {
      "cell_type": "markdown",
      "source": [
        "---\n",
        "---"
      ],
      "metadata": {
        "id": "tMx-XYyrJLSV"
      }
    },
    {
      "cell_type": "markdown",
      "metadata": {
        "id": "-TlNfTbhE4VD"
      },
      "source": [
        "# __Section 4:__  Polar and rectangular forms of complex numbers\n",
        "\n",
        "\n",
        "* To convert complex numbers between rectangular and polar coordinates we use the __cmath__ module are follows\n",
        "\n",
        "## Example 4 \n",
        "\n",
        "* Given the coplex number \n",
        "$$\n",
        "z=1+j\n",
        "$$\n",
        "answer the following:\n",
        "\n",
        "1. Define the complex number in __rectangular form__\n",
        "\n",
        "2. Convert this complex number to __polar form__\n",
        "\n",
        "3. Convert this number back to __rectangular form__\n"
      ]
    },
    {
      "cell_type": "markdown",
      "metadata": {
        "id": "knY3CTGwE4VE"
      },
      "source": [
        "### Part 1 - Define in rectangular form"
      ]
    },
    {
      "cell_type": "code",
      "execution_count": null,
      "metadata": {
        "id": "w_YjBJNBE4VE",
        "outputId": "61b4650d-160b-45a6-a320-f8c73768686c"
      },
      "outputs": [
        {
          "data": {
            "text/plain": [
              "(1+1j)"
            ]
          },
          "execution_count": 13,
          "metadata": {},
          "output_type": "execute_result"
        }
      ],
      "source": [
        "z=complex(1,1)\n",
        "z"
      ]
    },
    {
      "cell_type": "markdown",
      "metadata": {
        "id": "AHqabM4BE4VF"
      },
      "source": [
        "### Part 2 - Convert from rectangular to polar"
      ]
    },
    {
      "cell_type": "code",
      "execution_count": null,
      "metadata": {
        "id": "l0nBALfZE4VG",
        "outputId": "72d8035c-6100-4cad-a629-64fe05019b0f"
      },
      "outputs": [
        {
          "data": {
            "text/plain": [
              "(1.4142135623730951, 0.7853981633974483)"
            ]
          },
          "execution_count": 14,
          "metadata": {},
          "output_type": "execute_result"
        }
      ],
      "source": [
        "polar(z) "
      ]
    },
    {
      "cell_type": "markdown",
      "metadata": {
        "id": "AhFQYeYgE4VG"
      },
      "source": [
        "__Note:__ These are the __polar coordinates (length, angle)__ of the complex number $z$."
      ]
    },
    {
      "cell_type": "markdown",
      "metadata": {
        "id": "Fjy2OasEE4VH"
      },
      "source": [
        "### Part 3 - Define in polar form\n",
        "\n",
        "* We use the polar coordinates found above and convert back to the rectangular form "
      ]
    },
    {
      "cell_type": "code",
      "execution_count": null,
      "metadata": {
        "id": "PTYZczKdE4VH",
        "outputId": "0c8e818d-559b-4144-f696-44ff2e59aa0e"
      },
      "outputs": [
        {
          "data": {
            "text/plain": [
              "(1.0000000000000002+1j)"
            ]
          },
          "execution_count": 15,
          "metadata": {},
          "output_type": "execute_result"
        }
      ],
      "source": [
        "rect(1.4142135623730951, 0.7853981633974483)"
      ]
    },
    {
      "cell_type": "markdown",
      "metadata": {
        "id": "Z6qxJ0wvE4VI"
      },
      "source": [
        "## Exercise 4\n",
        "\n",
        "The __polar coordinates (length,angle)__ of three complex numbers are given by the following: \n",
        "\n",
        "* $(4,\\pi/3)$\n",
        "* $(3\\sqrt{2}, -3\\pi/4)$\n",
        "* $(4,\\pi)$\n",
        "\n",
        "Use the __rect()__ function to find the corresponding __rectangular form__ of these complex numbers. \n",
        "\n",
        "__Note:__ You can wirte $\\pi$ as __sym.pi__ and $\\sqrt{2}$ as __sym.sqrt(2)__"
      ]
    },
    {
      "cell_type": "code",
      "execution_count": 15,
      "metadata": {
        "id": "A0tbYtp7E4VJ"
      },
      "outputs": [],
      "source": []
    },
    {
      "cell_type": "code",
      "execution_count": null,
      "metadata": {
        "id": "y_dW3I7PE4VK"
      },
      "outputs": [],
      "source": []
    },
    {
      "cell_type": "code",
      "execution_count": null,
      "metadata": {
        "id": "QcVnw6yZE4VK"
      },
      "outputs": [],
      "source": []
    },
    {
      "cell_type": "markdown",
      "source": [
        "---\n",
        "---"
      ],
      "metadata": {
        "id": "pjnUwfvZJNO_"
      }
    },
    {
      "cell_type": "markdown",
      "metadata": {
        "id": "I8_y3JnLE4VK"
      },
      "source": [
        "# __Section 5:__ Roots of complex numbers\n",
        "\n",
        "* Given the complex number $4-6j$ we can find the square root of this number using the __sym.solve()__ function \n",
        "\n",
        "* If we say\n",
        "$$\n",
        "z^2=4-6j\n",
        "$$\n",
        "then\n",
        "$$\n",
        "z^2-(4-6j)=0\n",
        "$$\n",
        "and\n",
        "$$\n",
        "z=\\sqrt{4-6j}\n",
        "$$\n",
        "\n",
        "* Recall that __sym.solve()__ sets to __zero__ whatever expression you feed it, and finds the values which make this happen. \n",
        "\n",
        "\n",
        "* So if we input $z^2-(4-6j)$ into __sym.solve()__ it will find the values of $z$ which make this expression __zero__.\n",
        "\n",
        "* Hence, it returns the __sqaure roots__ of $4-6j$"
      ]
    },
    {
      "cell_type": "code",
      "execution_count": null,
      "metadata": {
        "id": "RBeyaLSsE4VM"
      },
      "outputs": [],
      "source": []
    },
    {
      "cell_type": "markdown",
      "metadata": {
        "id": "BHjg6u0kE4VM"
      },
      "source": [
        "* We create a symbolic variable for $z$"
      ]
    },
    {
      "cell_type": "code",
      "execution_count": 8,
      "metadata": {
        "colab": {
          "base_uri": "https://localhost:8080/",
          "height": 38
        },
        "id": "hwh9abGuE4VM",
        "outputId": "08bcd88f-5832-4701-a008-d997db31c95a"
      },
      "outputs": [
        {
          "output_type": "execute_result",
          "data": {
            "text/plain": [
              "z"
            ],
            "text/latex": "$\\displaystyle z$"
          },
          "metadata": {},
          "execution_count": 8
        }
      ],
      "source": [
        "z=sym.symbols('z')\n",
        "z"
      ]
    },
    {
      "cell_type": "markdown",
      "metadata": {
        "id": "3XECPs0PE4VN"
      },
      "source": [
        "* We now create a complex variable to represent our complex number"
      ]
    },
    {
      "cell_type": "code",
      "execution_count": 10,
      "metadata": {
        "colab": {
          "base_uri": "https://localhost:8080/"
        },
        "id": "Lcnhs6bHE4VO",
        "outputId": "4faf2497-e510-4707-ebac-ce189ec8bec7"
      },
      "outputs": [
        {
          "output_type": "execute_result",
          "data": {
            "text/plain": [
              "(4-6j)"
            ]
          },
          "metadata": {},
          "execution_count": 10
        }
      ],
      "source": [
        "a=complex(4,-6)\n",
        "a"
      ]
    },
    {
      "cell_type": "markdown",
      "metadata": {
        "id": "LjSi2gMVE4VP"
      },
      "source": [
        "* Finally we use __solve()__ to find all roots of $a$"
      ]
    },
    {
      "cell_type": "code",
      "execution_count": 11,
      "metadata": {
        "colab": {
          "base_uri": "https://localhost:8080/"
        },
        "id": "0r0gUVR1E4VP",
        "outputId": "e6bd6aaa-2318-4635-a8d3-931d580151de"
      },
      "outputs": [
        {
          "output_type": "execute_result",
          "data": {
            "text/plain": [
              "[-2.36760454372431 + 1.26710349832363*I, 2.36760454372431 - 1.26710349832363*I]"
            ]
          },
          "metadata": {},
          "execution_count": 11
        }
      ],
      "source": [
        "sym.solve(z**2-a,z)"
      ]
    },
    {
      "cell_type": "markdown",
      "metadata": {
        "collapsed": true,
        "id": "4PZ6hyVtE4VR"
      },
      "source": [
        "##  Exercise 5 \n",
        "\n",
        "Determine the square roots of the complex numbers \n",
        "$$\n",
        "5 + 12i\\qquad -3+7i\\qquad4-8i\\qquad -5-9i\n",
        "$$"
      ]
    },
    {
      "cell_type": "code",
      "execution_count": null,
      "metadata": {
        "id": "xxJjNBpbE4VR"
      },
      "outputs": [],
      "source": []
    },
    {
      "cell_type": "code",
      "execution_count": null,
      "metadata": {
        "id": "15jVOwiHE4VR"
      },
      "outputs": [],
      "source": []
    },
    {
      "cell_type": "code",
      "execution_count": null,
      "metadata": {
        "id": "hCPxvS5kE4VS"
      },
      "outputs": [],
      "source": []
    },
    {
      "cell_type": "code",
      "execution_count": null,
      "metadata": {
        "id": "eobTZgz1E4VS"
      },
      "outputs": [],
      "source": []
    }
  ],
  "metadata": {
    "anaconda-cloud": {},
    "kernelspec": {
      "display_name": "Python 3 (ipykernel)",
      "language": "python",
      "name": "python3"
    },
    "language_info": {
      "codemirror_mode": {
        "name": "ipython",
        "version": 3
      },
      "file_extension": ".py",
      "mimetype": "text/x-python",
      "name": "python",
      "nbconvert_exporter": "python",
      "pygments_lexer": "ipython3",
      "version": "3.10.6"
    },
    "colab": {
      "provenance": [],
      "include_colab_link": true
    },
    "widgets": {
      "application/vnd.jupyter.widget-state+json": {
        "55b33237c754459d95681763f38decb0": {
          "model_module": "@jupyter-widgets/controls",
          "model_name": "VBoxModel",
          "model_module_version": "1.5.0",
          "state": {
            "_dom_classes": [
              "widget-interact"
            ],
            "_model_module": "@jupyter-widgets/controls",
            "_model_module_version": "1.5.0",
            "_model_name": "VBoxModel",
            "_view_count": null,
            "_view_module": "@jupyter-widgets/controls",
            "_view_module_version": "1.5.0",
            "_view_name": "VBoxView",
            "box_style": "",
            "children": [
              "IPY_MODEL_764786f1dcfa42eb9c2a1ba6067dcd99",
              "IPY_MODEL_588d0680f3ea4782a2c4d80eb2316810",
              "IPY_MODEL_e7a8c3e42ac2474c9f8681934374d878",
              "IPY_MODEL_ec1a74f1f1c44a2fbd9eef9a70bad5f9"
            ],
            "layout": "IPY_MODEL_114753a75bf246f1a253dff144406484"
          }
        },
        "764786f1dcfa42eb9c2a1ba6067dcd99": {
          "model_module": "@jupyter-widgets/controls",
          "model_name": "FloatSliderModel",
          "model_module_version": "1.5.0",
          "state": {
            "_dom_classes": [],
            "_model_module": "@jupyter-widgets/controls",
            "_model_module_version": "1.5.0",
            "_model_name": "FloatSliderModel",
            "_view_count": null,
            "_view_module": "@jupyter-widgets/controls",
            "_view_module_version": "1.5.0",
            "_view_name": "FloatSliderView",
            "continuous_update": true,
            "description": "a",
            "description_tooltip": null,
            "disabled": false,
            "layout": "IPY_MODEL_b074b4d9fc2b478699e7e013af6a7b66",
            "max": 5,
            "min": -5,
            "orientation": "horizontal",
            "readout": true,
            "readout_format": ".2f",
            "step": 0.3,
            "style": "IPY_MODEL_bd1da73b1896441dbfa4d507ea49e16e",
            "value": 5
          }
        },
        "588d0680f3ea4782a2c4d80eb2316810": {
          "model_module": "@jupyter-widgets/controls",
          "model_name": "FloatSliderModel",
          "model_module_version": "1.5.0",
          "state": {
            "_dom_classes": [],
            "_model_module": "@jupyter-widgets/controls",
            "_model_module_version": "1.5.0",
            "_model_name": "FloatSliderModel",
            "_view_count": null,
            "_view_module": "@jupyter-widgets/controls",
            "_view_module_version": "1.5.0",
            "_view_name": "FloatSliderView",
            "continuous_update": true,
            "description": "b",
            "description_tooltip": null,
            "disabled": false,
            "layout": "IPY_MODEL_236c24400cc148ca90228fcf8d3c510b",
            "max": 5,
            "min": -5,
            "orientation": "horizontal",
            "readout": true,
            "readout_format": ".2f",
            "step": 0.3,
            "style": "IPY_MODEL_d03db90543364c6fb41fbade7fa17f21",
            "value": 2
          }
        },
        "e7a8c3e42ac2474c9f8681934374d878": {
          "model_module": "@jupyter-widgets/controls",
          "model_name": "FloatSliderModel",
          "model_module_version": "1.5.0",
          "state": {
            "_dom_classes": [],
            "_model_module": "@jupyter-widgets/controls",
            "_model_module_version": "1.5.0",
            "_model_name": "FloatSliderModel",
            "_view_count": null,
            "_view_module": "@jupyter-widgets/controls",
            "_view_module_version": "1.5.0",
            "_view_name": "FloatSliderView",
            "continuous_update": true,
            "description": "c",
            "description_tooltip": null,
            "disabled": false,
            "layout": "IPY_MODEL_7e96ff25357d43698e9c7a658fd950cc",
            "max": 20,
            "min": -20,
            "orientation": "horizontal",
            "readout": true,
            "readout_format": ".2f",
            "step": 0.3,
            "style": "IPY_MODEL_b7c548c7e42e4331bd9dfa878fdcd1a8",
            "value": -10
          }
        },
        "ec1a74f1f1c44a2fbd9eef9a70bad5f9": {
          "model_module": "@jupyter-widgets/output",
          "model_name": "OutputModel",
          "model_module_version": "1.0.0",
          "state": {
            "_dom_classes": [],
            "_model_module": "@jupyter-widgets/output",
            "_model_module_version": "1.0.0",
            "_model_name": "OutputModel",
            "_view_count": null,
            "_view_module": "@jupyter-widgets/output",
            "_view_module_version": "1.0.0",
            "_view_name": "OutputView",
            "layout": "IPY_MODEL_cb7ef93bee8747f3832ecc1b59e582d7",
            "msg_id": "",
            "outputs": [
              {
                "output_type": "display_data",
                "data": {
                  "text/plain": "<Figure size 640x480 with 1 Axes>",
                  "image/png": "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\n"
                },
                "metadata": {}
              },
              {
                "output_type": "stream",
                "name": "stdout",
                "text": [
                  "The discriminant (b^2-4ac) =  204.0 is positive so real roots\n",
                  "The roots of the quadratic are  [-1.62828568570857, 1.22828568570857]\n"
                ]
              }
            ]
          }
        },
        "114753a75bf246f1a253dff144406484": {
          "model_module": "@jupyter-widgets/base",
          "model_name": "LayoutModel",
          "model_module_version": "1.2.0",
          "state": {
            "_model_module": "@jupyter-widgets/base",
            "_model_module_version": "1.2.0",
            "_model_name": "LayoutModel",
            "_view_count": null,
            "_view_module": "@jupyter-widgets/base",
            "_view_module_version": "1.2.0",
            "_view_name": "LayoutView",
            "align_content": null,
            "align_items": null,
            "align_self": null,
            "border": null,
            "bottom": null,
            "display": null,
            "flex": null,
            "flex_flow": null,
            "grid_area": null,
            "grid_auto_columns": null,
            "grid_auto_flow": null,
            "grid_auto_rows": null,
            "grid_column": null,
            "grid_gap": null,
            "grid_row": null,
            "grid_template_areas": null,
            "grid_template_columns": null,
            "grid_template_rows": null,
            "height": null,
            "justify_content": null,
            "justify_items": null,
            "left": null,
            "margin": null,
            "max_height": null,
            "max_width": null,
            "min_height": null,
            "min_width": null,
            "object_fit": null,
            "object_position": null,
            "order": null,
            "overflow": null,
            "overflow_x": null,
            "overflow_y": null,
            "padding": null,
            "right": null,
            "top": null,
            "visibility": null,
            "width": null
          }
        },
        "b074b4d9fc2b478699e7e013af6a7b66": {
          "model_module": "@jupyter-widgets/base",
          "model_name": "LayoutModel",
          "model_module_version": "1.2.0",
          "state": {
            "_model_module": "@jupyter-widgets/base",
            "_model_module_version": "1.2.0",
            "_model_name": "LayoutModel",
            "_view_count": null,
            "_view_module": "@jupyter-widgets/base",
            "_view_module_version": "1.2.0",
            "_view_name": "LayoutView",
            "align_content": null,
            "align_items": null,
            "align_self": null,
            "border": null,
            "bottom": null,
            "display": null,
            "flex": null,
            "flex_flow": null,
            "grid_area": null,
            "grid_auto_columns": null,
            "grid_auto_flow": null,
            "grid_auto_rows": null,
            "grid_column": null,
            "grid_gap": null,
            "grid_row": null,
            "grid_template_areas": null,
            "grid_template_columns": null,
            "grid_template_rows": null,
            "height": null,
            "justify_content": null,
            "justify_items": null,
            "left": null,
            "margin": null,
            "max_height": null,
            "max_width": null,
            "min_height": null,
            "min_width": null,
            "object_fit": null,
            "object_position": null,
            "order": null,
            "overflow": null,
            "overflow_x": null,
            "overflow_y": null,
            "padding": null,
            "right": null,
            "top": null,
            "visibility": null,
            "width": null
          }
        },
        "bd1da73b1896441dbfa4d507ea49e16e": {
          "model_module": "@jupyter-widgets/controls",
          "model_name": "SliderStyleModel",
          "model_module_version": "1.5.0",
          "state": {
            "_model_module": "@jupyter-widgets/controls",
            "_model_module_version": "1.5.0",
            "_model_name": "SliderStyleModel",
            "_view_count": null,
            "_view_module": "@jupyter-widgets/base",
            "_view_module_version": "1.2.0",
            "_view_name": "StyleView",
            "description_width": "",
            "handle_color": null
          }
        },
        "236c24400cc148ca90228fcf8d3c510b": {
          "model_module": "@jupyter-widgets/base",
          "model_name": "LayoutModel",
          "model_module_version": "1.2.0",
          "state": {
            "_model_module": "@jupyter-widgets/base",
            "_model_module_version": "1.2.0",
            "_model_name": "LayoutModel",
            "_view_count": null,
            "_view_module": "@jupyter-widgets/base",
            "_view_module_version": "1.2.0",
            "_view_name": "LayoutView",
            "align_content": null,
            "align_items": null,
            "align_self": null,
            "border": null,
            "bottom": null,
            "display": null,
            "flex": null,
            "flex_flow": null,
            "grid_area": null,
            "grid_auto_columns": null,
            "grid_auto_flow": null,
            "grid_auto_rows": null,
            "grid_column": null,
            "grid_gap": null,
            "grid_row": null,
            "grid_template_areas": null,
            "grid_template_columns": null,
            "grid_template_rows": null,
            "height": null,
            "justify_content": null,
            "justify_items": null,
            "left": null,
            "margin": null,
            "max_height": null,
            "max_width": null,
            "min_height": null,
            "min_width": null,
            "object_fit": null,
            "object_position": null,
            "order": null,
            "overflow": null,
            "overflow_x": null,
            "overflow_y": null,
            "padding": null,
            "right": null,
            "top": null,
            "visibility": null,
            "width": null
          }
        },
        "d03db90543364c6fb41fbade7fa17f21": {
          "model_module": "@jupyter-widgets/controls",
          "model_name": "SliderStyleModel",
          "model_module_version": "1.5.0",
          "state": {
            "_model_module": "@jupyter-widgets/controls",
            "_model_module_version": "1.5.0",
            "_model_name": "SliderStyleModel",
            "_view_count": null,
            "_view_module": "@jupyter-widgets/base",
            "_view_module_version": "1.2.0",
            "_view_name": "StyleView",
            "description_width": "",
            "handle_color": null
          }
        },
        "7e96ff25357d43698e9c7a658fd950cc": {
          "model_module": "@jupyter-widgets/base",
          "model_name": "LayoutModel",
          "model_module_version": "1.2.0",
          "state": {
            "_model_module": "@jupyter-widgets/base",
            "_model_module_version": "1.2.0",
            "_model_name": "LayoutModel",
            "_view_count": null,
            "_view_module": "@jupyter-widgets/base",
            "_view_module_version": "1.2.0",
            "_view_name": "LayoutView",
            "align_content": null,
            "align_items": null,
            "align_self": null,
            "border": null,
            "bottom": null,
            "display": null,
            "flex": null,
            "flex_flow": null,
            "grid_area": null,
            "grid_auto_columns": null,
            "grid_auto_flow": null,
            "grid_auto_rows": null,
            "grid_column": null,
            "grid_gap": null,
            "grid_row": null,
            "grid_template_areas": null,
            "grid_template_columns": null,
            "grid_template_rows": null,
            "height": null,
            "justify_content": null,
            "justify_items": null,
            "left": null,
            "margin": null,
            "max_height": null,
            "max_width": null,
            "min_height": null,
            "min_width": null,
            "object_fit": null,
            "object_position": null,
            "order": null,
            "overflow": null,
            "overflow_x": null,
            "overflow_y": null,
            "padding": null,
            "right": null,
            "top": null,
            "visibility": null,
            "width": null
          }
        },
        "b7c548c7e42e4331bd9dfa878fdcd1a8": {
          "model_module": "@jupyter-widgets/controls",
          "model_name": "SliderStyleModel",
          "model_module_version": "1.5.0",
          "state": {
            "_model_module": "@jupyter-widgets/controls",
            "_model_module_version": "1.5.0",
            "_model_name": "SliderStyleModel",
            "_view_count": null,
            "_view_module": "@jupyter-widgets/base",
            "_view_module_version": "1.2.0",
            "_view_name": "StyleView",
            "description_width": "",
            "handle_color": null
          }
        },
        "cb7ef93bee8747f3832ecc1b59e582d7": {
          "model_module": "@jupyter-widgets/base",
          "model_name": "LayoutModel",
          "model_module_version": "1.2.0",
          "state": {
            "_model_module": "@jupyter-widgets/base",
            "_model_module_version": "1.2.0",
            "_model_name": "LayoutModel",
            "_view_count": null,
            "_view_module": "@jupyter-widgets/base",
            "_view_module_version": "1.2.0",
            "_view_name": "LayoutView",
            "align_content": null,
            "align_items": null,
            "align_self": null,
            "border": null,
            "bottom": null,
            "display": null,
            "flex": null,
            "flex_flow": null,
            "grid_area": null,
            "grid_auto_columns": null,
            "grid_auto_flow": null,
            "grid_auto_rows": null,
            "grid_column": null,
            "grid_gap": null,
            "grid_row": null,
            "grid_template_areas": null,
            "grid_template_columns": null,
            "grid_template_rows": null,
            "height": null,
            "justify_content": null,
            "justify_items": null,
            "left": null,
            "margin": null,
            "max_height": null,
            "max_width": null,
            "min_height": null,
            "min_width": null,
            "object_fit": null,
            "object_position": null,
            "order": null,
            "overflow": null,
            "overflow_x": null,
            "overflow_y": null,
            "padding": null,
            "right": null,
            "top": null,
            "visibility": null,
            "width": null
          }
        }
      }
    }
  },
  "nbformat": 4,
  "nbformat_minor": 0
}